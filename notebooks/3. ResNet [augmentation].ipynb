{
  "cells": [
    {
      "cell_type": "markdown",
      "metadata": {
        "id": "dYpvfW_v1g6M"
      },
      "source": [
        "##### Colab"
      ]
    },
    {
      "cell_type": "code",
      "execution_count": 1,
      "metadata": {
        "colab": {
          "base_uri": "https://localhost:8080/"
        },
        "id": "tIsoWB3s1g6O",
        "outputId": "4675ee9d-e444-49c4-d41a-418fc3dcdeff"
      },
      "outputs": [
        {
          "name": "stdout",
          "output_type": "stream",
          "text": [
            "Mounted at /content/drive\n"
          ]
        }
      ],
      "source": [
        "# Colab\n",
        "from google.colab import drive\n",
        "drive.mount('/content/drive')"
      ]
    },
    {
      "cell_type": "code",
      "execution_count": 2,
      "metadata": {
        "id": "S4ZttW8H1g6O"
      },
      "outputs": [],
      "source": [
        "! pip install -q kaggle"
      ]
    },
    {
      "cell_type": "code",
      "execution_count": 3,
      "metadata": {
        "id": "vAGLOPYw1g6P"
      },
      "outputs": [],
      "source": [
        "from google.colab import userdata\n",
        "import os\n",
        "\n",
        "os.environ[\"kaggle_key\"] = userdata.get('kaggle_key')\n",
        "os.environ[\"kaggle_username\"] = userdata.get('kaggle_username')"
      ]
    },
    {
      "cell_type": "code",
      "execution_count": null,
      "metadata": {
        "id": "IbZacPMO1g6P"
      },
      "outputs": [],
      "source": [
        "!kaggle datasets download -d ravidussilva/real-ai-art\n",
        "! unzip \"real-ai-art\""
      ]
    },
    {
      "cell_type": "markdown",
      "metadata": {
        "id": "Qs7W5jfh1g6P"
      },
      "source": [
        "##### Local & Colab"
      ]
    },
    {
      "cell_type": "code",
      "execution_count": 11,
      "metadata": {
        "id": "5h4oeW0t1g6Q"
      },
      "outputs": [],
      "source": [
        "#Imports\n",
        "import sys\n",
        "\n",
        "# Load environment variables from .env file\n",
        "from dotenv import load_dotenv\n",
        "load_dotenv()\n",
        "\n",
        "# Get the project root path from environment variables\n",
        "project_root = os.getenv('PROJECT_ROOT_PATH') #OR PROJECT_ROOT_PATH_COLAB FOR COLAB\n",
        "\n",
        "# Check if the environment variable is set correctly\n",
        "if project_root is None:\n",
        "    raise ValueError(\"PROJECT_ROOT_PATH environment variable is not set.\")\n",
        "\n",
        "# Add the project root path to the system path\n",
        "sys.path.append(project_root)\n",
        "\n",
        "from scripts.run_cnn import train_model, test_model\n",
        "\n",
        "from models.resnet18_modified import ResNet18Modified\n",
        "from models.resnet18 import ResNet18FineTuned\n",
        "from scripts.evaluation import analyze_test_results\n",
        "import torchvision.transforms as transforms"
      ]
    },
    {
      "cell_type": "code",
      "execution_count": 7,
      "metadata": {
        "id": "3LVdKLqV1g6Q"
      },
      "outputs": [],
      "source": [
        "#dataset_path = \"/Users/viktoriiaovsianik/Documents/Uni/04_WS2024/06_ADL/Code/ADL-WS-2024/data\"\n",
        "dataset_path = \"/content/Real_AI_SD_LD_Dataset\""
      ]
    },
    {
      "cell_type": "markdown",
      "metadata": {
        "id": "SXFF5BDe9KZ8"
      },
      "source": [
        "#### Train & test using transfer learning (ResNet18)"
      ]
    },
    {
      "cell_type": "code",
      "execution_count": 15,
      "metadata": {
        "colab": {
          "base_uri": "https://localhost:8080/",
          "height": 1000
        },
        "id": "iseRFJ6S9KZ9",
        "outputId": "386a1ca8-9251-4b08-c3e9-072d99a9c494"
      },
      "outputs": [
        {
          "name": "stderr",
          "output_type": "stream",
          "text": [
            "/usr/local/lib/python3.10/dist-packages/torchvision/models/_utils.py:208: UserWarning: The parameter 'pretrained' is deprecated since 0.13 and may be removed in the future, please use 'weights' instead.\n",
            "  warnings.warn(\n",
            "/usr/local/lib/python3.10/dist-packages/torchvision/models/_utils.py:223: UserWarning: Arguments other than a weight enum or `None` for 'weights' are deprecated since 0.13 and may be removed in the future. The current behavior is equivalent to passing `weights=ResNet18_Weights.IMAGENET1K_V1`. You can also use `weights=ResNet18_Weights.DEFAULT` to get the most up-to-date weights.\n",
            "  warnings.warn(msg)\n"
          ]
        },
        {
          "name": "stdout",
          "output_type": "stream",
          "text": [
            "List of parameters that require gradients:\n",
            "conv1.weight\n",
            "bn1.weight\n",
            "bn1.bias\n",
            "layer1.0.conv1.weight\n",
            "layer1.0.bn1.weight\n",
            "layer1.0.bn1.bias\n",
            "layer1.0.conv2.weight\n",
            "layer1.0.bn2.weight\n",
            "layer1.0.bn2.bias\n",
            "layer1.1.conv1.weight\n",
            "layer1.1.bn1.weight\n",
            "layer1.1.bn1.bias\n",
            "layer1.1.conv2.weight\n",
            "layer1.1.bn2.weight\n",
            "layer1.1.bn2.bias\n",
            "layer2.0.conv1.weight\n",
            "layer2.0.bn1.weight\n",
            "layer2.0.bn1.bias\n",
            "layer2.0.conv2.weight\n",
            "layer2.0.bn2.weight\n",
            "layer2.0.bn2.bias\n",
            "layer2.0.downsample.0.weight\n",
            "layer2.0.downsample.1.weight\n",
            "layer2.0.downsample.1.bias\n",
            "layer2.1.conv1.weight\n",
            "layer2.1.bn1.weight\n",
            "layer2.1.bn1.bias\n",
            "layer2.1.conv2.weight\n",
            "layer2.1.bn2.weight\n",
            "layer2.1.bn2.bias\n",
            "layer3.0.conv1.weight\n",
            "layer3.0.bn1.weight\n",
            "layer3.0.bn1.bias\n",
            "layer3.0.conv2.weight\n",
            "layer3.0.bn2.weight\n",
            "layer3.0.bn2.bias\n",
            "layer3.0.downsample.0.weight\n",
            "layer3.0.downsample.1.weight\n",
            "layer3.0.downsample.1.bias\n",
            "layer3.1.conv1.weight\n",
            "layer3.1.bn1.weight\n",
            "layer3.1.bn1.bias\n",
            "layer3.1.conv2.weight\n",
            "layer3.1.bn2.weight\n",
            "layer3.1.bn2.bias\n",
            "layer4.0.conv1.weight\n",
            "layer4.0.bn1.weight\n",
            "layer4.0.bn1.bias\n",
            "layer4.0.conv2.weight\n",
            "layer4.0.bn2.weight\n",
            "layer4.0.bn2.bias\n",
            "layer4.0.downsample.0.weight\n",
            "layer4.0.downsample.1.weight\n",
            "layer4.0.downsample.1.bias\n",
            "layer4.1.conv1.weight\n",
            "layer4.1.bn1.weight\n",
            "layer4.1.bn1.bias\n",
            "layer4.1.conv2.weight\n",
            "layer4.1.bn2.weight\n",
            "layer4.1.bn2.bias\n",
            "fc.weight\n",
            "fc.bias\n",
            "CUDA (GPU) is available.\n",
            "Preprocessing dataset...\n",
            "Train dataset length: 90000\n",
            "Validation dataset length: 10000\n",
            "Test dataset length: 30000\n",
            "Model: ResNet18FineTuned(\n",
            "  (resnet18): ResNet(\n",
            "    (conv1): Conv2d(3, 64, kernel_size=(7, 7), stride=(2, 2), padding=(3, 3), bias=False)\n",
            "    (bn1): BatchNorm2d(64, eps=1e-05, momentum=0.1, affine=True, track_running_stats=True)\n",
            "    (relu): ReLU(inplace=True)\n",
            "    (maxpool): MaxPool2d(kernel_size=3, stride=2, padding=1, dilation=1, ceil_mode=False)\n",
            "    (layer1): Sequential(\n",
            "      (0): BasicBlock(\n",
            "        (conv1): Conv2d(64, 64, kernel_size=(3, 3), stride=(1, 1), padding=(1, 1), bias=False)\n",
            "        (bn1): BatchNorm2d(64, eps=1e-05, momentum=0.1, affine=True, track_running_stats=True)\n",
            "        (relu): ReLU(inplace=True)\n",
            "        (conv2): Conv2d(64, 64, kernel_size=(3, 3), stride=(1, 1), padding=(1, 1), bias=False)\n",
            "        (bn2): BatchNorm2d(64, eps=1e-05, momentum=0.1, affine=True, track_running_stats=True)\n",
            "      )\n",
            "      (1): BasicBlock(\n",
            "        (conv1): Conv2d(64, 64, kernel_size=(3, 3), stride=(1, 1), padding=(1, 1), bias=False)\n",
            "        (bn1): BatchNorm2d(64, eps=1e-05, momentum=0.1, affine=True, track_running_stats=True)\n",
            "        (relu): ReLU(inplace=True)\n",
            "        (conv2): Conv2d(64, 64, kernel_size=(3, 3), stride=(1, 1), padding=(1, 1), bias=False)\n",
            "        (bn2): BatchNorm2d(64, eps=1e-05, momentum=0.1, affine=True, track_running_stats=True)\n",
            "      )\n",
            "    )\n",
            "    (layer2): Sequential(\n",
            "      (0): BasicBlock(\n",
            "        (conv1): Conv2d(64, 128, kernel_size=(3, 3), stride=(2, 2), padding=(1, 1), bias=False)\n",
            "        (bn1): BatchNorm2d(128, eps=1e-05, momentum=0.1, affine=True, track_running_stats=True)\n",
            "        (relu): ReLU(inplace=True)\n",
            "        (conv2): Conv2d(128, 128, kernel_size=(3, 3), stride=(1, 1), padding=(1, 1), bias=False)\n",
            "        (bn2): BatchNorm2d(128, eps=1e-05, momentum=0.1, affine=True, track_running_stats=True)\n",
            "        (downsample): Sequential(\n",
            "          (0): Conv2d(64, 128, kernel_size=(1, 1), stride=(2, 2), bias=False)\n",
            "          (1): BatchNorm2d(128, eps=1e-05, momentum=0.1, affine=True, track_running_stats=True)\n",
            "        )\n",
            "      )\n",
            "      (1): BasicBlock(\n",
            "        (conv1): Conv2d(128, 128, kernel_size=(3, 3), stride=(1, 1), padding=(1, 1), bias=False)\n",
            "        (bn1): BatchNorm2d(128, eps=1e-05, momentum=0.1, affine=True, track_running_stats=True)\n",
            "        (relu): ReLU(inplace=True)\n",
            "        (conv2): Conv2d(128, 128, kernel_size=(3, 3), stride=(1, 1), padding=(1, 1), bias=False)\n",
            "        (bn2): BatchNorm2d(128, eps=1e-05, momentum=0.1, affine=True, track_running_stats=True)\n",
            "      )\n",
            "    )\n",
            "    (layer3): Sequential(\n",
            "      (0): BasicBlock(\n",
            "        (conv1): Conv2d(128, 256, kernel_size=(3, 3), stride=(2, 2), padding=(1, 1), bias=False)\n",
            "        (bn1): BatchNorm2d(256, eps=1e-05, momentum=0.1, affine=True, track_running_stats=True)\n",
            "        (relu): ReLU(inplace=True)\n",
            "        (conv2): Conv2d(256, 256, kernel_size=(3, 3), stride=(1, 1), padding=(1, 1), bias=False)\n",
            "        (bn2): BatchNorm2d(256, eps=1e-05, momentum=0.1, affine=True, track_running_stats=True)\n",
            "        (downsample): Sequential(\n",
            "          (0): Conv2d(128, 256, kernel_size=(1, 1), stride=(2, 2), bias=False)\n",
            "          (1): BatchNorm2d(256, eps=1e-05, momentum=0.1, affine=True, track_running_stats=True)\n",
            "        )\n",
            "      )\n",
            "      (1): BasicBlock(\n",
            "        (conv1): Conv2d(256, 256, kernel_size=(3, 3), stride=(1, 1), padding=(1, 1), bias=False)\n",
            "        (bn1): BatchNorm2d(256, eps=1e-05, momentum=0.1, affine=True, track_running_stats=True)\n",
            "        (relu): ReLU(inplace=True)\n",
            "        (conv2): Conv2d(256, 256, kernel_size=(3, 3), stride=(1, 1), padding=(1, 1), bias=False)\n",
            "        (bn2): BatchNorm2d(256, eps=1e-05, momentum=0.1, affine=True, track_running_stats=True)\n",
            "      )\n",
            "    )\n",
            "    (layer4): Sequential(\n",
            "      (0): BasicBlock(\n",
            "        (conv1): Conv2d(256, 512, kernel_size=(3, 3), stride=(2, 2), padding=(1, 1), bias=False)\n",
            "        (bn1): BatchNorm2d(512, eps=1e-05, momentum=0.1, affine=True, track_running_stats=True)\n",
            "        (relu): ReLU(inplace=True)\n",
            "        (conv2): Conv2d(512, 512, kernel_size=(3, 3), stride=(1, 1), padding=(1, 1), bias=False)\n",
            "        (bn2): BatchNorm2d(512, eps=1e-05, momentum=0.1, affine=True, track_running_stats=True)\n",
            "        (downsample): Sequential(\n",
            "          (0): Conv2d(256, 512, kernel_size=(1, 1), stride=(2, 2), bias=False)\n",
            "          (1): BatchNorm2d(512, eps=1e-05, momentum=0.1, affine=True, track_running_stats=True)\n",
            "        )\n",
            "      )\n",
            "      (1): BasicBlock(\n",
            "        (conv1): Conv2d(512, 512, kernel_size=(3, 3), stride=(1, 1), padding=(1, 1), bias=False)\n",
            "        (bn1): BatchNorm2d(512, eps=1e-05, momentum=0.1, affine=True, track_running_stats=True)\n",
            "        (relu): ReLU(inplace=True)\n",
            "        (conv2): Conv2d(512, 512, kernel_size=(3, 3), stride=(1, 1), padding=(1, 1), bias=False)\n",
            "        (bn2): BatchNorm2d(512, eps=1e-05, momentum=0.1, affine=True, track_running_stats=True)\n",
            "      )\n",
            "    )\n",
            "    (avgpool): AdaptiveAvgPool2d(output_size=(1, 1))\n",
            "    (fc): Linear(in_features=512, out_features=20, bias=True)\n",
            "  )\n",
            ")\n"
          ]
        },
        {
          "data": {
            "text/html": [
              "Finishing last run (ID:0gu1fao9) before initializing another..."
            ],
            "text/plain": [
              "<IPython.core.display.HTML object>"
            ]
          },
          "metadata": {},
          "output_type": "display_data"
        },
        {
          "data": {
            "text/html": [
              "\n",
              "    <style>\n",
              "        .wandb-row {\n",
              "            display: flex;\n",
              "            flex-direction: row;\n",
              "            flex-wrap: wrap;\n",
              "            justify-content: flex-start;\n",
              "            width: 100%;\n",
              "        }\n",
              "        .wandb-col {\n",
              "            display: flex;\n",
              "            flex-direction: column;\n",
              "            flex-basis: 100%;\n",
              "            flex: 1;\n",
              "            padding: 10px;\n",
              "        }\n",
              "    </style>\n",
              "<div class=\"wandb-row\"><div class=\"wandb-col\"><h3>Run history:</h3><br/><table class=\"wandb\"><tr><td>test/accuracy</td><td>▁</td></tr><tr><td>test/loss</td><td>▁</td></tr></table><br/></div><div class=\"wandb-col\"><h3>Run summary:</h3><br/><table class=\"wandb\"><tr><td>test/accuracy</td><td>0.60257</td></tr><tr><td>test/loss</td><td>1.15506</td></tr></table><br/></div></div>"
            ],
            "text/plain": [
              "<IPython.core.display.HTML object>"
            ]
          },
          "metadata": {},
          "output_type": "display_data"
        },
        {
          "data": {
            "text/html": [
              " View run <strong style=\"color:#cdcd00\">worthy-field-99</strong> at: <a href='https://wandb.ai/ovsvc-tu-wien/ADL/runs/0gu1fao9' target=\"_blank\">https://wandb.ai/ovsvc-tu-wien/ADL/runs/0gu1fao9</a><br/> View project at: <a href='https://wandb.ai/ovsvc-tu-wien/ADL' target=\"_blank\">https://wandb.ai/ovsvc-tu-wien/ADL</a><br/>Synced 5 W&B file(s), 0 media file(s), 0 artifact file(s) and 0 other file(s)"
            ],
            "text/plain": [
              "<IPython.core.display.HTML object>"
            ]
          },
          "metadata": {},
          "output_type": "display_data"
        },
        {
          "data": {
            "text/html": [
              "Find logs at: <code>./wandb/run-20241217_234253-0gu1fao9/logs</code>"
            ],
            "text/plain": [
              "<IPython.core.display.HTML object>"
            ]
          },
          "metadata": {},
          "output_type": "display_data"
        },
        {
          "data": {
            "text/html": [
              "Successfully finished last run (ID:0gu1fao9). Initializing new run:<br/>"
            ],
            "text/plain": [
              "<IPython.core.display.HTML object>"
            ]
          },
          "metadata": {},
          "output_type": "display_data"
        },
        {
          "data": {
            "text/html": [
              "Tracking run with wandb version 0.18.7"
            ],
            "text/plain": [
              "<IPython.core.display.HTML object>"
            ]
          },
          "metadata": {},
          "output_type": "display_data"
        },
        {
          "data": {
            "text/html": [
              "Run data is saved locally in <code>/content/wandb/run-20241218_000314-y6chqtz2</code>"
            ],
            "text/plain": [
              "<IPython.core.display.HTML object>"
            ]
          },
          "metadata": {},
          "output_type": "display_data"
        },
        {
          "data": {
            "text/html": [
              "Syncing run <strong><a href='https://wandb.ai/ovsvc-tu-wien/ADL/runs/y6chqtz2' target=\"_blank\">treasured-elevator-100</a></strong> to <a href='https://wandb.ai/ovsvc-tu-wien/ADL' target=\"_blank\">Weights & Biases</a> (<a href='https://wandb.me/developer-guide' target=\"_blank\">docs</a>)<br/>"
            ],
            "text/plain": [
              "<IPython.core.display.HTML object>"
            ]
          },
          "metadata": {},
          "output_type": "display_data"
        },
        {
          "data": {
            "text/html": [
              " View project at <a href='https://wandb.ai/ovsvc-tu-wien/ADL' target=\"_blank\">https://wandb.ai/ovsvc-tu-wien/ADL</a>"
            ],
            "text/plain": [
              "<IPython.core.display.HTML object>"
            ]
          },
          "metadata": {},
          "output_type": "display_data"
        },
        {
          "data": {
            "text/html": [
              " View run at <a href='https://wandb.ai/ovsvc-tu-wien/ADL/runs/y6chqtz2' target=\"_blank\">https://wandb.ai/ovsvc-tu-wien/ADL/runs/y6chqtz2</a>"
            ],
            "text/plain": [
              "<IPython.core.display.HTML object>"
            ]
          },
          "metadata": {},
          "output_type": "display_data"
        },
        {
          "name": "stdout",
          "output_type": "stream",
          "text": [
            "Training with batch size: 64\n",
            "Epoch 0/10:\n",
            "--- Training epoch 0 ---\n"
          ]
        },
        {
          "name": "stderr",
          "output_type": "stream",
          "text": [
            "Train:   0%|          | 1/1407 [00:00<14:11,  1.65it/s]"
          ]
        },
        {
          "name": "stdout",
          "output_type": "stream",
          "text": [
            "Batch 0, Loss: 3.2877445220947266\n"
          ]
        },
        {
          "name": "stderr",
          "output_type": "stream",
          "text": [
            "Train:  36%|███▌      | 501/1407 [03:03<06:00,  2.51it/s]"
          ]
        },
        {
          "name": "stdout",
          "output_type": "stream",
          "text": [
            "Batch 500, Loss: 1.56242835521698\n"
          ]
        },
        {
          "name": "stderr",
          "output_type": "stream",
          "text": [
            "Train:  71%|███████   | 1001/1407 [06:07<02:39,  2.55it/s]"
          ]
        },
        {
          "name": "stdout",
          "output_type": "stream",
          "text": [
            "Batch 1000, Loss: 1.3012138605117798\n"
          ]
        },
        {
          "name": "stderr",
          "output_type": "stream",
          "text": [
            "Train: 100%|██████████| 1407/1407 [08:35<00:00,  2.73it/s]\n"
          ]
        },
        {
          "name": "stdout",
          "output_type": "stream",
          "text": [
            "Epoch 0 Training Loss: 1.7310795376671686\n",
            "Training Metrics: Overall Accuracy: 0.4287\n",
            " Per-Class Accuracy:\n",
            "Accuracy for class human_baroque: 0.67\n",
            "Accuracy for class AI_surrealism: 0.54\n",
            "Accuracy for class human_art_nouveau: 0.73\n",
            "Accuracy for class human_expressionism: 0.58\n",
            "Accuracy for class human_ukiyo_e: 0.48\n",
            "Accuracy for class AI_renaissance: 0.52\n",
            "Accuracy for class AI_art_nouveau: 0.53\n",
            "Accuracy for class human_realism: 0.58\n",
            "Accuracy for class AI_realism: 0.58\n",
            "Accuracy for class human_post_impressionism: 0.85\n",
            "Accuracy for class human_romanticism: 0.26\n",
            "Accuracy for class AI_expressionism: 0.38\n",
            "Accuracy for class AI_baroque: 0.11\n",
            "Accuracy for class AI_impressionism: 0.19\n",
            "Accuracy for class human_surrealism: 0.18\n",
            "Accuracy for class human_renaissance: 0.13\n",
            "Accuracy for class AI_post_impressionism: 0.29\n",
            "Accuracy for class AI_ukiyo-e: 0.18\n",
            "Accuracy for class human_impressionism: 0.16\n",
            "Accuracy for class AI_romanticism: 0.65\n",
            "--- Validating epoch 0 ---\n"
          ]
        },
        {
          "name": "stderr",
          "output_type": "stream",
          "text": [
            "Evaluate:   1%|          | 1/157 [00:00<00:41,  3.76it/s]"
          ]
        },
        {
          "name": "stdout",
          "output_type": "stream",
          "text": [
            "Batch 0, Validation Loss: 1.2660908699035645\n"
          ]
        },
        {
          "name": "stderr",
          "output_type": "stream",
          "text": [
            "Evaluate: 100%|██████████| 157/157 [00:45<00:00,  3.42it/s]\n"
          ]
        },
        {
          "name": "stdout",
          "output_type": "stream",
          "text": [
            "Epoch 0 Validation Loss: 1.4203638957977296\n",
            "Validation Metrics: Overall Accuracy: 0.5125\n",
            " Per-Class Accuracy:\n",
            "Accuracy for class human_romanticism: 0.80\n",
            "Accuracy for class AI_ukiyo-e: 0.58\n",
            "Accuracy for class AI_romanticism: 0.81\n",
            "Accuracy for class AI_art_nouveau: 0.43\n",
            "Accuracy for class human_surrealism: 0.74\n",
            "Accuracy for class AI_renaissance: 0.68\n",
            "Accuracy for class AI_realism: 0.77\n",
            "Accuracy for class human_ukiyo_e: 0.74\n",
            "Accuracy for class human_art_nouveau: 0.74\n",
            "Accuracy for class AI_post_impressionism: 0.96\n",
            "Accuracy for class human_baroque: 0.17\n",
            "Accuracy for class human_impressionism: 0.30\n",
            "Accuracy for class AI_impressionism: 0.14\n",
            "Accuracy for class human_renaissance: 0.26\n",
            "Accuracy for class human_expressionism: 0.24\n",
            "Accuracy for class human_realism: 0.24\n",
            "Accuracy for class AI_baroque: 0.33\n",
            "Accuracy for class human_post_impressionism: 0.24\n",
            "Accuracy for class AI_surrealism: 0.30\n",
            "Accuracy for class AI_expressionism: 0.78\n",
            "#### Best accuracy 0.5125 at epoch 0\n",
            "#### Saving model to saved_models\n",
            "Model saved to saved_models/model_best.pth\n",
            "Epoch 1/10:\n",
            "--- Training epoch 1 ---\n"
          ]
        },
        {
          "name": "stderr",
          "output_type": "stream",
          "text": [
            "Train:   0%|          | 1/1407 [00:00<07:46,  3.02it/s]"
          ]
        },
        {
          "name": "stdout",
          "output_type": "stream",
          "text": [
            "Batch 0, Loss: 1.5513417720794678\n"
          ]
        },
        {
          "name": "stderr",
          "output_type": "stream",
          "text": [
            "Train:  36%|███▌      | 501/1407 [03:03<05:18,  2.84it/s]"
          ]
        },
        {
          "name": "stdout",
          "output_type": "stream",
          "text": [
            "Batch 500, Loss: 1.228940486907959\n"
          ]
        },
        {
          "name": "stderr",
          "output_type": "stream",
          "text": [
            "Train:  71%|███████   | 1001/1407 [06:07<02:27,  2.75it/s]"
          ]
        },
        {
          "name": "stdout",
          "output_type": "stream",
          "text": [
            "Batch 1000, Loss: 1.7910693883895874\n"
          ]
        },
        {
          "name": "stderr",
          "output_type": "stream",
          "text": [
            "Train: 100%|██████████| 1407/1407 [08:36<00:00,  2.73it/s]\n"
          ]
        },
        {
          "name": "stdout",
          "output_type": "stream",
          "text": [
            "Epoch 1 Training Loss: 1.4256313709682888\n",
            "Training Metrics: Overall Accuracy: 0.5118\n",
            " Per-Class Accuracy:\n",
            "Accuracy for class human_baroque: 0.78\n",
            "Accuracy for class AI_surrealism: 0.66\n",
            "Accuracy for class human_art_nouveau: 0.79\n",
            "Accuracy for class human_expressionism: 0.65\n",
            "Accuracy for class human_ukiyo_e: 0.59\n",
            "Accuracy for class AI_renaissance: 0.63\n",
            "Accuracy for class AI_art_nouveau: 0.65\n",
            "Accuracy for class human_realism: 0.67\n",
            "Accuracy for class AI_realism: 0.69\n",
            "Accuracy for class human_post_impressionism: 0.92\n",
            "Accuracy for class human_romanticism: 0.32\n",
            "Accuracy for class AI_expressionism: 0.42\n",
            "Accuracy for class AI_baroque: 0.15\n",
            "Accuracy for class AI_impressionism: 0.24\n",
            "Accuracy for class human_surrealism: 0.27\n",
            "Accuracy for class human_renaissance: 0.18\n",
            "Accuracy for class AI_post_impressionism: 0.40\n",
            "Accuracy for class AI_ukiyo-e: 0.22\n",
            "Accuracy for class human_impressionism: 0.25\n",
            "Accuracy for class AI_romanticism: 0.78\n",
            "--- Validating epoch 1 ---\n"
          ]
        },
        {
          "name": "stderr",
          "output_type": "stream",
          "text": [
            "Evaluate:   1%|          | 1/157 [00:00<00:41,  3.77it/s]"
          ]
        },
        {
          "name": "stdout",
          "output_type": "stream",
          "text": [
            "Batch 0, Validation Loss: 1.1558822393417358\n"
          ]
        },
        {
          "name": "stderr",
          "output_type": "stream",
          "text": [
            "Evaluate: 100%|██████████| 157/157 [00:46<00:00,  3.38it/s]\n"
          ]
        },
        {
          "name": "stdout",
          "output_type": "stream",
          "text": [
            "Epoch 1 Validation Loss: 1.3060187871932984\n",
            "Validation Metrics: Overall Accuracy: 0.5507\n",
            " Per-Class Accuracy:\n",
            "Accuracy for class human_romanticism: 0.86\n",
            "Accuracy for class AI_ukiyo-e: 0.65\n",
            "Accuracy for class AI_romanticism: 0.86\n",
            "Accuracy for class AI_art_nouveau: 0.69\n",
            "Accuracy for class human_surrealism: 0.64\n",
            "Accuracy for class AI_renaissance: 0.64\n",
            "Accuracy for class AI_realism: 0.75\n",
            "Accuracy for class human_ukiyo_e: 0.75\n",
            "Accuracy for class human_art_nouveau: 0.74\n",
            "Accuracy for class AI_post_impressionism: 0.97\n",
            "Accuracy for class human_baroque: 0.28\n",
            "Accuracy for class human_impressionism: 0.50\n",
            "Accuracy for class AI_impressionism: 0.11\n",
            "Accuracy for class human_renaissance: 0.20\n",
            "Accuracy for class human_expressionism: 0.34\n",
            "Accuracy for class human_realism: 0.20\n",
            "Accuracy for class AI_baroque: 0.44\n",
            "Accuracy for class human_post_impressionism: 0.30\n",
            "Accuracy for class AI_surrealism: 0.30\n",
            "Accuracy for class AI_expressionism: 0.80\n",
            "#### Best accuracy 0.5507 at epoch 1\n",
            "#### Saving model to saved_models\n",
            "Model saved to saved_models/model_best.pth\n",
            "Epoch 2/10:\n",
            "--- Training epoch 2 ---\n"
          ]
        },
        {
          "name": "stderr",
          "output_type": "stream",
          "text": [
            "Train:   0%|          | 1/1407 [00:00<08:54,  2.63it/s]"
          ]
        },
        {
          "name": "stdout",
          "output_type": "stream",
          "text": [
            "Batch 0, Loss: 1.2102642059326172\n"
          ]
        },
        {
          "name": "stderr",
          "output_type": "stream",
          "text": [
            "Train:  36%|███▌      | 501/1407 [03:03<05:03,  2.99it/s]"
          ]
        },
        {
          "name": "stdout",
          "output_type": "stream",
          "text": [
            "Batch 500, Loss: 1.5394399166107178\n"
          ]
        },
        {
          "name": "stderr",
          "output_type": "stream",
          "text": [
            "Train:  71%|███████   | 1001/1407 [06:07<02:30,  2.70it/s]"
          ]
        },
        {
          "name": "stdout",
          "output_type": "stream",
          "text": [
            "Batch 1000, Loss: 1.4972327947616577\n"
          ]
        },
        {
          "name": "stderr",
          "output_type": "stream",
          "text": [
            "Train: 100%|██████████| 1407/1407 [08:35<00:00,  2.73it/s]\n"
          ]
        },
        {
          "name": "stdout",
          "output_type": "stream",
          "text": [
            "Epoch 2 Training Loss: 1.3360198246214126\n",
            "Training Metrics: Overall Accuracy: 0.5385\n",
            " Per-Class Accuracy:\n",
            "Accuracy for class human_baroque: 0.81\n",
            "Accuracy for class AI_surrealism: 0.70\n",
            "Accuracy for class human_art_nouveau: 0.82\n",
            "Accuracy for class human_expressionism: 0.66\n",
            "Accuracy for class human_ukiyo_e: 0.61\n",
            "Accuracy for class AI_renaissance: 0.66\n",
            "Accuracy for class AI_art_nouveau: 0.70\n",
            "Accuracy for class human_realism: 0.71\n",
            "Accuracy for class AI_realism: 0.73\n",
            "Accuracy for class human_post_impressionism: 0.94\n",
            "Accuracy for class human_romanticism: 0.34\n",
            "Accuracy for class AI_expressionism: 0.45\n",
            "Accuracy for class AI_baroque: 0.18\n",
            "Accuracy for class AI_impressionism: 0.25\n",
            "Accuracy for class human_surrealism: 0.28\n",
            "Accuracy for class human_renaissance: 0.19\n",
            "Accuracy for class AI_post_impressionism: 0.43\n",
            "Accuracy for class AI_ukiyo-e: 0.25\n",
            "Accuracy for class human_impressionism: 0.29\n",
            "Accuracy for class AI_romanticism: 0.80\n",
            "--- Validating epoch 2 ---\n"
          ]
        },
        {
          "name": "stderr",
          "output_type": "stream",
          "text": [
            "Evaluate:   1%|          | 1/157 [00:00<00:41,  3.76it/s]"
          ]
        },
        {
          "name": "stdout",
          "output_type": "stream",
          "text": [
            "Batch 0, Validation Loss: 1.142791748046875\n"
          ]
        },
        {
          "name": "stderr",
          "output_type": "stream",
          "text": [
            "Evaluate: 100%|██████████| 157/157 [00:45<00:00,  3.46it/s]\n"
          ]
        },
        {
          "name": "stdout",
          "output_type": "stream",
          "text": [
            "Epoch 2 Validation Loss: 1.2526921586990356\n",
            "Validation Metrics: Overall Accuracy: 0.5622\n",
            " Per-Class Accuracy:\n",
            "Accuracy for class human_romanticism: 0.84\n",
            "Accuracy for class AI_ukiyo-e: 0.63\n",
            "Accuracy for class AI_romanticism: 0.82\n",
            "Accuracy for class AI_art_nouveau: 0.64\n",
            "Accuracy for class human_surrealism: 0.73\n",
            "Accuracy for class AI_renaissance: 0.64\n",
            "Accuracy for class AI_realism: 0.77\n",
            "Accuracy for class human_ukiyo_e: 0.80\n",
            "Accuracy for class human_art_nouveau: 0.79\n",
            "Accuracy for class AI_post_impressionism: 0.97\n",
            "Accuracy for class human_baroque: 0.34\n",
            "Accuracy for class human_impressionism: 0.46\n",
            "Accuracy for class AI_impressionism: 0.16\n",
            "Accuracy for class human_renaissance: 0.34\n",
            "Accuracy for class human_expressionism: 0.31\n",
            "Accuracy for class human_realism: 0.10\n",
            "Accuracy for class AI_baroque: 0.39\n",
            "Accuracy for class human_post_impressionism: 0.33\n",
            "Accuracy for class AI_surrealism: 0.33\n",
            "Accuracy for class AI_expressionism: 0.86\n",
            "#### Best accuracy 0.5622 at epoch 2\n",
            "#### Saving model to saved_models\n",
            "Model saved to saved_models/model_best.pth\n",
            "Epoch 3/10:\n",
            "--- Training epoch 3 ---\n"
          ]
        },
        {
          "name": "stderr",
          "output_type": "stream",
          "text": [
            "Train:   0%|          | 1/1407 [00:00<08:28,  2.77it/s]"
          ]
        },
        {
          "name": "stdout",
          "output_type": "stream",
          "text": [
            "Batch 0, Loss: 1.2253806591033936\n"
          ]
        },
        {
          "name": "stderr",
          "output_type": "stream",
          "text": [
            "Train:  36%|███▌      | 501/1407 [03:02<05:36,  2.69it/s]"
          ]
        },
        {
          "name": "stdout",
          "output_type": "stream",
          "text": [
            "Batch 500, Loss: 1.0834615230560303\n"
          ]
        },
        {
          "name": "stderr",
          "output_type": "stream",
          "text": [
            "Train:  71%|███████   | 1001/1407 [06:08<02:23,  2.83it/s]"
          ]
        },
        {
          "name": "stdout",
          "output_type": "stream",
          "text": [
            "Batch 1000, Loss: 1.2250425815582275\n"
          ]
        },
        {
          "name": "stderr",
          "output_type": "stream",
          "text": [
            "Train: 100%|██████████| 1407/1407 [08:38<00:00,  2.71it/s]\n"
          ]
        },
        {
          "name": "stdout",
          "output_type": "stream",
          "text": [
            "Epoch 3 Training Loss: 1.28139401512146\n",
            "Training Metrics: Overall Accuracy: 0.5556\n",
            " Per-Class Accuracy:\n",
            "Accuracy for class human_baroque: 0.83\n",
            "Accuracy for class AI_surrealism: 0.72\n",
            "Accuracy for class human_art_nouveau: 0.82\n",
            "Accuracy for class human_expressionism: 0.67\n",
            "Accuracy for class human_ukiyo_e: 0.62\n",
            "Accuracy for class AI_renaissance: 0.68\n",
            "Accuracy for class AI_art_nouveau: 0.72\n",
            "Accuracy for class human_realism: 0.73\n",
            "Accuracy for class AI_realism: 0.76\n",
            "Accuracy for class human_post_impressionism: 0.95\n",
            "Accuracy for class human_romanticism: 0.34\n",
            "Accuracy for class AI_expressionism: 0.47\n",
            "Accuracy for class AI_baroque: 0.19\n",
            "Accuracy for class AI_impressionism: 0.28\n",
            "Accuracy for class human_surrealism: 0.29\n",
            "Accuracy for class human_renaissance: 0.19\n",
            "Accuracy for class AI_post_impressionism: 0.44\n",
            "Accuracy for class AI_ukiyo-e: 0.25\n",
            "Accuracy for class human_impressionism: 0.33\n",
            "Accuracy for class AI_romanticism: 0.81\n",
            "--- Validating epoch 3 ---\n"
          ]
        },
        {
          "name": "stderr",
          "output_type": "stream",
          "text": [
            "Evaluate:   1%|          | 1/157 [00:00<00:57,  2.71it/s]"
          ]
        },
        {
          "name": "stdout",
          "output_type": "stream",
          "text": [
            "Batch 0, Validation Loss: 1.1140364408493042\n"
          ]
        },
        {
          "name": "stderr",
          "output_type": "stream",
          "text": [
            "Evaluate: 100%|██████████| 157/157 [00:46<00:00,  3.38it/s]\n"
          ]
        },
        {
          "name": "stdout",
          "output_type": "stream",
          "text": [
            "Epoch 3 Validation Loss: 1.2382681465148926\n",
            "Validation Metrics: Overall Accuracy: 0.5723\n",
            " Per-Class Accuracy:\n",
            "Accuracy for class human_romanticism: 0.91\n",
            "Accuracy for class AI_ukiyo-e: 0.63\n",
            "Accuracy for class AI_romanticism: 0.85\n",
            "Accuracy for class AI_art_nouveau: 0.77\n",
            "Accuracy for class human_surrealism: 0.59\n",
            "Accuracy for class AI_renaissance: 0.76\n",
            "Accuracy for class AI_realism: 0.75\n",
            "Accuracy for class human_ukiyo_e: 0.73\n",
            "Accuracy for class human_art_nouveau: 0.75\n",
            "Accuracy for class AI_post_impressionism: 0.97\n",
            "Accuracy for class human_baroque: 0.30\n",
            "Accuracy for class human_impressionism: 0.53\n",
            "Accuracy for class AI_impressionism: 0.14\n",
            "Accuracy for class human_renaissance: 0.24\n",
            "Accuracy for class human_expressionism: 0.37\n",
            "Accuracy for class human_realism: 0.34\n",
            "Accuracy for class AI_baroque: 0.43\n",
            "Accuracy for class human_post_impressionism: 0.13\n",
            "Accuracy for class AI_surrealism: 0.39\n",
            "Accuracy for class AI_expressionism: 0.88\n",
            "#### Best accuracy 0.5723 at epoch 3\n",
            "#### Saving model to saved_models\n",
            "Model saved to saved_models/model_best.pth\n",
            "Epoch 4/10:\n",
            "--- Training epoch 4 ---\n"
          ]
        },
        {
          "name": "stderr",
          "output_type": "stream",
          "text": [
            "Train:   0%|          | 1/1407 [00:00<09:54,  2.37it/s]"
          ]
        },
        {
          "name": "stdout",
          "output_type": "stream",
          "text": [
            "Batch 0, Loss: 1.1011443138122559\n"
          ]
        },
        {
          "name": "stderr",
          "output_type": "stream",
          "text": [
            "Train:  36%|███▌      | 501/1407 [03:05<05:29,  2.75it/s]"
          ]
        },
        {
          "name": "stdout",
          "output_type": "stream",
          "text": [
            "Batch 500, Loss: 1.1666877269744873\n"
          ]
        },
        {
          "name": "stderr",
          "output_type": "stream",
          "text": [
            "Train:  71%|███████   | 1001/1407 [06:11<02:28,  2.73it/s]"
          ]
        },
        {
          "name": "stdout",
          "output_type": "stream",
          "text": [
            "Batch 1000, Loss: 1.2569257020950317\n"
          ]
        },
        {
          "name": "stderr",
          "output_type": "stream",
          "text": [
            "Train: 100%|██████████| 1407/1407 [08:42<00:00,  2.69it/s]\n"
          ]
        },
        {
          "name": "stdout",
          "output_type": "stream",
          "text": [
            "Epoch 4 Training Loss: 1.2457295483695137\n",
            "Training Metrics: Overall Accuracy: 0.5674\n",
            " Per-Class Accuracy:\n",
            "Accuracy for class human_baroque: 0.83\n",
            "Accuracy for class AI_surrealism: 0.74\n",
            "Accuracy for class human_art_nouveau: 0.84\n",
            "Accuracy for class human_expressionism: 0.70\n",
            "Accuracy for class human_ukiyo_e: 0.63\n",
            "Accuracy for class AI_renaissance: 0.71\n",
            "Accuracy for class AI_art_nouveau: 0.74\n",
            "Accuracy for class human_realism: 0.75\n",
            "Accuracy for class AI_realism: 0.76\n",
            "Accuracy for class human_post_impressionism: 0.95\n",
            "Accuracy for class human_romanticism: 0.36\n",
            "Accuracy for class AI_expressionism: 0.49\n",
            "Accuracy for class AI_baroque: 0.21\n",
            "Accuracy for class AI_impressionism: 0.27\n",
            "Accuracy for class human_surrealism: 0.31\n",
            "Accuracy for class human_renaissance: 0.20\n",
            "Accuracy for class AI_post_impressionism: 0.47\n",
            "Accuracy for class AI_ukiyo-e: 0.26\n",
            "Accuracy for class human_impressionism: 0.33\n",
            "Accuracy for class AI_romanticism: 0.82\n",
            "--- Validating epoch 4 ---\n"
          ]
        },
        {
          "name": "stderr",
          "output_type": "stream",
          "text": [
            "Evaluate:   1%|          | 1/157 [00:00<00:43,  3.57it/s]"
          ]
        },
        {
          "name": "stdout",
          "output_type": "stream",
          "text": [
            "Batch 0, Validation Loss: 1.0292859077453613\n"
          ]
        },
        {
          "name": "stderr",
          "output_type": "stream",
          "text": [
            "Evaluate: 100%|██████████| 157/157 [00:46<00:00,  3.40it/s]\n"
          ]
        },
        {
          "name": "stdout",
          "output_type": "stream",
          "text": [
            "Epoch 4 Validation Loss: 1.1944358545303344\n",
            "Validation Metrics: Overall Accuracy: 0.5812\n",
            " Per-Class Accuracy:\n",
            "Accuracy for class human_romanticism: 0.88\n",
            "Accuracy for class AI_ukiyo-e: 0.74\n",
            "Accuracy for class AI_romanticism: 0.85\n",
            "Accuracy for class AI_art_nouveau: 0.60\n",
            "Accuracy for class human_surrealism: 0.75\n",
            "Accuracy for class AI_renaissance: 0.73\n",
            "Accuracy for class AI_realism: 0.78\n",
            "Accuracy for class human_ukiyo_e: 0.75\n",
            "Accuracy for class human_art_nouveau: 0.81\n",
            "Accuracy for class AI_post_impressionism: 0.98\n",
            "Accuracy for class human_baroque: 0.41\n",
            "Accuracy for class human_impressionism: 0.36\n",
            "Accuracy for class AI_impressionism: 0.19\n",
            "Accuracy for class human_renaissance: 0.32\n",
            "Accuracy for class human_expressionism: 0.33\n",
            "Accuracy for class human_realism: 0.20\n",
            "Accuracy for class AI_baroque: 0.46\n",
            "Accuracy for class human_post_impressionism: 0.28\n",
            "Accuracy for class AI_surrealism: 0.36\n",
            "Accuracy for class AI_expressionism: 0.85\n",
            "#### Best accuracy 0.5812 at epoch 4\n",
            "#### Saving model to saved_models\n",
            "Model saved to saved_models/model_best.pth\n",
            "Epoch 5/10:\n",
            "--- Training epoch 5 ---\n"
          ]
        },
        {
          "name": "stderr",
          "output_type": "stream",
          "text": [
            "Train:   0%|          | 1/1407 [00:00<09:19,  2.51it/s]"
          ]
        },
        {
          "name": "stdout",
          "output_type": "stream",
          "text": [
            "Batch 0, Loss: 1.1646302938461304\n"
          ]
        },
        {
          "name": "stderr",
          "output_type": "stream",
          "text": [
            "Train:  36%|███▌      | 501/1407 [03:03<05:23,  2.80it/s]"
          ]
        },
        {
          "name": "stdout",
          "output_type": "stream",
          "text": [
            "Batch 500, Loss: 1.152714729309082\n"
          ]
        },
        {
          "name": "stderr",
          "output_type": "stream",
          "text": [
            "Train:  71%|███████   | 1001/1407 [06:08<02:35,  2.61it/s]"
          ]
        },
        {
          "name": "stdout",
          "output_type": "stream",
          "text": [
            "Batch 1000, Loss: 1.0482779741287231\n"
          ]
        },
        {
          "name": "stderr",
          "output_type": "stream",
          "text": [
            "Train: 100%|██████████| 1407/1407 [08:38<00:00,  2.71it/s]\n"
          ]
        },
        {
          "name": "stdout",
          "output_type": "stream",
          "text": [
            "Epoch 5 Training Loss: 1.209819418165419\n",
            "Training Metrics: Overall Accuracy: 0.5784\n",
            " Per-Class Accuracy:\n",
            "Accuracy for class human_baroque: 0.84\n",
            "Accuracy for class AI_surrealism: 0.75\n",
            "Accuracy for class human_art_nouveau: 0.85\n",
            "Accuracy for class human_expressionism: 0.71\n",
            "Accuracy for class human_ukiyo_e: 0.65\n",
            "Accuracy for class AI_renaissance: 0.72\n",
            "Accuracy for class AI_art_nouveau: 0.75\n",
            "Accuracy for class human_realism: 0.76\n",
            "Accuracy for class AI_realism: 0.77\n",
            "Accuracy for class human_post_impressionism: 0.96\n",
            "Accuracy for class human_romanticism: 0.36\n",
            "Accuracy for class AI_expressionism: 0.48\n",
            "Accuracy for class AI_baroque: 0.21\n",
            "Accuracy for class AI_impressionism: 0.29\n",
            "Accuracy for class human_surrealism: 0.32\n",
            "Accuracy for class human_renaissance: 0.22\n",
            "Accuracy for class AI_post_impressionism: 0.47\n",
            "Accuracy for class AI_ukiyo-e: 0.27\n",
            "Accuracy for class human_impressionism: 0.35\n",
            "Accuracy for class AI_romanticism: 0.84\n",
            "--- Validating epoch 5 ---\n"
          ]
        },
        {
          "name": "stderr",
          "output_type": "stream",
          "text": [
            "Evaluate:   1%|          | 1/157 [00:00<00:41,  3.78it/s]"
          ]
        },
        {
          "name": "stdout",
          "output_type": "stream",
          "text": [
            "Batch 0, Validation Loss: 1.0742173194885254\n"
          ]
        },
        {
          "name": "stderr",
          "output_type": "stream",
          "text": [
            "Evaluate: 100%|██████████| 157/157 [00:46<00:00,  3.38it/s]\n"
          ]
        },
        {
          "name": "stdout",
          "output_type": "stream",
          "text": [
            "Epoch 5 Validation Loss: 1.1989974063873292\n",
            "Validation Metrics: Overall Accuracy: 0.5784\n",
            " Per-Class Accuracy:\n",
            "Accuracy for class human_romanticism: 0.84\n",
            "Accuracy for class AI_ukiyo-e: 0.72\n",
            "Accuracy for class AI_romanticism: 0.86\n",
            "Accuracy for class AI_art_nouveau: 0.69\n",
            "Accuracy for class human_surrealism: 0.74\n",
            "Accuracy for class AI_renaissance: 0.72\n",
            "Accuracy for class AI_realism: 0.80\n",
            "Accuracy for class human_ukiyo_e: 0.75\n",
            "Accuracy for class human_art_nouveau: 0.82\n",
            "Accuracy for class AI_post_impressionism: 0.96\n",
            "Accuracy for class human_baroque: 0.27\n",
            "Accuracy for class human_impressionism: 0.45\n",
            "Accuracy for class AI_impressionism: 0.20\n",
            "Accuracy for class human_renaissance: 0.10\n",
            "Accuracy for class human_expressionism: 0.46\n",
            "Accuracy for class human_realism: 0.31\n",
            "Accuracy for class AI_baroque: 0.43\n",
            "Accuracy for class human_post_impressionism: 0.35\n",
            "Accuracy for class AI_surrealism: 0.29\n",
            "Accuracy for class AI_expressionism: 0.82\n",
            "Early stopping counter: 1/3\n",
            "Epoch 6/10:\n",
            "--- Training epoch 6 ---\n"
          ]
        },
        {
          "name": "stderr",
          "output_type": "stream",
          "text": [
            "Train:   0%|          | 1/1407 [00:00<09:25,  2.48it/s]"
          ]
        },
        {
          "name": "stdout",
          "output_type": "stream",
          "text": [
            "Batch 0, Loss: 1.0106950998306274\n"
          ]
        },
        {
          "name": "stderr",
          "output_type": "stream",
          "text": [
            "Train:  36%|███▌      | 501/1407 [03:05<05:13,  2.89it/s]"
          ]
        },
        {
          "name": "stdout",
          "output_type": "stream",
          "text": [
            "Batch 500, Loss: 1.0592477321624756\n"
          ]
        },
        {
          "name": "stderr",
          "output_type": "stream",
          "text": [
            "Train:  71%|███████   | 1001/1407 [06:11<02:25,  2.79it/s]"
          ]
        },
        {
          "name": "stdout",
          "output_type": "stream",
          "text": [
            "Batch 1000, Loss: 1.4886720180511475\n"
          ]
        },
        {
          "name": "stderr",
          "output_type": "stream",
          "text": [
            "Train: 100%|██████████| 1407/1407 [08:40<00:00,  2.70it/s]\n"
          ]
        },
        {
          "name": "stdout",
          "output_type": "stream",
          "text": [
            "Epoch 6 Training Loss: 1.1836768035676744\n",
            "Training Metrics: Overall Accuracy: 0.5863\n",
            " Per-Class Accuracy:\n",
            "Accuracy for class human_baroque: 0.85\n",
            "Accuracy for class AI_surrealism: 0.76\n",
            "Accuracy for class human_art_nouveau: 0.85\n",
            "Accuracy for class human_expressionism: 0.70\n",
            "Accuracy for class human_ukiyo_e: 0.65\n",
            "Accuracy for class AI_renaissance: 0.73\n",
            "Accuracy for class AI_art_nouveau: 0.76\n",
            "Accuracy for class human_realism: 0.76\n",
            "Accuracy for class AI_realism: 0.79\n",
            "Accuracy for class human_post_impressionism: 0.96\n",
            "Accuracy for class human_romanticism: 0.37\n",
            "Accuracy for class AI_expressionism: 0.50\n",
            "Accuracy for class AI_baroque: 0.24\n",
            "Accuracy for class AI_impressionism: 0.29\n",
            "Accuracy for class human_surrealism: 0.32\n",
            "Accuracy for class human_renaissance: 0.25\n",
            "Accuracy for class AI_post_impressionism: 0.49\n",
            "Accuracy for class AI_ukiyo-e: 0.28\n",
            "Accuracy for class human_impressionism: 0.35\n",
            "Accuracy for class AI_romanticism: 0.84\n",
            "--- Validating epoch 6 ---\n"
          ]
        },
        {
          "name": "stderr",
          "output_type": "stream",
          "text": [
            "Evaluate:   1%|          | 1/157 [00:00<00:41,  3.78it/s]"
          ]
        },
        {
          "name": "stdout",
          "output_type": "stream",
          "text": [
            "Batch 0, Validation Loss: 0.9809110164642334\n"
          ]
        },
        {
          "name": "stderr",
          "output_type": "stream",
          "text": [
            "Evaluate: 100%|██████████| 157/157 [00:46<00:00,  3.37it/s]\n"
          ]
        },
        {
          "name": "stdout",
          "output_type": "stream",
          "text": [
            "Epoch 6 Validation Loss: 1.177699115371704\n",
            "Validation Metrics: Overall Accuracy: 0.5882\n",
            " Per-Class Accuracy:\n",
            "Accuracy for class human_romanticism: 0.91\n",
            "Accuracy for class AI_ukiyo-e: 0.72\n",
            "Accuracy for class AI_romanticism: 0.81\n",
            "Accuracy for class AI_art_nouveau: 0.76\n",
            "Accuracy for class human_surrealism: 0.70\n",
            "Accuracy for class AI_renaissance: 0.75\n",
            "Accuracy for class AI_realism: 0.75\n",
            "Accuracy for class human_ukiyo_e: 0.80\n",
            "Accuracy for class human_art_nouveau: 0.77\n",
            "Accuracy for class AI_post_impressionism: 0.97\n",
            "Accuracy for class human_baroque: 0.27\n",
            "Accuracy for class human_impressionism: 0.52\n",
            "Accuracy for class AI_impressionism: 0.22\n",
            "Accuracy for class human_renaissance: 0.29\n",
            "Accuracy for class human_expressionism: 0.38\n",
            "Accuracy for class human_realism: 0.13\n",
            "Accuracy for class AI_baroque: 0.42\n",
            "Accuracy for class human_post_impressionism: 0.36\n",
            "Accuracy for class AI_surrealism: 0.36\n",
            "Accuracy for class AI_expressionism: 0.86\n",
            "#### Best accuracy 0.5882 at epoch 6\n",
            "#### Saving model to saved_models\n",
            "Model saved to saved_models/model_best.pth\n",
            "Epoch 7/10:\n",
            "--- Training epoch 7 ---\n"
          ]
        },
        {
          "name": "stderr",
          "output_type": "stream",
          "text": [
            "Train:   0%|          | 1/1407 [00:00<08:08,  2.88it/s]"
          ]
        },
        {
          "name": "stdout",
          "output_type": "stream",
          "text": [
            "Batch 0, Loss: 1.0306788682937622\n"
          ]
        },
        {
          "name": "stderr",
          "output_type": "stream",
          "text": [
            "Train:  36%|███▌      | 501/1407 [03:04<05:34,  2.71it/s]"
          ]
        },
        {
          "name": "stdout",
          "output_type": "stream",
          "text": [
            "Batch 500, Loss: 1.122232437133789\n"
          ]
        },
        {
          "name": "stderr",
          "output_type": "stream",
          "text": [
            "Train:  71%|███████   | 1001/1407 [06:08<02:31,  2.69it/s]"
          ]
        },
        {
          "name": "stdout",
          "output_type": "stream",
          "text": [
            "Batch 1000, Loss: 1.2607910633087158\n"
          ]
        },
        {
          "name": "stderr",
          "output_type": "stream",
          "text": [
            "Train: 100%|██████████| 1407/1407 [08:38<00:00,  2.71it/s]\n"
          ]
        },
        {
          "name": "stdout",
          "output_type": "stream",
          "text": [
            "Epoch 7 Training Loss: 1.1609367699729072\n",
            "Training Metrics: Overall Accuracy: 0.5916\n",
            " Per-Class Accuracy:\n",
            "Accuracy for class human_baroque: 0.85\n",
            "Accuracy for class AI_surrealism: 0.77\n",
            "Accuracy for class human_art_nouveau: 0.85\n",
            "Accuracy for class human_expressionism: 0.72\n",
            "Accuracy for class human_ukiyo_e: 0.67\n",
            "Accuracy for class AI_renaissance: 0.73\n",
            "Accuracy for class AI_art_nouveau: 0.76\n",
            "Accuracy for class human_realism: 0.76\n",
            "Accuracy for class AI_realism: 0.80\n",
            "Accuracy for class human_post_impressionism: 0.96\n",
            "Accuracy for class human_romanticism: 0.37\n",
            "Accuracy for class AI_expressionism: 0.50\n",
            "Accuracy for class AI_baroque: 0.24\n",
            "Accuracy for class AI_impressionism: 0.29\n",
            "Accuracy for class human_surrealism: 0.32\n",
            "Accuracy for class human_renaissance: 0.24\n",
            "Accuracy for class AI_post_impressionism: 0.50\n",
            "Accuracy for class AI_ukiyo-e: 0.28\n",
            "Accuracy for class human_impressionism: 0.37\n",
            "Accuracy for class AI_romanticism: 0.85\n",
            "--- Validating epoch 7 ---\n"
          ]
        },
        {
          "name": "stderr",
          "output_type": "stream",
          "text": [
            "Evaluate:   1%|          | 1/157 [00:00<00:42,  3.71it/s]"
          ]
        },
        {
          "name": "stdout",
          "output_type": "stream",
          "text": [
            "Batch 0, Validation Loss: 0.9958344101905823\n"
          ]
        },
        {
          "name": "stderr",
          "output_type": "stream",
          "text": [
            "Evaluate: 100%|██████████| 157/157 [00:46<00:00,  3.38it/s]\n"
          ]
        },
        {
          "name": "stdout",
          "output_type": "stream",
          "text": [
            "Epoch 7 Validation Loss: 1.1631244756698609\n",
            "Validation Metrics: Overall Accuracy: 0.5939\n",
            " Per-Class Accuracy:\n",
            "Accuracy for class human_romanticism: 0.87\n",
            "Accuracy for class AI_ukiyo-e: 0.73\n",
            "Accuracy for class AI_romanticism: 0.85\n",
            "Accuracy for class AI_art_nouveau: 0.73\n",
            "Accuracy for class human_surrealism: 0.72\n",
            "Accuracy for class AI_renaissance: 0.69\n",
            "Accuracy for class AI_realism: 0.81\n",
            "Accuracy for class human_ukiyo_e: 0.79\n",
            "Accuracy for class human_art_nouveau: 0.79\n",
            "Accuracy for class AI_post_impressionism: 0.98\n",
            "Accuracy for class human_baroque: 0.40\n",
            "Accuracy for class human_impressionism: 0.46\n",
            "Accuracy for class AI_impressionism: 0.17\n",
            "Accuracy for class human_renaissance: 0.43\n",
            "Accuracy for class human_expressionism: 0.28\n",
            "Accuracy for class human_realism: 0.25\n",
            "Accuracy for class AI_baroque: 0.51\n",
            "Accuracy for class human_post_impressionism: 0.24\n",
            "Accuracy for class AI_surrealism: 0.37\n",
            "Accuracy for class AI_expressionism: 0.82\n",
            "#### Best accuracy 0.5939 at epoch 7\n",
            "#### Saving model to saved_models\n",
            "Model saved to saved_models/model_best.pth\n",
            "Epoch 8/10:\n",
            "--- Training epoch 8 ---\n"
          ]
        },
        {
          "name": "stderr",
          "output_type": "stream",
          "text": [
            "Train:   0%|          | 1/1407 [00:00<08:20,  2.81it/s]"
          ]
        },
        {
          "name": "stdout",
          "output_type": "stream",
          "text": [
            "Batch 0, Loss: 1.0696320533752441\n"
          ]
        },
        {
          "name": "stderr",
          "output_type": "stream",
          "text": [
            "Train:  36%|███▌      | 501/1407 [03:05<05:32,  2.73it/s]"
          ]
        },
        {
          "name": "stdout",
          "output_type": "stream",
          "text": [
            "Batch 500, Loss: 1.4474554061889648\n"
          ]
        },
        {
          "name": "stderr",
          "output_type": "stream",
          "text": [
            "Train:  71%|███████   | 1001/1407 [06:09<02:39,  2.55it/s]"
          ]
        },
        {
          "name": "stdout",
          "output_type": "stream",
          "text": [
            "Batch 1000, Loss: 1.2989273071289062\n"
          ]
        },
        {
          "name": "stderr",
          "output_type": "stream",
          "text": [
            "Train: 100%|██████████| 1407/1407 [08:39<00:00,  2.71it/s]\n"
          ]
        },
        {
          "name": "stdout",
          "output_type": "stream",
          "text": [
            "Epoch 8 Training Loss: 1.140964367082384\n",
            "Training Metrics: Overall Accuracy: 0.6020\n",
            " Per-Class Accuracy:\n",
            "Accuracy for class human_baroque: 0.86\n",
            "Accuracy for class AI_surrealism: 0.77\n",
            "Accuracy for class human_art_nouveau: 0.86\n",
            "Accuracy for class human_expressionism: 0.72\n",
            "Accuracy for class human_ukiyo_e: 0.67\n",
            "Accuracy for class AI_renaissance: 0.73\n",
            "Accuracy for class AI_art_nouveau: 0.77\n",
            "Accuracy for class human_realism: 0.78\n",
            "Accuracy for class AI_realism: 0.80\n",
            "Accuracy for class human_post_impressionism: 0.96\n",
            "Accuracy for class human_romanticism: 0.38\n",
            "Accuracy for class AI_expressionism: 0.52\n",
            "Accuracy for class AI_baroque: 0.26\n",
            "Accuracy for class AI_impressionism: 0.31\n",
            "Accuracy for class human_surrealism: 0.34\n",
            "Accuracy for class human_renaissance: 0.25\n",
            "Accuracy for class AI_post_impressionism: 0.51\n",
            "Accuracy for class AI_ukiyo-e: 0.30\n",
            "Accuracy for class human_impressionism: 0.38\n",
            "Accuracy for class AI_romanticism: 0.86\n",
            "--- Validating epoch 8 ---\n"
          ]
        },
        {
          "name": "stderr",
          "output_type": "stream",
          "text": [
            "Evaluate:   1%|          | 1/157 [00:00<00:41,  3.74it/s]"
          ]
        },
        {
          "name": "stdout",
          "output_type": "stream",
          "text": [
            "Batch 0, Validation Loss: 1.0048325061798096\n"
          ]
        },
        {
          "name": "stderr",
          "output_type": "stream",
          "text": [
            "Evaluate: 100%|██████████| 157/157 [00:45<00:00,  3.42it/s]\n"
          ]
        },
        {
          "name": "stdout",
          "output_type": "stream",
          "text": [
            "Epoch 8 Validation Loss: 1.1589358373641967\n",
            "Validation Metrics: Overall Accuracy: 0.5967\n",
            " Per-Class Accuracy:\n",
            "Accuracy for class human_romanticism: 0.89\n",
            "Accuracy for class AI_ukiyo-e: 0.71\n",
            "Accuracy for class AI_romanticism: 0.88\n",
            "Accuracy for class AI_art_nouveau: 0.67\n",
            "Accuracy for class human_surrealism: 0.74\n",
            "Accuracy for class AI_renaissance: 0.79\n",
            "Accuracy for class AI_realism: 0.81\n",
            "Accuracy for class human_ukiyo_e: 0.75\n",
            "Accuracy for class human_art_nouveau: 0.80\n",
            "Accuracy for class AI_post_impressionism: 0.99\n",
            "Accuracy for class human_baroque: 0.38\n",
            "Accuracy for class human_impressionism: 0.50\n",
            "Accuracy for class AI_impressionism: 0.21\n",
            "Accuracy for class human_renaissance: 0.30\n",
            "Accuracy for class human_expressionism: 0.31\n",
            "Accuracy for class human_realism: 0.18\n",
            "Accuracy for class AI_baroque: 0.44\n",
            "Accuracy for class human_post_impressionism: 0.39\n",
            "Accuracy for class AI_surrealism: 0.35\n",
            "Accuracy for class AI_expressionism: 0.85\n",
            "#### Best accuracy 0.5967 at epoch 8\n",
            "#### Saving model to saved_models\n",
            "Model saved to saved_models/model_best.pth\n",
            "Epoch 9/10:\n",
            "--- Training epoch 9 ---\n"
          ]
        },
        {
          "name": "stderr",
          "output_type": "stream",
          "text": [
            "Train:   0%|          | 1/1407 [00:00<09:22,  2.50it/s]"
          ]
        },
        {
          "name": "stdout",
          "output_type": "stream",
          "text": [
            "Batch 0, Loss: 1.024757981300354\n"
          ]
        },
        {
          "name": "stderr",
          "output_type": "stream",
          "text": [
            "Train:  36%|███▌      | 501/1407 [03:04<05:19,  2.83it/s]"
          ]
        },
        {
          "name": "stdout",
          "output_type": "stream",
          "text": [
            "Batch 500, Loss: 1.0637032985687256\n"
          ]
        },
        {
          "name": "stderr",
          "output_type": "stream",
          "text": [
            "Train:  71%|███████   | 1001/1407 [06:08<02:26,  2.76it/s]"
          ]
        },
        {
          "name": "stdout",
          "output_type": "stream",
          "text": [
            "Batch 1000, Loss: 1.221413016319275\n"
          ]
        },
        {
          "name": "stderr",
          "output_type": "stream",
          "text": [
            "Train: 100%|██████████| 1407/1407 [08:39<00:00,  2.71it/s]\n"
          ]
        },
        {
          "name": "stdout",
          "output_type": "stream",
          "text": [
            "Epoch 9 Training Loss: 1.1249579281065198\n",
            "Training Metrics: Overall Accuracy: 0.6069\n",
            " Per-Class Accuracy:\n",
            "Accuracy for class human_baroque: 0.86\n",
            "Accuracy for class AI_surrealism: 0.78\n",
            "Accuracy for class human_art_nouveau: 0.87\n",
            "Accuracy for class human_expressionism: 0.74\n",
            "Accuracy for class human_ukiyo_e: 0.67\n",
            "Accuracy for class AI_renaissance: 0.74\n",
            "Accuracy for class AI_art_nouveau: 0.78\n",
            "Accuracy for class human_realism: 0.78\n",
            "Accuracy for class AI_realism: 0.80\n",
            "Accuracy for class human_post_impressionism: 0.96\n",
            "Accuracy for class human_romanticism: 0.38\n",
            "Accuracy for class AI_expressionism: 0.52\n",
            "Accuracy for class AI_baroque: 0.27\n",
            "Accuracy for class AI_impressionism: 0.32\n",
            "Accuracy for class human_surrealism: 0.35\n",
            "Accuracy for class human_renaissance: 0.27\n",
            "Accuracy for class AI_post_impressionism: 0.51\n",
            "Accuracy for class AI_ukiyo-e: 0.30\n",
            "Accuracy for class human_impressionism: 0.38\n",
            "Accuracy for class AI_romanticism: 0.86\n",
            "--- Validating epoch 9 ---\n"
          ]
        },
        {
          "name": "stderr",
          "output_type": "stream",
          "text": [
            "Evaluate:   1%|          | 1/157 [00:00<00:42,  3.65it/s]"
          ]
        },
        {
          "name": "stdout",
          "output_type": "stream",
          "text": [
            "Batch 0, Validation Loss: 0.944085419178009\n"
          ]
        },
        {
          "name": "stderr",
          "output_type": "stream",
          "text": [
            "Evaluate: 100%|██████████| 157/157 [00:46<00:00,  3.36it/s]\n"
          ]
        },
        {
          "name": "stdout",
          "output_type": "stream",
          "text": [
            "Epoch 9 Validation Loss: 1.1649015174865722\n",
            "Validation Metrics: Overall Accuracy: 0.5988\n",
            " Per-Class Accuracy:\n",
            "Accuracy for class human_romanticism: 0.88\n",
            "Accuracy for class AI_ukiyo-e: 0.77\n",
            "Accuracy for class AI_romanticism: 0.84\n",
            "Accuracy for class AI_art_nouveau: 0.73\n",
            "Accuracy for class human_surrealism: 0.72\n",
            "Accuracy for class AI_renaissance: 0.79\n",
            "Accuracy for class AI_realism: 0.70\n",
            "Accuracy for class human_ukiyo_e: 0.83\n",
            "Accuracy for class human_art_nouveau: 0.80\n",
            "Accuracy for class AI_post_impressionism: 0.97\n",
            "Accuracy for class human_baroque: 0.34\n",
            "Accuracy for class human_impressionism: 0.48\n",
            "Accuracy for class AI_impressionism: 0.14\n",
            "Accuracy for class human_renaissance: 0.40\n",
            "Accuracy for class human_expressionism: 0.28\n",
            "Accuracy for class human_realism: 0.30\n",
            "Accuracy for class AI_baroque: 0.47\n",
            "Accuracy for class human_post_impressionism: 0.30\n",
            "Accuracy for class AI_surrealism: 0.38\n",
            "Accuracy for class AI_expressionism: 0.87\n",
            "Early stopping counter: 1/3\n",
            "Model saved to saved_models/model_last.pth\n"
          ]
        },
        {
          "data": {
            "text/html": [
              "\n",
              "    <style>\n",
              "        .wandb-row {\n",
              "            display: flex;\n",
              "            flex-direction: row;\n",
              "            flex-wrap: wrap;\n",
              "            justify-content: flex-start;\n",
              "            width: 100%;\n",
              "        }\n",
              "        .wandb-col {\n",
              "            display: flex;\n",
              "            flex-direction: column;\n",
              "            flex-basis: 100%;\n",
              "            flex: 1;\n",
              "            padding: 10px;\n",
              "        }\n",
              "    </style>\n",
              "<div class=\"wandb-row\"><div class=\"wandb-col\"><h3>Run history:</h3><br/><table class=\"wandb\"><tr><td>epoch</td><td>▁▂▃▃▄▅▆▆▇█</td></tr><tr><td>train/acc</td><td>▁▄▅▆▆▇▇▇██</td></tr><tr><td>train/loss</td><td>█▄▃▃▂▂▂▁▁▁</td></tr><tr><td>val/acc</td><td>▁▄▅▆▇▆▇███</td></tr><tr><td>val/loss</td><td>█▅▄▃▂▂▂▁▁▁</td></tr></table><br/></div><div class=\"wandb-col\"><h3>Run summary:</h3><br/><table class=\"wandb\"><tr><td>epoch</td><td>9</td></tr><tr><td>train/acc</td><td>0.60689</td></tr><tr><td>train/loss</td><td>1.12496</td></tr><tr><td>val/acc</td><td>0.5988</td></tr><tr><td>val/loss</td><td>1.1649</td></tr></table><br/></div></div>"
            ],
            "text/plain": [
              "<IPython.core.display.HTML object>"
            ]
          },
          "metadata": {},
          "output_type": "display_data"
        },
        {
          "data": {
            "text/html": [
              " View run <strong style=\"color:#cdcd00\">treasured-elevator-100</strong> at: <a href='https://wandb.ai/ovsvc-tu-wien/ADL/runs/y6chqtz2' target=\"_blank\">https://wandb.ai/ovsvc-tu-wien/ADL/runs/y6chqtz2</a><br/> View project at: <a href='https://wandb.ai/ovsvc-tu-wien/ADL' target=\"_blank\">https://wandb.ai/ovsvc-tu-wien/ADL</a><br/>Synced 5 W&B file(s), 0 media file(s), 0 artifact file(s) and 0 other file(s)"
            ],
            "text/plain": [
              "<IPython.core.display.HTML object>"
            ]
          },
          "metadata": {},
          "output_type": "display_data"
        },
        {
          "data": {
            "text/html": [
              "Find logs at: <code>./wandb/run-20241218_000314-y6chqtz2/logs</code>"
            ],
            "text/plain": [
              "<IPython.core.display.HTML object>"
            ]
          },
          "metadata": {},
          "output_type": "display_data"
        }
      ],
      "source": [
        "# Updated train_transform with data augmentation\n",
        "train_transform = transforms.Compose([\n",
        "      transforms.RandomHorizontalFlip(),         # Randomly flip the image horizontally\n",
        "      transforms.RandomVerticalFlip(),         # Randomly flip the image vertically\n",
        "      transforms.RandomRotation(30),             # Randomly rotate images by up to 30 degrees\n",
        "      transforms.Resize(size=(32, 32)),\n",
        "      transforms.ToTensor(),\n",
        "      transforms.Normalize(mean=[0.485, 0.456, 0.406], std=[0.229, 0.224, 0.225])\n",
        "])\n",
        "# Validation and test transforms (without augmentation)\n",
        "val_transform = transforms.Compose([\n",
        "    transforms.Resize(size=(32, 32)),\n",
        "    transforms.ToTensor(),\n",
        "    transforms.Normalize(mean=[0.485, 0.456, 0.406], std=[0.229, 0.224, 0.225])  # Normalize\n",
        "])\n",
        "\n",
        "test_transform = transforms.Compose([\n",
        "    transforms.Resize(size=(32, 32)),\n",
        "    transforms.ToTensor(),\n",
        "    transforms.Normalize(mean=[0.485, 0.456, 0.406], std=[0.229, 0.224, 0.225])  # Normalize\n",
        "])\n",
        "\n",
        "#freeze_layers=True & freeze_layers = ['conv1', 'bn1', 'layer1', 'layer2'] - what layers need to be frozen\n",
        "#freeze_layers=False - do not freeze any layers\n",
        "#freeze_layers=True - freeze all layers except for the last one\n",
        "freeze_layers = ['conv1', 'bn1', 'layer1', 'layer2']\n",
        "# Config for training and testing\n",
        "config = {\n",
        "    'model': ResNet18FineTuned(freeze_layers=False), #specific_layers_to_freeze=freeze_layers),\n",
        "    'dataset_path': dataset_path,\n",
        "    'model_save_dir': 'saved_models',\n",
        "    'results_save_dir': 'saved_results',\n",
        "    'train_transform': train_transform,\n",
        "    'val_transform': val_transform,\n",
        "    'test_transform': test_transform,\n",
        "    'batch_size': 64,\n",
        "    'learning_rate': 0.001,\n",
        "    'scheduler_gamma': 0.9,\n",
        "    'epochs': 10,\n",
        "    'fraction': 1,\n",
        "    'val_frequency': 1,\n",
        "    'debug_mode': True,\n",
        "    'patience': 3,\n",
        "    'model_name': \"ResNet18\"\n",
        "}\n",
        "\n",
        "# Train the model\n",
        "\n",
        "trainer_resnet = train_model(config)"
      ]
    },
    {
      "cell_type": "code",
      "execution_count": 16,
      "metadata": {
        "colab": {
          "base_uri": "https://localhost:8080/",
          "height": 1000
        },
        "id": "2rWJzPXF9KZ-",
        "outputId": "57a6a8fc-bf51-48a5-8d16-6170fd2fb3a2"
      },
      "outputs": [
        {
          "name": "stdout",
          "output_type": "stream",
          "text": [
            "CUDA (GPU) is available.\n",
            "Preprocessing dataset...\n",
            "Train dataset length: 90000\n",
            "Validation dataset length: 10000\n",
            "Test dataset length: 30000\n",
            "Model: ResNet18FineTuned(\n",
            "  (resnet18): ResNet(\n",
            "    (conv1): Conv2d(3, 64, kernel_size=(7, 7), stride=(2, 2), padding=(3, 3), bias=False)\n",
            "    (bn1): BatchNorm2d(64, eps=1e-05, momentum=0.1, affine=True, track_running_stats=True)\n",
            "    (relu): ReLU(inplace=True)\n",
            "    (maxpool): MaxPool2d(kernel_size=3, stride=2, padding=1, dilation=1, ceil_mode=False)\n",
            "    (layer1): Sequential(\n",
            "      (0): BasicBlock(\n",
            "        (conv1): Conv2d(64, 64, kernel_size=(3, 3), stride=(1, 1), padding=(1, 1), bias=False)\n",
            "        (bn1): BatchNorm2d(64, eps=1e-05, momentum=0.1, affine=True, track_running_stats=True)\n",
            "        (relu): ReLU(inplace=True)\n",
            "        (conv2): Conv2d(64, 64, kernel_size=(3, 3), stride=(1, 1), padding=(1, 1), bias=False)\n",
            "        (bn2): BatchNorm2d(64, eps=1e-05, momentum=0.1, affine=True, track_running_stats=True)\n",
            "      )\n",
            "      (1): BasicBlock(\n",
            "        (conv1): Conv2d(64, 64, kernel_size=(3, 3), stride=(1, 1), padding=(1, 1), bias=False)\n",
            "        (bn1): BatchNorm2d(64, eps=1e-05, momentum=0.1, affine=True, track_running_stats=True)\n",
            "        (relu): ReLU(inplace=True)\n",
            "        (conv2): Conv2d(64, 64, kernel_size=(3, 3), stride=(1, 1), padding=(1, 1), bias=False)\n",
            "        (bn2): BatchNorm2d(64, eps=1e-05, momentum=0.1, affine=True, track_running_stats=True)\n",
            "      )\n",
            "    )\n",
            "    (layer2): Sequential(\n",
            "      (0): BasicBlock(\n",
            "        (conv1): Conv2d(64, 128, kernel_size=(3, 3), stride=(2, 2), padding=(1, 1), bias=False)\n",
            "        (bn1): BatchNorm2d(128, eps=1e-05, momentum=0.1, affine=True, track_running_stats=True)\n",
            "        (relu): ReLU(inplace=True)\n",
            "        (conv2): Conv2d(128, 128, kernel_size=(3, 3), stride=(1, 1), padding=(1, 1), bias=False)\n",
            "        (bn2): BatchNorm2d(128, eps=1e-05, momentum=0.1, affine=True, track_running_stats=True)\n",
            "        (downsample): Sequential(\n",
            "          (0): Conv2d(64, 128, kernel_size=(1, 1), stride=(2, 2), bias=False)\n",
            "          (1): BatchNorm2d(128, eps=1e-05, momentum=0.1, affine=True, track_running_stats=True)\n",
            "        )\n",
            "      )\n",
            "      (1): BasicBlock(\n",
            "        (conv1): Conv2d(128, 128, kernel_size=(3, 3), stride=(1, 1), padding=(1, 1), bias=False)\n",
            "        (bn1): BatchNorm2d(128, eps=1e-05, momentum=0.1, affine=True, track_running_stats=True)\n",
            "        (relu): ReLU(inplace=True)\n",
            "        (conv2): Conv2d(128, 128, kernel_size=(3, 3), stride=(1, 1), padding=(1, 1), bias=False)\n",
            "        (bn2): BatchNorm2d(128, eps=1e-05, momentum=0.1, affine=True, track_running_stats=True)\n",
            "      )\n",
            "    )\n",
            "    (layer3): Sequential(\n",
            "      (0): BasicBlock(\n",
            "        (conv1): Conv2d(128, 256, kernel_size=(3, 3), stride=(2, 2), padding=(1, 1), bias=False)\n",
            "        (bn1): BatchNorm2d(256, eps=1e-05, momentum=0.1, affine=True, track_running_stats=True)\n",
            "        (relu): ReLU(inplace=True)\n",
            "        (conv2): Conv2d(256, 256, kernel_size=(3, 3), stride=(1, 1), padding=(1, 1), bias=False)\n",
            "        (bn2): BatchNorm2d(256, eps=1e-05, momentum=0.1, affine=True, track_running_stats=True)\n",
            "        (downsample): Sequential(\n",
            "          (0): Conv2d(128, 256, kernel_size=(1, 1), stride=(2, 2), bias=False)\n",
            "          (1): BatchNorm2d(256, eps=1e-05, momentum=0.1, affine=True, track_running_stats=True)\n",
            "        )\n",
            "      )\n",
            "      (1): BasicBlock(\n",
            "        (conv1): Conv2d(256, 256, kernel_size=(3, 3), stride=(1, 1), padding=(1, 1), bias=False)\n",
            "        (bn1): BatchNorm2d(256, eps=1e-05, momentum=0.1, affine=True, track_running_stats=True)\n",
            "        (relu): ReLU(inplace=True)\n",
            "        (conv2): Conv2d(256, 256, kernel_size=(3, 3), stride=(1, 1), padding=(1, 1), bias=False)\n",
            "        (bn2): BatchNorm2d(256, eps=1e-05, momentum=0.1, affine=True, track_running_stats=True)\n",
            "      )\n",
            "    )\n",
            "    (layer4): Sequential(\n",
            "      (0): BasicBlock(\n",
            "        (conv1): Conv2d(256, 512, kernel_size=(3, 3), stride=(2, 2), padding=(1, 1), bias=False)\n",
            "        (bn1): BatchNorm2d(512, eps=1e-05, momentum=0.1, affine=True, track_running_stats=True)\n",
            "        (relu): ReLU(inplace=True)\n",
            "        (conv2): Conv2d(512, 512, kernel_size=(3, 3), stride=(1, 1), padding=(1, 1), bias=False)\n",
            "        (bn2): BatchNorm2d(512, eps=1e-05, momentum=0.1, affine=True, track_running_stats=True)\n",
            "        (downsample): Sequential(\n",
            "          (0): Conv2d(256, 512, kernel_size=(1, 1), stride=(2, 2), bias=False)\n",
            "          (1): BatchNorm2d(512, eps=1e-05, momentum=0.1, affine=True, track_running_stats=True)\n",
            "        )\n",
            "      )\n",
            "      (1): BasicBlock(\n",
            "        (conv1): Conv2d(512, 512, kernel_size=(3, 3), stride=(1, 1), padding=(1, 1), bias=False)\n",
            "        (bn1): BatchNorm2d(512, eps=1e-05, momentum=0.1, affine=True, track_running_stats=True)\n",
            "        (relu): ReLU(inplace=True)\n",
            "        (conv2): Conv2d(512, 512, kernel_size=(3, 3), stride=(1, 1), padding=(1, 1), bias=False)\n",
            "        (bn2): BatchNorm2d(512, eps=1e-05, momentum=0.1, affine=True, track_running_stats=True)\n",
            "      )\n",
            "    )\n",
            "    (avgpool): AdaptiveAvgPool2d(output_size=(1, 1))\n",
            "    (fc): Linear(in_features=512, out_features=20, bias=True)\n",
            "  )\n",
            ")\n"
          ]
        },
        {
          "data": {
            "text/html": [
              "Tracking run with wandb version 0.18.7"
            ],
            "text/plain": [
              "<IPython.core.display.HTML object>"
            ]
          },
          "metadata": {},
          "output_type": "display_data"
        },
        {
          "data": {
            "text/html": [
              "Run data is saved locally in <code>/content/wandb/run-20241218_014205-nus1z4hy</code>"
            ],
            "text/plain": [
              "<IPython.core.display.HTML object>"
            ]
          },
          "metadata": {},
          "output_type": "display_data"
        },
        {
          "data": {
            "text/html": [
              "Syncing run <strong><a href='https://wandb.ai/ovsvc-tu-wien/ADL/runs/nus1z4hy' target=\"_blank\">lemon-field-101</a></strong> to <a href='https://wandb.ai/ovsvc-tu-wien/ADL' target=\"_blank\">Weights & Biases</a> (<a href='https://wandb.me/developer-guide' target=\"_blank\">docs</a>)<br/>"
            ],
            "text/plain": [
              "<IPython.core.display.HTML object>"
            ]
          },
          "metadata": {},
          "output_type": "display_data"
        },
        {
          "data": {
            "text/html": [
              " View project at <a href='https://wandb.ai/ovsvc-tu-wien/ADL' target=\"_blank\">https://wandb.ai/ovsvc-tu-wien/ADL</a>"
            ],
            "text/plain": [
              "<IPython.core.display.HTML object>"
            ]
          },
          "metadata": {},
          "output_type": "display_data"
        },
        {
          "data": {
            "text/html": [
              " View run at <a href='https://wandb.ai/ovsvc-tu-wien/ADL/runs/nus1z4hy' target=\"_blank\">https://wandb.ai/ovsvc-tu-wien/ADL/runs/nus1z4hy</a>"
            ],
            "text/plain": [
              "<IPython.core.display.HTML object>"
            ]
          },
          "metadata": {},
          "output_type": "display_data"
        },
        {
          "name": "stdout",
          "output_type": "stream",
          "text": [
            "Testing the model...\n"
          ]
        },
        {
          "name": "stderr",
          "output_type": "stream",
          "text": [
            "/content/drive/MyDrive/06_TUWien/10_ADL/scripts/run_cnn.py:173: FutureWarning: You are using `torch.load` with `weights_only=False` (the current default value), which uses the default pickle module implicitly. It is possible to construct malicious pickle data which will execute arbitrary code during unpickling (See https://github.com/pytorch/pytorch/blob/main/SECURITY.md#untrusted-models for more details). In a future release, the default value for `weights_only` will be flipped to `True`. This limits the functions that could be executed during unpickling. Arbitrary objects will no longer be allowed to be loaded via this mode unless they are explicitly allowlisted by the user via `torch.serialization.add_safe_globals`. We recommend you start setting `weights_only=True` for any use case where you don't have full control of the loaded file. Please open an issue on GitHub for any issues related to this experimental feature.\n",
            "  trainer.model.load_state_dict(torch.load(Path(config['model_save_dir']) / f\"{config['model_name']}.pth\", map_location=device))\n"
          ]
        },
        {
          "data": {
            "text/html": [
              "Finishing last run (ID:nus1z4hy) before initializing another..."
            ],
            "text/plain": [
              "<IPython.core.display.HTML object>"
            ]
          },
          "metadata": {},
          "output_type": "display_data"
        },
        {
          "data": {
            "text/html": [
              " View run <strong style=\"color:#cdcd00\">lemon-field-101</strong> at: <a href='https://wandb.ai/ovsvc-tu-wien/ADL/runs/nus1z4hy' target=\"_blank\">https://wandb.ai/ovsvc-tu-wien/ADL/runs/nus1z4hy</a><br/> View project at: <a href='https://wandb.ai/ovsvc-tu-wien/ADL' target=\"_blank\">https://wandb.ai/ovsvc-tu-wien/ADL</a><br/>Synced 5 W&B file(s), 0 media file(s), 0 artifact file(s) and 0 other file(s)"
            ],
            "text/plain": [
              "<IPython.core.display.HTML object>"
            ]
          },
          "metadata": {},
          "output_type": "display_data"
        },
        {
          "data": {
            "text/html": [
              "Find logs at: <code>./wandb/run-20241218_014205-nus1z4hy/logs</code>"
            ],
            "text/plain": [
              "<IPython.core.display.HTML object>"
            ]
          },
          "metadata": {},
          "output_type": "display_data"
        },
        {
          "data": {
            "text/html": [
              "Successfully finished last run (ID:nus1z4hy). Initializing new run:<br/>"
            ],
            "text/plain": [
              "<IPython.core.display.HTML object>"
            ]
          },
          "metadata": {},
          "output_type": "display_data"
        },
        {
          "data": {
            "text/html": [
              "Tracking run with wandb version 0.18.7"
            ],
            "text/plain": [
              "<IPython.core.display.HTML object>"
            ]
          },
          "metadata": {},
          "output_type": "display_data"
        },
        {
          "data": {
            "text/html": [
              "Run data is saved locally in <code>/content/wandb/run-20241218_014207-df6521zp</code>"
            ],
            "text/plain": [
              "<IPython.core.display.HTML object>"
            ]
          },
          "metadata": {},
          "output_type": "display_data"
        },
        {
          "data": {
            "text/html": [
              "Syncing run <strong><a href='https://wandb.ai/ovsvc-tu-wien/ADL/runs/df6521zp' target=\"_blank\">zany-meadow-102</a></strong> to <a href='https://wandb.ai/ovsvc-tu-wien/ADL' target=\"_blank\">Weights & Biases</a> (<a href='https://wandb.me/developer-guide' target=\"_blank\">docs</a>)<br/>"
            ],
            "text/plain": [
              "<IPython.core.display.HTML object>"
            ]
          },
          "metadata": {},
          "output_type": "display_data"
        },
        {
          "data": {
            "text/html": [
              " View project at <a href='https://wandb.ai/ovsvc-tu-wien/ADL' target=\"_blank\">https://wandb.ai/ovsvc-tu-wien/ADL</a>"
            ],
            "text/plain": [
              "<IPython.core.display.HTML object>"
            ]
          },
          "metadata": {},
          "output_type": "display_data"
        },
        {
          "data": {
            "text/html": [
              " View run at <a href='https://wandb.ai/ovsvc-tu-wien/ADL/runs/df6521zp' target=\"_blank\">https://wandb.ai/ovsvc-tu-wien/ADL/runs/df6521zp</a>"
            ],
            "text/plain": [
              "<IPython.core.display.HTML object>"
            ]
          },
          "metadata": {},
          "output_type": "display_data"
        },
        {
          "name": "stderr",
          "output_type": "stream",
          "text": [
            "Test: 100%|██████████| 469/469 [02:36<00:00,  3.00it/s]"
          ]
        },
        {
          "name": "stdout",
          "output_type": "stream",
          "text": [
            "Test Metrics: Overall Accuracy: 0.6704\n",
            " Per-Class Accuracy:\n",
            "Accuracy for class human_romanticism: 0.90\n",
            "Accuracy for class AI_expressionism: 0.75\n",
            "Accuracy for class AI_baroque: 0.89\n",
            "Accuracy for class AI_ukiyo-e: 0.68\n",
            "Accuracy for class human_renaissance: 0.70\n",
            "Accuracy for class human_post_impressionism: 0.81\n",
            "Accuracy for class human_realism: 0.81\n",
            "Accuracy for class AI_art_nouveau: 0.75\n",
            "Accuracy for class AI_romanticism: 0.80\n",
            "Accuracy for class AI_renaissance: 0.98\n",
            "Accuracy for class human_expressionism: 0.41\n",
            "Accuracy for class AI_impressionism: 0.52\n",
            "Accuracy for class AI_post_impressionism: 0.25\n",
            "Accuracy for class human_baroque: 0.27\n",
            "Accuracy for class AI_surrealism: 0.35\n",
            "Accuracy for class human_impressionism: 0.17\n",
            "Accuracy for class AI_realism: 0.44\n",
            "Accuracy for class human_surrealism: 0.40\n",
            "Accuracy for class human_art_nouveau: 0.33\n",
            "Accuracy for class human_ukiyo_e: 0.83\n"
          ]
        },
        {
          "name": "stderr",
          "output_type": "stream",
          "text": [
            "\n"
          ]
        }
      ],
      "source": [
        "# Test the model (reuse the trainer)\n",
        "test_loss, test_accuracy, test_per_class_accuracy, all_labels, all_predictions, test_classes = test_model(config, trainer=None)"
      ]
    },
    {
      "cell_type": "code",
      "execution_count": 17,
      "metadata": {
        "colab": {
          "base_uri": "https://localhost:8080/",
          "height": 1000
        },
        "id": "V3W5rkW49KZ-",
        "outputId": "57a08320-7e4f-48a4-b1e4-e12324915951"
      },
      "outputs": [
        {
          "data": {
            "image/png": "[encoded data removed]",
            "text/plain": [
              "<Figure size 1200x1200 with 2 Axes>"
            ]
          },
          "metadata": {},
          "output_type": "display_data"
        },
        {
          "name": "stdout",
          "output_type": "stream",
          "text": [
            "\n",
            "Classification Report:\n",
            "                          precision    recall  f1-score   support\n",
            "\n",
            "       human_romanticism       0.87      0.90      0.88      2000\n",
            "        AI_expressionism       0.81      0.75      0.78      2000\n",
            "              AI_baroque       0.83      0.89      0.86      2000\n",
            "              AI_ukiyo-e       0.74      0.68      0.71      2000\n",
            "       human_renaissance       0.69      0.70      0.69      2000\n",
            "human_post_impressionism       0.69      0.81      0.75      2000\n",
            "           human_realism       0.75      0.81      0.78      2000\n",
            "          AI_art_nouveau       0.80      0.75      0.77      2000\n",
            "          AI_romanticism       0.84      0.80      0.82      2000\n",
            "          AI_renaissance       0.97      0.98      0.98      2000\n",
            "     human_expressionism       0.37      0.41      0.39      1000\n",
            "        AI_impressionism       0.44      0.52      0.48      1000\n",
            "   AI_post_impressionism       0.28      0.25      0.27      1000\n",
            "           human_baroque       0.36      0.27      0.31      1000\n",
            "           AI_surrealism       0.36      0.35      0.36      1000\n",
            "     human_impressionism       0.29      0.17      0.21      1000\n",
            "              AI_realism       0.43      0.44      0.44      1000\n",
            "        human_surrealism       0.29      0.40      0.34      1000\n",
            "       human_art_nouveau       0.43      0.33      0.37      1000\n",
            "           human_ukiyo_e       0.76      0.83      0.79      1000\n",
            "\n",
            "                accuracy                           0.67     30000\n",
            "               macro avg       0.60      0.60      0.60     30000\n",
            "            weighted avg       0.67      0.67      0.67     30000\n",
            "\n",
            "Test Loss: 0.9344\n",
            "Test Accuracy: 0.6704\n",
            "Overall Precision: 0.6655\n",
            "Overall Recall: 0.6704\n",
            "Overall F1-Score: 0.6656\n",
            "Overall Accuracy: 0.6704\n"
          ]
        }
      ],
      "source": [
        "# Analyze test results\n",
        "metrics = analyze_test_results(\n",
        "    test_loss=test_loss,\n",
        "    test_accuracy=test_accuracy,\n",
        "    test_per_class_accuracy=test_per_class_accuracy,\n",
        "    all_labels=all_labels,\n",
        "    all_predictions=all_predictions,\n",
        "    classes=test_classes\n",
        ")"
      ]
    },
    {
      "cell_type": "markdown",
      "metadata": {
        "id": "6RPOLAQf1g6S"
      },
      "source": []
    }
  ],
  "metadata": {
    "accelerator": "GPU",
    "colab": {
      "gpuType": "A100",
      "provenance": []
    },
    "kernelspec": {
      "display_name": "Python 3",
      "name": "python3"
    },
    "language_info": {
      "codemirror_mode": {
        "name": "ipython",
        "version": 3
      },
      "file_extension": ".py",
      "mimetype": "text/x-python",
      "name": "python",
      "nbconvert_exporter": "python",
      "pygments_lexer": "ipython3",
      "version": "3.11.11"
    }
  },
  "nbformat": 4,
  "nbformat_minor": 0
}

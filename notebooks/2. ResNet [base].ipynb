{
  "cells": [
    {
      "cell_type": "markdown",
      "metadata": {
        "id": "dYpvfW_v1g6M"
      },
      "source": [
        "##### Colab"
      ]
    },
    {
      "cell_type": "code",
      "execution_count": 1,
      "metadata": {
        "colab": {
          "base_uri": "https://localhost:8080/"
        },
        "id": "tIsoWB3s1g6O",
        "outputId": "948217dc-219a-4937-8052-f0366673f900"
      },
      "outputs": [
        {
          "name": "stdout",
          "output_type": "stream",
          "text": [
            "Mounted at /content/drive\n"
          ]
        }
      ],
      "source": [
        "# Colab\n",
        "from google.colab import drive\n",
        "drive.mount('/content/drive')"
      ]
    },
    {
      "cell_type": "code",
      "execution_count": 2,
      "metadata": {
        "id": "S4ZttW8H1g6O"
      },
      "outputs": [],
      "source": [
        "! pip install -q kaggle"
      ]
    },
    {
      "cell_type": "code",
      "execution_count": 3,
      "metadata": {
        "id": "vAGLOPYw1g6P"
      },
      "outputs": [],
      "source": [
        "from google.colab import userdata\n",
        "import os\n",
        "\n",
        "os.environ[\"kaggle_key\"] = userdata.get('kaggle_key')\n",
        "os.environ[\"kaggle_username\"] = userdata.get('kaggle_username')"
      ]
    },
    {
      "cell_type": "code",
      "execution_count": null,
      "metadata": {
        "id": "IbZacPMO1g6P"
      },
      "outputs": [],
      "source": [
        "!kaggle datasets download -d ravidussilva/real-ai-art\n",
        "! unzip \"real-ai-art\""
      ]
    },
    {
      "cell_type": "markdown",
      "metadata": {
        "id": "Qs7W5jfh1g6P"
      },
      "source": [
        "##### Local & Colab"
      ]
    },
    {
      "cell_type": "code",
      "execution_count": 5,
      "metadata": {
        "colab": {
          "base_uri": "https://localhost:8080/"
        },
        "id": "5h4oeW0t1g6Q",
        "outputId": "e5db7947-6676-4ac6-c472-4ae0e53fc799"
      },
      "outputs": [
        {
          "name": "stderr",
          "output_type": "stream",
          "text": [
            "\u001b[34m\u001b[1mwandb\u001b[0m: Using wandb-core as the SDK backend.  Please refer to https://wandb.me/wandb-core for more information.\n",
            "\u001b[34m\u001b[1mwandb\u001b[0m: W&B API key is configured. Use \u001b[1m`wandb login --relogin`\u001b[0m to force relogin\n",
            "\u001b[34m\u001b[1mwandb\u001b[0m: \u001b[33mWARNING\u001b[0m If you're specifying your api key in code, ensure this code is not shared publicly.\n",
            "\u001b[34m\u001b[1mwandb\u001b[0m: \u001b[33mWARNING\u001b[0m Consider setting the WANDB_API_KEY environment variable, or running `wandb login` from the command line.\n",
            "\u001b[34m\u001b[1mwandb\u001b[0m: Appending key for api.wandb.ai to your netrc file: /root/.netrc\n"
          ]
        }
      ],
      "source": [
        "#Imports\n",
        "import sys\n",
        "\n",
        "# Load environment variables from .env file\n",
        "from dotenv import load_dotenv\n",
        "load_dotenv()\n",
        "\n",
        "# Get the project root path from environment variables\n",
        "project_root = os.getenv('PROJECT_ROOT_PATH') #OR PROJECT_ROOT_PATH_COLAB FOR COLAB\n",
        "\n",
        "# Check if the environment variable is set correctly\n",
        "if project_root is None:\n",
        "    raise ValueError(\"PROJECT_ROOT_PATH environment variable is not set.\")\n",
        "\n",
        "# Add the project root path to the system path\n",
        "sys.path.append(project_root)\n",
        "\n",
        "from scripts.run_cnn import train_model, test_model\n",
        "\n",
        "from models.resnet18 import ResNet18FineTuned\n",
        "from scripts.evaluation import analyze_test_results\n",
        "import torchvision.transforms as transforms"
      ]
    },
    {
      "cell_type": "code",
      "execution_count": 6,
      "metadata": {
        "id": "3LVdKLqV1g6Q"
      },
      "outputs": [],
      "source": [
        "#dataset_path = \"/Users/viktoriiaovsianik/Documents/Uni/04_WS2024/06_ADL/Code/ADL-WS-2024/data\"\n",
        "dataset_path = \"/content/Real_AI_SD_LD_Dataset\""
      ]
    },
    {
      "cell_type": "markdown",
      "metadata": {
        "id": "SXFF5BDe9KZ8"
      },
      "source": [
        "#### Train & test using transfer learning (ResNet18)"
      ]
    },
    {
      "cell_type": "code",
      "execution_count": 7,
      "metadata": {
        "colab": {
          "base_uri": "https://localhost:8080/",
          "height": 1000
        },
        "id": "iseRFJ6S9KZ9",
        "outputId": "51f8121f-3c1c-49d5-e5ed-1f8f432974b3"
      },
      "outputs": [
        {
          "name": "stderr",
          "output_type": "stream",
          "text": [
            "/usr/local/lib/python3.10/dist-packages/torchvision/models/_utils.py:208: UserWarning: The parameter 'pretrained' is deprecated since 0.13 and may be removed in the future, please use 'weights' instead.\n",
            "  warnings.warn(\n",
            "/usr/local/lib/python3.10/dist-packages/torchvision/models/_utils.py:223: UserWarning: Arguments other than a weight enum or `None` for 'weights' are deprecated since 0.13 and may be removed in the future. The current behavior is equivalent to passing `weights=ResNet18_Weights.IMAGENET1K_V1`. You can also use `weights=ResNet18_Weights.DEFAULT` to get the most up-to-date weights.\n",
            "  warnings.warn(msg)\n",
            "Downloading: \"https://download.pytorch.org/models/resnet18-f37072fd.pth\" to /root/.cache/torch/hub/checkpoints/resnet18-f37072fd.pth\n",
            "100%|██████████| 44.7M/44.7M [00:00<00:00, 160MB/s]\n"
          ]
        },
        {
          "name": "stdout",
          "output_type": "stream",
          "text": [
            "List of parameters that require gradients:\n",
            "layer3.0.conv1.weight\n",
            "layer3.0.bn1.weight\n",
            "layer3.0.bn1.bias\n",
            "layer3.0.conv2.weight\n",
            "layer3.0.bn2.weight\n",
            "layer3.0.bn2.bias\n",
            "layer3.0.downsample.0.weight\n",
            "layer3.0.downsample.1.weight\n",
            "layer3.0.downsample.1.bias\n",
            "layer3.1.conv1.weight\n",
            "layer3.1.bn1.weight\n",
            "layer3.1.bn1.bias\n",
            "layer3.1.conv2.weight\n",
            "layer3.1.bn2.weight\n",
            "layer3.1.bn2.bias\n",
            "layer4.0.conv1.weight\n",
            "layer4.0.bn1.weight\n",
            "layer4.0.bn1.bias\n",
            "layer4.0.conv2.weight\n",
            "layer4.0.bn2.weight\n",
            "layer4.0.bn2.bias\n",
            "layer4.0.downsample.0.weight\n",
            "layer4.0.downsample.1.weight\n",
            "layer4.0.downsample.1.bias\n",
            "layer4.1.conv1.weight\n",
            "layer4.1.bn1.weight\n",
            "layer4.1.bn1.bias\n",
            "layer4.1.conv2.weight\n",
            "layer4.1.bn2.weight\n",
            "layer4.1.bn2.bias\n",
            "fc.weight\n",
            "fc.bias\n",
            "CUDA (GPU) is available.\n",
            "Preprocessing dataset...\n",
            "Train dataset length: 90000\n",
            "Validation dataset length: 10000\n",
            "Test dataset length: 30000\n"
          ]
        },
        {
          "name": "stderr",
          "output_type": "stream",
          "text": [
            "\u001b[34m\u001b[1mwandb\u001b[0m: Currently logged in as: \u001b[33movsvc\u001b[0m (\u001b[33movsvc-tu-wien\u001b[0m). Use \u001b[1m`wandb login --relogin`\u001b[0m to force relogin\n"
          ]
        },
        {
          "name": "stdout",
          "output_type": "stream",
          "text": [
            "Model: ResNet18FineTuned(\n",
            "  (resnet18): ResNet(\n",
            "    (conv1): Conv2d(3, 64, kernel_size=(7, 7), stride=(2, 2), padding=(3, 3), bias=False)\n",
            "    (bn1): BatchNorm2d(64, eps=1e-05, momentum=0.1, affine=True, track_running_stats=True)\n",
            "    (relu): ReLU(inplace=True)\n",
            "    (maxpool): MaxPool2d(kernel_size=3, stride=2, padding=1, dilation=1, ceil_mode=False)\n",
            "    (layer1): Sequential(\n",
            "      (0): BasicBlock(\n",
            "        (conv1): Conv2d(64, 64, kernel_size=(3, 3), stride=(1, 1), padding=(1, 1), bias=False)\n",
            "        (bn1): BatchNorm2d(64, eps=1e-05, momentum=0.1, affine=True, track_running_stats=True)\n",
            "        (relu): ReLU(inplace=True)\n",
            "        (conv2): Conv2d(64, 64, kernel_size=(3, 3), stride=(1, 1), padding=(1, 1), bias=False)\n",
            "        (bn2): BatchNorm2d(64, eps=1e-05, momentum=0.1, affine=True, track_running_stats=True)\n",
            "      )\n",
            "      (1): BasicBlock(\n",
            "        (conv1): Conv2d(64, 64, kernel_size=(3, 3), stride=(1, 1), padding=(1, 1), bias=False)\n",
            "        (bn1): BatchNorm2d(64, eps=1e-05, momentum=0.1, affine=True, track_running_stats=True)\n",
            "        (relu): ReLU(inplace=True)\n",
            "        (conv2): Conv2d(64, 64, kernel_size=(3, 3), stride=(1, 1), padding=(1, 1), bias=False)\n",
            "        (bn2): BatchNorm2d(64, eps=1e-05, momentum=0.1, affine=True, track_running_stats=True)\n",
            "      )\n",
            "    )\n",
            "    (layer2): Sequential(\n",
            "      (0): BasicBlock(\n",
            "        (conv1): Conv2d(64, 128, kernel_size=(3, 3), stride=(2, 2), padding=(1, 1), bias=False)\n",
            "        (bn1): BatchNorm2d(128, eps=1e-05, momentum=0.1, affine=True, track_running_stats=True)\n",
            "        (relu): ReLU(inplace=True)\n",
            "        (conv2): Conv2d(128, 128, kernel_size=(3, 3), stride=(1, 1), padding=(1, 1), bias=False)\n",
            "        (bn2): BatchNorm2d(128, eps=1e-05, momentum=0.1, affine=True, track_running_stats=True)\n",
            "        (downsample): Sequential(\n",
            "          (0): Conv2d(64, 128, kernel_size=(1, 1), stride=(2, 2), bias=False)\n",
            "          (1): BatchNorm2d(128, eps=1e-05, momentum=0.1, affine=True, track_running_stats=True)\n",
            "        )\n",
            "      )\n",
            "      (1): BasicBlock(\n",
            "        (conv1): Conv2d(128, 128, kernel_size=(3, 3), stride=(1, 1), padding=(1, 1), bias=False)\n",
            "        (bn1): BatchNorm2d(128, eps=1e-05, momentum=0.1, affine=True, track_running_stats=True)\n",
            "        (relu): ReLU(inplace=True)\n",
            "        (conv2): Conv2d(128, 128, kernel_size=(3, 3), stride=(1, 1), padding=(1, 1), bias=False)\n",
            "        (bn2): BatchNorm2d(128, eps=1e-05, momentum=0.1, affine=True, track_running_stats=True)\n",
            "      )\n",
            "    )\n",
            "    (layer3): Sequential(\n",
            "      (0): BasicBlock(\n",
            "        (conv1): Conv2d(128, 256, kernel_size=(3, 3), stride=(2, 2), padding=(1, 1), bias=False)\n",
            "        (bn1): BatchNorm2d(256, eps=1e-05, momentum=0.1, affine=True, track_running_stats=True)\n",
            "        (relu): ReLU(inplace=True)\n",
            "        (conv2): Conv2d(256, 256, kernel_size=(3, 3), stride=(1, 1), padding=(1, 1), bias=False)\n",
            "        (bn2): BatchNorm2d(256, eps=1e-05, momentum=0.1, affine=True, track_running_stats=True)\n",
            "        (downsample): Sequential(\n",
            "          (0): Conv2d(128, 256, kernel_size=(1, 1), stride=(2, 2), bias=False)\n",
            "          (1): BatchNorm2d(256, eps=1e-05, momentum=0.1, affine=True, track_running_stats=True)\n",
            "        )\n",
            "      )\n",
            "      (1): BasicBlock(\n",
            "        (conv1): Conv2d(256, 256, kernel_size=(3, 3), stride=(1, 1), padding=(1, 1), bias=False)\n",
            "        (bn1): BatchNorm2d(256, eps=1e-05, momentum=0.1, affine=True, track_running_stats=True)\n",
            "        (relu): ReLU(inplace=True)\n",
            "        (conv2): Conv2d(256, 256, kernel_size=(3, 3), stride=(1, 1), padding=(1, 1), bias=False)\n",
            "        (bn2): BatchNorm2d(256, eps=1e-05, momentum=0.1, affine=True, track_running_stats=True)\n",
            "      )\n",
            "    )\n",
            "    (layer4): Sequential(\n",
            "      (0): BasicBlock(\n",
            "        (conv1): Conv2d(256, 512, kernel_size=(3, 3), stride=(2, 2), padding=(1, 1), bias=False)\n",
            "        (bn1): BatchNorm2d(512, eps=1e-05, momentum=0.1, affine=True, track_running_stats=True)\n",
            "        (relu): ReLU(inplace=True)\n",
            "        (conv2): Conv2d(512, 512, kernel_size=(3, 3), stride=(1, 1), padding=(1, 1), bias=False)\n",
            "        (bn2): BatchNorm2d(512, eps=1e-05, momentum=0.1, affine=True, track_running_stats=True)\n",
            "        (downsample): Sequential(\n",
            "          (0): Conv2d(256, 512, kernel_size=(1, 1), stride=(2, 2), bias=False)\n",
            "          (1): BatchNorm2d(512, eps=1e-05, momentum=0.1, affine=True, track_running_stats=True)\n",
            "        )\n",
            "      )\n",
            "      (1): BasicBlock(\n",
            "        (conv1): Conv2d(512, 512, kernel_size=(3, 3), stride=(1, 1), padding=(1, 1), bias=False)\n",
            "        (bn1): BatchNorm2d(512, eps=1e-05, momentum=0.1, affine=True, track_running_stats=True)\n",
            "        (relu): ReLU(inplace=True)\n",
            "        (conv2): Conv2d(512, 512, kernel_size=(3, 3), stride=(1, 1), padding=(1, 1), bias=False)\n",
            "        (bn2): BatchNorm2d(512, eps=1e-05, momentum=0.1, affine=True, track_running_stats=True)\n",
            "      )\n",
            "    )\n",
            "    (avgpool): AdaptiveAvgPool2d(output_size=(1, 1))\n",
            "    (fc): Linear(in_features=512, out_features=20, bias=True)\n",
            "  )\n",
            ")\n"
          ]
        },
        {
          "data": {
            "text/html": [
              "Tracking run with wandb version 0.18.7"
            ],
            "text/plain": [
              "<IPython.core.display.HTML object>"
            ]
          },
          "metadata": {},
          "output_type": "display_data"
        },
        {
          "data": {
            "text/html": [
              "Run data is saved locally in <code>/content/wandb/run-20241217_212849-vnwh7e6s</code>"
            ],
            "text/plain": [
              "<IPython.core.display.HTML object>"
            ]
          },
          "metadata": {},
          "output_type": "display_data"
        },
        {
          "data": {
            "text/html": [
              "Syncing run <strong><a href='https://wandb.ai/ovsvc-tu-wien/ADL/runs/vnwh7e6s' target=\"_blank\">brisk-glitter-93</a></strong> to <a href='https://wandb.ai/ovsvc-tu-wien/ADL' target=\"_blank\">Weights & Biases</a> (<a href='https://wandb.me/developer-guide' target=\"_blank\">docs</a>)<br/>"
            ],
            "text/plain": [
              "<IPython.core.display.HTML object>"
            ]
          },
          "metadata": {},
          "output_type": "display_data"
        },
        {
          "data": {
            "text/html": [
              " View project at <a href='https://wandb.ai/ovsvc-tu-wien/ADL' target=\"_blank\">https://wandb.ai/ovsvc-tu-wien/ADL</a>"
            ],
            "text/plain": [
              "<IPython.core.display.HTML object>"
            ]
          },
          "metadata": {},
          "output_type": "display_data"
        },
        {
          "data": {
            "text/html": [
              " View run at <a href='https://wandb.ai/ovsvc-tu-wien/ADL/runs/vnwh7e6s' target=\"_blank\">https://wandb.ai/ovsvc-tu-wien/ADL/runs/vnwh7e6s</a>"
            ],
            "text/plain": [
              "<IPython.core.display.HTML object>"
            ]
          },
          "metadata": {},
          "output_type": "display_data"
        },
        {
          "name": "stdout",
          "output_type": "stream",
          "text": [
            "Training with batch size: 64\n",
            "Epoch 0/10:\n",
            "--- Training epoch 0 ---\n"
          ]
        },
        {
          "name": "stderr",
          "output_type": "stream",
          "text": [
            "Train:   0%|          | 1/1407 [00:01<44:12,  1.89s/it]"
          ]
        },
        {
          "name": "stdout",
          "output_type": "stream",
          "text": [
            "Batch 0, Loss: 3.1766231060028076\n"
          ]
        },
        {
          "name": "stderr",
          "output_type": "stream",
          "text": [
            "Train:  36%|███▌      | 501/1407 [02:19<04:38,  3.26it/s]"
          ]
        },
        {
          "name": "stdout",
          "output_type": "stream",
          "text": [
            "Batch 500, Loss: 1.8335208892822266\n"
          ]
        },
        {
          "name": "stderr",
          "output_type": "stream",
          "text": [
            "Train:  71%|███████   | 1001/1407 [04:38<02:02,  3.30it/s]"
          ]
        },
        {
          "name": "stdout",
          "output_type": "stream",
          "text": [
            "Batch 1000, Loss: 1.7043373584747314\n"
          ]
        },
        {
          "name": "stderr",
          "output_type": "stream",
          "text": [
            "Train: 100%|██████████| 1407/1407 [06:30<00:00,  3.61it/s]\n"
          ]
        },
        {
          "name": "stdout",
          "output_type": "stream",
          "text": [
            "Epoch 0 Training Loss: 1.6401598773108588\n",
            "Training Metrics: Overall Accuracy: 0.4543\n",
            " Per-Class Accuracy:\n",
            "Accuracy for class human_baroque: 0.70\n",
            "Accuracy for class AI_surrealism: 0.56\n",
            "Accuracy for class human_art_nouveau: 0.73\n",
            "Accuracy for class human_expressionism: 0.60\n",
            "Accuracy for class human_ukiyo_e: 0.51\n",
            "Accuracy for class AI_renaissance: 0.55\n",
            "Accuracy for class AI_art_nouveau: 0.55\n",
            "Accuracy for class human_realism: 0.60\n",
            "Accuracy for class AI_realism: 0.64\n",
            "Accuracy for class human_post_impressionism: 0.86\n",
            "Accuracy for class human_romanticism: 0.28\n",
            "Accuracy for class AI_expressionism: 0.38\n",
            "Accuracy for class AI_baroque: 0.11\n",
            "Accuracy for class AI_impressionism: 0.22\n",
            "Accuracy for class human_surrealism: 0.20\n",
            "Accuracy for class human_renaissance: 0.16\n",
            "Accuracy for class AI_post_impressionism: 0.33\n",
            "Accuracy for class AI_ukiyo-e: 0.21\n",
            "Accuracy for class human_impressionism: 0.21\n",
            "Accuracy for class AI_romanticism: 0.68\n",
            "--- Validating epoch 0 ---\n"
          ]
        },
        {
          "name": "stderr",
          "output_type": "stream",
          "text": [
            "Evaluate:   1%|          | 1/157 [00:00<00:39,  3.96it/s]"
          ]
        },
        {
          "name": "stdout",
          "output_type": "stream",
          "text": [
            "Batch 0, Validation Loss: 1.3642666339874268\n"
          ]
        },
        {
          "name": "stderr",
          "output_type": "stream",
          "text": [
            "Evaluate: 100%|██████████| 157/157 [00:42<00:00,  3.71it/s]\n"
          ]
        },
        {
          "name": "stdout",
          "output_type": "stream",
          "text": [
            "Epoch 0 Validation Loss: 1.3607643013000488\n",
            "Validation Metrics: Overall Accuracy: 0.5320\n",
            " Per-Class Accuracy:\n",
            "Accuracy for class human_romanticism: 0.82\n",
            "Accuracy for class AI_ukiyo-e: 0.60\n",
            "Accuracy for class AI_romanticism: 0.87\n",
            "Accuracy for class AI_art_nouveau: 0.62\n",
            "Accuracy for class human_surrealism: 0.70\n",
            "Accuracy for class AI_renaissance: 0.65\n",
            "Accuracy for class AI_realism: 0.66\n",
            "Accuracy for class human_ukiyo_e: 0.67\n",
            "Accuracy for class human_art_nouveau: 0.69\n",
            "Accuracy for class AI_post_impressionism: 0.95\n",
            "Accuracy for class human_baroque: 0.32\n",
            "Accuracy for class human_impressionism: 0.56\n",
            "Accuracy for class AI_impressionism: 0.16\n",
            "Accuracy for class human_renaissance: 0.16\n",
            "Accuracy for class human_expressionism: 0.20\n",
            "Accuracy for class human_realism: 0.20\n",
            "Accuracy for class AI_baroque: 0.39\n",
            "Accuracy for class human_post_impressionism: 0.24\n",
            "Accuracy for class AI_surrealism: 0.35\n",
            "Accuracy for class AI_expressionism: 0.83\n",
            "#### Best accuracy 0.532 at epoch 0\n",
            "#### Saving model to saved_models\n",
            "Model saved to saved_models/model_best.pth\n",
            "Epoch 1/10:\n",
            "--- Training epoch 1 ---\n"
          ]
        },
        {
          "name": "stderr",
          "output_type": "stream",
          "text": [
            "Train:   0%|          | 1/1407 [00:00<06:16,  3.73it/s]"
          ]
        },
        {
          "name": "stdout",
          "output_type": "stream",
          "text": [
            "Batch 0, Loss: 1.6676756143569946\n"
          ]
        },
        {
          "name": "stderr",
          "output_type": "stream",
          "text": [
            "Train:  36%|███▌      | 501/1407 [02:19<04:20,  3.47it/s]"
          ]
        },
        {
          "name": "stdout",
          "output_type": "stream",
          "text": [
            "Batch 500, Loss: 1.3005520105361938\n"
          ]
        },
        {
          "name": "stderr",
          "output_type": "stream",
          "text": [
            "Train:  71%|███████   | 1001/1407 [04:38<01:51,  3.66it/s]"
          ]
        },
        {
          "name": "stdout",
          "output_type": "stream",
          "text": [
            "Batch 1000, Loss: 1.3608511686325073\n"
          ]
        },
        {
          "name": "stderr",
          "output_type": "stream",
          "text": [
            "Train: 100%|██████████| 1407/1407 [06:30<00:00,  3.61it/s]\n"
          ]
        },
        {
          "name": "stdout",
          "output_type": "stream",
          "text": [
            "Epoch 1 Training Loss: 1.2935292871899076\n",
            "Training Metrics: Overall Accuracy: 0.5537\n",
            " Per-Class Accuracy:\n",
            "Accuracy for class human_baroque: 0.81\n",
            "Accuracy for class AI_surrealism: 0.70\n",
            "Accuracy for class human_art_nouveau: 0.82\n",
            "Accuracy for class human_expressionism: 0.69\n",
            "Accuracy for class human_ukiyo_e: 0.63\n",
            "Accuracy for class AI_renaissance: 0.67\n",
            "Accuracy for class AI_art_nouveau: 0.70\n",
            "Accuracy for class human_realism: 0.72\n",
            "Accuracy for class AI_realism: 0.76\n",
            "Accuracy for class human_post_impressionism: 0.94\n",
            "Accuracy for class human_romanticism: 0.37\n",
            "Accuracy for class AI_expressionism: 0.45\n",
            "Accuracy for class AI_baroque: 0.17\n",
            "Accuracy for class AI_impressionism: 0.29\n",
            "Accuracy for class human_surrealism: 0.28\n",
            "Accuracy for class human_renaissance: 0.22\n",
            "Accuracy for class AI_post_impressionism: 0.45\n",
            "Accuracy for class AI_ukiyo-e: 0.26\n",
            "Accuracy for class human_impressionism: 0.33\n",
            "Accuracy for class AI_romanticism: 0.81\n",
            "--- Validating epoch 1 ---\n"
          ]
        },
        {
          "name": "stderr",
          "output_type": "stream",
          "text": [
            "Evaluate:   1%|          | 1/157 [00:00<00:38,  4.07it/s]"
          ]
        },
        {
          "name": "stdout",
          "output_type": "stream",
          "text": [
            "Batch 0, Validation Loss: 1.1983059644699097\n"
          ]
        },
        {
          "name": "stderr",
          "output_type": "stream",
          "text": [
            "Evaluate: 100%|██████████| 157/157 [00:42<00:00,  3.67it/s]\n"
          ]
        },
        {
          "name": "stdout",
          "output_type": "stream",
          "text": [
            "Epoch 1 Validation Loss: 1.277968298149109\n",
            "Validation Metrics: Overall Accuracy: 0.5574\n",
            " Per-Class Accuracy:\n",
            "Accuracy for class human_romanticism: 0.79\n",
            "Accuracy for class AI_ukiyo-e: 0.77\n",
            "Accuracy for class AI_romanticism: 0.79\n",
            "Accuracy for class AI_art_nouveau: 0.68\n",
            "Accuracy for class human_surrealism: 0.66\n",
            "Accuracy for class AI_renaissance: 0.68\n",
            "Accuracy for class AI_realism: 0.71\n",
            "Accuracy for class human_ukiyo_e: 0.73\n",
            "Accuracy for class human_art_nouveau: 0.76\n",
            "Accuracy for class AI_post_impressionism: 0.97\n",
            "Accuracy for class human_baroque: 0.28\n",
            "Accuracy for class human_impressionism: 0.57\n",
            "Accuracy for class AI_impressionism: 0.15\n",
            "Accuracy for class human_renaissance: 0.45\n",
            "Accuracy for class human_expressionism: 0.24\n",
            "Accuracy for class human_realism: 0.15\n",
            "Accuracy for class AI_baroque: 0.38\n",
            "Accuracy for class human_post_impressionism: 0.22\n",
            "Accuracy for class AI_surrealism: 0.33\n",
            "Accuracy for class AI_expressionism: 0.84\n",
            "#### Best accuracy 0.5574 at epoch 1\n",
            "#### Saving model to saved_models\n",
            "Model saved to saved_models/model_best.pth\n",
            "Epoch 2/10:\n",
            "--- Training epoch 2 ---\n"
          ]
        },
        {
          "name": "stderr",
          "output_type": "stream",
          "text": [
            "Train:   0%|          | 1/1407 [00:00<07:12,  3.25it/s]"
          ]
        },
        {
          "name": "stdout",
          "output_type": "stream",
          "text": [
            "Batch 0, Loss: 0.9963674545288086\n"
          ]
        },
        {
          "name": "stderr",
          "output_type": "stream",
          "text": [
            "Train:  36%|███▌      | 501/1407 [02:18<04:22,  3.45it/s]"
          ]
        },
        {
          "name": "stdout",
          "output_type": "stream",
          "text": [
            "Batch 500, Loss: 1.1672022342681885\n"
          ]
        },
        {
          "name": "stderr",
          "output_type": "stream",
          "text": [
            "Train:  71%|███████   | 1001/1407 [04:35<01:51,  3.63it/s]"
          ]
        },
        {
          "name": "stdout",
          "output_type": "stream",
          "text": [
            "Batch 1000, Loss: 1.1578078269958496\n"
          ]
        },
        {
          "name": "stderr",
          "output_type": "stream",
          "text": [
            "Train: 100%|██████████| 1407/1407 [06:27<00:00,  3.63it/s]\n"
          ]
        },
        {
          "name": "stdout",
          "output_type": "stream",
          "text": [
            "Epoch 2 Training Loss: 1.1651174043019612\n",
            "Training Metrics: Overall Accuracy: 0.5940\n",
            " Per-Class Accuracy:\n",
            "Accuracy for class human_baroque: 0.84\n",
            "Accuracy for class AI_surrealism: 0.75\n",
            "Accuracy for class human_art_nouveau: 0.85\n",
            "Accuracy for class human_expressionism: 0.72\n",
            "Accuracy for class human_ukiyo_e: 0.67\n",
            "Accuracy for class AI_renaissance: 0.72\n",
            "Accuracy for class AI_art_nouveau: 0.75\n",
            "Accuracy for class human_realism: 0.76\n",
            "Accuracy for class AI_realism: 0.80\n",
            "Accuracy for class human_post_impressionism: 0.95\n",
            "Accuracy for class human_romanticism: 0.40\n",
            "Accuracy for class AI_expressionism: 0.50\n",
            "Accuracy for class AI_baroque: 0.23\n",
            "Accuracy for class AI_impressionism: 0.32\n",
            "Accuracy for class human_surrealism: 0.32\n",
            "Accuracy for class human_renaissance: 0.25\n",
            "Accuracy for class AI_post_impressionism: 0.50\n",
            "Accuracy for class AI_ukiyo-e: 0.30\n",
            "Accuracy for class human_impressionism: 0.39\n",
            "Accuracy for class AI_romanticism: 0.85\n",
            "--- Validating epoch 2 ---\n"
          ]
        },
        {
          "name": "stderr",
          "output_type": "stream",
          "text": [
            "Evaluate:   1%|          | 1/157 [00:00<00:37,  4.11it/s]"
          ]
        },
        {
          "name": "stdout",
          "output_type": "stream",
          "text": [
            "Batch 0, Validation Loss: 1.1784257888793945\n"
          ]
        },
        {
          "name": "stderr",
          "output_type": "stream",
          "text": [
            "Evaluate: 100%|██████████| 157/157 [00:42<00:00,  3.70it/s]\n"
          ]
        },
        {
          "name": "stdout",
          "output_type": "stream",
          "text": [
            "Epoch 2 Validation Loss: 1.259096495628357\n",
            "Validation Metrics: Overall Accuracy: 0.5719\n",
            " Per-Class Accuracy:\n",
            "Accuracy for class human_romanticism: 0.83\n",
            "Accuracy for class AI_ukiyo-e: 0.76\n",
            "Accuracy for class AI_romanticism: 0.83\n",
            "Accuracy for class AI_art_nouveau: 0.68\n",
            "Accuracy for class human_surrealism: 0.69\n",
            "Accuracy for class AI_renaissance: 0.70\n",
            "Accuracy for class AI_realism: 0.72\n",
            "Accuracy for class human_ukiyo_e: 0.69\n",
            "Accuracy for class human_art_nouveau: 0.76\n",
            "Accuracy for class AI_post_impressionism: 0.95\n",
            "Accuracy for class human_baroque: 0.36\n",
            "Accuracy for class human_impressionism: 0.51\n",
            "Accuracy for class AI_impressionism: 0.18\n",
            "Accuracy for class human_renaissance: 0.37\n",
            "Accuracy for class human_expressionism: 0.19\n",
            "Accuracy for class human_realism: 0.33\n",
            "Accuracy for class AI_baroque: 0.35\n",
            "Accuracy for class human_post_impressionism: 0.28\n",
            "Accuracy for class AI_surrealism: 0.43\n",
            "Accuracy for class AI_expressionism: 0.83\n",
            "#### Best accuracy 0.5719 at epoch 2\n",
            "#### Saving model to saved_models\n",
            "Model saved to saved_models/model_best.pth\n",
            "Epoch 3/10:\n",
            "--- Training epoch 3 ---\n"
          ]
        },
        {
          "name": "stderr",
          "output_type": "stream",
          "text": [
            "Train:   0%|          | 1/1407 [00:00<06:49,  3.44it/s]"
          ]
        },
        {
          "name": "stdout",
          "output_type": "stream",
          "text": [
            "Batch 0, Loss: 1.1394933462142944\n"
          ]
        },
        {
          "name": "stderr",
          "output_type": "stream",
          "text": [
            "Train:  36%|███▌      | 501/1407 [02:18<03:56,  3.83it/s]"
          ]
        },
        {
          "name": "stdout",
          "output_type": "stream",
          "text": [
            "Batch 500, Loss: 0.9974042177200317\n"
          ]
        },
        {
          "name": "stderr",
          "output_type": "stream",
          "text": [
            "Train:  71%|███████   | 1001/1407 [04:35<01:48,  3.73it/s]"
          ]
        },
        {
          "name": "stdout",
          "output_type": "stream",
          "text": [
            "Batch 1000, Loss: 0.861339807510376\n"
          ]
        },
        {
          "name": "stderr",
          "output_type": "stream",
          "text": [
            "Train: 100%|██████████| 1407/1407 [06:26<00:00,  3.64it/s]\n"
          ]
        },
        {
          "name": "stdout",
          "output_type": "stream",
          "text": [
            "Epoch 3 Training Loss: 1.06909786851671\n",
            "Training Metrics: Overall Accuracy: 0.6251\n",
            " Per-Class Accuracy:\n",
            "Accuracy for class human_baroque: 0.86\n",
            "Accuracy for class AI_surrealism: 0.78\n",
            "Accuracy for class human_art_nouveau: 0.86\n",
            "Accuracy for class human_expressionism: 0.74\n",
            "Accuracy for class human_ukiyo_e: 0.70\n",
            "Accuracy for class AI_renaissance: 0.76\n",
            "Accuracy for class AI_art_nouveau: 0.79\n",
            "Accuracy for class human_realism: 0.80\n",
            "Accuracy for class AI_realism: 0.83\n",
            "Accuracy for class human_post_impressionism: 0.96\n",
            "Accuracy for class human_romanticism: 0.42\n",
            "Accuracy for class AI_expressionism: 0.53\n",
            "Accuracy for class AI_baroque: 0.27\n",
            "Accuracy for class AI_impressionism: 0.35\n",
            "Accuracy for class human_surrealism: 0.36\n",
            "Accuracy for class human_renaissance: 0.28\n",
            "Accuracy for class AI_post_impressionism: 0.55\n",
            "Accuracy for class AI_ukiyo-e: 0.34\n",
            "Accuracy for class human_impressionism: 0.44\n",
            "Accuracy for class AI_romanticism: 0.87\n",
            "--- Validating epoch 3 ---\n"
          ]
        },
        {
          "name": "stderr",
          "output_type": "stream",
          "text": [
            "Evaluate:   1%|          | 1/157 [00:00<00:52,  2.95it/s]"
          ]
        },
        {
          "name": "stdout",
          "output_type": "stream",
          "text": [
            "Batch 0, Validation Loss: 1.096641182899475\n"
          ]
        },
        {
          "name": "stderr",
          "output_type": "stream",
          "text": [
            "Evaluate: 100%|██████████| 157/157 [00:42<00:00,  3.70it/s]\n"
          ]
        },
        {
          "name": "stdout",
          "output_type": "stream",
          "text": [
            "Epoch 3 Validation Loss: 1.270408776473999\n",
            "Validation Metrics: Overall Accuracy: 0.5641\n",
            " Per-Class Accuracy:\n",
            "Accuracy for class human_romanticism: 0.82\n",
            "Accuracy for class AI_ukiyo-e: 0.64\n",
            "Accuracy for class AI_romanticism: 0.82\n",
            "Accuracy for class AI_art_nouveau: 0.64\n",
            "Accuracy for class human_surrealism: 0.66\n",
            "Accuracy for class AI_renaissance: 0.72\n",
            "Accuracy for class AI_realism: 0.77\n",
            "Accuracy for class human_ukiyo_e: 0.68\n",
            "Accuracy for class human_art_nouveau: 0.76\n",
            "Accuracy for class AI_post_impressionism: 0.94\n",
            "Accuracy for class human_baroque: 0.35\n",
            "Accuracy for class human_impressionism: 0.56\n",
            "Accuracy for class AI_impressionism: 0.28\n",
            "Accuracy for class human_renaissance: 0.35\n",
            "Accuracy for class human_expressionism: 0.24\n",
            "Accuracy for class human_realism: 0.16\n",
            "Accuracy for class AI_baroque: 0.43\n",
            "Accuracy for class human_post_impressionism: 0.31\n",
            "Accuracy for class AI_surrealism: 0.30\n",
            "Accuracy for class AI_expressionism: 0.86\n",
            "Early stopping counter: 1/3\n",
            "Epoch 4/10:\n",
            "--- Training epoch 4 ---\n"
          ]
        },
        {
          "name": "stderr",
          "output_type": "stream",
          "text": [
            "Train:   0%|          | 1/1407 [00:00<07:09,  3.28it/s]"
          ]
        },
        {
          "name": "stdout",
          "output_type": "stream",
          "text": [
            "Batch 0, Loss: 0.9756830930709839\n"
          ]
        },
        {
          "name": "stderr",
          "output_type": "stream",
          "text": [
            "Train:  36%|███▌      | 501/1407 [02:19<04:18,  3.50it/s]"
          ]
        },
        {
          "name": "stdout",
          "output_type": "stream",
          "text": [
            "Batch 500, Loss: 0.8458916544914246\n"
          ]
        },
        {
          "name": "stderr",
          "output_type": "stream",
          "text": [
            "Train:  71%|███████   | 1001/1407 [04:35<01:49,  3.70it/s]"
          ]
        },
        {
          "name": "stdout",
          "output_type": "stream",
          "text": [
            "Batch 1000, Loss: 1.049536108970642\n"
          ]
        },
        {
          "name": "stderr",
          "output_type": "stream",
          "text": [
            "Train: 100%|██████████| 1407/1407 [06:26<00:00,  3.64it/s]\n"
          ]
        },
        {
          "name": "stdout",
          "output_type": "stream",
          "text": [
            "Epoch 4 Training Loss: 0.9775705079290602\n",
            "Training Metrics: Overall Accuracy: 0.6566\n",
            " Per-Class Accuracy:\n",
            "Accuracy for class human_baroque: 0.89\n",
            "Accuracy for class AI_surrealism: 0.80\n",
            "Accuracy for class human_art_nouveau: 0.89\n",
            "Accuracy for class human_expressionism: 0.77\n",
            "Accuracy for class human_ukiyo_e: 0.73\n",
            "Accuracy for class AI_renaissance: 0.80\n",
            "Accuracy for class AI_art_nouveau: 0.82\n",
            "Accuracy for class human_realism: 0.82\n",
            "Accuracy for class AI_realism: 0.86\n",
            "Accuracy for class human_post_impressionism: 0.97\n",
            "Accuracy for class human_romanticism: 0.47\n",
            "Accuracy for class AI_expressionism: 0.58\n",
            "Accuracy for class AI_baroque: 0.32\n",
            "Accuracy for class AI_impressionism: 0.38\n",
            "Accuracy for class human_surrealism: 0.40\n",
            "Accuracy for class human_renaissance: 0.32\n",
            "Accuracy for class AI_post_impressionism: 0.59\n",
            "Accuracy for class AI_ukiyo-e: 0.37\n",
            "Accuracy for class human_impressionism: 0.48\n",
            "Accuracy for class AI_romanticism: 0.90\n",
            "--- Validating epoch 4 ---\n"
          ]
        },
        {
          "name": "stderr",
          "output_type": "stream",
          "text": [
            "Evaluate:   1%|          | 1/157 [00:00<00:40,  3.85it/s]"
          ]
        },
        {
          "name": "stdout",
          "output_type": "stream",
          "text": [
            "Batch 0, Validation Loss: 1.2104582786560059\n"
          ]
        },
        {
          "name": "stderr",
          "output_type": "stream",
          "text": [
            "Evaluate: 100%|██████████| 157/157 [00:42<00:00,  3.66it/s]\n"
          ]
        },
        {
          "name": "stdout",
          "output_type": "stream",
          "text": [
            "Epoch 4 Validation Loss: 1.2851428586959839\n",
            "Validation Metrics: Overall Accuracy: 0.5691\n",
            " Per-Class Accuracy:\n",
            "Accuracy for class human_romanticism: 0.79\n",
            "Accuracy for class AI_ukiyo-e: 0.81\n",
            "Accuracy for class AI_romanticism: 0.79\n",
            "Accuracy for class AI_art_nouveau: 0.61\n",
            "Accuracy for class human_surrealism: 0.73\n",
            "Accuracy for class AI_renaissance: 0.69\n",
            "Accuracy for class AI_realism: 0.76\n",
            "Accuracy for class human_ukiyo_e: 0.66\n",
            "Accuracy for class human_art_nouveau: 0.76\n",
            "Accuracy for class AI_post_impressionism: 0.96\n",
            "Accuracy for class human_baroque: 0.31\n",
            "Accuracy for class human_impressionism: 0.54\n",
            "Accuracy for class AI_impressionism: 0.25\n",
            "Accuracy for class human_renaissance: 0.26\n",
            "Accuracy for class human_expressionism: 0.32\n",
            "Accuracy for class human_realism: 0.26\n",
            "Accuracy for class AI_baroque: 0.42\n",
            "Accuracy for class human_post_impressionism: 0.25\n",
            "Accuracy for class AI_surrealism: 0.38\n",
            "Accuracy for class AI_expressionism: 0.83\n",
            "Early stopping counter: 2/3\n",
            "Epoch 5/10:\n",
            "--- Training epoch 5 ---\n"
          ]
        },
        {
          "name": "stderr",
          "output_type": "stream",
          "text": [
            "Train:   0%|          | 1/1407 [00:00<06:38,  3.53it/s]"
          ]
        },
        {
          "name": "stdout",
          "output_type": "stream",
          "text": [
            "Batch 0, Loss: 0.8380401134490967\n"
          ]
        },
        {
          "name": "stderr",
          "output_type": "stream",
          "text": [
            "Train:  36%|███▌      | 501/1407 [02:18<04:03,  3.72it/s]"
          ]
        },
        {
          "name": "stdout",
          "output_type": "stream",
          "text": [
            "Batch 500, Loss: 0.8743164539337158\n"
          ]
        },
        {
          "name": "stderr",
          "output_type": "stream",
          "text": [
            "Train:  71%|███████   | 1001/1407 [04:36<01:49,  3.71it/s]"
          ]
        },
        {
          "name": "stdout",
          "output_type": "stream",
          "text": [
            "Batch 1000, Loss: 0.9679166078567505\n"
          ]
        },
        {
          "name": "stderr",
          "output_type": "stream",
          "text": [
            "Train: 100%|██████████| 1407/1407 [06:28<00:00,  3.62it/s]\n"
          ]
        },
        {
          "name": "stdout",
          "output_type": "stream",
          "text": [
            "Epoch 5 Training Loss: 0.8993878848393758\n",
            "Training Metrics: Overall Accuracy: 0.6842\n",
            " Per-Class Accuracy:\n",
            "Accuracy for class human_baroque: 0.89\n",
            "Accuracy for class AI_surrealism: 0.83\n",
            "Accuracy for class human_art_nouveau: 0.89\n",
            "Accuracy for class human_expressionism: 0.80\n",
            "Accuracy for class human_ukiyo_e: 0.76\n",
            "Accuracy for class AI_renaissance: 0.82\n",
            "Accuracy for class AI_art_nouveau: 0.83\n",
            "Accuracy for class human_realism: 0.85\n",
            "Accuracy for class AI_realism: 0.88\n",
            "Accuracy for class human_post_impressionism: 0.97\n",
            "Accuracy for class human_romanticism: 0.51\n",
            "Accuracy for class AI_expressionism: 0.62\n",
            "Accuracy for class AI_baroque: 0.38\n",
            "Accuracy for class AI_impressionism: 0.41\n",
            "Accuracy for class human_surrealism: 0.43\n",
            "Accuracy for class human_renaissance: 0.37\n",
            "Accuracy for class AI_post_impressionism: 0.61\n",
            "Accuracy for class AI_ukiyo-e: 0.40\n",
            "Accuracy for class human_impressionism: 0.54\n",
            "Accuracy for class AI_romanticism: 0.90\n",
            "--- Validating epoch 5 ---\n"
          ]
        },
        {
          "name": "stderr",
          "output_type": "stream",
          "text": [
            "Evaluate:   1%|          | 1/157 [00:00<00:38,  4.08it/s]"
          ]
        },
        {
          "name": "stdout",
          "output_type": "stream",
          "text": [
            "Batch 0, Validation Loss: 1.1490060091018677\n"
          ]
        },
        {
          "name": "stderr",
          "output_type": "stream",
          "text": [
            "Evaluate: 100%|██████████| 157/157 [00:43<00:00,  3.64it/s]\n"
          ]
        },
        {
          "name": "stdout",
          "output_type": "stream",
          "text": [
            "Epoch 5 Validation Loss: 1.3034244819641114\n",
            "Validation Metrics: Overall Accuracy: 0.5739\n",
            " Per-Class Accuracy:\n",
            "Accuracy for class human_romanticism: 0.86\n",
            "Accuracy for class AI_ukiyo-e: 0.71\n",
            "Accuracy for class AI_romanticism: 0.87\n",
            "Accuracy for class AI_art_nouveau: 0.58\n",
            "Accuracy for class human_surrealism: 0.71\n",
            "Accuracy for class AI_renaissance: 0.69\n",
            "Accuracy for class AI_realism: 0.74\n",
            "Accuracy for class human_ukiyo_e: 0.71\n",
            "Accuracy for class human_art_nouveau: 0.77\n",
            "Accuracy for class AI_post_impressionism: 0.97\n",
            "Accuracy for class human_baroque: 0.26\n",
            "Accuracy for class human_impressionism: 0.51\n",
            "Accuracy for class AI_impressionism: 0.20\n",
            "Accuracy for class human_renaissance: 0.39\n",
            "Accuracy for class human_expressionism: 0.28\n",
            "Accuracy for class human_realism: 0.16\n",
            "Accuracy for class AI_baroque: 0.50\n",
            "Accuracy for class human_post_impressionism: 0.34\n",
            "Accuracy for class AI_surrealism: 0.37\n",
            "Accuracy for class AI_expressionism: 0.85\n",
            "Early stopping counter: 3/3\n",
            "Early stopping triggered.\n"
          ]
        },
        {
          "data": {
            "text/html": [
              "\n",
              "    <style>\n",
              "        .wandb-row {\n",
              "            display: flex;\n",
              "            flex-direction: row;\n",
              "            flex-wrap: wrap;\n",
              "            justify-content: flex-start;\n",
              "            width: 100%;\n",
              "        }\n",
              "        .wandb-col {\n",
              "            display: flex;\n",
              "            flex-direction: column;\n",
              "            flex-basis: 100%;\n",
              "            flex: 1;\n",
              "            padding: 10px;\n",
              "        }\n",
              "    </style>\n",
              "<div class=\"wandb-row\"><div class=\"wandb-col\"><h3>Run history:</h3><br/><table class=\"wandb\"><tr><td>epoch</td><td>▁▃▅▆█</td></tr><tr><td>train/acc</td><td>▁▄▆▇█</td></tr><tr><td>train/loss</td><td>█▄▃▂▁</td></tr><tr><td>val/acc</td><td>▁▅█▇█</td></tr><tr><td>val/loss</td><td>█▂▁▂▃</td></tr></table><br/></div><div class=\"wandb-col\"><h3>Run summary:</h3><br/><table class=\"wandb\"><tr><td>epoch</td><td>4</td></tr><tr><td>train/acc</td><td>0.65657</td></tr><tr><td>train/loss</td><td>0.97757</td></tr><tr><td>val/acc</td><td>0.5691</td></tr><tr><td>val/loss</td><td>1.28514</td></tr></table><br/></div></div>"
            ],
            "text/plain": [
              "<IPython.core.display.HTML object>"
            ]
          },
          "metadata": {},
          "output_type": "display_data"
        },
        {
          "data": {
            "text/html": [
              " View run <strong style=\"color:#cdcd00\">brisk-glitter-93</strong> at: <a href='https://wandb.ai/ovsvc-tu-wien/ADL/runs/vnwh7e6s' target=\"_blank\">https://wandb.ai/ovsvc-tu-wien/ADL/runs/vnwh7e6s</a><br/> View project at: <a href='https://wandb.ai/ovsvc-tu-wien/ADL' target=\"_blank\">https://wandb.ai/ovsvc-tu-wien/ADL</a><br/>Synced 5 W&B file(s), 0 media file(s), 0 artifact file(s) and 0 other file(s)"
            ],
            "text/plain": [
              "<IPython.core.display.HTML object>"
            ]
          },
          "metadata": {},
          "output_type": "display_data"
        },
        {
          "data": {
            "text/html": [
              "Find logs at: <code>./wandb/run-20241217_212849-vnwh7e6s/logs</code>"
            ],
            "text/plain": [
              "<IPython.core.display.HTML object>"
            ]
          },
          "metadata": {},
          "output_type": "display_data"
        }
      ],
      "source": [
        "train_transform = transforms.Compose([\n",
        "        transforms.Resize(size=(32, 32)),\n",
        "        transforms.ToTensor(),\n",
        "        transforms.Normalize(mean=[0.485, 0.456, 0.406], std=[0.229, 0.224, 0.225])\n",
        "    ])\n",
        "\n",
        "val_transform = transforms.Compose([\n",
        "        transforms.Resize(size=(32, 32)),\n",
        "        transforms.ToTensor(),\n",
        "        transforms.Normalize(mean=[0.485, 0.456, 0.406], std=[0.229, 0.224, 0.225])\n",
        "    ])\n",
        "\n",
        "test_transform = transforms.Compose([\n",
        "        transforms.Resize(size=(32, 32)),\n",
        "        transforms.ToTensor(),\n",
        "        transforms.Normalize(mean=[0.485, 0.456, 0.406], std=[0.229, 0.224, 0.225])\n",
        "    ])\n",
        "#freeze_layers=True & freeze_layers = ['conv1', 'bn1', 'layer1', 'layer2'] - what layers need to be frozen\n",
        "#freeze_layers=False - do not freeze any layers\n",
        "#freeze_layers=True - freeze all layers except for the last one\n",
        "freeze_layers = ['conv1', 'bn1', 'layer1', 'layer2']\n",
        "# Config for training and testing\n",
        "config = {\n",
        "    'model': ResNet18FineTuned(freeze_layers=True, specific_layers_to_freeze=freeze_layers),\n",
        "    'dataset_path': dataset_path,\n",
        "    'model_save_dir': 'saved_models',\n",
        "    'results_save_dir': 'saved_results',\n",
        "    'train_transform': train_transform,\n",
        "    'val_transform': val_transform,\n",
        "    'test_transform': test_transform,\n",
        "    'batch_size': 64,\n",
        "    'learning_rate': 0.001,\n",
        "    'scheduler_gamma': 0.9,\n",
        "    'epochs': 10,\n",
        "    'fraction': 1,\n",
        "    'val_frequency': 1,\n",
        "    'debug_mode': True,\n",
        "    'patience': 3,\n",
        "    'model_name': \"ResNet18\"\n",
        "}\n",
        "\n",
        "# Train the model\n",
        "\n",
        "trainer_resnet = train_model(config)"
      ]
    },
    {
      "cell_type": "code",
      "execution_count": 8,
      "metadata": {
        "colab": {
          "base_uri": "https://localhost:8080/",
          "height": 1000
        },
        "id": "2rWJzPXF9KZ-",
        "outputId": "d6a63203-7d30-4c8c-bf7b-684771592e82"
      },
      "outputs": [
        {
          "name": "stdout",
          "output_type": "stream",
          "text": [
            "CUDA (GPU) is available.\n",
            "Preprocessing dataset...\n",
            "Train dataset length: 90000\n",
            "Validation dataset length: 10000\n",
            "Test dataset length: 30000\n",
            "Model: ResNet18FineTuned(\n",
            "  (resnet18): ResNet(\n",
            "    (conv1): Conv2d(3, 64, kernel_size=(7, 7), stride=(2, 2), padding=(3, 3), bias=False)\n",
            "    (bn1): BatchNorm2d(64, eps=1e-05, momentum=0.1, affine=True, track_running_stats=True)\n",
            "    (relu): ReLU(inplace=True)\n",
            "    (maxpool): MaxPool2d(kernel_size=3, stride=2, padding=1, dilation=1, ceil_mode=False)\n",
            "    (layer1): Sequential(\n",
            "      (0): BasicBlock(\n",
            "        (conv1): Conv2d(64, 64, kernel_size=(3, 3), stride=(1, 1), padding=(1, 1), bias=False)\n",
            "        (bn1): BatchNorm2d(64, eps=1e-05, momentum=0.1, affine=True, track_running_stats=True)\n",
            "        (relu): ReLU(inplace=True)\n",
            "        (conv2): Conv2d(64, 64, kernel_size=(3, 3), stride=(1, 1), padding=(1, 1), bias=False)\n",
            "        (bn2): BatchNorm2d(64, eps=1e-05, momentum=0.1, affine=True, track_running_stats=True)\n",
            "      )\n",
            "      (1): BasicBlock(\n",
            "        (conv1): Conv2d(64, 64, kernel_size=(3, 3), stride=(1, 1), padding=(1, 1), bias=False)\n",
            "        (bn1): BatchNorm2d(64, eps=1e-05, momentum=0.1, affine=True, track_running_stats=True)\n",
            "        (relu): ReLU(inplace=True)\n",
            "        (conv2): Conv2d(64, 64, kernel_size=(3, 3), stride=(1, 1), padding=(1, 1), bias=False)\n",
            "        (bn2): BatchNorm2d(64, eps=1e-05, momentum=0.1, affine=True, track_running_stats=True)\n",
            "      )\n",
            "    )\n",
            "    (layer2): Sequential(\n",
            "      (0): BasicBlock(\n",
            "        (conv1): Conv2d(64, 128, kernel_size=(3, 3), stride=(2, 2), padding=(1, 1), bias=False)\n",
            "        (bn1): BatchNorm2d(128, eps=1e-05, momentum=0.1, affine=True, track_running_stats=True)\n",
            "        (relu): ReLU(inplace=True)\n",
            "        (conv2): Conv2d(128, 128, kernel_size=(3, 3), stride=(1, 1), padding=(1, 1), bias=False)\n",
            "        (bn2): BatchNorm2d(128, eps=1e-05, momentum=0.1, affine=True, track_running_stats=True)\n",
            "        (downsample): Sequential(\n",
            "          (0): Conv2d(64, 128, kernel_size=(1, 1), stride=(2, 2), bias=False)\n",
            "          (1): BatchNorm2d(128, eps=1e-05, momentum=0.1, affine=True, track_running_stats=True)\n",
            "        )\n",
            "      )\n",
            "      (1): BasicBlock(\n",
            "        (conv1): Conv2d(128, 128, kernel_size=(3, 3), stride=(1, 1), padding=(1, 1), bias=False)\n",
            "        (bn1): BatchNorm2d(128, eps=1e-05, momentum=0.1, affine=True, track_running_stats=True)\n",
            "        (relu): ReLU(inplace=True)\n",
            "        (conv2): Conv2d(128, 128, kernel_size=(3, 3), stride=(1, 1), padding=(1, 1), bias=False)\n",
            "        (bn2): BatchNorm2d(128, eps=1e-05, momentum=0.1, affine=True, track_running_stats=True)\n",
            "      )\n",
            "    )\n",
            "    (layer3): Sequential(\n",
            "      (0): BasicBlock(\n",
            "        (conv1): Conv2d(128, 256, kernel_size=(3, 3), stride=(2, 2), padding=(1, 1), bias=False)\n",
            "        (bn1): BatchNorm2d(256, eps=1e-05, momentum=0.1, affine=True, track_running_stats=True)\n",
            "        (relu): ReLU(inplace=True)\n",
            "        (conv2): Conv2d(256, 256, kernel_size=(3, 3), stride=(1, 1), padding=(1, 1), bias=False)\n",
            "        (bn2): BatchNorm2d(256, eps=1e-05, momentum=0.1, affine=True, track_running_stats=True)\n",
            "        (downsample): Sequential(\n",
            "          (0): Conv2d(128, 256, kernel_size=(1, 1), stride=(2, 2), bias=False)\n",
            "          (1): BatchNorm2d(256, eps=1e-05, momentum=0.1, affine=True, track_running_stats=True)\n",
            "        )\n",
            "      )\n",
            "      (1): BasicBlock(\n",
            "        (conv1): Conv2d(256, 256, kernel_size=(3, 3), stride=(1, 1), padding=(1, 1), bias=False)\n",
            "        (bn1): BatchNorm2d(256, eps=1e-05, momentum=0.1, affine=True, track_running_stats=True)\n",
            "        (relu): ReLU(inplace=True)\n",
            "        (conv2): Conv2d(256, 256, kernel_size=(3, 3), stride=(1, 1), padding=(1, 1), bias=False)\n",
            "        (bn2): BatchNorm2d(256, eps=1e-05, momentum=0.1, affine=True, track_running_stats=True)\n",
            "      )\n",
            "    )\n",
            "    (layer4): Sequential(\n",
            "      (0): BasicBlock(\n",
            "        (conv1): Conv2d(256, 512, kernel_size=(3, 3), stride=(2, 2), padding=(1, 1), bias=False)\n",
            "        (bn1): BatchNorm2d(512, eps=1e-05, momentum=0.1, affine=True, track_running_stats=True)\n",
            "        (relu): ReLU(inplace=True)\n",
            "        (conv2): Conv2d(512, 512, kernel_size=(3, 3), stride=(1, 1), padding=(1, 1), bias=False)\n",
            "        (bn2): BatchNorm2d(512, eps=1e-05, momentum=0.1, affine=True, track_running_stats=True)\n",
            "        (downsample): Sequential(\n",
            "          (0): Conv2d(256, 512, kernel_size=(1, 1), stride=(2, 2), bias=False)\n",
            "          (1): BatchNorm2d(512, eps=1e-05, momentum=0.1, affine=True, track_running_stats=True)\n",
            "        )\n",
            "      )\n",
            "      (1): BasicBlock(\n",
            "        (conv1): Conv2d(512, 512, kernel_size=(3, 3), stride=(1, 1), padding=(1, 1), bias=False)\n",
            "        (bn1): BatchNorm2d(512, eps=1e-05, momentum=0.1, affine=True, track_running_stats=True)\n",
            "        (relu): ReLU(inplace=True)\n",
            "        (conv2): Conv2d(512, 512, kernel_size=(3, 3), stride=(1, 1), padding=(1, 1), bias=False)\n",
            "        (bn2): BatchNorm2d(512, eps=1e-05, momentum=0.1, affine=True, track_running_stats=True)\n",
            "      )\n",
            "    )\n",
            "    (avgpool): AdaptiveAvgPool2d(output_size=(1, 1))\n",
            "    (fc): Linear(in_features=512, out_features=20, bias=True)\n",
            "  )\n",
            ")\n"
          ]
        },
        {
          "data": {
            "text/html": [
              "Tracking run with wandb version 0.18.7"
            ],
            "text/plain": [
              "<IPython.core.display.HTML object>"
            ]
          },
          "metadata": {},
          "output_type": "display_data"
        },
        {
          "data": {
            "text/html": [
              "Run data is saved locally in <code>/content/wandb/run-20241217_221314-s6bo7sqx</code>"
            ],
            "text/plain": [
              "<IPython.core.display.HTML object>"
            ]
          },
          "metadata": {},
          "output_type": "display_data"
        },
        {
          "data": {
            "text/html": [
              "Syncing run <strong><a href='https://wandb.ai/ovsvc-tu-wien/ADL/runs/s6bo7sqx' target=\"_blank\">laced-glitter-96</a></strong> to <a href='https://wandb.ai/ovsvc-tu-wien/ADL' target=\"_blank\">Weights & Biases</a> (<a href='https://wandb.me/developer-guide' target=\"_blank\">docs</a>)<br/>"
            ],
            "text/plain": [
              "<IPython.core.display.HTML object>"
            ]
          },
          "metadata": {},
          "output_type": "display_data"
        },
        {
          "data": {
            "text/html": [
              " View project at <a href='https://wandb.ai/ovsvc-tu-wien/ADL' target=\"_blank\">https://wandb.ai/ovsvc-tu-wien/ADL</a>"
            ],
            "text/plain": [
              "<IPython.core.display.HTML object>"
            ]
          },
          "metadata": {},
          "output_type": "display_data"
        },
        {
          "data": {
            "text/html": [
              " View run at <a href='https://wandb.ai/ovsvc-tu-wien/ADL/runs/s6bo7sqx' target=\"_blank\">https://wandb.ai/ovsvc-tu-wien/ADL/runs/s6bo7sqx</a>"
            ],
            "text/plain": [
              "<IPython.core.display.HTML object>"
            ]
          },
          "metadata": {},
          "output_type": "display_data"
        },
        {
          "name": "stdout",
          "output_type": "stream",
          "text": [
            "Testing the model...\n"
          ]
        },
        {
          "name": "stderr",
          "output_type": "stream",
          "text": [
            "/content/drive/MyDrive/06_TUWien/10_ADL/scripts/run_cnn.py:173: FutureWarning: You are using `torch.load` with `weights_only=False` (the current default value), which uses the default pickle module implicitly. It is possible to construct malicious pickle data which will execute arbitrary code during unpickling (See https://github.com/pytorch/pytorch/blob/main/SECURITY.md#untrusted-models for more details). In a future release, the default value for `weights_only` will be flipped to `True`. This limits the functions that could be executed during unpickling. Arbitrary objects will no longer be allowed to be loaded via this mode unless they are explicitly allowlisted by the user via `torch.serialization.add_safe_globals`. We recommend you start setting `weights_only=True` for any use case where you don't have full control of the loaded file. Please open an issue on GitHub for any issues related to this experimental feature.\n",
            "  trainer.model.load_state_dict(torch.load(Path(config['model_save_dir']) / f\"{config['model_name']}.pth\", map_location=device))\n"
          ]
        },
        {
          "data": {
            "text/html": [
              "Finishing last run (ID:s6bo7sqx) before initializing another..."
            ],
            "text/plain": [
              "<IPython.core.display.HTML object>"
            ]
          },
          "metadata": {},
          "output_type": "display_data"
        },
        {
          "data": {
            "text/html": [
              " View run <strong style=\"color:#cdcd00\">laced-glitter-96</strong> at: <a href='https://wandb.ai/ovsvc-tu-wien/ADL/runs/s6bo7sqx' target=\"_blank\">https://wandb.ai/ovsvc-tu-wien/ADL/runs/s6bo7sqx</a><br/> View project at: <a href='https://wandb.ai/ovsvc-tu-wien/ADL' target=\"_blank\">https://wandb.ai/ovsvc-tu-wien/ADL</a><br/>Synced 5 W&B file(s), 0 media file(s), 0 artifact file(s) and 0 other file(s)"
            ],
            "text/plain": [
              "<IPython.core.display.HTML object>"
            ]
          },
          "metadata": {},
          "output_type": "display_data"
        },
        {
          "data": {
            "text/html": [
              "Find logs at: <code>./wandb/run-20241217_221314-s6bo7sqx/logs</code>"
            ],
            "text/plain": [
              "<IPython.core.display.HTML object>"
            ]
          },
          "metadata": {},
          "output_type": "display_data"
        },
        {
          "data": {
            "text/html": [
              "Successfully finished last run (ID:s6bo7sqx). Initializing new run:<br/>"
            ],
            "text/plain": [
              "<IPython.core.display.HTML object>"
            ]
          },
          "metadata": {},
          "output_type": "display_data"
        },
        {
          "data": {
            "text/html": [
              "Tracking run with wandb version 0.18.7"
            ],
            "text/plain": [
              "<IPython.core.display.HTML object>"
            ]
          },
          "metadata": {},
          "output_type": "display_data"
        },
        {
          "data": {
            "text/html": [
              "Run data is saved locally in <code>/content/wandb/run-20241217_221316-zq9xc2vt</code>"
            ],
            "text/plain": [
              "<IPython.core.display.HTML object>"
            ]
          },
          "metadata": {},
          "output_type": "display_data"
        },
        {
          "data": {
            "text/html": [
              "Syncing run <strong><a href='https://wandb.ai/ovsvc-tu-wien/ADL/runs/zq9xc2vt' target=\"_blank\">stellar-jazz-97</a></strong> to <a href='https://wandb.ai/ovsvc-tu-wien/ADL' target=\"_blank\">Weights & Biases</a> (<a href='https://wandb.me/developer-guide' target=\"_blank\">docs</a>)<br/>"
            ],
            "text/plain": [
              "<IPython.core.display.HTML object>"
            ]
          },
          "metadata": {},
          "output_type": "display_data"
        },
        {
          "data": {
            "text/html": [
              " View project at <a href='https://wandb.ai/ovsvc-tu-wien/ADL' target=\"_blank\">https://wandb.ai/ovsvc-tu-wien/ADL</a>"
            ],
            "text/plain": [
              "<IPython.core.display.HTML object>"
            ]
          },
          "metadata": {},
          "output_type": "display_data"
        },
        {
          "data": {
            "text/html": [
              " View run at <a href='https://wandb.ai/ovsvc-tu-wien/ADL/runs/zq9xc2vt' target=\"_blank\">https://wandb.ai/ovsvc-tu-wien/ADL/runs/zq9xc2vt</a>"
            ],
            "text/plain": [
              "<IPython.core.display.HTML object>"
            ]
          },
          "metadata": {},
          "output_type": "display_data"
        },
        {
          "name": "stderr",
          "output_type": "stream",
          "text": [
            "Test: 100%|██████████| 469/469 [02:23<00:00,  3.27it/s]"
          ]
        },
        {
          "name": "stdout",
          "output_type": "stream",
          "text": [
            "Test Metrics: Overall Accuracy: 0.6336\n",
            " Per-Class Accuracy:\n",
            "Accuracy for class human_romanticism: 0.85\n",
            "Accuracy for class AI_expressionism: 0.78\n",
            "Accuracy for class AI_baroque: 0.82\n",
            "Accuracy for class AI_ukiyo-e: 0.68\n",
            "Accuracy for class human_renaissance: 0.69\n",
            "Accuracy for class human_post_impressionism: 0.72\n",
            "Accuracy for class human_realism: 0.69\n",
            "Accuracy for class AI_art_nouveau: 0.71\n",
            "Accuracy for class AI_romanticism: 0.77\n",
            "Accuracy for class AI_renaissance: 0.95\n",
            "Accuracy for class human_expressionism: 0.38\n",
            "Accuracy for class AI_impressionism: 0.47\n",
            "Accuracy for class AI_post_impressionism: 0.19\n",
            "Accuracy for class human_baroque: 0.31\n",
            "Accuracy for class AI_surrealism: 0.18\n",
            "Accuracy for class human_impressionism: 0.31\n",
            "Accuracy for class AI_realism: 0.32\n",
            "Accuracy for class human_surrealism: 0.30\n",
            "Accuracy for class human_art_nouveau: 0.44\n",
            "Accuracy for class human_ukiyo_e: 0.81\n"
          ]
        },
        {
          "name": "stderr",
          "output_type": "stream",
          "text": [
            "\n"
          ]
        }
      ],
      "source": [
        "# Test the model (reuse the trainer)\n",
        "test_loss, test_accuracy, test_per_class_accuracy, all_labels, all_predictions, test_classes = test_model(config, trainer=None)"
      ]
    },
    {
      "cell_type": "code",
      "execution_count": 9,
      "metadata": {
        "colab": {
          "base_uri": "https://localhost:8080/",
          "height": 1000
        },
        "id": "V3W5rkW49KZ-",
        "outputId": "ae966e96-8d6f-4689-d3dd-11e309006735"
      },
      "outputs": [
        {
          "data": {
            "image/png": "[encoded data removed]",
            "text/plain": [
              "<Figure size 1200x1200 with 2 Axes>"
            ]
          },
          "metadata": {},
          "output_type": "display_data"
        },
        {
          "name": "stdout",
          "output_type": "stream",
          "text": [
            "\n",
            "Classification Report:\n",
            "                          precision    recall  f1-score   support\n",
            "\n",
            "       human_romanticism       0.81      0.85      0.83      2000\n",
            "        AI_expressionism       0.71      0.78      0.74      2000\n",
            "              AI_baroque       0.83      0.82      0.83      2000\n",
            "              AI_ukiyo-e       0.70      0.68      0.69      2000\n",
            "       human_renaissance       0.64      0.69      0.66      2000\n",
            "human_post_impressionism       0.66      0.72      0.69      2000\n",
            "           human_realism       0.82      0.69      0.75      2000\n",
            "          AI_art_nouveau       0.77      0.71      0.74      2000\n",
            "          AI_romanticism       0.81      0.77      0.79      2000\n",
            "          AI_renaissance       0.96      0.95      0.95      2000\n",
            "     human_expressionism       0.35      0.38      0.36      1000\n",
            "        AI_impressionism       0.42      0.47      0.44      1000\n",
            "   AI_post_impressionism       0.26      0.19      0.22      1000\n",
            "           human_baroque       0.31      0.31      0.31      1000\n",
            "           AI_surrealism       0.34      0.18      0.24      1000\n",
            "     human_impressionism       0.24      0.31      0.27      1000\n",
            "              AI_realism       0.41      0.32      0.36      1000\n",
            "        human_surrealism       0.32      0.30      0.31      1000\n",
            "       human_art_nouveau       0.30      0.43      0.36      1000\n",
            "           human_ukiyo_e       0.71      0.81      0.75      1000\n",
            "\n",
            "                accuracy                           0.63     30000\n",
            "               macro avg       0.57      0.57      0.56     30000\n",
            "            weighted avg       0.64      0.63      0.63     30000\n",
            "\n",
            "Test Loss: 1.0641\n",
            "Test Accuracy: 0.6336\n",
            "Overall Precision: 0.6360\n",
            "Overall Recall: 0.6336\n",
            "Overall F1-Score: 0.6321\n",
            "Overall Accuracy: 0.6336\n"
          ]
        }
      ],
      "source": [
        "# Analyze test results\n",
        "metrics = analyze_test_results(\n",
        "    test_loss=test_loss,\n",
        "    test_accuracy=test_accuracy,\n",
        "    test_per_class_accuracy=test_per_class_accuracy,\n",
        "    all_labels=all_labels,\n",
        "    all_predictions=all_predictions,\n",
        "    classes=test_classes\n",
        ")"
      ]
    },
    {
      "cell_type": "markdown",
      "metadata": {
        "id": "6RPOLAQf1g6S"
      },
      "source": []
    }
  ],
  "metadata": {
    "accelerator": "GPU",
    "colab": {
      "gpuType": "A100",
      "provenance": []
    },
    "kernelspec": {
      "display_name": "adl",
      "language": "python",
      "name": "python3"
    },
    "language_info": {
      "codemirror_mode": {
        "name": "ipython",
        "version": 3
      },
      "file_extension": ".py",
      "mimetype": "text/x-python",
      "name": "python",
      "nbconvert_exporter": "python",
      "pygments_lexer": "ipython3",
      "version": "3.11.11"
    }
  },
  "nbformat": 4,
  "nbformat_minor": 0
}

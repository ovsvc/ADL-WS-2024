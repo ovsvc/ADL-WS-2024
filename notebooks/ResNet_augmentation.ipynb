{
  "cells": [
    {
      "cell_type": "markdown",
      "metadata": {
        "id": "dYpvfW_v1g6M"
      },
      "source": [
        "##### Colab"
      ]
    },
    {
      "cell_type": "code",
      "execution_count": 1,
      "metadata": {
        "colab": {
          "base_uri": "https://localhost:8080/"
        },
        "id": "tIsoWB3s1g6O",
        "outputId": "a409295b-6ffc-42e4-ec8d-60e9d13b0c41"
      },
      "outputs": [
        {
          "output_type": "stream",
          "name": "stdout",
          "text": [
            "Mounted at /content/drive\n"
          ]
        }
      ],
      "source": [
        "# Colab\n",
        "from google.colab import drive\n",
        "drive.mount('/content/drive')"
      ]
    },
    {
      "cell_type": "code",
      "execution_count": 2,
      "metadata": {
        "id": "S4ZttW8H1g6O"
      },
      "outputs": [],
      "source": [
        "! pip install -q kaggle"
      ]
    },
    {
      "cell_type": "code",
      "execution_count": 3,
      "metadata": {
        "id": "vAGLOPYw1g6P"
      },
      "outputs": [],
      "source": [
        "from google.colab import userdata\n",
        "import os\n",
        "\n",
        "os.environ[\"kaggle_key\"] = userdata.get('kaggle_key')\n",
        "os.environ[\"kaggle_username\"] = userdata.get('kaggle_username')"
      ]
    },
    {
      "cell_type": "code",
      "execution_count": null,
      "metadata": {
        "id": "IbZacPMO1g6P"
      },
      "outputs": [],
      "source": [
        "!kaggle datasets download -d ravidussilva/real-ai-art\n",
        "! unzip \"real-ai-art\""
      ]
    },
    {
      "cell_type": "markdown",
      "metadata": {
        "id": "Qs7W5jfh1g6P"
      },
      "source": [
        "##### Local & Colab"
      ]
    },
    {
      "cell_type": "code",
      "execution_count": 5,
      "metadata": {
        "colab": {
          "base_uri": "https://localhost:8080/"
        },
        "id": "5h4oeW0t1g6Q",
        "outputId": "44dc50a0-dec6-4151-ebb4-e48c10f160e4"
      },
      "outputs": [
        {
          "output_type": "stream",
          "name": "stderr",
          "text": [
            "\u001b[34m\u001b[1mwandb\u001b[0m: Using wandb-core as the SDK backend.  Please refer to https://wandb.me/wandb-core for more information.\n",
            "\u001b[34m\u001b[1mwandb\u001b[0m: W&B API key is configured. Use \u001b[1m`wandb login --relogin`\u001b[0m to force relogin\n",
            "\u001b[34m\u001b[1mwandb\u001b[0m: \u001b[33mWARNING\u001b[0m If you're specifying your api key in code, ensure this code is not shared publicly.\n",
            "\u001b[34m\u001b[1mwandb\u001b[0m: \u001b[33mWARNING\u001b[0m Consider setting the WANDB_API_KEY environment variable, or running `wandb login` from the command line.\n",
            "\u001b[34m\u001b[1mwandb\u001b[0m: Appending key for api.wandb.ai to your netrc file: /root/.netrc\n"
          ]
        }
      ],
      "source": [
        "#Imports\n",
        "import sys\n",
        "#sys.path.append('/Users/viktoriiaovsianik/Documents/Uni/04_WS2024/06_ADL/Code/ADL-WS-2024')\n",
        "sys.path.append('/content/drive/MyDrive/06_TUWien/10_ADL')\n",
        "from scripts.run_cnn import train_model, test_model\n",
        "\n",
        "from models.resnet18 import ResNet18FineTuned\n",
        "from scripts.evaluation import analyze_test_results\n",
        "import torchvision.transforms as transforms"
      ]
    },
    {
      "cell_type": "code",
      "execution_count": 6,
      "metadata": {
        "id": "3LVdKLqV1g6Q"
      },
      "outputs": [],
      "source": [
        "#dataset_path = \"/Users/viktoriiaovsianik/Documents/Uni/04_WS2024/06_ADL/Code/ADL-WS-2024/data\"\n",
        "dataset_path = \"/content/Real_AI_SD_LD_Dataset\""
      ]
    },
    {
      "cell_type": "markdown",
      "metadata": {
        "id": "SXFF5BDe9KZ8"
      },
      "source": [
        "#### Train & test using transfer learning (ResNet18)"
      ]
    },
    {
      "cell_type": "code",
      "execution_count": 8,
      "metadata": {
        "colab": {
          "base_uri": "https://localhost:8080/",
          "height": 1000
        },
        "id": "iseRFJ6S9KZ9",
        "outputId": "713d5eb2-cd5b-4dc5-fb10-e6409e7974af"
      },
      "outputs": [
        {
          "output_type": "stream",
          "name": "stderr",
          "text": [
            "/usr/local/lib/python3.10/dist-packages/torchvision/models/_utils.py:208: UserWarning: The parameter 'pretrained' is deprecated since 0.13 and may be removed in the future, please use 'weights' instead.\n",
            "  warnings.warn(\n",
            "/usr/local/lib/python3.10/dist-packages/torchvision/models/_utils.py:223: UserWarning: Arguments other than a weight enum or `None` for 'weights' are deprecated since 0.13 and may be removed in the future. The current behavior is equivalent to passing `weights=ResNet18_Weights.IMAGENET1K_V1`. You can also use `weights=ResNet18_Weights.DEFAULT` to get the most up-to-date weights.\n",
            "  warnings.warn(msg)\n"
          ]
        },
        {
          "output_type": "stream",
          "name": "stdout",
          "text": [
            "List of parameters that require gradients:\n",
            "layer3.0.conv1.weight\n",
            "layer3.0.bn1.weight\n",
            "layer3.0.bn1.bias\n",
            "layer3.0.conv2.weight\n",
            "layer3.0.bn2.weight\n",
            "layer3.0.bn2.bias\n",
            "layer3.0.downsample.0.weight\n",
            "layer3.0.downsample.1.weight\n",
            "layer3.0.downsample.1.bias\n",
            "layer3.1.conv1.weight\n",
            "layer3.1.bn1.weight\n",
            "layer3.1.bn1.bias\n",
            "layer3.1.conv2.weight\n",
            "layer3.1.bn2.weight\n",
            "layer3.1.bn2.bias\n",
            "layer4.0.conv1.weight\n",
            "layer4.0.bn1.weight\n",
            "layer4.0.bn1.bias\n",
            "layer4.0.conv2.weight\n",
            "layer4.0.bn2.weight\n",
            "layer4.0.bn2.bias\n",
            "layer4.0.downsample.0.weight\n",
            "layer4.0.downsample.1.weight\n",
            "layer4.0.downsample.1.bias\n",
            "layer4.1.conv1.weight\n",
            "layer4.1.bn1.weight\n",
            "layer4.1.bn1.bias\n",
            "layer4.1.conv2.weight\n",
            "layer4.1.bn2.weight\n",
            "layer4.1.bn2.bias\n",
            "fc.weight\n",
            "fc.bias\n",
            "CUDA (GPU) is available.\n",
            "Preprocessing dataset...\n",
            "Train dataset length: 90000\n",
            "Validation dataset length: 10000\n",
            "Test dataset length: 30000\n",
            "Model: ResNet18FineTuned(\n",
            "  (resnet18): ResNet(\n",
            "    (conv1): Conv2d(3, 64, kernel_size=(7, 7), stride=(2, 2), padding=(3, 3), bias=False)\n",
            "    (bn1): BatchNorm2d(64, eps=1e-05, momentum=0.1, affine=True, track_running_stats=True)\n",
            "    (relu): ReLU(inplace=True)\n",
            "    (maxpool): MaxPool2d(kernel_size=3, stride=2, padding=1, dilation=1, ceil_mode=False)\n",
            "    (layer1): Sequential(\n",
            "      (0): BasicBlock(\n",
            "        (conv1): Conv2d(64, 64, kernel_size=(3, 3), stride=(1, 1), padding=(1, 1), bias=False)\n",
            "        (bn1): BatchNorm2d(64, eps=1e-05, momentum=0.1, affine=True, track_running_stats=True)\n",
            "        (relu): ReLU(inplace=True)\n",
            "        (conv2): Conv2d(64, 64, kernel_size=(3, 3), stride=(1, 1), padding=(1, 1), bias=False)\n",
            "        (bn2): BatchNorm2d(64, eps=1e-05, momentum=0.1, affine=True, track_running_stats=True)\n",
            "      )\n",
            "      (1): BasicBlock(\n",
            "        (conv1): Conv2d(64, 64, kernel_size=(3, 3), stride=(1, 1), padding=(1, 1), bias=False)\n",
            "        (bn1): BatchNorm2d(64, eps=1e-05, momentum=0.1, affine=True, track_running_stats=True)\n",
            "        (relu): ReLU(inplace=True)\n",
            "        (conv2): Conv2d(64, 64, kernel_size=(3, 3), stride=(1, 1), padding=(1, 1), bias=False)\n",
            "        (bn2): BatchNorm2d(64, eps=1e-05, momentum=0.1, affine=True, track_running_stats=True)\n",
            "      )\n",
            "    )\n",
            "    (layer2): Sequential(\n",
            "      (0): BasicBlock(\n",
            "        (conv1): Conv2d(64, 128, kernel_size=(3, 3), stride=(2, 2), padding=(1, 1), bias=False)\n",
            "        (bn1): BatchNorm2d(128, eps=1e-05, momentum=0.1, affine=True, track_running_stats=True)\n",
            "        (relu): ReLU(inplace=True)\n",
            "        (conv2): Conv2d(128, 128, kernel_size=(3, 3), stride=(1, 1), padding=(1, 1), bias=False)\n",
            "        (bn2): BatchNorm2d(128, eps=1e-05, momentum=0.1, affine=True, track_running_stats=True)\n",
            "        (downsample): Sequential(\n",
            "          (0): Conv2d(64, 128, kernel_size=(1, 1), stride=(2, 2), bias=False)\n",
            "          (1): BatchNorm2d(128, eps=1e-05, momentum=0.1, affine=True, track_running_stats=True)\n",
            "        )\n",
            "      )\n",
            "      (1): BasicBlock(\n",
            "        (conv1): Conv2d(128, 128, kernel_size=(3, 3), stride=(1, 1), padding=(1, 1), bias=False)\n",
            "        (bn1): BatchNorm2d(128, eps=1e-05, momentum=0.1, affine=True, track_running_stats=True)\n",
            "        (relu): ReLU(inplace=True)\n",
            "        (conv2): Conv2d(128, 128, kernel_size=(3, 3), stride=(1, 1), padding=(1, 1), bias=False)\n",
            "        (bn2): BatchNorm2d(128, eps=1e-05, momentum=0.1, affine=True, track_running_stats=True)\n",
            "      )\n",
            "    )\n",
            "    (layer3): Sequential(\n",
            "      (0): BasicBlock(\n",
            "        (conv1): Conv2d(128, 256, kernel_size=(3, 3), stride=(2, 2), padding=(1, 1), bias=False)\n",
            "        (bn1): BatchNorm2d(256, eps=1e-05, momentum=0.1, affine=True, track_running_stats=True)\n",
            "        (relu): ReLU(inplace=True)\n",
            "        (conv2): Conv2d(256, 256, kernel_size=(3, 3), stride=(1, 1), padding=(1, 1), bias=False)\n",
            "        (bn2): BatchNorm2d(256, eps=1e-05, momentum=0.1, affine=True, track_running_stats=True)\n",
            "        (downsample): Sequential(\n",
            "          (0): Conv2d(128, 256, kernel_size=(1, 1), stride=(2, 2), bias=False)\n",
            "          (1): BatchNorm2d(256, eps=1e-05, momentum=0.1, affine=True, track_running_stats=True)\n",
            "        )\n",
            "      )\n",
            "      (1): BasicBlock(\n",
            "        (conv1): Conv2d(256, 256, kernel_size=(3, 3), stride=(1, 1), padding=(1, 1), bias=False)\n",
            "        (bn1): BatchNorm2d(256, eps=1e-05, momentum=0.1, affine=True, track_running_stats=True)\n",
            "        (relu): ReLU(inplace=True)\n",
            "        (conv2): Conv2d(256, 256, kernel_size=(3, 3), stride=(1, 1), padding=(1, 1), bias=False)\n",
            "        (bn2): BatchNorm2d(256, eps=1e-05, momentum=0.1, affine=True, track_running_stats=True)\n",
            "      )\n",
            "    )\n",
            "    (layer4): Sequential(\n",
            "      (0): BasicBlock(\n",
            "        (conv1): Conv2d(256, 512, kernel_size=(3, 3), stride=(2, 2), padding=(1, 1), bias=False)\n",
            "        (bn1): BatchNorm2d(512, eps=1e-05, momentum=0.1, affine=True, track_running_stats=True)\n",
            "        (relu): ReLU(inplace=True)\n",
            "        (conv2): Conv2d(512, 512, kernel_size=(3, 3), stride=(1, 1), padding=(1, 1), bias=False)\n",
            "        (bn2): BatchNorm2d(512, eps=1e-05, momentum=0.1, affine=True, track_running_stats=True)\n",
            "        (downsample): Sequential(\n",
            "          (0): Conv2d(256, 512, kernel_size=(1, 1), stride=(2, 2), bias=False)\n",
            "          (1): BatchNorm2d(512, eps=1e-05, momentum=0.1, affine=True, track_running_stats=True)\n",
            "        )\n",
            "      )\n",
            "      (1): BasicBlock(\n",
            "        (conv1): Conv2d(512, 512, kernel_size=(3, 3), stride=(1, 1), padding=(1, 1), bias=False)\n",
            "        (bn1): BatchNorm2d(512, eps=1e-05, momentum=0.1, affine=True, track_running_stats=True)\n",
            "        (relu): ReLU(inplace=True)\n",
            "        (conv2): Conv2d(512, 512, kernel_size=(3, 3), stride=(1, 1), padding=(1, 1), bias=False)\n",
            "        (bn2): BatchNorm2d(512, eps=1e-05, momentum=0.1, affine=True, track_running_stats=True)\n",
            "      )\n",
            "    )\n",
            "    (avgpool): AdaptiveAvgPool2d(output_size=(1, 1))\n",
            "    (fc): Linear(in_features=512, out_features=20, bias=True)\n",
            "  )\n",
            ")\n"
          ]
        },
        {
          "output_type": "display_data",
          "data": {
            "text/plain": [
              "<IPython.core.display.HTML object>"
            ],
            "text/html": [
              "Tracking run with wandb version 0.18.7"
            ]
          },
          "metadata": {}
        },
        {
          "output_type": "display_data",
          "data": {
            "text/plain": [
              "<IPython.core.display.HTML object>"
            ],
            "text/html": [
              "Run data is saved locally in <code>/content/wandb/run-20241217_190146-wzzbc7ib</code>"
            ]
          },
          "metadata": {}
        },
        {
          "output_type": "display_data",
          "data": {
            "text/plain": [
              "<IPython.core.display.HTML object>"
            ],
            "text/html": [
              "Syncing run <strong><a href='https://wandb.ai/ovsvc-tu-wien/ADL/runs/wzzbc7ib' target=\"_blank\">comfy-thunder-85</a></strong> to <a href='https://wandb.ai/ovsvc-tu-wien/ADL' target=\"_blank\">Weights & Biases</a> (<a href='https://wandb.me/developer-guide' target=\"_blank\">docs</a>)<br/>"
            ]
          },
          "metadata": {}
        },
        {
          "output_type": "display_data",
          "data": {
            "text/plain": [
              "<IPython.core.display.HTML object>"
            ],
            "text/html": [
              " View project at <a href='https://wandb.ai/ovsvc-tu-wien/ADL' target=\"_blank\">https://wandb.ai/ovsvc-tu-wien/ADL</a>"
            ]
          },
          "metadata": {}
        },
        {
          "output_type": "display_data",
          "data": {
            "text/plain": [
              "<IPython.core.display.HTML object>"
            ],
            "text/html": [
              " View run at <a href='https://wandb.ai/ovsvc-tu-wien/ADL/runs/wzzbc7ib' target=\"_blank\">https://wandb.ai/ovsvc-tu-wien/ADL/runs/wzzbc7ib</a>"
            ]
          },
          "metadata": {}
        },
        {
          "output_type": "stream",
          "name": "stdout",
          "text": [
            "Training with batch size: 64\n",
            "Epoch 0/10:\n",
            "--- Training epoch 0 ---\n"
          ]
        },
        {
          "output_type": "stream",
          "name": "stderr",
          "text": [
            "Train:   0%|          | 1/1407 [00:00<08:35,  2.73it/s]"
          ]
        },
        {
          "output_type": "stream",
          "name": "stdout",
          "text": [
            "Batch 0, Loss: 3.169576644897461\n"
          ]
        },
        {
          "output_type": "stream",
          "name": "stderr",
          "text": [
            "Train:  36%|███▌      | 501/1407 [02:13<04:23,  3.44it/s]"
          ]
        },
        {
          "output_type": "stream",
          "name": "stdout",
          "text": [
            "Batch 500, Loss: 1.6128993034362793\n"
          ]
        },
        {
          "output_type": "stream",
          "name": "stderr",
          "text": [
            "Train:  71%|███████   | 1001/1407 [04:27<02:00,  3.38it/s]"
          ]
        },
        {
          "output_type": "stream",
          "name": "stdout",
          "text": [
            "Batch 1000, Loss: 1.5464401245117188\n"
          ]
        },
        {
          "output_type": "stream",
          "name": "stderr",
          "text": [
            "Train: 100%|██████████| 1407/1407 [06:14<00:00,  3.75it/s]\n"
          ]
        },
        {
          "output_type": "stream",
          "name": "stdout",
          "text": [
            "Epoch 0 Training Loss: 1.6541271972232394\n",
            "Training Metrics: Overall Accuracy: 0.4494\n",
            " Per-Class Accuracy:\n",
            "Accuracy for class human_baroque: 0.70\n",
            "Accuracy for class AI_surrealism: 0.55\n",
            "Accuracy for class human_art_nouveau: 0.74\n",
            "Accuracy for class human_expressionism: 0.58\n",
            "Accuracy for class human_ukiyo_e: 0.50\n",
            "Accuracy for class AI_renaissance: 0.55\n",
            "Accuracy for class AI_art_nouveau: 0.54\n",
            "Accuracy for class human_realism: 0.60\n",
            "Accuracy for class AI_realism: 0.64\n",
            "Accuracy for class human_post_impressionism: 0.86\n",
            "Accuracy for class human_romanticism: 0.30\n",
            "Accuracy for class AI_expressionism: 0.38\n",
            "Accuracy for class AI_baroque: 0.11\n",
            "Accuracy for class AI_impressionism: 0.21\n",
            "Accuracy for class human_surrealism: 0.19\n",
            "Accuracy for class human_renaissance: 0.15\n",
            "Accuracy for class AI_post_impressionism: 0.30\n",
            "Accuracy for class AI_ukiyo-e: 0.22\n",
            "Accuracy for class human_impressionism: 0.19\n",
            "Accuracy for class AI_romanticism: 0.69\n",
            "--- Validating epoch 0 ---\n"
          ]
        },
        {
          "output_type": "stream",
          "name": "stderr",
          "text": [
            "Evaluate:   1%|          | 1/157 [00:00<00:39,  3.91it/s]"
          ]
        },
        {
          "output_type": "stream",
          "name": "stdout",
          "text": [
            "Batch 0, Validation Loss: 1.3302173614501953\n"
          ]
        },
        {
          "output_type": "stream",
          "name": "stderr",
          "text": [
            "Evaluate: 100%|██████████| 157/157 [00:40<00:00,  3.84it/s]\n"
          ]
        },
        {
          "output_type": "stream",
          "name": "stdout",
          "text": [
            "Epoch 0 Validation Loss: 1.3761471506118774\n",
            "Validation Metrics: Overall Accuracy: 0.5207\n",
            " Per-Class Accuracy:\n",
            "Accuracy for class human_romanticism: 0.81\n",
            "Accuracy for class AI_ukiyo-e: 0.59\n",
            "Accuracy for class AI_romanticism: 0.79\n",
            "Accuracy for class AI_art_nouveau: 0.60\n",
            "Accuracy for class human_surrealism: 0.67\n",
            "Accuracy for class AI_renaissance: 0.63\n",
            "Accuracy for class AI_realism: 0.74\n",
            "Accuracy for class human_ukiyo_e: 0.67\n",
            "Accuracy for class human_art_nouveau: 0.80\n",
            "Accuracy for class AI_post_impressionism: 0.95\n",
            "Accuracy for class human_baroque: 0.26\n",
            "Accuracy for class human_impressionism: 0.29\n",
            "Accuracy for class AI_impressionism: 0.31\n",
            "Accuracy for class human_renaissance: 0.40\n",
            "Accuracy for class human_expressionism: 0.10\n",
            "Accuracy for class human_realism: 0.06\n",
            "Accuracy for class AI_baroque: 0.39\n",
            "Accuracy for class human_post_impressionism: 0.45\n",
            "Accuracy for class AI_surrealism: 0.22\n",
            "Accuracy for class AI_expressionism: 0.68\n",
            "#### Best accuracy 0.5207 at epoch 0\n",
            "#### Saving model to saved_models\n",
            "Model saved to saved_models/model_best.pth\n",
            "Epoch 1/10:\n",
            "--- Training epoch 1 ---\n"
          ]
        },
        {
          "output_type": "stream",
          "name": "stderr",
          "text": [
            "Train:   0%|          | 1/1407 [00:00<05:36,  4.17it/s]"
          ]
        },
        {
          "output_type": "stream",
          "name": "stdout",
          "text": [
            "Batch 0, Loss: 1.3912692070007324\n"
          ]
        },
        {
          "output_type": "stream",
          "name": "stderr",
          "text": [
            "Train:  36%|███▌      | 501/1407 [02:13<03:46,  4.00it/s]"
          ]
        },
        {
          "output_type": "stream",
          "name": "stdout",
          "text": [
            "Batch 500, Loss: 1.677764654159546\n"
          ]
        },
        {
          "output_type": "stream",
          "name": "stderr",
          "text": [
            "Train:  71%|███████   | 1001/1407 [04:26<01:46,  3.80it/s]"
          ]
        },
        {
          "output_type": "stream",
          "name": "stdout",
          "text": [
            "Batch 1000, Loss: 1.2264394760131836\n"
          ]
        },
        {
          "output_type": "stream",
          "name": "stderr",
          "text": [
            "Train: 100%|██████████| 1407/1407 [06:14<00:00,  3.76it/s]\n"
          ]
        },
        {
          "output_type": "stream",
          "name": "stdout",
          "text": [
            "Epoch 1 Training Loss: 1.3029559689415826\n",
            "Training Metrics: Overall Accuracy: 0.5505\n",
            " Per-Class Accuracy:\n",
            "Accuracy for class human_baroque: 0.81\n",
            "Accuracy for class AI_surrealism: 0.71\n",
            "Accuracy for class human_art_nouveau: 0.81\n",
            "Accuracy for class human_expressionism: 0.69\n",
            "Accuracy for class human_ukiyo_e: 0.62\n",
            "Accuracy for class AI_renaissance: 0.67\n",
            "Accuracy for class AI_art_nouveau: 0.69\n",
            "Accuracy for class human_realism: 0.71\n",
            "Accuracy for class AI_realism: 0.76\n",
            "Accuracy for class human_post_impressionism: 0.94\n",
            "Accuracy for class human_romanticism: 0.37\n",
            "Accuracy for class AI_expressionism: 0.45\n",
            "Accuracy for class AI_baroque: 0.17\n",
            "Accuracy for class AI_impressionism: 0.28\n",
            "Accuracy for class human_surrealism: 0.27\n",
            "Accuracy for class human_renaissance: 0.21\n",
            "Accuracy for class AI_post_impressionism: 0.45\n",
            "Accuracy for class AI_ukiyo-e: 0.27\n",
            "Accuracy for class human_impressionism: 0.33\n",
            "Accuracy for class AI_romanticism: 0.81\n",
            "--- Validating epoch 1 ---\n"
          ]
        },
        {
          "output_type": "stream",
          "name": "stderr",
          "text": [
            "Evaluate:   1%|          | 1/157 [00:00<00:36,  4.26it/s]"
          ]
        },
        {
          "output_type": "stream",
          "name": "stdout",
          "text": [
            "Batch 0, Validation Loss: 1.2005151510238647\n"
          ]
        },
        {
          "output_type": "stream",
          "name": "stderr",
          "text": [
            "Evaluate: 100%|██████████| 157/157 [00:40<00:00,  3.86it/s]\n"
          ]
        },
        {
          "output_type": "stream",
          "name": "stdout",
          "text": [
            "Epoch 1 Validation Loss: 1.3114029594421386\n",
            "Validation Metrics: Overall Accuracy: 0.5497\n",
            " Per-Class Accuracy:\n",
            "Accuracy for class human_romanticism: 0.76\n",
            "Accuracy for class AI_ukiyo-e: 0.67\n",
            "Accuracy for class AI_romanticism: 0.87\n",
            "Accuracy for class AI_art_nouveau: 0.63\n",
            "Accuracy for class human_surrealism: 0.69\n",
            "Accuracy for class AI_renaissance: 0.72\n",
            "Accuracy for class AI_realism: 0.72\n",
            "Accuracy for class human_ukiyo_e: 0.71\n",
            "Accuracy for class human_art_nouveau: 0.72\n",
            "Accuracy for class AI_post_impressionism: 0.95\n",
            "Accuracy for class human_baroque: 0.39\n",
            "Accuracy for class human_impressionism: 0.49\n",
            "Accuracy for class AI_impressionism: 0.06\n",
            "Accuracy for class human_renaissance: 0.29\n",
            "Accuracy for class human_expressionism: 0.30\n",
            "Accuracy for class human_realism: 0.21\n",
            "Accuracy for class AI_baroque: 0.41\n",
            "Accuracy for class human_post_impressionism: 0.20\n",
            "Accuracy for class AI_surrealism: 0.37\n",
            "Accuracy for class AI_expressionism: 0.82\n",
            "#### Best accuracy 0.5497 at epoch 1\n",
            "#### Saving model to saved_models\n",
            "Model saved to saved_models/model_best.pth\n",
            "Epoch 2/10:\n",
            "--- Training epoch 2 ---\n"
          ]
        },
        {
          "output_type": "stream",
          "name": "stderr",
          "text": [
            "Train:   0%|          | 1/1407 [00:00<06:16,  3.73it/s]"
          ]
        },
        {
          "output_type": "stream",
          "name": "stdout",
          "text": [
            "Batch 0, Loss: 1.383128046989441\n"
          ]
        },
        {
          "output_type": "stream",
          "name": "stderr",
          "text": [
            "Train:  36%|███▌      | 501/1407 [02:12<04:00,  3.77it/s]"
          ]
        },
        {
          "output_type": "stream",
          "name": "stdout",
          "text": [
            "Batch 500, Loss: 1.1229000091552734\n"
          ]
        },
        {
          "output_type": "stream",
          "name": "stderr",
          "text": [
            "Train:  71%|███████   | 1001/1407 [04:25<01:43,  3.93it/s]"
          ]
        },
        {
          "output_type": "stream",
          "name": "stdout",
          "text": [
            "Batch 1000, Loss: 1.1087405681610107\n"
          ]
        },
        {
          "output_type": "stream",
          "name": "stderr",
          "text": [
            "Train: 100%|██████████| 1407/1407 [06:14<00:00,  3.76it/s]\n"
          ]
        },
        {
          "output_type": "stream",
          "name": "stdout",
          "text": [
            "Epoch 2 Training Loss: 1.1748321941163804\n",
            "Training Metrics: Overall Accuracy: 0.5918\n",
            " Per-Class Accuracy:\n",
            "Accuracy for class human_baroque: 0.84\n",
            "Accuracy for class AI_surrealism: 0.75\n",
            "Accuracy for class human_art_nouveau: 0.84\n",
            "Accuracy for class human_expressionism: 0.72\n",
            "Accuracy for class human_ukiyo_e: 0.67\n",
            "Accuracy for class AI_renaissance: 0.72\n",
            "Accuracy for class AI_art_nouveau: 0.75\n",
            "Accuracy for class human_realism: 0.76\n",
            "Accuracy for class AI_realism: 0.80\n",
            "Accuracy for class human_post_impressionism: 0.95\n",
            "Accuracy for class human_romanticism: 0.40\n",
            "Accuracy for class AI_expressionism: 0.49\n",
            "Accuracy for class AI_baroque: 0.23\n",
            "Accuracy for class AI_impressionism: 0.31\n",
            "Accuracy for class human_surrealism: 0.32\n",
            "Accuracy for class human_renaissance: 0.25\n",
            "Accuracy for class AI_post_impressionism: 0.49\n",
            "Accuracy for class AI_ukiyo-e: 0.30\n",
            "Accuracy for class human_impressionism: 0.40\n",
            "Accuracy for class AI_romanticism: 0.84\n",
            "--- Validating epoch 2 ---\n"
          ]
        },
        {
          "output_type": "stream",
          "name": "stderr",
          "text": [
            "Evaluate:   1%|          | 1/157 [00:00<00:37,  4.13it/s]"
          ]
        },
        {
          "output_type": "stream",
          "name": "stdout",
          "text": [
            "Batch 0, Validation Loss: 1.2250226736068726\n"
          ]
        },
        {
          "output_type": "stream",
          "name": "stderr",
          "text": [
            "Evaluate: 100%|██████████| 157/157 [00:41<00:00,  3.81it/s]\n"
          ]
        },
        {
          "output_type": "stream",
          "name": "stdout",
          "text": [
            "Epoch 2 Validation Loss: 1.2839279542922974\n",
            "Validation Metrics: Overall Accuracy: 0.5533\n",
            " Per-Class Accuracy:\n",
            "Accuracy for class human_romanticism: 0.77\n",
            "Accuracy for class AI_ukiyo-e: 0.76\n",
            "Accuracy for class AI_romanticism: 0.82\n",
            "Accuracy for class AI_art_nouveau: 0.79\n",
            "Accuracy for class human_surrealism: 0.56\n",
            "Accuracy for class AI_renaissance: 0.69\n",
            "Accuracy for class AI_realism: 0.64\n",
            "Accuracy for class human_ukiyo_e: 0.72\n",
            "Accuracy for class human_art_nouveau: 0.76\n",
            "Accuracy for class AI_post_impressionism: 0.95\n",
            "Accuracy for class human_baroque: 0.33\n",
            "Accuracy for class human_impressionism: 0.51\n",
            "Accuracy for class AI_impressionism: 0.20\n",
            "Accuracy for class human_renaissance: 0.27\n",
            "Accuracy for class human_expressionism: 0.16\n",
            "Accuracy for class human_realism: 0.26\n",
            "Accuracy for class AI_baroque: 0.47\n",
            "Accuracy for class human_post_impressionism: 0.22\n",
            "Accuracy for class AI_surrealism: 0.35\n",
            "Accuracy for class AI_expressionism: 0.83\n",
            "#### Best accuracy 0.5533 at epoch 2\n",
            "#### Saving model to saved_models\n",
            "Model saved to saved_models/model_best.pth\n",
            "Epoch 3/10:\n",
            "--- Training epoch 3 ---\n"
          ]
        },
        {
          "output_type": "stream",
          "name": "stderr",
          "text": [
            "Train:   0%|          | 1/1407 [00:00<05:48,  4.03it/s]"
          ]
        },
        {
          "output_type": "stream",
          "name": "stdout",
          "text": [
            "Batch 0, Loss: 1.2095019817352295\n"
          ]
        },
        {
          "output_type": "stream",
          "name": "stderr",
          "text": [
            "Train:  36%|███▌      | 501/1407 [02:12<04:09,  3.62it/s]"
          ]
        },
        {
          "output_type": "stream",
          "name": "stdout",
          "text": [
            "Batch 500, Loss: 1.2947171926498413\n"
          ]
        },
        {
          "output_type": "stream",
          "name": "stderr",
          "text": [
            "Train:  71%|███████   | 1001/1407 [04:25<01:47,  3.77it/s]"
          ]
        },
        {
          "output_type": "stream",
          "name": "stdout",
          "text": [
            "Batch 1000, Loss: 0.9813002943992615\n"
          ]
        },
        {
          "output_type": "stream",
          "name": "stderr",
          "text": [
            "Train: 100%|██████████| 1407/1407 [06:13<00:00,  3.77it/s]\n"
          ]
        },
        {
          "output_type": "stream",
          "name": "stdout",
          "text": [
            "Epoch 3 Training Loss: 1.0779751908832127\n",
            "Training Metrics: Overall Accuracy: 0.6229\n",
            " Per-Class Accuracy:\n",
            "Accuracy for class human_baroque: 0.86\n",
            "Accuracy for class AI_surrealism: 0.78\n",
            "Accuracy for class human_art_nouveau: 0.86\n",
            "Accuracy for class human_expressionism: 0.74\n",
            "Accuracy for class human_ukiyo_e: 0.69\n",
            "Accuracy for class AI_renaissance: 0.76\n",
            "Accuracy for class AI_art_nouveau: 0.78\n",
            "Accuracy for class human_realism: 0.80\n",
            "Accuracy for class AI_realism: 0.83\n",
            "Accuracy for class human_post_impressionism: 0.96\n",
            "Accuracy for class human_romanticism: 0.43\n",
            "Accuracy for class AI_expressionism: 0.54\n",
            "Accuracy for class AI_baroque: 0.28\n",
            "Accuracy for class AI_impressionism: 0.34\n",
            "Accuracy for class human_surrealism: 0.36\n",
            "Accuracy for class human_renaissance: 0.28\n",
            "Accuracy for class AI_post_impressionism: 0.55\n",
            "Accuracy for class AI_ukiyo-e: 0.32\n",
            "Accuracy for class human_impressionism: 0.45\n",
            "Accuracy for class AI_romanticism: 0.86\n",
            "--- Validating epoch 3 ---\n"
          ]
        },
        {
          "output_type": "stream",
          "name": "stderr",
          "text": [
            "Evaluate:   1%|          | 1/157 [00:00<00:50,  3.09it/s]"
          ]
        },
        {
          "output_type": "stream",
          "name": "stdout",
          "text": [
            "Batch 0, Validation Loss: 1.2886070013046265\n"
          ]
        },
        {
          "output_type": "stream",
          "name": "stderr",
          "text": [
            "Evaluate: 100%|██████████| 157/157 [00:41<00:00,  3.80it/s]\n"
          ]
        },
        {
          "output_type": "stream",
          "name": "stdout",
          "text": [
            "Epoch 3 Validation Loss: 1.2765603939056396\n",
            "Validation Metrics: Overall Accuracy: 0.5675\n",
            " Per-Class Accuracy:\n",
            "Accuracy for class human_romanticism: 0.85\n",
            "Accuracy for class AI_ukiyo-e: 0.70\n",
            "Accuracy for class AI_romanticism: 0.80\n",
            "Accuracy for class AI_art_nouveau: 0.75\n",
            "Accuracy for class human_surrealism: 0.62\n",
            "Accuracy for class AI_renaissance: 0.67\n",
            "Accuracy for class AI_realism: 0.72\n",
            "Accuracy for class human_ukiyo_e: 0.71\n",
            "Accuracy for class human_art_nouveau: 0.82\n",
            "Accuracy for class AI_post_impressionism: 0.96\n",
            "Accuracy for class human_baroque: 0.29\n",
            "Accuracy for class human_impressionism: 0.49\n",
            "Accuracy for class AI_impressionism: 0.21\n",
            "Accuracy for class human_renaissance: 0.37\n",
            "Accuracy for class human_expressionism: 0.25\n",
            "Accuracy for class human_realism: 0.20\n",
            "Accuracy for class AI_baroque: 0.48\n",
            "Accuracy for class human_post_impressionism: 0.28\n",
            "Accuracy for class AI_surrealism: 0.34\n",
            "Accuracy for class AI_expressionism: 0.84\n",
            "#### Best accuracy 0.5675 at epoch 3\n",
            "#### Saving model to saved_models\n",
            "Model saved to saved_models/model_best.pth\n",
            "Epoch 4/10:\n",
            "--- Training epoch 4 ---\n"
          ]
        },
        {
          "output_type": "stream",
          "name": "stderr",
          "text": [
            "Train:   0%|          | 1/1407 [00:00<06:46,  3.46it/s]"
          ]
        },
        {
          "output_type": "stream",
          "name": "stdout",
          "text": [
            "Batch 0, Loss: 1.125260353088379\n"
          ]
        },
        {
          "output_type": "stream",
          "name": "stderr",
          "text": [
            "Train:  36%|███▌      | 501/1407 [02:13<04:04,  3.71it/s]"
          ]
        },
        {
          "output_type": "stream",
          "name": "stdout",
          "text": [
            "Batch 500, Loss: 1.4053802490234375\n"
          ]
        },
        {
          "output_type": "stream",
          "name": "stderr",
          "text": [
            "Train:  71%|███████   | 1001/1407 [04:25<01:55,  3.53it/s]"
          ]
        },
        {
          "output_type": "stream",
          "name": "stdout",
          "text": [
            "Batch 1000, Loss: 1.1086589097976685\n"
          ]
        },
        {
          "output_type": "stream",
          "name": "stderr",
          "text": [
            "Train: 100%|██████████| 1407/1407 [06:12<00:00,  3.78it/s]\n"
          ]
        },
        {
          "output_type": "stream",
          "name": "stdout",
          "text": [
            "Epoch 4 Training Loss: 0.9905891872406006\n",
            "Training Metrics: Overall Accuracy: 0.6531\n",
            " Per-Class Accuracy:\n",
            "Accuracy for class human_baroque: 0.88\n",
            "Accuracy for class AI_surrealism: 0.81\n",
            "Accuracy for class human_art_nouveau: 0.88\n",
            "Accuracy for class human_expressionism: 0.77\n",
            "Accuracy for class human_ukiyo_e: 0.72\n",
            "Accuracy for class AI_renaissance: 0.80\n",
            "Accuracy for class AI_art_nouveau: 0.81\n",
            "Accuracy for class human_realism: 0.82\n",
            "Accuracy for class AI_realism: 0.85\n",
            "Accuracy for class human_post_impressionism: 0.97\n",
            "Accuracy for class human_romanticism: 0.48\n",
            "Accuracy for class AI_expressionism: 0.56\n",
            "Accuracy for class AI_baroque: 0.32\n",
            "Accuracy for class AI_impressionism: 0.37\n",
            "Accuracy for class human_surrealism: 0.39\n",
            "Accuracy for class human_renaissance: 0.33\n",
            "Accuracy for class AI_post_impressionism: 0.58\n",
            "Accuracy for class AI_ukiyo-e: 0.37\n",
            "Accuracy for class human_impressionism: 0.48\n",
            "Accuracy for class AI_romanticism: 0.89\n",
            "--- Validating epoch 4 ---\n"
          ]
        },
        {
          "output_type": "stream",
          "name": "stderr",
          "text": [
            "Evaluate:   1%|          | 1/157 [00:00<00:36,  4.25it/s]"
          ]
        },
        {
          "output_type": "stream",
          "name": "stdout",
          "text": [
            "Batch 0, Validation Loss: 1.3480228185653687\n"
          ]
        },
        {
          "output_type": "stream",
          "name": "stderr",
          "text": [
            "Evaluate: 100%|██████████| 157/157 [00:40<00:00,  3.85it/s]\n"
          ]
        },
        {
          "output_type": "stream",
          "name": "stdout",
          "text": [
            "Epoch 4 Validation Loss: 1.3023119367599487\n",
            "Validation Metrics: Overall Accuracy: 0.5584\n",
            " Per-Class Accuracy:\n",
            "Accuracy for class human_romanticism: 0.84\n",
            "Accuracy for class AI_ukiyo-e: 0.69\n",
            "Accuracy for class AI_romanticism: 0.84\n",
            "Accuracy for class AI_art_nouveau: 0.65\n",
            "Accuracy for class human_surrealism: 0.71\n",
            "Accuracy for class AI_renaissance: 0.63\n",
            "Accuracy for class AI_realism: 0.76\n",
            "Accuracy for class human_ukiyo_e: 0.71\n",
            "Accuracy for class human_art_nouveau: 0.74\n",
            "Accuracy for class AI_post_impressionism: 0.94\n",
            "Accuracy for class human_baroque: 0.32\n",
            "Accuracy for class human_impressionism: 0.48\n",
            "Accuracy for class AI_impressionism: 0.16\n",
            "Accuracy for class human_renaissance: 0.27\n",
            "Accuracy for class human_expressionism: 0.24\n",
            "Accuracy for class human_realism: 0.35\n",
            "Accuracy for class AI_baroque: 0.43\n",
            "Accuracy for class human_post_impressionism: 0.19\n",
            "Accuracy for class AI_surrealism: 0.40\n",
            "Accuracy for class AI_expressionism: 0.82\n",
            "Early stopping counter: 1/3\n",
            "Epoch 5/10:\n",
            "--- Training epoch 5 ---\n"
          ]
        },
        {
          "output_type": "stream",
          "name": "stderr",
          "text": [
            "Train:   0%|          | 1/1407 [00:00<06:19,  3.70it/s]"
          ]
        },
        {
          "output_type": "stream",
          "name": "stdout",
          "text": [
            "Batch 0, Loss: 1.0071752071380615\n"
          ]
        },
        {
          "output_type": "stream",
          "name": "stderr",
          "text": [
            "Train:  36%|███▌      | 501/1407 [02:13<04:01,  3.74it/s]"
          ]
        },
        {
          "output_type": "stream",
          "name": "stdout",
          "text": [
            "Batch 500, Loss: 0.9742550253868103\n"
          ]
        },
        {
          "output_type": "stream",
          "name": "stderr",
          "text": [
            "Train:  71%|███████   | 1001/1407 [04:25<01:47,  3.76it/s]"
          ]
        },
        {
          "output_type": "stream",
          "name": "stdout",
          "text": [
            "Batch 1000, Loss: 0.923180341720581\n"
          ]
        },
        {
          "output_type": "stream",
          "name": "stderr",
          "text": [
            "Train: 100%|██████████| 1407/1407 [06:13<00:00,  3.76it/s]\n"
          ]
        },
        {
          "output_type": "stream",
          "name": "stdout",
          "text": [
            "Epoch 5 Training Loss: 0.9121009079403347\n",
            "Training Metrics: Overall Accuracy: 0.6787\n",
            " Per-Class Accuracy:\n",
            "Accuracy for class human_baroque: 0.89\n",
            "Accuracy for class AI_surrealism: 0.82\n",
            "Accuracy for class human_art_nouveau: 0.90\n",
            "Accuracy for class human_expressionism: 0.78\n",
            "Accuracy for class human_ukiyo_e: 0.75\n",
            "Accuracy for class AI_renaissance: 0.81\n",
            "Accuracy for class AI_art_nouveau: 0.83\n",
            "Accuracy for class human_realism: 0.84\n",
            "Accuracy for class AI_realism: 0.88\n",
            "Accuracy for class human_post_impressionism: 0.97\n",
            "Accuracy for class human_romanticism: 0.50\n",
            "Accuracy for class AI_expressionism: 0.59\n",
            "Accuracy for class AI_baroque: 0.38\n",
            "Accuracy for class AI_impressionism: 0.40\n",
            "Accuracy for class human_surrealism: 0.43\n",
            "Accuracy for class human_renaissance: 0.36\n",
            "Accuracy for class AI_post_impressionism: 0.61\n",
            "Accuracy for class AI_ukiyo-e: 0.39\n",
            "Accuracy for class human_impressionism: 0.54\n",
            "Accuracy for class AI_romanticism: 0.90\n",
            "--- Validating epoch 5 ---\n"
          ]
        },
        {
          "output_type": "stream",
          "name": "stderr",
          "text": [
            "Evaluate:   1%|          | 1/157 [00:00<00:37,  4.15it/s]"
          ]
        },
        {
          "output_type": "stream",
          "name": "stdout",
          "text": [
            "Batch 0, Validation Loss: 1.3859660625457764\n"
          ]
        },
        {
          "output_type": "stream",
          "name": "stderr",
          "text": [
            "Evaluate: 100%|██████████| 157/157 [00:40<00:00,  3.84it/s]\n"
          ]
        },
        {
          "output_type": "stream",
          "name": "stdout",
          "text": [
            "Epoch 5 Validation Loss: 1.3312644639968871\n",
            "Validation Metrics: Overall Accuracy: 0.5615\n",
            " Per-Class Accuracy:\n",
            "Accuracy for class human_romanticism: 0.83\n",
            "Accuracy for class AI_ukiyo-e: 0.68\n",
            "Accuracy for class AI_romanticism: 0.83\n",
            "Accuracy for class AI_art_nouveau: 0.73\n",
            "Accuracy for class human_surrealism: 0.63\n",
            "Accuracy for class AI_renaissance: 0.63\n",
            "Accuracy for class AI_realism: 0.73\n",
            "Accuracy for class human_ukiyo_e: 0.75\n",
            "Accuracy for class human_art_nouveau: 0.75\n",
            "Accuracy for class AI_post_impressionism: 0.94\n",
            "Accuracy for class human_baroque: 0.27\n",
            "Accuracy for class human_impressionism: 0.53\n",
            "Accuracy for class AI_impressionism: 0.20\n",
            "Accuracy for class human_renaissance: 0.29\n",
            "Accuracy for class human_expressionism: 0.29\n",
            "Accuracy for class human_realism: 0.35\n",
            "Accuracy for class AI_baroque: 0.40\n",
            "Accuracy for class human_post_impressionism: 0.20\n",
            "Accuracy for class AI_surrealism: 0.40\n",
            "Accuracy for class AI_expressionism: 0.79\n",
            "Early stopping counter: 2/3\n",
            "Epoch 6/10:\n",
            "--- Training epoch 6 ---\n"
          ]
        },
        {
          "output_type": "stream",
          "name": "stderr",
          "text": [
            "Train:   0%|          | 1/1407 [00:00<06:10,  3.80it/s]"
          ]
        },
        {
          "output_type": "stream",
          "name": "stdout",
          "text": [
            "Batch 0, Loss: 0.9809457063674927\n"
          ]
        },
        {
          "output_type": "stream",
          "name": "stderr",
          "text": [
            "Train:  36%|███▌      | 501/1407 [02:13<03:50,  3.93it/s]"
          ]
        },
        {
          "output_type": "stream",
          "name": "stdout",
          "text": [
            "Batch 500, Loss: 1.0221941471099854\n"
          ]
        },
        {
          "output_type": "stream",
          "name": "stderr",
          "text": [
            "Train:  71%|███████   | 1001/1407 [04:26<01:49,  3.70it/s]"
          ]
        },
        {
          "output_type": "stream",
          "name": "stdout",
          "text": [
            "Batch 1000, Loss: 0.8589962124824524\n"
          ]
        },
        {
          "output_type": "stream",
          "name": "stderr",
          "text": [
            "Train: 100%|██████████| 1407/1407 [06:13<00:00,  3.77it/s]\n"
          ]
        },
        {
          "output_type": "stream",
          "name": "stdout",
          "text": [
            "Epoch 6 Training Loss: 0.8354516322029961\n",
            "Training Metrics: Overall Accuracy: 0.7045\n",
            " Per-Class Accuracy:\n",
            "Accuracy for class human_baroque: 0.90\n",
            "Accuracy for class AI_surrealism: 0.84\n",
            "Accuracy for class human_art_nouveau: 0.91\n",
            "Accuracy for class human_expressionism: 0.80\n",
            "Accuracy for class human_ukiyo_e: 0.77\n",
            "Accuracy for class AI_renaissance: 0.83\n",
            "Accuracy for class AI_art_nouveau: 0.85\n",
            "Accuracy for class human_realism: 0.86\n",
            "Accuracy for class AI_realism: 0.88\n",
            "Accuracy for class human_post_impressionism: 0.98\n",
            "Accuracy for class human_romanticism: 0.54\n",
            "Accuracy for class AI_expressionism: 0.64\n",
            "Accuracy for class AI_baroque: 0.41\n",
            "Accuracy for class AI_impressionism: 0.43\n",
            "Accuracy for class human_surrealism: 0.47\n",
            "Accuracy for class human_renaissance: 0.40\n",
            "Accuracy for class AI_post_impressionism: 0.65\n",
            "Accuracy for class AI_ukiyo-e: 0.43\n",
            "Accuracy for class human_impressionism: 0.59\n",
            "Accuracy for class AI_romanticism: 0.91\n",
            "--- Validating epoch 6 ---\n"
          ]
        },
        {
          "output_type": "stream",
          "name": "stderr",
          "text": [
            "Evaluate:   1%|          | 1/157 [00:00<00:35,  4.35it/s]"
          ]
        },
        {
          "output_type": "stream",
          "name": "stdout",
          "text": [
            "Batch 0, Validation Loss: 1.3671636581420898\n"
          ]
        },
        {
          "output_type": "stream",
          "name": "stderr",
          "text": [
            "Evaluate: 100%|██████████| 157/157 [00:40<00:00,  3.84it/s]\n"
          ]
        },
        {
          "output_type": "stream",
          "name": "stdout",
          "text": [
            "Epoch 6 Validation Loss: 1.3636715269088746\n",
            "Validation Metrics: Overall Accuracy: 0.5612\n",
            " Per-Class Accuracy:\n",
            "Accuracy for class human_romanticism: 0.82\n",
            "Accuracy for class AI_ukiyo-e: 0.74\n",
            "Accuracy for class AI_romanticism: 0.86\n",
            "Accuracy for class AI_art_nouveau: 0.66\n",
            "Accuracy for class human_surrealism: 0.66\n",
            "Accuracy for class AI_renaissance: 0.69\n",
            "Accuracy for class AI_realism: 0.69\n",
            "Accuracy for class human_ukiyo_e: 0.73\n",
            "Accuracy for class human_art_nouveau: 0.74\n",
            "Accuracy for class AI_post_impressionism: 0.93\n",
            "Accuracy for class human_baroque: 0.32\n",
            "Accuracy for class human_impressionism: 0.50\n",
            "Accuracy for class AI_impressionism: 0.23\n",
            "Accuracy for class human_renaissance: 0.42\n",
            "Accuracy for class human_expressionism: 0.15\n",
            "Accuracy for class human_realism: 0.23\n",
            "Accuracy for class AI_baroque: 0.45\n",
            "Accuracy for class human_post_impressionism: 0.26\n",
            "Accuracy for class AI_surrealism: 0.36\n",
            "Accuracy for class AI_expressionism: 0.78\n",
            "Early stopping counter: 3/3\n",
            "Early stopping triggered.\n"
          ]
        },
        {
          "output_type": "display_data",
          "data": {
            "text/plain": [
              "<IPython.core.display.HTML object>"
            ],
            "text/html": [
              "\n",
              "    <style>\n",
              "        .wandb-row {\n",
              "            display: flex;\n",
              "            flex-direction: row;\n",
              "            flex-wrap: wrap;\n",
              "            justify-content: flex-start;\n",
              "            width: 100%;\n",
              "        }\n",
              "        .wandb-col {\n",
              "            display: flex;\n",
              "            flex-direction: column;\n",
              "            flex-basis: 100%;\n",
              "            flex: 1;\n",
              "            padding: 10px;\n",
              "        }\n",
              "    </style>\n",
              "<div class=\"wandb-row\"><div class=\"wandb-col\"><h3>Run history:</h3><br/><table class=\"wandb\"><tr><td>epoch</td><td>▁▂▄▅▇█</td></tr><tr><td>train/acc</td><td>▁▄▅▆▇█</td></tr><tr><td>train/loss</td><td>█▅▃▃▂▁</td></tr><tr><td>val/acc</td><td>▁▅▆█▇▇</td></tr><tr><td>val/loss</td><td>█▃▂▁▃▅</td></tr></table><br/></div><div class=\"wandb-col\"><h3>Run summary:</h3><br/><table class=\"wandb\"><tr><td>epoch</td><td>5</td></tr><tr><td>train/acc</td><td>0.67866</td></tr><tr><td>train/loss</td><td>0.9121</td></tr><tr><td>val/acc</td><td>0.5615</td></tr><tr><td>val/loss</td><td>1.33126</td></tr></table><br/></div></div>"
            ]
          },
          "metadata": {}
        },
        {
          "output_type": "display_data",
          "data": {
            "text/plain": [
              "<IPython.core.display.HTML object>"
            ],
            "text/html": [
              " View run <strong style=\"color:#cdcd00\">comfy-thunder-85</strong> at: <a href='https://wandb.ai/ovsvc-tu-wien/ADL/runs/wzzbc7ib' target=\"_blank\">https://wandb.ai/ovsvc-tu-wien/ADL/runs/wzzbc7ib</a><br/> View project at: <a href='https://wandb.ai/ovsvc-tu-wien/ADL' target=\"_blank\">https://wandb.ai/ovsvc-tu-wien/ADL</a><br/>Synced 5 W&B file(s), 0 media file(s), 0 artifact file(s) and 0 other file(s)"
            ]
          },
          "metadata": {}
        },
        {
          "output_type": "display_data",
          "data": {
            "text/plain": [
              "<IPython.core.display.HTML object>"
            ],
            "text/html": [
              "Find logs at: <code>./wandb/run-20241217_190146-wzzbc7ib/logs</code>"
            ]
          },
          "metadata": {}
        }
      ],
      "source": [
        "train_transform = transforms.Compose([\n",
        "        transforms.Resize(size=(32, 32)),\n",
        "        transforms.ToTensor()\n",
        "    ])\n",
        "\n",
        "val_transform = transforms.Compose([\n",
        "        transforms.Resize(size=(32, 32)),\n",
        "        transforms.ToTensor()\n",
        "    ])\n",
        "\n",
        "test_transform = transforms.Compose([\n",
        "        transforms.Resize(size=(32, 32)),\n",
        "        transforms.ToTensor()\n",
        "    ])\n",
        "#freeze_layers=True & freeze_layers = ['conv1', 'bn1', 'layer1', 'layer2'] - what layers need to be frozen\n",
        "#freeze_layers=False - do not freeze any layers\n",
        "#freeze_layers=True - freeze all layers except for the last one\n",
        "freeze_layers = ['conv1', 'bn1', 'layer1', 'layer2']\n",
        "# Config for training and testing\n",
        "config = {\n",
        "    'model': ResNet18FineTuned(freeze_layers=True, specific_layers_to_freeze=freeze_layers),\n",
        "    'dataset_path': dataset_path,\n",
        "    'model_save_dir': 'saved_models',\n",
        "    'results_save_dir': 'saved_results',\n",
        "    'train_transform': train_transform,\n",
        "    'val_transform': val_transform,\n",
        "    'test_transform': test_transform,\n",
        "    'batch_size': 64,\n",
        "    'learning_rate': 0.001,\n",
        "    'scheduler_gamma': 0.9,\n",
        "    'epochs': 10,\n",
        "    'fraction': 1,\n",
        "    'val_frequency': 1,\n",
        "    'debug_mode': True,\n",
        "    'patience': 3,\n",
        "    'model_name': \"ResNet18\"\n",
        "}\n",
        "\n",
        "# Train the model\n",
        "\n",
        "trainer_resnet = train_model(config)"
      ]
    },
    {
      "cell_type": "code",
      "execution_count": 10,
      "metadata": {
        "colab": {
          "base_uri": "https://localhost:8080/",
          "height": 1000
        },
        "id": "2rWJzPXF9KZ-",
        "outputId": "b7640dfd-5736-4542-8e4e-159c96c626d7"
      },
      "outputs": [
        {
          "output_type": "stream",
          "name": "stdout",
          "text": [
            "CUDA (GPU) is available.\n",
            "Preprocessing dataset...\n",
            "Train dataset length: 90000\n",
            "Validation dataset length: 10000\n",
            "Test dataset length: 30000\n",
            "Model: ResNet18FineTuned(\n",
            "  (resnet18): ResNet(\n",
            "    (conv1): Conv2d(3, 64, kernel_size=(7, 7), stride=(2, 2), padding=(3, 3), bias=False)\n",
            "    (bn1): BatchNorm2d(64, eps=1e-05, momentum=0.1, affine=True, track_running_stats=True)\n",
            "    (relu): ReLU(inplace=True)\n",
            "    (maxpool): MaxPool2d(kernel_size=3, stride=2, padding=1, dilation=1, ceil_mode=False)\n",
            "    (layer1): Sequential(\n",
            "      (0): BasicBlock(\n",
            "        (conv1): Conv2d(64, 64, kernel_size=(3, 3), stride=(1, 1), padding=(1, 1), bias=False)\n",
            "        (bn1): BatchNorm2d(64, eps=1e-05, momentum=0.1, affine=True, track_running_stats=True)\n",
            "        (relu): ReLU(inplace=True)\n",
            "        (conv2): Conv2d(64, 64, kernel_size=(3, 3), stride=(1, 1), padding=(1, 1), bias=False)\n",
            "        (bn2): BatchNorm2d(64, eps=1e-05, momentum=0.1, affine=True, track_running_stats=True)\n",
            "      )\n",
            "      (1): BasicBlock(\n",
            "        (conv1): Conv2d(64, 64, kernel_size=(3, 3), stride=(1, 1), padding=(1, 1), bias=False)\n",
            "        (bn1): BatchNorm2d(64, eps=1e-05, momentum=0.1, affine=True, track_running_stats=True)\n",
            "        (relu): ReLU(inplace=True)\n",
            "        (conv2): Conv2d(64, 64, kernel_size=(3, 3), stride=(1, 1), padding=(1, 1), bias=False)\n",
            "        (bn2): BatchNorm2d(64, eps=1e-05, momentum=0.1, affine=True, track_running_stats=True)\n",
            "      )\n",
            "    )\n",
            "    (layer2): Sequential(\n",
            "      (0): BasicBlock(\n",
            "        (conv1): Conv2d(64, 128, kernel_size=(3, 3), stride=(2, 2), padding=(1, 1), bias=False)\n",
            "        (bn1): BatchNorm2d(128, eps=1e-05, momentum=0.1, affine=True, track_running_stats=True)\n",
            "        (relu): ReLU(inplace=True)\n",
            "        (conv2): Conv2d(128, 128, kernel_size=(3, 3), stride=(1, 1), padding=(1, 1), bias=False)\n",
            "        (bn2): BatchNorm2d(128, eps=1e-05, momentum=0.1, affine=True, track_running_stats=True)\n",
            "        (downsample): Sequential(\n",
            "          (0): Conv2d(64, 128, kernel_size=(1, 1), stride=(2, 2), bias=False)\n",
            "          (1): BatchNorm2d(128, eps=1e-05, momentum=0.1, affine=True, track_running_stats=True)\n",
            "        )\n",
            "      )\n",
            "      (1): BasicBlock(\n",
            "        (conv1): Conv2d(128, 128, kernel_size=(3, 3), stride=(1, 1), padding=(1, 1), bias=False)\n",
            "        (bn1): BatchNorm2d(128, eps=1e-05, momentum=0.1, affine=True, track_running_stats=True)\n",
            "        (relu): ReLU(inplace=True)\n",
            "        (conv2): Conv2d(128, 128, kernel_size=(3, 3), stride=(1, 1), padding=(1, 1), bias=False)\n",
            "        (bn2): BatchNorm2d(128, eps=1e-05, momentum=0.1, affine=True, track_running_stats=True)\n",
            "      )\n",
            "    )\n",
            "    (layer3): Sequential(\n",
            "      (0): BasicBlock(\n",
            "        (conv1): Conv2d(128, 256, kernel_size=(3, 3), stride=(2, 2), padding=(1, 1), bias=False)\n",
            "        (bn1): BatchNorm2d(256, eps=1e-05, momentum=0.1, affine=True, track_running_stats=True)\n",
            "        (relu): ReLU(inplace=True)\n",
            "        (conv2): Conv2d(256, 256, kernel_size=(3, 3), stride=(1, 1), padding=(1, 1), bias=False)\n",
            "        (bn2): BatchNorm2d(256, eps=1e-05, momentum=0.1, affine=True, track_running_stats=True)\n",
            "        (downsample): Sequential(\n",
            "          (0): Conv2d(128, 256, kernel_size=(1, 1), stride=(2, 2), bias=False)\n",
            "          (1): BatchNorm2d(256, eps=1e-05, momentum=0.1, affine=True, track_running_stats=True)\n",
            "        )\n",
            "      )\n",
            "      (1): BasicBlock(\n",
            "        (conv1): Conv2d(256, 256, kernel_size=(3, 3), stride=(1, 1), padding=(1, 1), bias=False)\n",
            "        (bn1): BatchNorm2d(256, eps=1e-05, momentum=0.1, affine=True, track_running_stats=True)\n",
            "        (relu): ReLU(inplace=True)\n",
            "        (conv2): Conv2d(256, 256, kernel_size=(3, 3), stride=(1, 1), padding=(1, 1), bias=False)\n",
            "        (bn2): BatchNorm2d(256, eps=1e-05, momentum=0.1, affine=True, track_running_stats=True)\n",
            "      )\n",
            "    )\n",
            "    (layer4): Sequential(\n",
            "      (0): BasicBlock(\n",
            "        (conv1): Conv2d(256, 512, kernel_size=(3, 3), stride=(2, 2), padding=(1, 1), bias=False)\n",
            "        (bn1): BatchNorm2d(512, eps=1e-05, momentum=0.1, affine=True, track_running_stats=True)\n",
            "        (relu): ReLU(inplace=True)\n",
            "        (conv2): Conv2d(512, 512, kernel_size=(3, 3), stride=(1, 1), padding=(1, 1), bias=False)\n",
            "        (bn2): BatchNorm2d(512, eps=1e-05, momentum=0.1, affine=True, track_running_stats=True)\n",
            "        (downsample): Sequential(\n",
            "          (0): Conv2d(256, 512, kernel_size=(1, 1), stride=(2, 2), bias=False)\n",
            "          (1): BatchNorm2d(512, eps=1e-05, momentum=0.1, affine=True, track_running_stats=True)\n",
            "        )\n",
            "      )\n",
            "      (1): BasicBlock(\n",
            "        (conv1): Conv2d(512, 512, kernel_size=(3, 3), stride=(1, 1), padding=(1, 1), bias=False)\n",
            "        (bn1): BatchNorm2d(512, eps=1e-05, momentum=0.1, affine=True, track_running_stats=True)\n",
            "        (relu): ReLU(inplace=True)\n",
            "        (conv2): Conv2d(512, 512, kernel_size=(3, 3), stride=(1, 1), padding=(1, 1), bias=False)\n",
            "        (bn2): BatchNorm2d(512, eps=1e-05, momentum=0.1, affine=True, track_running_stats=True)\n",
            "      )\n",
            "    )\n",
            "    (avgpool): AdaptiveAvgPool2d(output_size=(1, 1))\n",
            "    (fc): Linear(in_features=512, out_features=20, bias=True)\n",
            "  )\n",
            ")\n"
          ]
        },
        {
          "output_type": "display_data",
          "data": {
            "text/plain": [
              "<IPython.core.display.HTML object>"
            ],
            "text/html": [
              "Finishing last run (ID:3va3s2mv) before initializing another..."
            ]
          },
          "metadata": {}
        },
        {
          "output_type": "display_data",
          "data": {
            "text/plain": [
              "<IPython.core.display.HTML object>"
            ],
            "text/html": [
              " View run <strong style=\"color:#cdcd00\">astral-eon-88</strong> at: <a href='https://wandb.ai/ovsvc-tu-wien/ADL/runs/3va3s2mv' target=\"_blank\">https://wandb.ai/ovsvc-tu-wien/ADL/runs/3va3s2mv</a><br/> View project at: <a href='https://wandb.ai/ovsvc-tu-wien/ADL' target=\"_blank\">https://wandb.ai/ovsvc-tu-wien/ADL</a><br/>Synced 5 W&B file(s), 0 media file(s), 0 artifact file(s) and 0 other file(s)"
            ]
          },
          "metadata": {}
        },
        {
          "output_type": "display_data",
          "data": {
            "text/plain": [
              "<IPython.core.display.HTML object>"
            ],
            "text/html": [
              "Find logs at: <code>./wandb/run-20241217_195607-3va3s2mv/logs</code>"
            ]
          },
          "metadata": {}
        },
        {
          "output_type": "display_data",
          "data": {
            "text/plain": [
              "<IPython.core.display.HTML object>"
            ],
            "text/html": [
              "Successfully finished last run (ID:3va3s2mv). Initializing new run:<br/>"
            ]
          },
          "metadata": {}
        },
        {
          "output_type": "display_data",
          "data": {
            "text/plain": [
              "<IPython.core.display.HTML object>"
            ],
            "text/html": [
              "Tracking run with wandb version 0.18.7"
            ]
          },
          "metadata": {}
        },
        {
          "output_type": "display_data",
          "data": {
            "text/plain": [
              "<IPython.core.display.HTML object>"
            ],
            "text/html": [
              "Run data is saved locally in <code>/content/wandb/run-20241217_200145-5povegly</code>"
            ]
          },
          "metadata": {}
        },
        {
          "output_type": "display_data",
          "data": {
            "text/plain": [
              "<IPython.core.display.HTML object>"
            ],
            "text/html": [
              "Syncing run <strong><a href='https://wandb.ai/ovsvc-tu-wien/ADL/runs/5povegly' target=\"_blank\">unique-wildflower-89</a></strong> to <a href='https://wandb.ai/ovsvc-tu-wien/ADL' target=\"_blank\">Weights & Biases</a> (<a href='https://wandb.me/developer-guide' target=\"_blank\">docs</a>)<br/>"
            ]
          },
          "metadata": {}
        },
        {
          "output_type": "display_data",
          "data": {
            "text/plain": [
              "<IPython.core.display.HTML object>"
            ],
            "text/html": [
              " View project at <a href='https://wandb.ai/ovsvc-tu-wien/ADL' target=\"_blank\">https://wandb.ai/ovsvc-tu-wien/ADL</a>"
            ]
          },
          "metadata": {}
        },
        {
          "output_type": "display_data",
          "data": {
            "text/plain": [
              "<IPython.core.display.HTML object>"
            ],
            "text/html": [
              " View run at <a href='https://wandb.ai/ovsvc-tu-wien/ADL/runs/5povegly' target=\"_blank\">https://wandb.ai/ovsvc-tu-wien/ADL/runs/5povegly</a>"
            ]
          },
          "metadata": {}
        },
        {
          "output_type": "stream",
          "name": "stdout",
          "text": [
            "Testing the model...\n"
          ]
        },
        {
          "output_type": "display_data",
          "data": {
            "text/plain": [
              "<IPython.core.display.HTML object>"
            ],
            "text/html": [
              "Finishing last run (ID:5povegly) before initializing another..."
            ]
          },
          "metadata": {}
        },
        {
          "output_type": "display_data",
          "data": {
            "text/plain": [
              "<IPython.core.display.HTML object>"
            ],
            "text/html": [
              " View run <strong style=\"color:#cdcd00\">unique-wildflower-89</strong> at: <a href='https://wandb.ai/ovsvc-tu-wien/ADL/runs/5povegly' target=\"_blank\">https://wandb.ai/ovsvc-tu-wien/ADL/runs/5povegly</a><br/> View project at: <a href='https://wandb.ai/ovsvc-tu-wien/ADL' target=\"_blank\">https://wandb.ai/ovsvc-tu-wien/ADL</a><br/>Synced 5 W&B file(s), 0 media file(s), 0 artifact file(s) and 0 other file(s)"
            ]
          },
          "metadata": {}
        },
        {
          "output_type": "display_data",
          "data": {
            "text/plain": [
              "<IPython.core.display.HTML object>"
            ],
            "text/html": [
              "Find logs at: <code>./wandb/run-20241217_200145-5povegly/logs</code>"
            ]
          },
          "metadata": {}
        },
        {
          "output_type": "display_data",
          "data": {
            "text/plain": [
              "<IPython.core.display.HTML object>"
            ],
            "text/html": [
              "Successfully finished last run (ID:5povegly). Initializing new run:<br/>"
            ]
          },
          "metadata": {}
        },
        {
          "output_type": "display_data",
          "data": {
            "text/plain": [
              "<IPython.core.display.HTML object>"
            ],
            "text/html": [
              "Tracking run with wandb version 0.18.7"
            ]
          },
          "metadata": {}
        },
        {
          "output_type": "display_data",
          "data": {
            "text/plain": [
              "<IPython.core.display.HTML object>"
            ],
            "text/html": [
              "Run data is saved locally in <code>/content/wandb/run-20241217_200150-63mc2csn</code>"
            ]
          },
          "metadata": {}
        },
        {
          "output_type": "display_data",
          "data": {
            "text/plain": [
              "<IPython.core.display.HTML object>"
            ],
            "text/html": [
              "Syncing run <strong><a href='https://wandb.ai/ovsvc-tu-wien/ADL/runs/63mc2csn' target=\"_blank\">dry-donkey-90</a></strong> to <a href='https://wandb.ai/ovsvc-tu-wien/ADL' target=\"_blank\">Weights & Biases</a> (<a href='https://wandb.me/developer-guide' target=\"_blank\">docs</a>)<br/>"
            ]
          },
          "metadata": {}
        },
        {
          "output_type": "display_data",
          "data": {
            "text/plain": [
              "<IPython.core.display.HTML object>"
            ],
            "text/html": [
              " View project at <a href='https://wandb.ai/ovsvc-tu-wien/ADL' target=\"_blank\">https://wandb.ai/ovsvc-tu-wien/ADL</a>"
            ]
          },
          "metadata": {}
        },
        {
          "output_type": "display_data",
          "data": {
            "text/plain": [
              "<IPython.core.display.HTML object>"
            ],
            "text/html": [
              " View run at <a href='https://wandb.ai/ovsvc-tu-wien/ADL/runs/63mc2csn' target=\"_blank\">https://wandb.ai/ovsvc-tu-wien/ADL/runs/63mc2csn</a>"
            ]
          },
          "metadata": {}
        },
        {
          "output_type": "stream",
          "name": "stderr",
          "text": [
            "Test: 100%|██████████| 469/469 [02:18<00:00,  3.39it/s]"
          ]
        },
        {
          "output_type": "stream",
          "name": "stdout",
          "text": [
            "Test Metrics: Overall Accuracy: 0.6318\n",
            " Per-Class Accuracy:\n",
            "Accuracy for class human_romanticism: 0.86\n",
            "Accuracy for class AI_expressionism: 0.70\n",
            "Accuracy for class AI_baroque: 0.81\n",
            "Accuracy for class AI_ukiyo-e: 0.74\n",
            "Accuracy for class human_renaissance: 0.57\n",
            "Accuracy for class human_post_impressionism: 0.70\n",
            "Accuracy for class human_realism: 0.73\n",
            "Accuracy for class AI_art_nouveau: 0.74\n",
            "Accuracy for class AI_romanticism: 0.81\n",
            "Accuracy for class AI_renaissance: 0.97\n",
            "Accuracy for class human_expressionism: 0.32\n",
            "Accuracy for class AI_impressionism: 0.48\n",
            "Accuracy for class AI_post_impressionism: 0.20\n",
            "Accuracy for class human_baroque: 0.33\n",
            "Accuracy for class AI_surrealism: 0.23\n",
            "Accuracy for class human_impressionism: 0.20\n",
            "Accuracy for class AI_realism: 0.46\n",
            "Accuracy for class human_surrealism: 0.28\n",
            "Accuracy for class human_art_nouveau: 0.36\n",
            "Accuracy for class human_ukiyo_e: 0.80\n"
          ]
        },
        {
          "output_type": "stream",
          "name": "stderr",
          "text": [
            "\n"
          ]
        }
      ],
      "source": [
        "# Test the model (reuse the trainer)\n",
        "test_loss, test_accuracy, test_per_class_accuracy, all_labels, all_predictions, test_classes = test_model(config, trainer=None)"
      ]
    },
    {
      "cell_type": "code",
      "execution_count": 11,
      "metadata": {
        "colab": {
          "base_uri": "https://localhost:8080/",
          "height": 1000
        },
        "id": "V3W5rkW49KZ-",
        "outputId": "6b4e129b-7279-4543-cb3b-d198d2284839"
      },
      "outputs": [
        {
          "output_type": "display_data",
          "data": {
            "text/plain": [
              "<Figure size 1200x1200 with 2 Axes>"
            ],
            "image/png": "[encoded data removed]"
          },
          "metadata": {}
        },
        {
          "output_type": "stream",
          "name": "stdout",
          "text": [
            "\n",
            "Classification Report:\n",
            "                          precision    recall  f1-score   support\n",
            "\n",
            "       human_romanticism       0.79      0.86      0.83      2000\n",
            "        AI_expressionism       0.74      0.70      0.72      2000\n",
            "              AI_baroque       0.88      0.81      0.84      2000\n",
            "              AI_ukiyo-e       0.64      0.74      0.69      2000\n",
            "       human_renaissance       0.68      0.57      0.62      2000\n",
            "human_post_impressionism       0.68      0.70      0.69      2000\n",
            "           human_realism       0.77      0.73      0.75      2000\n",
            "          AI_art_nouveau       0.77      0.74      0.76      2000\n",
            "          AI_romanticism       0.76      0.81      0.79      2000\n",
            "          AI_renaissance       0.93      0.97      0.95      2000\n",
            "     human_expressionism       0.35      0.32      0.33      1000\n",
            "        AI_impressionism       0.43      0.48      0.46      1000\n",
            "   AI_post_impressionism       0.24      0.20      0.22      1000\n",
            "           human_baroque       0.29      0.33      0.31      1000\n",
            "           AI_surrealism       0.31      0.23      0.27      1000\n",
            "     human_impressionism       0.29      0.20      0.23      1000\n",
            "              AI_realism       0.33      0.46      0.38      1000\n",
            "        human_surrealism       0.32      0.28      0.30      1000\n",
            "       human_art_nouveau       0.33      0.36      0.34      1000\n",
            "           human_ukiyo_e       0.66      0.80      0.73      1000\n",
            "\n",
            "                accuracy                           0.63     30000\n",
            "               macro avg       0.56      0.57      0.56     30000\n",
            "            weighted avg       0.63      0.63      0.63     30000\n",
            "\n",
            "Test Loss: 1.0741\n",
            "Test Accuracy: 0.6318\n",
            "Overall Precision: 0.6285\n",
            "Overall Recall: 0.6318\n",
            "Overall F1-Score: 0.6278\n",
            "Overall Accuracy: 0.6318\n"
          ]
        }
      ],
      "source": [
        "# Analyze test results\n",
        "metrics = analyze_test_results(\n",
        "    test_loss=test_loss,\n",
        "    test_accuracy=test_accuracy,\n",
        "    test_per_class_accuracy=test_per_class_accuracy,\n",
        "    all_labels=all_labels,\n",
        "    all_predictions=all_predictions,\n",
        "    classes=test_classes\n",
        ")"
      ]
    },
    {
      "cell_type": "markdown",
      "metadata": {
        "id": "6RPOLAQf1g6S"
      },
      "source": []
    }
  ],
  "metadata": {
    "accelerator": "GPU",
    "colab": {
      "gpuType": "A100",
      "provenance": []
    },
    "kernelspec": {
      "display_name": "Python 3",
      "name": "python3"
    },
    "language_info": {
      "codemirror_mode": {
        "name": "ipython",
        "version": 3
      },
      "file_extension": ".py",
      "mimetype": "text/x-python",
      "name": "python",
      "nbconvert_exporter": "python",
      "pygments_lexer": "ipython3",
      "version": "3.11.11"
    }
  },
  "nbformat": 4,
  "nbformat_minor": 0
}
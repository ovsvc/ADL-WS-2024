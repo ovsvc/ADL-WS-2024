{
  "cells": [
    {
      "cell_type": "markdown",
      "metadata": {
        "id": "dYpvfW_v1g6M"
      },
      "source": [
        "##### Colab"
      ]
    },
    {
      "cell_type": "code",
      "execution_count": 1,
      "metadata": {
        "colab": {
          "base_uri": "https://localhost:8080/"
        },
        "id": "tIsoWB3s1g6O",
        "outputId": "4675ee9d-e444-49c4-d41a-418fc3dcdeff"
      },
      "outputs": [
        {
          "output_type": "stream",
          "name": "stdout",
          "text": [
            "Mounted at /content/drive\n"
          ]
        }
      ],
      "source": [
        "# Colab\n",
        "from google.colab import drive\n",
        "drive.mount('/content/drive')"
      ]
    },
    {
      "cell_type": "code",
      "execution_count": 2,
      "metadata": {
        "id": "S4ZttW8H1g6O"
      },
      "outputs": [],
      "source": [
        "! pip install -q kaggle"
      ]
    },
    {
      "cell_type": "code",
      "execution_count": 3,
      "metadata": {
        "id": "vAGLOPYw1g6P"
      },
      "outputs": [],
      "source": [
        "from google.colab import userdata\n",
        "import os\n",
        "\n",
        "os.environ[\"kaggle_key\"] = userdata.get('kaggle_key')\n",
        "os.environ[\"kaggle_username\"] = userdata.get('kaggle_username')"
      ]
    },
    {
      "cell_type": "code",
      "execution_count": null,
      "metadata": {
        "id": "IbZacPMO1g6P"
      },
      "outputs": [],
      "source": [
        "!kaggle datasets download -d ravidussilva/real-ai-art\n",
        "! unzip \"real-ai-art\""
      ]
    },
    {
      "cell_type": "markdown",
      "metadata": {
        "id": "Qs7W5jfh1g6P"
      },
      "source": [
        "##### Local & Colab"
      ]
    },
    {
      "cell_type": "code",
      "execution_count": 11,
      "metadata": {
        "id": "5h4oeW0t1g6Q"
      },
      "outputs": [],
      "source": [
        "#Imports\n",
        "import sys\n",
        "#sys.path.append('/Users/viktoriiaovsianik/Documents/Uni/04_WS2024/06_ADL/Code/ADL-WS-2024')\n",
        "sys.path.append('/content/drive/MyDrive/06_TUWien/10_ADL')\n",
        "from scripts.run_cnn import train_model, test_model\n",
        "\n",
        "from models.resnet18_modified import ResNet18Modified\n",
        "from models.resnet18 import ResNet18FineTuned\n",
        "from scripts.evaluation import analyze_test_results\n",
        "import torchvision.transforms as transforms"
      ]
    },
    {
      "cell_type": "code",
      "execution_count": 7,
      "metadata": {
        "id": "3LVdKLqV1g6Q"
      },
      "outputs": [],
      "source": [
        "#dataset_path = \"/Users/viktoriiaovsianik/Documents/Uni/04_WS2024/06_ADL/Code/ADL-WS-2024/data\"\n",
        "dataset_path = \"/content/Real_AI_SD_LD_Dataset\""
      ]
    },
    {
      "cell_type": "markdown",
      "metadata": {
        "id": "SXFF5BDe9KZ8"
      },
      "source": [
        "#### Train & test using transfer learning (ResNet18)"
      ]
    },
    {
      "cell_type": "code",
      "execution_count": 12,
      "metadata": {
        "colab": {
          "base_uri": "https://localhost:8080/",
          "height": 1000
        },
        "id": "iseRFJ6S9KZ9",
        "outputId": "711ada66-7db5-424c-ff0f-c16d2cfe0626"
      },
      "outputs": [
        {
          "metadata": {
            "tags": null
          },
          "name": "stderr",
          "output_type": "stream",
          "text": [
            "/usr/local/lib/python3.10/dist-packages/torchvision/models/_utils.py:208: UserWarning: The parameter 'pretrained' is deprecated since 0.13 and may be removed in the future, please use 'weights' instead.\n",
            "  warnings.warn(\n",
            "/usr/local/lib/python3.10/dist-packages/torchvision/models/_utils.py:223: UserWarning: Arguments other than a weight enum or `None` for 'weights' are deprecated since 0.13 and may be removed in the future. The current behavior is equivalent to passing `weights=ResNet18_Weights.IMAGENET1K_V1`. You can also use `weights=ResNet18_Weights.DEFAULT` to get the most up-to-date weights.\n",
            "  warnings.warn(msg)\n"
          ]
        },
        {
          "metadata": {
            "tags": null
          },
          "name": "stdout",
          "output_type": "stream",
          "text": [
            "List of parameters that require gradients:\n",
            "layer3.0.conv1.weight\n",
            "layer3.0.bn1.weight\n",
            "layer3.0.bn1.bias\n",
            "layer3.0.conv2.weight\n",
            "layer3.0.bn2.weight\n",
            "layer3.0.bn2.bias\n",
            "layer3.0.downsample.0.weight\n",
            "layer3.0.downsample.1.weight\n",
            "layer3.0.downsample.1.bias\n",
            "layer3.1.conv1.weight\n",
            "layer3.1.bn1.weight\n",
            "layer3.1.bn1.bias\n",
            "layer3.1.conv2.weight\n",
            "layer3.1.bn2.weight\n",
            "layer3.1.bn2.bias\n",
            "layer4.0.conv1.weight\n",
            "layer4.0.bn1.weight\n",
            "layer4.0.bn1.bias\n",
            "layer4.0.conv2.weight\n",
            "layer4.0.bn2.weight\n",
            "layer4.0.bn2.bias\n",
            "layer4.0.downsample.0.weight\n",
            "layer4.0.downsample.1.weight\n",
            "layer4.0.downsample.1.bias\n",
            "layer4.1.conv1.weight\n",
            "layer4.1.bn1.weight\n",
            "layer4.1.bn1.bias\n",
            "layer4.1.conv2.weight\n",
            "layer4.1.bn2.weight\n",
            "layer4.1.bn2.bias\n",
            "fc.weight\n",
            "fc.bias\n",
            "CUDA (GPU) is available.\n",
            "Preprocessing dataset...\n",
            "Train dataset length: 90000\n",
            "Validation dataset length: 10000\n",
            "Test dataset length: 30000\n",
            "Model: ResNet18FineTuned(\n",
            "  (resnet18): ResNet(\n",
            "    (conv1): Conv2d(3, 64, kernel_size=(7, 7), stride=(2, 2), padding=(3, 3), bias=False)\n",
            "    (bn1): BatchNorm2d(64, eps=1e-05, momentum=0.1, affine=True, track_running_stats=True)\n",
            "    (relu): ReLU(inplace=True)\n",
            "    (maxpool): MaxPool2d(kernel_size=3, stride=2, padding=1, dilation=1, ceil_mode=False)\n",
            "    (layer1): Sequential(\n",
            "      (0): BasicBlock(\n",
            "        (conv1): Conv2d(64, 64, kernel_size=(3, 3), stride=(1, 1), padding=(1, 1), bias=False)\n",
            "        (bn1): BatchNorm2d(64, eps=1e-05, momentum=0.1, affine=True, track_running_stats=True)\n",
            "        (relu): ReLU(inplace=True)\n",
            "        (conv2): Conv2d(64, 64, kernel_size=(3, 3), stride=(1, 1), padding=(1, 1), bias=False)\n",
            "        (bn2): BatchNorm2d(64, eps=1e-05, momentum=0.1, affine=True, track_running_stats=True)\n",
            "      )\n",
            "      (1): BasicBlock(\n",
            "        (conv1): Conv2d(64, 64, kernel_size=(3, 3), stride=(1, 1), padding=(1, 1), bias=False)\n",
            "        (bn1): BatchNorm2d(64, eps=1e-05, momentum=0.1, affine=True, track_running_stats=True)\n",
            "        (relu): ReLU(inplace=True)\n",
            "        (conv2): Conv2d(64, 64, kernel_size=(3, 3), stride=(1, 1), padding=(1, 1), bias=False)\n",
            "        (bn2): BatchNorm2d(64, eps=1e-05, momentum=0.1, affine=True, track_running_stats=True)\n",
            "      )\n",
            "    )\n",
            "    (layer2): Sequential(\n",
            "      (0): BasicBlock(\n",
            "        (conv1): Conv2d(64, 128, kernel_size=(3, 3), stride=(2, 2), padding=(1, 1), bias=False)\n",
            "        (bn1): BatchNorm2d(128, eps=1e-05, momentum=0.1, affine=True, track_running_stats=True)\n",
            "        (relu): ReLU(inplace=True)\n",
            "        (conv2): Conv2d(128, 128, kernel_size=(3, 3), stride=(1, 1), padding=(1, 1), bias=False)\n",
            "        (bn2): BatchNorm2d(128, eps=1e-05, momentum=0.1, affine=True, track_running_stats=True)\n",
            "        (downsample): Sequential(\n",
            "          (0): Conv2d(64, 128, kernel_size=(1, 1), stride=(2, 2), bias=False)\n",
            "          (1): BatchNorm2d(128, eps=1e-05, momentum=0.1, affine=True, track_running_stats=True)\n",
            "        )\n",
            "      )\n",
            "      (1): BasicBlock(\n",
            "        (conv1): Conv2d(128, 128, kernel_size=(3, 3), stride=(1, 1), padding=(1, 1), bias=False)\n",
            "        (bn1): BatchNorm2d(128, eps=1e-05, momentum=0.1, affine=True, track_running_stats=True)\n",
            "        (relu): ReLU(inplace=True)\n",
            "        (conv2): Conv2d(128, 128, kernel_size=(3, 3), stride=(1, 1), padding=(1, 1), bias=False)\n",
            "        (bn2): BatchNorm2d(128, eps=1e-05, momentum=0.1, affine=True, track_running_stats=True)\n",
            "      )\n",
            "    )\n",
            "    (layer3): Sequential(\n",
            "      (0): BasicBlock(\n",
            "        (conv1): Conv2d(128, 256, kernel_size=(3, 3), stride=(2, 2), padding=(1, 1), bias=False)\n",
            "        (bn1): BatchNorm2d(256, eps=1e-05, momentum=0.1, affine=True, track_running_stats=True)\n",
            "        (relu): ReLU(inplace=True)\n",
            "        (conv2): Conv2d(256, 256, kernel_size=(3, 3), stride=(1, 1), padding=(1, 1), bias=False)\n",
            "        (bn2): BatchNorm2d(256, eps=1e-05, momentum=0.1, affine=True, track_running_stats=True)\n",
            "        (downsample): Sequential(\n",
            "          (0): Conv2d(128, 256, kernel_size=(1, 1), stride=(2, 2), bias=False)\n",
            "          (1): BatchNorm2d(256, eps=1e-05, momentum=0.1, affine=True, track_running_stats=True)\n",
            "        )\n",
            "      )\n",
            "      (1): BasicBlock(\n",
            "        (conv1): Conv2d(256, 256, kernel_size=(3, 3), stride=(1, 1), padding=(1, 1), bias=False)\n",
            "        (bn1): BatchNorm2d(256, eps=1e-05, momentum=0.1, affine=True, track_running_stats=True)\n",
            "        (relu): ReLU(inplace=True)\n",
            "        (conv2): Conv2d(256, 256, kernel_size=(3, 3), stride=(1, 1), padding=(1, 1), bias=False)\n",
            "        (bn2): BatchNorm2d(256, eps=1e-05, momentum=0.1, affine=True, track_running_stats=True)\n",
            "      )\n",
            "    )\n",
            "    (layer4): Sequential(\n",
            "      (0): BasicBlock(\n",
            "        (conv1): Conv2d(256, 512, kernel_size=(3, 3), stride=(2, 2), padding=(1, 1), bias=False)\n",
            "        (bn1): BatchNorm2d(512, eps=1e-05, momentum=0.1, affine=True, track_running_stats=True)\n",
            "        (relu): ReLU(inplace=True)\n",
            "        (conv2): Conv2d(512, 512, kernel_size=(3, 3), stride=(1, 1), padding=(1, 1), bias=False)\n",
            "        (bn2): BatchNorm2d(512, eps=1e-05, momentum=0.1, affine=True, track_running_stats=True)\n",
            "        (downsample): Sequential(\n",
            "          (0): Conv2d(256, 512, kernel_size=(1, 1), stride=(2, 2), bias=False)\n",
            "          (1): BatchNorm2d(512, eps=1e-05, momentum=0.1, affine=True, track_running_stats=True)\n",
            "        )\n",
            "      )\n",
            "      (1): BasicBlock(\n",
            "        (conv1): Conv2d(512, 512, kernel_size=(3, 3), stride=(1, 1), padding=(1, 1), bias=False)\n",
            "        (bn1): BatchNorm2d(512, eps=1e-05, momentum=0.1, affine=True, track_running_stats=True)\n",
            "        (relu): ReLU(inplace=True)\n",
            "        (conv2): Conv2d(512, 512, kernel_size=(3, 3), stride=(1, 1), padding=(1, 1), bias=False)\n",
            "        (bn2): BatchNorm2d(512, eps=1e-05, momentum=0.1, affine=True, track_running_stats=True)\n",
            "      )\n",
            "    )\n",
            "    (avgpool): AdaptiveAvgPool2d(output_size=(1, 1))\n",
            "    (fc): Linear(in_features=512, out_features=20, bias=True)\n",
            "  )\n",
            ")\n"
          ]
        },
        {
          "data": {
            "text/html": [
              "Finishing last run (ID:2u1mrv1c) before initializing another..."
            ],
            "text/plain": [
              "<IPython.core.display.HTML object>"
            ]
          },
          "metadata": {},
          "output_type": "display_data"
        },
        {
          "data": {
            "text/html": [
              "\n",
              "    <style>\n",
              "        .wandb-row {\n",
              "            display: flex;\n",
              "            flex-direction: row;\n",
              "            flex-wrap: wrap;\n",
              "            justify-content: flex-start;\n",
              "            width: 100%;\n",
              "        }\n",
              "        .wandb-col {\n",
              "            display: flex;\n",
              "            flex-direction: column;\n",
              "            flex-basis: 100%;\n",
              "            flex: 1;\n",
              "            padding: 10px;\n",
              "        }\n",
              "    </style>\n",
              "<div class=\"wandb-row\"><div class=\"wandb-col\"><h3>Run history:</h3><br/><table class=\"wandb\"><tr><td>epoch</td><td>▁</td></tr><tr><td>train/acc</td><td>▁</td></tr><tr><td>train/loss</td><td>▁</td></tr><tr><td>val/acc</td><td>▁</td></tr><tr><td>val/loss</td><td>▁</td></tr></table><br/></div><div class=\"wandb-col\"><h3>Run summary:</h3><br/><table class=\"wandb\"><tr><td>epoch</td><td>0</td></tr><tr><td>train/acc</td><td>0.31724</td></tr><tr><td>train/loss</td><td>2.1119</td></tr><tr><td>val/acc</td><td>0.452</td></tr><tr><td>val/loss</td><td>1.61802</td></tr></table><br/></div></div>"
            ],
            "text/plain": [
              "<IPython.core.display.HTML object>"
            ]
          },
          "metadata": {},
          "output_type": "display_data"
        },
        {
          "data": {
            "text/html": [
              " View run <strong style=\"color:#cdcd00\">misunderstood-flower-94</strong> at: <a href='https://wandb.ai/ovsvc-tu-wien/ADL/runs/2u1mrv1c' target=\"_blank\">https://wandb.ai/ovsvc-tu-wien/ADL/runs/2u1mrv1c</a><br/> View project at: <a href='https://wandb.ai/ovsvc-tu-wien/ADL' target=\"_blank\">https://wandb.ai/ovsvc-tu-wien/ADL</a><br/>Synced 5 W&B file(s), 0 media file(s), 0 artifact file(s) and 0 other file(s)"
            ],
            "text/plain": [
              "<IPython.core.display.HTML object>"
            ]
          },
          "metadata": {},
          "output_type": "display_data"
        },
        {
          "data": {
            "text/html": [
              "Find logs at: <code>./wandb/run-20241217_215226-2u1mrv1c/logs</code>"
            ],
            "text/plain": [
              "<IPython.core.display.HTML object>"
            ]
          },
          "metadata": {},
          "output_type": "display_data"
        },
        {
          "data": {
            "text/html": [
              "Successfully finished last run (ID:2u1mrv1c). Initializing new run:<br/>"
            ],
            "text/plain": [
              "<IPython.core.display.HTML object>"
            ]
          },
          "metadata": {},
          "output_type": "display_data"
        },
        {
          "data": {
            "text/html": [
              "Tracking run with wandb version 0.18.7"
            ],
            "text/plain": [
              "<IPython.core.display.HTML object>"
            ]
          },
          "metadata": {},
          "output_type": "display_data"
        },
        {
          "data": {
            "text/html": [
              "Run data is saved locally in <code>/content/wandb/run-20241217_220414-3a391yzf</code>"
            ],
            "text/plain": [
              "<IPython.core.display.HTML object>"
            ]
          },
          "metadata": {},
          "output_type": "display_data"
        },
        {
          "data": {
            "text/html": [
              "Syncing run <strong><a href='https://wandb.ai/ovsvc-tu-wien/ADL/runs/3a391yzf' target=\"_blank\">easy-sponge-95</a></strong> to <a href='https://wandb.ai/ovsvc-tu-wien/ADL' target=\"_blank\">Weights & Biases</a> (<a href='https://wandb.me/developer-guide' target=\"_blank\">docs</a>)<br/>"
            ],
            "text/plain": [
              "<IPython.core.display.HTML object>"
            ]
          },
          "metadata": {},
          "output_type": "display_data"
        },
        {
          "data": {
            "text/html": [
              " View project at <a href='https://wandb.ai/ovsvc-tu-wien/ADL' target=\"_blank\">https://wandb.ai/ovsvc-tu-wien/ADL</a>"
            ],
            "text/plain": [
              "<IPython.core.display.HTML object>"
            ]
          },
          "metadata": {},
          "output_type": "display_data"
        },
        {
          "data": {
            "text/html": [
              " View run at <a href='https://wandb.ai/ovsvc-tu-wien/ADL/runs/3a391yzf' target=\"_blank\">https://wandb.ai/ovsvc-tu-wien/ADL/runs/3a391yzf</a>"
            ],
            "text/plain": [
              "<IPython.core.display.HTML object>"
            ]
          },
          "metadata": {},
          "output_type": "display_data"
        },
        {
          "metadata": {
            "tags": null
          },
          "name": "stdout",
          "output_type": "stream",
          "text": [
            "Training with batch size: 64\n",
            "Epoch 0/10:\n",
            "--- Training epoch 0 ---\n"
          ]
        },
        {
          "metadata": {
            "tags": null
          },
          "name": "stderr",
          "output_type": "stream",
          "text": [
            "Train:   0%|          | 1/1407 [00:00<10:31,  2.22it/s]"
          ]
        },
        {
          "metadata": {
            "tags": null
          },
          "name": "stdout",
          "output_type": "stream",
          "text": [
            "Batch 0, Loss: 3.4820635318756104\n"
          ]
        },
        {
          "output_type": "stream",
          "name": "stderr",
          "text": [
            "Train:  36%|███▌      | 501/1407 [03:13<05:54,  2.56it/s]"
          ]
        },
        {
          "output_type": "stream",
          "name": "stdout",
          "text": [
            "Batch 500, Loss: 2.1790714263916016\n"
          ]
        },
        {
          "output_type": "stream",
          "name": "stderr",
          "text": [
            "Train:  71%|███████   | 1001/1407 [06:24<02:39,  2.55it/s]"
          ]
        },
        {
          "output_type": "stream",
          "name": "stdout",
          "text": [
            "Batch 1000, Loss: 2.0192689895629883\n"
          ]
        },
        {
          "output_type": "stream",
          "name": "stderr",
          "text": [
            "Train: 100%|██████████| 1407/1407 [09:00<00:00,  2.60it/s]\n"
          ]
        },
        {
          "output_type": "stream",
          "name": "stdout",
          "text": [
            "Epoch 0 Training Loss: 2.0584431232876246\n",
            "Training Metrics: Overall Accuracy: 0.3357\n",
            " Per-Class Accuracy:\n",
            "Accuracy for class human_baroque: 0.50\n",
            "Accuracy for class AI_surrealism: 0.35\n",
            "Accuracy for class human_art_nouveau: 0.60\n",
            "Accuracy for class human_expressionism: 0.50\n",
            "Accuracy for class human_ukiyo_e: 0.35\n",
            "Accuracy for class AI_renaissance: 0.39\n",
            "Accuracy for class AI_art_nouveau: 0.38\n",
            "Accuracy for class human_realism: 0.48\n",
            "Accuracy for class AI_realism: 0.47\n",
            "Accuracy for class human_post_impressionism: 0.70\n",
            "Accuracy for class human_romanticism: 0.19\n",
            "Accuracy for class AI_expressionism: 0.30\n",
            "Accuracy for class AI_baroque: 0.07\n",
            "Accuracy for class AI_impressionism: 0.16\n",
            "Accuracy for class human_surrealism: 0.16\n",
            "Accuracy for class human_renaissance: 0.11\n",
            "Accuracy for class AI_post_impressionism: 0.21\n",
            "Accuracy for class AI_ukiyo-e: 0.15\n",
            "Accuracy for class human_impressionism: 0.10\n",
            "Accuracy for class AI_romanticism: 0.54\n",
            "--- Validating epoch 0 ---\n"
          ]
        },
        {
          "output_type": "stream",
          "name": "stderr",
          "text": [
            "Evaluate:   1%|          | 1/157 [00:00<00:41,  3.76it/s]"
          ]
        },
        {
          "output_type": "stream",
          "name": "stdout",
          "text": [
            "Batch 0, Validation Loss: 1.5457923412322998\n"
          ]
        },
        {
          "output_type": "stream",
          "name": "stderr",
          "text": [
            "Evaluate: 100%|██████████| 157/157 [00:46<00:00,  3.40it/s]\n"
          ]
        },
        {
          "output_type": "stream",
          "name": "stdout",
          "text": [
            "Epoch 0 Validation Loss: 1.6035334352493287\n",
            "Validation Metrics: Overall Accuracy: 0.4572\n",
            " Per-Class Accuracy:\n",
            "Accuracy for class human_romanticism: 0.60\n",
            "Accuracy for class AI_ukiyo-e: 0.73\n",
            "Accuracy for class AI_romanticism: 0.73\n",
            "Accuracy for class AI_art_nouveau: 0.64\n",
            "Accuracy for class human_surrealism: 0.56\n",
            "Accuracy for class AI_renaissance: 0.41\n",
            "Accuracy for class AI_realism: 0.61\n",
            "Accuracy for class human_ukiyo_e: 0.56\n",
            "Accuracy for class human_art_nouveau: 0.77\n",
            "Accuracy for class AI_post_impressionism: 0.93\n",
            "Accuracy for class human_baroque: 0.17\n",
            "Accuracy for class human_impressionism: 0.42\n",
            "Accuracy for class AI_impressionism: 0.14\n",
            "Accuracy for class human_renaissance: 0.33\n",
            "Accuracy for class human_expressionism: 0.15\n",
            "Accuracy for class human_realism: 0.07\n",
            "Accuracy for class AI_baroque: 0.27\n",
            "Accuracy for class human_post_impressionism: 0.21\n",
            "Accuracy for class AI_surrealism: 0.12\n",
            "Accuracy for class AI_expressionism: 0.73\n",
            "#### Best accuracy 0.4572 at epoch 0\n",
            "#### Saving model to saved_models\n",
            "Model saved to saved_models/model_best.pth\n",
            "Epoch 1/10:\n",
            "--- Training epoch 1 ---\n"
          ]
        },
        {
          "output_type": "stream",
          "name": "stderr",
          "text": [
            "Train:   0%|          | 1/1407 [00:00<08:58,  2.61it/s]"
          ]
        },
        {
          "output_type": "stream",
          "name": "stdout",
          "text": [
            "Batch 0, Loss: 1.9789106845855713\n"
          ]
        },
        {
          "output_type": "stream",
          "name": "stderr",
          "text": [
            "Train:  36%|███▌      | 501/1407 [03:12<05:50,  2.59it/s]"
          ]
        },
        {
          "output_type": "stream",
          "name": "stdout",
          "text": [
            "Batch 500, Loss: 1.5625348091125488\n"
          ]
        },
        {
          "output_type": "stream",
          "name": "stderr",
          "text": [
            "Train:  71%|███████   | 1001/1407 [06:24<02:40,  2.53it/s]"
          ]
        },
        {
          "output_type": "stream",
          "name": "stdout",
          "text": [
            "Batch 1000, Loss: 1.732940673828125\n"
          ]
        },
        {
          "output_type": "stream",
          "name": "stderr",
          "text": [
            "Train: 100%|██████████| 1407/1407 [08:59<00:00,  2.61it/s]\n"
          ]
        },
        {
          "output_type": "stream",
          "name": "stdout",
          "text": [
            "Epoch 1 Training Loss: 1.820928711658054\n",
            "Training Metrics: Overall Accuracy: 0.3965\n",
            " Per-Class Accuracy:\n",
            "Accuracy for class human_baroque: 0.62\n",
            "Accuracy for class AI_surrealism: 0.46\n",
            "Accuracy for class human_art_nouveau: 0.67\n",
            "Accuracy for class human_expressionism: 0.54\n",
            "Accuracy for class human_ukiyo_e: 0.46\n",
            "Accuracy for class AI_renaissance: 0.46\n",
            "Accuracy for class AI_art_nouveau: 0.46\n",
            "Accuracy for class human_realism: 0.52\n",
            "Accuracy for class AI_realism: 0.58\n",
            "Accuracy for class human_post_impressionism: 0.79\n",
            "Accuracy for class human_romanticism: 0.23\n",
            "Accuracy for class AI_expressionism: 0.33\n",
            "Accuracy for class AI_baroque: 0.10\n",
            "Accuracy for class AI_impressionism: 0.20\n",
            "Accuracy for class human_surrealism: 0.19\n",
            "Accuracy for class human_renaissance: 0.12\n",
            "Accuracy for class AI_post_impressionism: 0.26\n",
            "Accuracy for class AI_ukiyo-e: 0.18\n",
            "Accuracy for class human_impressionism: 0.15\n",
            "Accuracy for class AI_romanticism: 0.59\n",
            "--- Validating epoch 1 ---\n"
          ]
        },
        {
          "output_type": "stream",
          "name": "stderr",
          "text": [
            "Evaluate:   1%|          | 1/157 [00:00<00:44,  3.49it/s]"
          ]
        },
        {
          "output_type": "stream",
          "name": "stdout",
          "text": [
            "Batch 0, Validation Loss: 1.5059583187103271\n"
          ]
        },
        {
          "output_type": "stream",
          "name": "stderr",
          "text": [
            "Evaluate: 100%|██████████| 157/157 [00:45<00:00,  3.45it/s]\n"
          ]
        },
        {
          "output_type": "stream",
          "name": "stdout",
          "text": [
            "Epoch 1 Validation Loss: 1.5484317682266235\n",
            "Validation Metrics: Overall Accuracy: 0.4641\n",
            " Per-Class Accuracy:\n",
            "Accuracy for class human_romanticism: 0.48\n",
            "Accuracy for class AI_ukiyo-e: 0.86\n",
            "Accuracy for class AI_romanticism: 0.68\n",
            "Accuracy for class AI_art_nouveau: 0.36\n",
            "Accuracy for class human_surrealism: 0.82\n",
            "Accuracy for class AI_renaissance: 0.47\n",
            "Accuracy for class AI_realism: 0.50\n",
            "Accuracy for class human_ukiyo_e: 0.59\n",
            "Accuracy for class human_art_nouveau: 0.79\n",
            "Accuracy for class AI_post_impressionism: 0.94\n",
            "Accuracy for class human_baroque: 0.25\n",
            "Accuracy for class human_impressionism: 0.53\n",
            "Accuracy for class AI_impressionism: 0.03\n",
            "Accuracy for class human_renaissance: 0.28\n",
            "Accuracy for class human_expressionism: 0.20\n",
            "Accuracy for class human_realism: 0.07\n",
            "Accuracy for class AI_baroque: 0.38\n",
            "Accuracy for class human_post_impressionism: 0.16\n",
            "Accuracy for class AI_surrealism: 0.17\n",
            "Accuracy for class AI_expressionism: 0.73\n",
            "#### Best accuracy 0.4641 at epoch 1\n",
            "#### Saving model to saved_models\n",
            "Model saved to saved_models/model_best.pth\n",
            "Epoch 2/10:\n",
            "--- Training epoch 2 ---\n"
          ]
        },
        {
          "output_type": "stream",
          "name": "stderr",
          "text": [
            "Train:   0%|          | 1/1407 [00:00<07:42,  3.04it/s]"
          ]
        },
        {
          "output_type": "stream",
          "name": "stdout",
          "text": [
            "Batch 0, Loss: 1.9103453159332275\n"
          ]
        },
        {
          "output_type": "stream",
          "name": "stderr",
          "text": [
            "Train:  36%|███▌      | 501/1407 [03:12<05:45,  2.62it/s]"
          ]
        },
        {
          "output_type": "stream",
          "name": "stdout",
          "text": [
            "Batch 500, Loss: 1.829357385635376\n"
          ]
        },
        {
          "output_type": "stream",
          "name": "stderr",
          "text": [
            "Train:  71%|███████   | 1001/1407 [06:25<02:37,  2.58it/s]"
          ]
        },
        {
          "output_type": "stream",
          "name": "stdout",
          "text": [
            "Batch 1000, Loss: 1.67610764503479\n"
          ]
        },
        {
          "output_type": "stream",
          "name": "stderr",
          "text": [
            "Train: 100%|██████████| 1407/1407 [09:00<00:00,  2.60it/s]\n"
          ]
        },
        {
          "output_type": "stream",
          "name": "stdout",
          "text": [
            "Epoch 2 Training Loss: 1.7570231850094264\n",
            "Training Metrics: Overall Accuracy: 0.4144\n",
            " Per-Class Accuracy:\n",
            "Accuracy for class human_baroque: 0.65\n",
            "Accuracy for class AI_surrealism: 0.49\n",
            "Accuracy for class human_art_nouveau: 0.68\n",
            "Accuracy for class human_expressionism: 0.56\n",
            "Accuracy for class human_ukiyo_e: 0.47\n",
            "Accuracy for class AI_renaissance: 0.50\n",
            "Accuracy for class AI_art_nouveau: 0.49\n",
            "Accuracy for class human_realism: 0.53\n",
            "Accuracy for class AI_realism: 0.59\n",
            "Accuracy for class human_post_impressionism: 0.81\n",
            "Accuracy for class human_romanticism: 0.23\n",
            "Accuracy for class AI_expressionism: 0.35\n",
            "Accuracy for class AI_baroque: 0.10\n",
            "Accuracy for class AI_impressionism: 0.21\n",
            "Accuracy for class human_surrealism: 0.20\n",
            "Accuracy for class human_renaissance: 0.12\n",
            "Accuracy for class AI_post_impressionism: 0.28\n",
            "Accuracy for class AI_ukiyo-e: 0.20\n",
            "Accuracy for class human_impressionism: 0.19\n",
            "Accuracy for class AI_romanticism: 0.63\n",
            "--- Validating epoch 2 ---\n"
          ]
        },
        {
          "output_type": "stream",
          "name": "stderr",
          "text": [
            "Evaluate:   1%|          | 1/157 [00:00<00:41,  3.74it/s]"
          ]
        },
        {
          "output_type": "stream",
          "name": "stdout",
          "text": [
            "Batch 0, Validation Loss: 1.3716083765029907\n"
          ]
        },
        {
          "output_type": "stream",
          "name": "stderr",
          "text": [
            "Evaluate: 100%|██████████| 157/157 [00:46<00:00,  3.40it/s]\n"
          ]
        },
        {
          "output_type": "stream",
          "name": "stdout",
          "text": [
            "Epoch 2 Validation Loss: 1.4622199462890626\n",
            "Validation Metrics: Overall Accuracy: 0.4990\n",
            " Per-Class Accuracy:\n",
            "Accuracy for class human_romanticism: 0.76\n",
            "Accuracy for class AI_ukiyo-e: 0.69\n",
            "Accuracy for class AI_romanticism: 0.79\n",
            "Accuracy for class AI_art_nouveau: 0.70\n",
            "Accuracy for class human_surrealism: 0.51\n",
            "Accuracy for class AI_renaissance: 0.59\n",
            "Accuracy for class AI_realism: 0.61\n",
            "Accuracy for class human_ukiyo_e: 0.66\n",
            "Accuracy for class human_art_nouveau: 0.75\n",
            "Accuracy for class AI_post_impressionism: 0.93\n",
            "Accuracy for class human_baroque: 0.19\n",
            "Accuracy for class human_impressionism: 0.49\n",
            "Accuracy for class AI_impressionism: 0.08\n",
            "Accuracy for class human_renaissance: 0.17\n",
            "Accuracy for class human_expressionism: 0.29\n",
            "Accuracy for class human_realism: 0.04\n",
            "Accuracy for class AI_baroque: 0.35\n",
            "Accuracy for class human_post_impressionism: 0.37\n",
            "Accuracy for class AI_surrealism: 0.25\n",
            "Accuracy for class AI_expressionism: 0.75\n",
            "#### Best accuracy 0.499 at epoch 2\n",
            "#### Saving model to saved_models\n",
            "Model saved to saved_models/model_best.pth\n",
            "Epoch 3/10:\n",
            "--- Training epoch 3 ---\n"
          ]
        },
        {
          "output_type": "stream",
          "name": "stderr",
          "text": [
            "Train:   0%|          | 1/1407 [00:00<09:17,  2.52it/s]"
          ]
        },
        {
          "output_type": "stream",
          "name": "stdout",
          "text": [
            "Batch 0, Loss: 1.6914360523223877\n"
          ]
        },
        {
          "output_type": "stream",
          "name": "stderr",
          "text": [
            "Train:  36%|███▌      | 501/1407 [03:11<05:48,  2.60it/s]"
          ]
        },
        {
          "output_type": "stream",
          "name": "stdout",
          "text": [
            "Batch 500, Loss: 1.8130881786346436\n"
          ]
        },
        {
          "output_type": "stream",
          "name": "stderr",
          "text": [
            "Train:  71%|███████   | 1001/1407 [06:24<02:35,  2.61it/s]"
          ]
        },
        {
          "output_type": "stream",
          "name": "stdout",
          "text": [
            "Batch 1000, Loss: 1.7721866369247437\n"
          ]
        },
        {
          "output_type": "stream",
          "name": "stderr",
          "text": [
            "Train: 100%|██████████| 1407/1407 [09:00<00:00,  2.60it/s]\n"
          ]
        },
        {
          "output_type": "stream",
          "name": "stdout",
          "text": [
            "Epoch 3 Training Loss: 1.716474038865831\n",
            "Training Metrics: Overall Accuracy: 0.4247\n",
            " Per-Class Accuracy:\n",
            "Accuracy for class human_baroque: 0.66\n",
            "Accuracy for class AI_surrealism: 0.50\n",
            "Accuracy for class human_art_nouveau: 0.70\n",
            "Accuracy for class human_expressionism: 0.56\n",
            "Accuracy for class human_ukiyo_e: 0.49\n",
            "Accuracy for class AI_renaissance: 0.50\n",
            "Accuracy for class AI_art_nouveau: 0.52\n",
            "Accuracy for class human_realism: 0.55\n",
            "Accuracy for class AI_realism: 0.61\n",
            "Accuracy for class human_post_impressionism: 0.82\n",
            "Accuracy for class human_romanticism: 0.24\n",
            "Accuracy for class AI_expressionism: 0.35\n",
            "Accuracy for class AI_baroque: 0.11\n",
            "Accuracy for class AI_impressionism: 0.22\n",
            "Accuracy for class human_surrealism: 0.21\n",
            "Accuracy for class human_renaissance: 0.12\n",
            "Accuracy for class AI_post_impressionism: 0.30\n",
            "Accuracy for class AI_ukiyo-e: 0.20\n",
            "Accuracy for class human_impressionism: 0.21\n",
            "Accuracy for class AI_romanticism: 0.64\n",
            "--- Validating epoch 3 ---\n"
          ]
        },
        {
          "output_type": "stream",
          "name": "stderr",
          "text": [
            "Evaluate:   1%|          | 1/157 [00:00<00:56,  2.76it/s]"
          ]
        },
        {
          "output_type": "stream",
          "name": "stdout",
          "text": [
            "Batch 0, Validation Loss: 1.369665265083313\n"
          ]
        },
        {
          "output_type": "stream",
          "name": "stderr",
          "text": [
            "Evaluate: 100%|██████████| 157/157 [00:46<00:00,  3.41it/s]\n"
          ]
        },
        {
          "output_type": "stream",
          "name": "stdout",
          "text": [
            "Epoch 3 Validation Loss: 1.4273233995437622\n",
            "Validation Metrics: Overall Accuracy: 0.5094\n",
            " Per-Class Accuracy:\n",
            "Accuracy for class human_romanticism: 0.75\n",
            "Accuracy for class AI_ukiyo-e: 0.73\n",
            "Accuracy for class AI_romanticism: 0.74\n",
            "Accuracy for class AI_art_nouveau: 0.74\n",
            "Accuracy for class human_surrealism: 0.57\n",
            "Accuracy for class AI_renaissance: 0.53\n",
            "Accuracy for class AI_realism: 0.65\n",
            "Accuracy for class human_ukiyo_e: 0.66\n",
            "Accuracy for class human_art_nouveau: 0.78\n",
            "Accuracy for class AI_post_impressionism: 0.96\n",
            "Accuracy for class human_baroque: 0.19\n",
            "Accuracy for class human_impressionism: 0.37\n",
            "Accuracy for class AI_impressionism: 0.10\n",
            "Accuracy for class human_renaissance: 0.40\n",
            "Accuracy for class human_expressionism: 0.17\n",
            "Accuracy for class human_realism: 0.20\n",
            "Accuracy for class AI_baroque: 0.44\n",
            "Accuracy for class human_post_impressionism: 0.22\n",
            "Accuracy for class AI_surrealism: 0.25\n",
            "Accuracy for class AI_expressionism: 0.73\n",
            "#### Best accuracy 0.5094 at epoch 3\n",
            "#### Saving model to saved_models\n",
            "Model saved to saved_models/model_best.pth\n",
            "Epoch 4/10:\n",
            "--- Training epoch 4 ---\n"
          ]
        },
        {
          "output_type": "stream",
          "name": "stderr",
          "text": [
            "Train:   0%|          | 1/1407 [00:00<08:23,  2.79it/s]"
          ]
        },
        {
          "output_type": "stream",
          "name": "stdout",
          "text": [
            "Batch 0, Loss: 2.0738282203674316\n"
          ]
        },
        {
          "output_type": "stream",
          "name": "stderr",
          "text": [
            "Train:  36%|███▌      | 501/1407 [03:11<05:40,  2.66it/s]"
          ]
        },
        {
          "output_type": "stream",
          "name": "stdout",
          "text": [
            "Batch 500, Loss: 1.8986762762069702\n"
          ]
        },
        {
          "output_type": "stream",
          "name": "stderr",
          "text": [
            "Train:  71%|███████   | 1001/1407 [06:23<02:30,  2.69it/s]"
          ]
        },
        {
          "output_type": "stream",
          "name": "stdout",
          "text": [
            "Batch 1000, Loss: 1.6518924236297607\n"
          ]
        },
        {
          "output_type": "stream",
          "name": "stderr",
          "text": [
            "Train: 100%|██████████| 1407/1407 [08:58<00:00,  2.61it/s]\n"
          ]
        },
        {
          "output_type": "stream",
          "name": "stdout",
          "text": [
            "Epoch 4 Training Loss: 1.6882986562093099\n",
            "Training Metrics: Overall Accuracy: 0.4364\n",
            " Per-Class Accuracy:\n",
            "Accuracy for class human_baroque: 0.67\n",
            "Accuracy for class AI_surrealism: 0.51\n",
            "Accuracy for class human_art_nouveau: 0.72\n",
            "Accuracy for class human_expressionism: 0.56\n",
            "Accuracy for class human_ukiyo_e: 0.49\n",
            "Accuracy for class AI_renaissance: 0.54\n",
            "Accuracy for class AI_art_nouveau: 0.53\n",
            "Accuracy for class human_realism: 0.56\n",
            "Accuracy for class AI_realism: 0.62\n",
            "Accuracy for class human_post_impressionism: 0.83\n",
            "Accuracy for class human_romanticism: 0.25\n",
            "Accuracy for class AI_expressionism: 0.37\n",
            "Accuracy for class AI_baroque: 0.10\n",
            "Accuracy for class AI_impressionism: 0.22\n",
            "Accuracy for class human_surrealism: 0.21\n",
            "Accuracy for class human_renaissance: 0.14\n",
            "Accuracy for class AI_post_impressionism: 0.32\n",
            "Accuracy for class AI_ukiyo-e: 0.20\n",
            "Accuracy for class human_impressionism: 0.23\n",
            "Accuracy for class AI_romanticism: 0.65\n",
            "--- Validating epoch 4 ---\n"
          ]
        },
        {
          "output_type": "stream",
          "name": "stderr",
          "text": [
            "Evaluate:   1%|          | 1/157 [00:00<00:43,  3.62it/s]"
          ]
        },
        {
          "output_type": "stream",
          "name": "stdout",
          "text": [
            "Batch 0, Validation Loss: 1.3383946418762207\n"
          ]
        },
        {
          "output_type": "stream",
          "name": "stderr",
          "text": [
            "Evaluate: 100%|██████████| 157/157 [00:45<00:00,  3.43it/s]\n"
          ]
        },
        {
          "output_type": "stream",
          "name": "stdout",
          "text": [
            "Epoch 4 Validation Loss: 1.4063684129714966\n",
            "Validation Metrics: Overall Accuracy: 0.5149\n",
            " Per-Class Accuracy:\n",
            "Accuracy for class human_romanticism: 0.68\n",
            "Accuracy for class AI_ukiyo-e: 0.68\n",
            "Accuracy for class AI_romanticism: 0.78\n",
            "Accuracy for class AI_art_nouveau: 0.64\n",
            "Accuracy for class human_surrealism: 0.67\n",
            "Accuracy for class AI_renaissance: 0.62\n",
            "Accuracy for class AI_realism: 0.70\n",
            "Accuracy for class human_ukiyo_e: 0.71\n",
            "Accuracy for class human_art_nouveau: 0.76\n",
            "Accuracy for class AI_post_impressionism: 0.96\n",
            "Accuracy for class human_baroque: 0.28\n",
            "Accuracy for class human_impressionism: 0.31\n",
            "Accuracy for class AI_impressionism: 0.11\n",
            "Accuracy for class human_renaissance: 0.23\n",
            "Accuracy for class human_expressionism: 0.22\n",
            "Accuracy for class human_realism: 0.38\n",
            "Accuracy for class AI_baroque: 0.32\n",
            "Accuracy for class human_post_impressionism: 0.24\n",
            "Accuracy for class AI_surrealism: 0.31\n",
            "Accuracy for class AI_expressionism: 0.71\n",
            "#### Best accuracy 0.5149 at epoch 4\n",
            "#### Saving model to saved_models\n",
            "Model saved to saved_models/model_best.pth\n",
            "Epoch 5/10:\n",
            "--- Training epoch 5 ---\n"
          ]
        },
        {
          "output_type": "stream",
          "name": "stderr",
          "text": [
            "Train:   0%|          | 1/1407 [00:00<09:45,  2.40it/s]"
          ]
        },
        {
          "output_type": "stream",
          "name": "stdout",
          "text": [
            "Batch 0, Loss: 1.8659576177597046\n"
          ]
        },
        {
          "output_type": "stream",
          "name": "stderr",
          "text": [
            "Train:  36%|███▌      | 501/1407 [03:14<05:48,  2.60it/s]"
          ]
        },
        {
          "output_type": "stream",
          "name": "stdout",
          "text": [
            "Batch 500, Loss: 1.7251734733581543\n"
          ]
        },
        {
          "output_type": "stream",
          "name": "stderr",
          "text": [
            "Train:  71%|███████   | 1001/1407 [06:24<02:52,  2.36it/s]"
          ]
        },
        {
          "output_type": "stream",
          "name": "stdout",
          "text": [
            "Batch 1000, Loss: 1.6469581127166748\n"
          ]
        },
        {
          "output_type": "stream",
          "name": "stderr",
          "text": [
            "Train: 100%|██████████| 1407/1407 [09:00<00:00,  2.60it/s]\n"
          ]
        },
        {
          "output_type": "stream",
          "name": "stdout",
          "text": [
            "Epoch 5 Training Loss: 1.6663587822596233\n",
            "Training Metrics: Overall Accuracy: 0.4408\n",
            " Per-Class Accuracy:\n",
            "Accuracy for class human_baroque: 0.68\n",
            "Accuracy for class AI_surrealism: 0.51\n",
            "Accuracy for class human_art_nouveau: 0.71\n",
            "Accuracy for class human_expressionism: 0.57\n",
            "Accuracy for class human_ukiyo_e: 0.50\n",
            "Accuracy for class AI_renaissance: 0.53\n",
            "Accuracy for class AI_art_nouveau: 0.54\n",
            "Accuracy for class human_realism: 0.58\n",
            "Accuracy for class AI_realism: 0.63\n",
            "Accuracy for class human_post_impressionism: 0.83\n",
            "Accuracy for class human_romanticism: 0.26\n",
            "Accuracy for class AI_expressionism: 0.37\n",
            "Accuracy for class AI_baroque: 0.12\n",
            "Accuracy for class AI_impressionism: 0.23\n",
            "Accuracy for class human_surrealism: 0.22\n",
            "Accuracy for class human_renaissance: 0.14\n",
            "Accuracy for class AI_post_impressionism: 0.31\n",
            "Accuracy for class AI_ukiyo-e: 0.19\n",
            "Accuracy for class human_impressionism: 0.22\n",
            "Accuracy for class AI_romanticism: 0.66\n",
            "--- Validating epoch 5 ---\n"
          ]
        },
        {
          "output_type": "stream",
          "name": "stderr",
          "text": [
            "Evaluate:   1%|          | 1/157 [00:00<00:40,  3.82it/s]"
          ]
        },
        {
          "output_type": "stream",
          "name": "stdout",
          "text": [
            "Batch 0, Validation Loss: 1.3709782361984253\n"
          ]
        },
        {
          "output_type": "stream",
          "name": "stderr",
          "text": [
            "Evaluate: 100%|██████████| 157/157 [00:45<00:00,  3.46it/s]\n"
          ]
        },
        {
          "output_type": "stream",
          "name": "stdout",
          "text": [
            "Epoch 5 Validation Loss: 1.3974367641448975\n",
            "Validation Metrics: Overall Accuracy: 0.5226\n",
            " Per-Class Accuracy:\n",
            "Accuracy for class human_romanticism: 0.73\n",
            "Accuracy for class AI_ukiyo-e: 0.75\n",
            "Accuracy for class AI_romanticism: 0.74\n",
            "Accuracy for class AI_art_nouveau: 0.69\n",
            "Accuracy for class human_surrealism: 0.64\n",
            "Accuracy for class AI_renaissance: 0.60\n",
            "Accuracy for class AI_realism: 0.67\n",
            "Accuracy for class human_ukiyo_e: 0.67\n",
            "Accuracy for class human_art_nouveau: 0.79\n",
            "Accuracy for class AI_post_impressionism: 0.96\n",
            "Accuracy for class human_baroque: 0.23\n",
            "Accuracy for class human_impressionism: 0.52\n",
            "Accuracy for class AI_impressionism: 0.11\n",
            "Accuracy for class human_renaissance: 0.16\n",
            "Accuracy for class human_expressionism: 0.36\n",
            "Accuracy for class human_realism: 0.28\n",
            "Accuracy for class AI_baroque: 0.34\n",
            "Accuracy for class human_post_impressionism: 0.22\n",
            "Accuracy for class AI_surrealism: 0.28\n",
            "Accuracy for class AI_expressionism: 0.72\n",
            "#### Best accuracy 0.5226 at epoch 5\n",
            "#### Saving model to saved_models\n",
            "Model saved to saved_models/model_best.pth\n",
            "Epoch 6/10:\n",
            "--- Training epoch 6 ---\n"
          ]
        },
        {
          "output_type": "stream",
          "name": "stderr",
          "text": [
            "Train:   0%|          | 1/1407 [00:00<09:34,  2.45it/s]"
          ]
        },
        {
          "output_type": "stream",
          "name": "stdout",
          "text": [
            "Batch 0, Loss: 1.6693575382232666\n"
          ]
        },
        {
          "output_type": "stream",
          "name": "stderr",
          "text": [
            "Train:  36%|███▌      | 501/1407 [03:11<06:00,  2.52it/s]"
          ]
        },
        {
          "output_type": "stream",
          "name": "stdout",
          "text": [
            "Batch 500, Loss: 1.586503267288208\n"
          ]
        },
        {
          "output_type": "stream",
          "name": "stderr",
          "text": [
            "Train:  71%|███████   | 1001/1407 [06:22<02:33,  2.64it/s]"
          ]
        },
        {
          "output_type": "stream",
          "name": "stdout",
          "text": [
            "Batch 1000, Loss: 1.6998122930526733\n"
          ]
        },
        {
          "output_type": "stream",
          "name": "stderr",
          "text": [
            "Train: 100%|██████████| 1407/1407 [08:58<00:00,  2.61it/s]\n"
          ]
        },
        {
          "output_type": "stream",
          "name": "stdout",
          "text": [
            "Epoch 6 Training Loss: 1.6497398903104994\n",
            "Training Metrics: Overall Accuracy: 0.4467\n",
            " Per-Class Accuracy:\n",
            "Accuracy for class human_baroque: 0.69\n",
            "Accuracy for class AI_surrealism: 0.54\n",
            "Accuracy for class human_art_nouveau: 0.71\n",
            "Accuracy for class human_expressionism: 0.58\n",
            "Accuracy for class human_ukiyo_e: 0.52\n",
            "Accuracy for class AI_renaissance: 0.54\n",
            "Accuracy for class AI_art_nouveau: 0.54\n",
            "Accuracy for class human_realism: 0.57\n",
            "Accuracy for class AI_realism: 0.63\n",
            "Accuracy for class human_post_impressionism: 0.84\n",
            "Accuracy for class human_romanticism: 0.27\n",
            "Accuracy for class AI_expressionism: 0.37\n",
            "Accuracy for class AI_baroque: 0.12\n",
            "Accuracy for class AI_impressionism: 0.24\n",
            "Accuracy for class human_surrealism: 0.22\n",
            "Accuracy for class human_renaissance: 0.14\n",
            "Accuracy for class AI_post_impressionism: 0.32\n",
            "Accuracy for class AI_ukiyo-e: 0.21\n",
            "Accuracy for class human_impressionism: 0.23\n",
            "Accuracy for class AI_romanticism: 0.67\n",
            "--- Validating epoch 6 ---\n"
          ]
        },
        {
          "output_type": "stream",
          "name": "stderr",
          "text": [
            "Evaluate:   1%|          | 1/157 [00:00<00:41,  3.79it/s]"
          ]
        },
        {
          "output_type": "stream",
          "name": "stdout",
          "text": [
            "Batch 0, Validation Loss: 1.3341270685195923\n"
          ]
        },
        {
          "output_type": "stream",
          "name": "stderr",
          "text": [
            "Evaluate: 100%|██████████| 157/157 [00:46<00:00,  3.40it/s]\n"
          ]
        },
        {
          "output_type": "stream",
          "name": "stdout",
          "text": [
            "Epoch 6 Validation Loss: 1.3849713809967041\n",
            "Validation Metrics: Overall Accuracy: 0.5194\n",
            " Per-Class Accuracy:\n",
            "Accuracy for class human_romanticism: 0.75\n",
            "Accuracy for class AI_ukiyo-e: 0.64\n",
            "Accuracy for class AI_romanticism: 0.77\n",
            "Accuracy for class AI_art_nouveau: 0.69\n",
            "Accuracy for class human_surrealism: 0.63\n",
            "Accuracy for class AI_renaissance: 0.65\n",
            "Accuracy for class AI_realism: 0.72\n",
            "Accuracy for class human_ukiyo_e: 0.64\n",
            "Accuracy for class human_art_nouveau: 0.75\n",
            "Accuracy for class AI_post_impressionism: 0.93\n",
            "Accuracy for class human_baroque: 0.31\n",
            "Accuracy for class human_impressionism: 0.64\n",
            "Accuracy for class AI_impressionism: 0.12\n",
            "Accuracy for class human_renaissance: 0.38\n",
            "Accuracy for class human_expressionism: 0.18\n",
            "Accuracy for class human_realism: 0.09\n",
            "Accuracy for class AI_baroque: 0.28\n",
            "Accuracy for class human_post_impressionism: 0.19\n",
            "Accuracy for class AI_surrealism: 0.28\n",
            "Accuracy for class AI_expressionism: 0.73\n",
            "Early stopping counter: 1/3\n",
            "Epoch 7/10:\n",
            "--- Training epoch 7 ---\n"
          ]
        },
        {
          "output_type": "stream",
          "name": "stderr",
          "text": [
            "Train:   0%|          | 1/1407 [00:00<09:06,  2.57it/s]"
          ]
        },
        {
          "output_type": "stream",
          "name": "stdout",
          "text": [
            "Batch 0, Loss: 1.6392663717269897\n"
          ]
        },
        {
          "output_type": "stream",
          "name": "stderr",
          "text": [
            "Train:  36%|███▌      | 501/1407 [03:11<05:43,  2.63it/s]"
          ]
        },
        {
          "output_type": "stream",
          "name": "stdout",
          "text": [
            "Batch 500, Loss: 1.660295844078064\n"
          ]
        },
        {
          "output_type": "stream",
          "name": "stderr",
          "text": [
            "Train:  71%|███████   | 1001/1407 [06:24<02:33,  2.64it/s]"
          ]
        },
        {
          "output_type": "stream",
          "name": "stdout",
          "text": [
            "Batch 1000, Loss: 1.360532283782959\n"
          ]
        },
        {
          "output_type": "stream",
          "name": "stderr",
          "text": [
            "Train: 100%|██████████| 1407/1407 [08:58<00:00,  2.61it/s]\n"
          ]
        },
        {
          "output_type": "stream",
          "name": "stdout",
          "text": [
            "Epoch 7 Training Loss: 1.630167341571384\n",
            "Training Metrics: Overall Accuracy: 0.4493\n",
            " Per-Class Accuracy:\n",
            "Accuracy for class human_baroque: 0.68\n",
            "Accuracy for class AI_surrealism: 0.53\n",
            "Accuracy for class human_art_nouveau: 0.72\n",
            "Accuracy for class human_expressionism: 0.59\n",
            "Accuracy for class human_ukiyo_e: 0.51\n",
            "Accuracy for class AI_renaissance: 0.53\n",
            "Accuracy for class AI_art_nouveau: 0.55\n",
            "Accuracy for class human_realism: 0.58\n",
            "Accuracy for class AI_realism: 0.62\n",
            "Accuracy for class human_post_impressionism: 0.84\n",
            "Accuracy for class human_romanticism: 0.28\n",
            "Accuracy for class AI_expressionism: 0.38\n",
            "Accuracy for class AI_baroque: 0.12\n",
            "Accuracy for class AI_impressionism: 0.24\n",
            "Accuracy for class human_surrealism: 0.23\n",
            "Accuracy for class human_renaissance: 0.13\n",
            "Accuracy for class AI_post_impressionism: 0.33\n",
            "Accuracy for class AI_ukiyo-e: 0.21\n",
            "Accuracy for class human_impressionism: 0.24\n",
            "Accuracy for class AI_romanticism: 0.68\n",
            "--- Validating epoch 7 ---\n"
          ]
        },
        {
          "output_type": "stream",
          "name": "stderr",
          "text": [
            "Evaluate:   1%|          | 1/157 [00:00<00:41,  3.78it/s]"
          ]
        },
        {
          "output_type": "stream",
          "name": "stdout",
          "text": [
            "Batch 0, Validation Loss: 1.3697224855422974\n"
          ]
        },
        {
          "output_type": "stream",
          "name": "stderr",
          "text": [
            "Evaluate: 100%|██████████| 157/157 [00:45<00:00,  3.43it/s]\n"
          ]
        },
        {
          "output_type": "stream",
          "name": "stdout",
          "text": [
            "Epoch 7 Validation Loss: 1.3728389492034911\n",
            "Validation Metrics: Overall Accuracy: 0.5324\n",
            " Per-Class Accuracy:\n",
            "Accuracy for class human_romanticism: 0.65\n",
            "Accuracy for class AI_ukiyo-e: 0.82\n",
            "Accuracy for class AI_romanticism: 0.75\n",
            "Accuracy for class AI_art_nouveau: 0.70\n",
            "Accuracy for class human_surrealism: 0.69\n",
            "Accuracy for class AI_renaissance: 0.57\n",
            "Accuracy for class AI_realism: 0.62\n",
            "Accuracy for class human_ukiyo_e: 0.72\n",
            "Accuracy for class human_art_nouveau: 0.80\n",
            "Accuracy for class AI_post_impressionism: 0.94\n",
            "Accuracy for class human_baroque: 0.28\n",
            "Accuracy for class human_impressionism: 0.52\n",
            "Accuracy for class AI_impressionism: 0.11\n",
            "Accuracy for class human_renaissance: 0.22\n",
            "Accuracy for class human_expressionism: 0.21\n",
            "Accuracy for class human_realism: 0.39\n",
            "Accuracy for class AI_baroque: 0.41\n",
            "Accuracy for class human_post_impressionism: 0.13\n",
            "Accuracy for class AI_surrealism: 0.30\n",
            "Accuracy for class AI_expressionism: 0.81\n",
            "#### Best accuracy 0.5324 at epoch 7\n",
            "#### Saving model to saved_models\n",
            "Model saved to saved_models/model_best.pth\n",
            "Epoch 8/10:\n",
            "--- Training epoch 8 ---\n"
          ]
        },
        {
          "output_type": "stream",
          "name": "stderr",
          "text": [
            "Train:   0%|          | 1/1407 [00:00<09:31,  2.46it/s]"
          ]
        },
        {
          "output_type": "stream",
          "name": "stdout",
          "text": [
            "Batch 0, Loss: 1.396159291267395\n"
          ]
        },
        {
          "output_type": "stream",
          "name": "stderr",
          "text": [
            "Train:  36%|███▌      | 501/1407 [03:12<05:34,  2.71it/s]"
          ]
        },
        {
          "output_type": "stream",
          "name": "stdout",
          "text": [
            "Batch 500, Loss: 1.7605794668197632\n"
          ]
        },
        {
          "output_type": "stream",
          "name": "stderr",
          "text": [
            "Train:  71%|███████   | 1001/1407 [06:24<02:34,  2.64it/s]"
          ]
        },
        {
          "output_type": "stream",
          "name": "stdout",
          "text": [
            "Batch 1000, Loss: 1.59804368019104\n"
          ]
        },
        {
          "output_type": "stream",
          "name": "stderr",
          "text": [
            "Train: 100%|██████████| 1407/1407 [09:00<00:00,  2.60it/s]\n"
          ]
        },
        {
          "output_type": "stream",
          "name": "stdout",
          "text": [
            "Epoch 8 Training Loss: 1.621956823094686\n",
            "Training Metrics: Overall Accuracy: 0.4545\n",
            " Per-Class Accuracy:\n",
            "Accuracy for class human_baroque: 0.70\n",
            "Accuracy for class AI_surrealism: 0.54\n",
            "Accuracy for class human_art_nouveau: 0.73\n",
            "Accuracy for class human_expressionism: 0.59\n",
            "Accuracy for class human_ukiyo_e: 0.51\n",
            "Accuracy for class AI_renaissance: 0.55\n",
            "Accuracy for class AI_art_nouveau: 0.55\n",
            "Accuracy for class human_realism: 0.59\n",
            "Accuracy for class AI_realism: 0.63\n",
            "Accuracy for class human_post_impressionism: 0.84\n",
            "Accuracy for class human_romanticism: 0.27\n",
            "Accuracy for class AI_expressionism: 0.38\n",
            "Accuracy for class AI_baroque: 0.13\n",
            "Accuracy for class AI_impressionism: 0.25\n",
            "Accuracy for class human_surrealism: 0.23\n",
            "Accuracy for class human_renaissance: 0.14\n",
            "Accuracy for class AI_post_impressionism: 0.32\n",
            "Accuracy for class AI_ukiyo-e: 0.20\n",
            "Accuracy for class human_impressionism: 0.26\n",
            "Accuracy for class AI_romanticism: 0.68\n",
            "--- Validating epoch 8 ---\n"
          ]
        },
        {
          "output_type": "stream",
          "name": "stderr",
          "text": [
            "Evaluate:   1%|          | 1/157 [00:00<00:43,  3.60it/s]"
          ]
        },
        {
          "output_type": "stream",
          "name": "stdout",
          "text": [
            "Batch 0, Validation Loss: 1.3135886192321777\n"
          ]
        },
        {
          "output_type": "stream",
          "name": "stderr",
          "text": [
            "Evaluate: 100%|██████████| 157/157 [00:45<00:00,  3.45it/s]\n"
          ]
        },
        {
          "output_type": "stream",
          "name": "stdout",
          "text": [
            "Epoch 8 Validation Loss: 1.3653083028793336\n",
            "Validation Metrics: Overall Accuracy: 0.5292\n",
            " Per-Class Accuracy:\n",
            "Accuracy for class human_romanticism: 0.77\n",
            "Accuracy for class AI_ukiyo-e: 0.69\n",
            "Accuracy for class AI_romanticism: 0.82\n",
            "Accuracy for class AI_art_nouveau: 0.77\n",
            "Accuracy for class human_surrealism: 0.48\n",
            "Accuracy for class AI_renaissance: 0.64\n",
            "Accuracy for class AI_realism: 0.68\n",
            "Accuracy for class human_ukiyo_e: 0.65\n",
            "Accuracy for class human_art_nouveau: 0.81\n",
            "Accuracy for class AI_post_impressionism: 0.96\n",
            "Accuracy for class human_baroque: 0.29\n",
            "Accuracy for class human_impressionism: 0.56\n",
            "Accuracy for class AI_impressionism: 0.09\n",
            "Accuracy for class human_renaissance: 0.30\n",
            "Accuracy for class human_expressionism: 0.25\n",
            "Accuracy for class human_realism: 0.37\n",
            "Accuracy for class AI_baroque: 0.35\n",
            "Accuracy for class human_post_impressionism: 0.10\n",
            "Accuracy for class AI_surrealism: 0.29\n",
            "Accuracy for class AI_expressionism: 0.70\n",
            "Early stopping counter: 1/3\n",
            "Epoch 9/10:\n",
            "--- Training epoch 9 ---\n"
          ]
        },
        {
          "output_type": "stream",
          "name": "stderr",
          "text": [
            "Train:   0%|          | 1/1407 [00:00<09:15,  2.53it/s]"
          ]
        },
        {
          "output_type": "stream",
          "name": "stdout",
          "text": [
            "Batch 0, Loss: 1.6722944974899292\n"
          ]
        },
        {
          "output_type": "stream",
          "name": "stderr",
          "text": [
            "Train:  36%|███▌      | 501/1407 [03:12<05:55,  2.55it/s]"
          ]
        },
        {
          "output_type": "stream",
          "name": "stdout",
          "text": [
            "Batch 500, Loss: 1.5085573196411133\n"
          ]
        },
        {
          "output_type": "stream",
          "name": "stderr",
          "text": [
            "Train:  71%|███████   | 1001/1407 [06:24<02:38,  2.56it/s]"
          ]
        },
        {
          "output_type": "stream",
          "name": "stdout",
          "text": [
            "Batch 1000, Loss: 1.6058281660079956\n"
          ]
        },
        {
          "output_type": "stream",
          "name": "stderr",
          "text": [
            "Train: 100%|██████████| 1407/1407 [09:00<00:00,  2.60it/s]\n"
          ]
        },
        {
          "output_type": "stream",
          "name": "stdout",
          "text": [
            "Epoch 9 Training Loss: 1.6114871454450819\n",
            "Training Metrics: Overall Accuracy: 0.4573\n",
            " Per-Class Accuracy:\n",
            "Accuracy for class human_baroque: 0.70\n",
            "Accuracy for class AI_surrealism: 0.54\n",
            "Accuracy for class human_art_nouveau: 0.73\n",
            "Accuracy for class human_expressionism: 0.59\n",
            "Accuracy for class human_ukiyo_e: 0.52\n",
            "Accuracy for class AI_renaissance: 0.56\n",
            "Accuracy for class AI_art_nouveau: 0.56\n",
            "Accuracy for class human_realism: 0.58\n",
            "Accuracy for class AI_realism: 0.64\n",
            "Accuracy for class human_post_impressionism: 0.85\n",
            "Accuracy for class human_romanticism: 0.27\n",
            "Accuracy for class AI_expressionism: 0.38\n",
            "Accuracy for class AI_baroque: 0.13\n",
            "Accuracy for class AI_impressionism: 0.24\n",
            "Accuracy for class human_surrealism: 0.23\n",
            "Accuracy for class human_renaissance: 0.15\n",
            "Accuracy for class AI_post_impressionism: 0.34\n",
            "Accuracy for class AI_ukiyo-e: 0.21\n",
            "Accuracy for class human_impressionism: 0.25\n",
            "Accuracy for class AI_romanticism: 0.68\n",
            "--- Validating epoch 9 ---\n"
          ]
        },
        {
          "output_type": "stream",
          "name": "stderr",
          "text": [
            "Evaluate:   1%|          | 1/157 [00:00<00:41,  3.80it/s]"
          ]
        },
        {
          "output_type": "stream",
          "name": "stdout",
          "text": [
            "Batch 0, Validation Loss: 1.377957820892334\n"
          ]
        },
        {
          "output_type": "stream",
          "name": "stderr",
          "text": [
            "Evaluate: 100%|██████████| 157/157 [00:45<00:00,  3.43it/s]\n"
          ]
        },
        {
          "output_type": "stream",
          "name": "stdout",
          "text": [
            "Epoch 9 Validation Loss: 1.3621269994735719\n",
            "Validation Metrics: Overall Accuracy: 0.5374\n",
            " Per-Class Accuracy:\n",
            "Accuracy for class human_romanticism: 0.77\n",
            "Accuracy for class AI_ukiyo-e: 0.73\n",
            "Accuracy for class AI_romanticism: 0.74\n",
            "Accuracy for class AI_art_nouveau: 0.72\n",
            "Accuracy for class human_surrealism: 0.66\n",
            "Accuracy for class AI_renaissance: 0.59\n",
            "Accuracy for class AI_realism: 0.67\n",
            "Accuracy for class human_ukiyo_e: 0.70\n",
            "Accuracy for class human_art_nouveau: 0.81\n",
            "Accuracy for class AI_post_impressionism: 0.93\n",
            "Accuracy for class human_baroque: 0.26\n",
            "Accuracy for class human_impressionism: 0.51\n",
            "Accuracy for class AI_impressionism: 0.08\n",
            "Accuracy for class human_renaissance: 0.32\n",
            "Accuracy for class human_expressionism: 0.23\n",
            "Accuracy for class human_realism: 0.28\n",
            "Accuracy for class AI_baroque: 0.36\n",
            "Accuracy for class human_post_impressionism: 0.23\n",
            "Accuracy for class AI_surrealism: 0.36\n",
            "Accuracy for class AI_expressionism: 0.80\n",
            "#### Best accuracy 0.5374 at epoch 9\n",
            "#### Saving model to saved_models\n",
            "Model saved to saved_models/model_best.pth\n",
            "Model saved to saved_models/model_last.pth\n"
          ]
        },
        {
          "output_type": "display_data",
          "data": {
            "text/plain": [
              "<IPython.core.display.HTML object>"
            ],
            "text/html": [
              "\n",
              "    <style>\n",
              "        .wandb-row {\n",
              "            display: flex;\n",
              "            flex-direction: row;\n",
              "            flex-wrap: wrap;\n",
              "            justify-content: flex-start;\n",
              "            width: 100%;\n",
              "        }\n",
              "        .wandb-col {\n",
              "            display: flex;\n",
              "            flex-direction: column;\n",
              "            flex-basis: 100%;\n",
              "            flex: 1;\n",
              "            padding: 10px;\n",
              "        }\n",
              "    </style>\n",
              "<div class=\"wandb-row\"><div class=\"wandb-col\"><h3>Run history:</h3><br/><table class=\"wandb\"><tr><td>epoch</td><td>▁▂▃▃▄▅▆▆▇█</td></tr><tr><td>train/acc</td><td>▁▄▆▆▇▇▇███</td></tr><tr><td>train/loss</td><td>█▄▃▃▂▂▂▁▁▁</td></tr><tr><td>val/acc</td><td>▁▂▅▆▆▇▆█▇█</td></tr><tr><td>val/loss</td><td>█▆▄▃▂▂▂▁▁▁</td></tr></table><br/></div><div class=\"wandb-col\"><h3>Run summary:</h3><br/><table class=\"wandb\"><tr><td>epoch</td><td>9</td></tr><tr><td>train/acc</td><td>0.45731</td></tr><tr><td>train/loss</td><td>1.61149</td></tr><tr><td>val/acc</td><td>0.5374</td></tr><tr><td>val/loss</td><td>1.36213</td></tr></table><br/></div></div>"
            ]
          },
          "metadata": {}
        },
        {
          "output_type": "display_data",
          "data": {
            "text/plain": [
              "<IPython.core.display.HTML object>"
            ],
            "text/html": [
              " View run <strong style=\"color:#cdcd00\">easy-sponge-95</strong> at: <a href='https://wandb.ai/ovsvc-tu-wien/ADL/runs/3a391yzf' target=\"_blank\">https://wandb.ai/ovsvc-tu-wien/ADL/runs/3a391yzf</a><br/> View project at: <a href='https://wandb.ai/ovsvc-tu-wien/ADL' target=\"_blank\">https://wandb.ai/ovsvc-tu-wien/ADL</a><br/>Synced 5 W&B file(s), 0 media file(s), 0 artifact file(s) and 0 other file(s)"
            ]
          },
          "metadata": {}
        },
        {
          "output_type": "display_data",
          "data": {
            "text/plain": [
              "<IPython.core.display.HTML object>"
            ],
            "text/html": [
              "Find logs at: <code>./wandb/run-20241217_220414-3a391yzf/logs</code>"
            ]
          },
          "metadata": {}
        }
      ],
      "source": [
        "# Updated train_transform with data augmentation\n",
        "train_transform = transforms.Compose([\n",
        "    transforms.RandomHorizontalFlip(),         # Randomly flip the image horizontally\n",
        "    transforms.RandomRotation(30),             # Randomly rotate images by up to 30 degrees\n",
        "    transforms.RandomResizedCrop(32),          # Randomly crop and resize to 32x32\n",
        "    transforms.ColorJitter(brightness=0.2, contrast=0.2, saturation=0.2, hue=0.2),  # Random color adjustments\n",
        "    transforms.ToTensor(),                     # Convert the image to a tensor\n",
        "    transforms.Normalize(mean=[0.485, 0.456, 0.406], std=[0.229, 0.224, 0.225])  # Normalize to ImageNet standards (if relevant)\n",
        "])\n",
        "# Validation and test transforms (without augmentation)\n",
        "val_transform = transforms.Compose([\n",
        "    transforms.Resize(size=(32, 32)),\n",
        "    transforms.ToTensor(),\n",
        "    transforms.Normalize(mean=[0.485, 0.456, 0.406], std=[0.229, 0.224, 0.225])  # Normalize\n",
        "])\n",
        "\n",
        "test_transform = transforms.Compose([\n",
        "    transforms.Resize(size=(32, 32)),\n",
        "    transforms.ToTensor(),\n",
        "    transforms.Normalize(mean=[0.485, 0.456, 0.406], std=[0.229, 0.224, 0.225])  # Normalize\n",
        "])\n",
        "\n",
        "#freeze_layers=True & freeze_layers = ['conv1', 'bn1', 'layer1', 'layer2'] - what layers need to be frozen\n",
        "#freeze_layers=False - do not freeze any layers\n",
        "#freeze_layers=True - freeze all layers except for the last one\n",
        "freeze_layers = ['conv1', 'bn1', 'layer1', 'layer2']\n",
        "# Config for training and testing\n",
        "config = {\n",
        "    'model': ResNet18FineTuned(freeze_layers=True, specific_layers_to_freeze=freeze_layers),\n",
        "    'dataset_path': dataset_path,\n",
        "    'model_save_dir': 'saved_models',\n",
        "    'results_save_dir': 'saved_results',\n",
        "    'train_transform': train_transform,\n",
        "    'val_transform': val_transform,\n",
        "    'test_transform': test_transform,\n",
        "    'batch_size': 64,\n",
        "    'learning_rate': 0.001,\n",
        "    'scheduler_gamma': 0.9,\n",
        "    'epochs': 10,\n",
        "    'fraction': 1,\n",
        "    'val_frequency': 1,\n",
        "    'debug_mode': True,\n",
        "    'patience': 3,\n",
        "    'model_name': \"ResNet18\"\n",
        "}\n",
        "\n",
        "# Train the model\n",
        "\n",
        "trainer_resnet = train_model(config)"
      ]
    },
    {
      "cell_type": "code",
      "execution_count": 13,
      "metadata": {
        "colab": {
          "base_uri": "https://localhost:8080/",
          "height": 1000
        },
        "id": "2rWJzPXF9KZ-",
        "outputId": "5028cdcb-f19b-43f3-caef-0045022abaa5"
      },
      "outputs": [
        {
          "output_type": "stream",
          "name": "stdout",
          "text": [
            "CUDA (GPU) is available.\n",
            "Preprocessing dataset...\n",
            "Train dataset length: 90000\n",
            "Validation dataset length: 10000\n",
            "Test dataset length: 30000\n",
            "Model: ResNet18FineTuned(\n",
            "  (resnet18): ResNet(\n",
            "    (conv1): Conv2d(3, 64, kernel_size=(7, 7), stride=(2, 2), padding=(3, 3), bias=False)\n",
            "    (bn1): BatchNorm2d(64, eps=1e-05, momentum=0.1, affine=True, track_running_stats=True)\n",
            "    (relu): ReLU(inplace=True)\n",
            "    (maxpool): MaxPool2d(kernel_size=3, stride=2, padding=1, dilation=1, ceil_mode=False)\n",
            "    (layer1): Sequential(\n",
            "      (0): BasicBlock(\n",
            "        (conv1): Conv2d(64, 64, kernel_size=(3, 3), stride=(1, 1), padding=(1, 1), bias=False)\n",
            "        (bn1): BatchNorm2d(64, eps=1e-05, momentum=0.1, affine=True, track_running_stats=True)\n",
            "        (relu): ReLU(inplace=True)\n",
            "        (conv2): Conv2d(64, 64, kernel_size=(3, 3), stride=(1, 1), padding=(1, 1), bias=False)\n",
            "        (bn2): BatchNorm2d(64, eps=1e-05, momentum=0.1, affine=True, track_running_stats=True)\n",
            "      )\n",
            "      (1): BasicBlock(\n",
            "        (conv1): Conv2d(64, 64, kernel_size=(3, 3), stride=(1, 1), padding=(1, 1), bias=False)\n",
            "        (bn1): BatchNorm2d(64, eps=1e-05, momentum=0.1, affine=True, track_running_stats=True)\n",
            "        (relu): ReLU(inplace=True)\n",
            "        (conv2): Conv2d(64, 64, kernel_size=(3, 3), stride=(1, 1), padding=(1, 1), bias=False)\n",
            "        (bn2): BatchNorm2d(64, eps=1e-05, momentum=0.1, affine=True, track_running_stats=True)\n",
            "      )\n",
            "    )\n",
            "    (layer2): Sequential(\n",
            "      (0): BasicBlock(\n",
            "        (conv1): Conv2d(64, 128, kernel_size=(3, 3), stride=(2, 2), padding=(1, 1), bias=False)\n",
            "        (bn1): BatchNorm2d(128, eps=1e-05, momentum=0.1, affine=True, track_running_stats=True)\n",
            "        (relu): ReLU(inplace=True)\n",
            "        (conv2): Conv2d(128, 128, kernel_size=(3, 3), stride=(1, 1), padding=(1, 1), bias=False)\n",
            "        (bn2): BatchNorm2d(128, eps=1e-05, momentum=0.1, affine=True, track_running_stats=True)\n",
            "        (downsample): Sequential(\n",
            "          (0): Conv2d(64, 128, kernel_size=(1, 1), stride=(2, 2), bias=False)\n",
            "          (1): BatchNorm2d(128, eps=1e-05, momentum=0.1, affine=True, track_running_stats=True)\n",
            "        )\n",
            "      )\n",
            "      (1): BasicBlock(\n",
            "        (conv1): Conv2d(128, 128, kernel_size=(3, 3), stride=(1, 1), padding=(1, 1), bias=False)\n",
            "        (bn1): BatchNorm2d(128, eps=1e-05, momentum=0.1, affine=True, track_running_stats=True)\n",
            "        (relu): ReLU(inplace=True)\n",
            "        (conv2): Conv2d(128, 128, kernel_size=(3, 3), stride=(1, 1), padding=(1, 1), bias=False)\n",
            "        (bn2): BatchNorm2d(128, eps=1e-05, momentum=0.1, affine=True, track_running_stats=True)\n",
            "      )\n",
            "    )\n",
            "    (layer3): Sequential(\n",
            "      (0): BasicBlock(\n",
            "        (conv1): Conv2d(128, 256, kernel_size=(3, 3), stride=(2, 2), padding=(1, 1), bias=False)\n",
            "        (bn1): BatchNorm2d(256, eps=1e-05, momentum=0.1, affine=True, track_running_stats=True)\n",
            "        (relu): ReLU(inplace=True)\n",
            "        (conv2): Conv2d(256, 256, kernel_size=(3, 3), stride=(1, 1), padding=(1, 1), bias=False)\n",
            "        (bn2): BatchNorm2d(256, eps=1e-05, momentum=0.1, affine=True, track_running_stats=True)\n",
            "        (downsample): Sequential(\n",
            "          (0): Conv2d(128, 256, kernel_size=(1, 1), stride=(2, 2), bias=False)\n",
            "          (1): BatchNorm2d(256, eps=1e-05, momentum=0.1, affine=True, track_running_stats=True)\n",
            "        )\n",
            "      )\n",
            "      (1): BasicBlock(\n",
            "        (conv1): Conv2d(256, 256, kernel_size=(3, 3), stride=(1, 1), padding=(1, 1), bias=False)\n",
            "        (bn1): BatchNorm2d(256, eps=1e-05, momentum=0.1, affine=True, track_running_stats=True)\n",
            "        (relu): ReLU(inplace=True)\n",
            "        (conv2): Conv2d(256, 256, kernel_size=(3, 3), stride=(1, 1), padding=(1, 1), bias=False)\n",
            "        (bn2): BatchNorm2d(256, eps=1e-05, momentum=0.1, affine=True, track_running_stats=True)\n",
            "      )\n",
            "    )\n",
            "    (layer4): Sequential(\n",
            "      (0): BasicBlock(\n",
            "        (conv1): Conv2d(256, 512, kernel_size=(3, 3), stride=(2, 2), padding=(1, 1), bias=False)\n",
            "        (bn1): BatchNorm2d(512, eps=1e-05, momentum=0.1, affine=True, track_running_stats=True)\n",
            "        (relu): ReLU(inplace=True)\n",
            "        (conv2): Conv2d(512, 512, kernel_size=(3, 3), stride=(1, 1), padding=(1, 1), bias=False)\n",
            "        (bn2): BatchNorm2d(512, eps=1e-05, momentum=0.1, affine=True, track_running_stats=True)\n",
            "        (downsample): Sequential(\n",
            "          (0): Conv2d(256, 512, kernel_size=(1, 1), stride=(2, 2), bias=False)\n",
            "          (1): BatchNorm2d(512, eps=1e-05, momentum=0.1, affine=True, track_running_stats=True)\n",
            "        )\n",
            "      )\n",
            "      (1): BasicBlock(\n",
            "        (conv1): Conv2d(512, 512, kernel_size=(3, 3), stride=(1, 1), padding=(1, 1), bias=False)\n",
            "        (bn1): BatchNorm2d(512, eps=1e-05, momentum=0.1, affine=True, track_running_stats=True)\n",
            "        (relu): ReLU(inplace=True)\n",
            "        (conv2): Conv2d(512, 512, kernel_size=(3, 3), stride=(1, 1), padding=(1, 1), bias=False)\n",
            "        (bn2): BatchNorm2d(512, eps=1e-05, momentum=0.1, affine=True, track_running_stats=True)\n",
            "      )\n",
            "    )\n",
            "    (avgpool): AdaptiveAvgPool2d(output_size=(1, 1))\n",
            "    (fc): Linear(in_features=512, out_features=20, bias=True)\n",
            "  )\n",
            ")\n"
          ]
        },
        {
          "output_type": "display_data",
          "data": {
            "text/plain": [
              "<IPython.core.display.HTML object>"
            ],
            "text/html": [
              "Tracking run with wandb version 0.18.7"
            ]
          },
          "metadata": {}
        },
        {
          "output_type": "display_data",
          "data": {
            "text/plain": [
              "<IPython.core.display.HTML object>"
            ],
            "text/html": [
              "Run data is saved locally in <code>/content/wandb/run-20241217_234250-uu0xmam6</code>"
            ]
          },
          "metadata": {}
        },
        {
          "output_type": "display_data",
          "data": {
            "text/plain": [
              "<IPython.core.display.HTML object>"
            ],
            "text/html": [
              "Syncing run <strong><a href='https://wandb.ai/ovsvc-tu-wien/ADL/runs/uu0xmam6' target=\"_blank\">noble-deluge-98</a></strong> to <a href='https://wandb.ai/ovsvc-tu-wien/ADL' target=\"_blank\">Weights & Biases</a> (<a href='https://wandb.me/developer-guide' target=\"_blank\">docs</a>)<br/>"
            ]
          },
          "metadata": {}
        },
        {
          "output_type": "display_data",
          "data": {
            "text/plain": [
              "<IPython.core.display.HTML object>"
            ],
            "text/html": [
              " View project at <a href='https://wandb.ai/ovsvc-tu-wien/ADL' target=\"_blank\">https://wandb.ai/ovsvc-tu-wien/ADL</a>"
            ]
          },
          "metadata": {}
        },
        {
          "output_type": "display_data",
          "data": {
            "text/plain": [
              "<IPython.core.display.HTML object>"
            ],
            "text/html": [
              " View run at <a href='https://wandb.ai/ovsvc-tu-wien/ADL/runs/uu0xmam6' target=\"_blank\">https://wandb.ai/ovsvc-tu-wien/ADL/runs/uu0xmam6</a>"
            ]
          },
          "metadata": {}
        },
        {
          "output_type": "stream",
          "name": "stdout",
          "text": [
            "Testing the model...\n"
          ]
        },
        {
          "output_type": "stream",
          "name": "stderr",
          "text": [
            "/content/drive/MyDrive/06_TUWien/10_ADL/scripts/run_cnn.py:173: FutureWarning: You are using `torch.load` with `weights_only=False` (the current default value), which uses the default pickle module implicitly. It is possible to construct malicious pickle data which will execute arbitrary code during unpickling (See https://github.com/pytorch/pytorch/blob/main/SECURITY.md#untrusted-models for more details). In a future release, the default value for `weights_only` will be flipped to `True`. This limits the functions that could be executed during unpickling. Arbitrary objects will no longer be allowed to be loaded via this mode unless they are explicitly allowlisted by the user via `torch.serialization.add_safe_globals`. We recommend you start setting `weights_only=True` for any use case where you don't have full control of the loaded file. Please open an issue on GitHub for any issues related to this experimental feature.\n",
            "  trainer.model.load_state_dict(torch.load(Path(config['model_save_dir']) / f\"{config['model_name']}.pth\", map_location=device))\n"
          ]
        },
        {
          "output_type": "display_data",
          "data": {
            "text/plain": [
              "<IPython.core.display.HTML object>"
            ],
            "text/html": [
              "Finishing last run (ID:uu0xmam6) before initializing another..."
            ]
          },
          "metadata": {}
        },
        {
          "output_type": "display_data",
          "data": {
            "text/plain": [
              "<IPython.core.display.HTML object>"
            ],
            "text/html": [
              " View run <strong style=\"color:#cdcd00\">noble-deluge-98</strong> at: <a href='https://wandb.ai/ovsvc-tu-wien/ADL/runs/uu0xmam6' target=\"_blank\">https://wandb.ai/ovsvc-tu-wien/ADL/runs/uu0xmam6</a><br/> View project at: <a href='https://wandb.ai/ovsvc-tu-wien/ADL' target=\"_blank\">https://wandb.ai/ovsvc-tu-wien/ADL</a><br/>Synced 5 W&B file(s), 0 media file(s), 0 artifact file(s) and 0 other file(s)"
            ]
          },
          "metadata": {}
        },
        {
          "output_type": "display_data",
          "data": {
            "text/plain": [
              "<IPython.core.display.HTML object>"
            ],
            "text/html": [
              "Find logs at: <code>./wandb/run-20241217_234250-uu0xmam6/logs</code>"
            ]
          },
          "metadata": {}
        },
        {
          "output_type": "display_data",
          "data": {
            "text/plain": [
              "<IPython.core.display.HTML object>"
            ],
            "text/html": [
              "Successfully finished last run (ID:uu0xmam6). Initializing new run:<br/>"
            ]
          },
          "metadata": {}
        },
        {
          "output_type": "display_data",
          "data": {
            "text/plain": [
              "<IPython.core.display.HTML object>"
            ],
            "text/html": [
              "Tracking run with wandb version 0.18.7"
            ]
          },
          "metadata": {}
        },
        {
          "output_type": "display_data",
          "data": {
            "text/plain": [
              "<IPython.core.display.HTML object>"
            ],
            "text/html": [
              "Run data is saved locally in <code>/content/wandb/run-20241217_234253-0gu1fao9</code>"
            ]
          },
          "metadata": {}
        },
        {
          "output_type": "display_data",
          "data": {
            "text/plain": [
              "<IPython.core.display.HTML object>"
            ],
            "text/html": [
              "Syncing run <strong><a href='https://wandb.ai/ovsvc-tu-wien/ADL/runs/0gu1fao9' target=\"_blank\">worthy-field-99</a></strong> to <a href='https://wandb.ai/ovsvc-tu-wien/ADL' target=\"_blank\">Weights & Biases</a> (<a href='https://wandb.me/developer-guide' target=\"_blank\">docs</a>)<br/>"
            ]
          },
          "metadata": {}
        },
        {
          "output_type": "display_data",
          "data": {
            "text/plain": [
              "<IPython.core.display.HTML object>"
            ],
            "text/html": [
              " View project at <a href='https://wandb.ai/ovsvc-tu-wien/ADL' target=\"_blank\">https://wandb.ai/ovsvc-tu-wien/ADL</a>"
            ]
          },
          "metadata": {}
        },
        {
          "output_type": "display_data",
          "data": {
            "text/plain": [
              "<IPython.core.display.HTML object>"
            ],
            "text/html": [
              " View run at <a href='https://wandb.ai/ovsvc-tu-wien/ADL/runs/0gu1fao9' target=\"_blank\">https://wandb.ai/ovsvc-tu-wien/ADL/runs/0gu1fao9</a>"
            ]
          },
          "metadata": {}
        },
        {
          "output_type": "stream",
          "name": "stderr",
          "text": [
            "Test: 100%|██████████| 469/469 [02:32<00:00,  3.07it/s]"
          ]
        },
        {
          "output_type": "stream",
          "name": "stdout",
          "text": [
            "Test Metrics: Overall Accuracy: 0.6026\n",
            " Per-Class Accuracy:\n",
            "Accuracy for class human_romanticism: 0.80\n",
            "Accuracy for class AI_expressionism: 0.77\n",
            "Accuracy for class AI_baroque: 0.75\n",
            "Accuracy for class AI_ukiyo-e: 0.70\n",
            "Accuracy for class human_renaissance: 0.63\n",
            "Accuracy for class human_post_impressionism: 0.60\n",
            "Accuracy for class human_realism: 0.67\n",
            "Accuracy for class AI_art_nouveau: 0.72\n",
            "Accuracy for class AI_romanticism: 0.81\n",
            "Accuracy for class AI_renaissance: 0.93\n",
            "Accuracy for class human_expressionism: 0.26\n",
            "Accuracy for class AI_impressionism: 0.48\n",
            "Accuracy for class AI_post_impressionism: 0.08\n",
            "Accuracy for class human_baroque: 0.28\n",
            "Accuracy for class AI_surrealism: 0.24\n",
            "Accuracy for class human_impressionism: 0.24\n",
            "Accuracy for class AI_realism: 0.33\n",
            "Accuracy for class human_surrealism: 0.22\n",
            "Accuracy for class human_art_nouveau: 0.38\n",
            "Accuracy for class human_ukiyo_e: 0.80\n"
          ]
        },
        {
          "output_type": "stream",
          "name": "stderr",
          "text": [
            "\n"
          ]
        }
      ],
      "source": [
        "# Test the model (reuse the trainer)\n",
        "test_loss, test_accuracy, test_per_class_accuracy, all_labels, all_predictions, test_classes = test_model(config, trainer=None)"
      ]
    },
    {
      "cell_type": "code",
      "execution_count": 14,
      "metadata": {
        "colab": {
          "base_uri": "https://localhost:8080/",
          "height": 1000
        },
        "id": "V3W5rkW49KZ-",
        "outputId": "bbf9cf62-2a3b-4805-a7b1-348b9e494c0a"
      },
      "outputs": [
        {
          "output_type": "display_data",
          "data": {
            "text/plain": [
              "<Figure size 1200x1200 with 2 Axes>"
            ],
            "image/png": "[encoded data removed]"
          },
          "metadata": {}
        },
        {
          "output_type": "stream",
          "name": "stdout",
          "text": [
            "\n",
            "Classification Report:\n",
            "                          precision    recall  f1-score   support\n",
            "\n",
            "       human_romanticism       0.72      0.80      0.76      2000\n",
            "        AI_expressionism       0.58      0.77      0.66      2000\n",
            "              AI_baroque       0.85      0.75      0.80      2000\n",
            "              AI_ukiyo-e       0.64      0.70      0.67      2000\n",
            "       human_renaissance       0.61      0.63      0.62      2000\n",
            "human_post_impressionism       0.72      0.60      0.65      2000\n",
            "           human_realism       0.72      0.67      0.69      2000\n",
            "          AI_art_nouveau       0.66      0.72      0.69      2000\n",
            "          AI_romanticism       0.72      0.81      0.76      2000\n",
            "          AI_renaissance       0.95      0.93      0.94      2000\n",
            "     human_expressionism       0.39      0.26      0.31      1000\n",
            "        AI_impressionism       0.37      0.48      0.42      1000\n",
            "   AI_post_impressionism       0.31      0.08      0.12      1000\n",
            "           human_baroque       0.31      0.28      0.29      1000\n",
            "           AI_surrealism       0.30      0.24      0.27      1000\n",
            "     human_impressionism       0.23      0.24      0.23      1000\n",
            "              AI_realism       0.34      0.33      0.34      1000\n",
            "        human_surrealism       0.31      0.22      0.26      1000\n",
            "       human_art_nouveau       0.32      0.38      0.34      1000\n",
            "           human_ukiyo_e       0.60      0.80      0.69      1000\n",
            "\n",
            "                accuracy                           0.60     30000\n",
            "               macro avg       0.53      0.53      0.53     30000\n",
            "            weighted avg       0.59      0.60      0.59     30000\n",
            "\n",
            "Test Loss: 1.1551\n",
            "Test Accuracy: 0.6026\n",
            "Overall Precision: 0.5947\n",
            "Overall Recall: 0.6026\n",
            "Overall F1-Score: 0.5926\n",
            "Overall Accuracy: 0.6026\n"
          ]
        }
      ],
      "source": [
        "# Analyze test results\n",
        "metrics = analyze_test_results(\n",
        "    test_loss=test_loss,\n",
        "    test_accuracy=test_accuracy,\n",
        "    test_per_class_accuracy=test_per_class_accuracy,\n",
        "    all_labels=all_labels,\n",
        "    all_predictions=all_predictions,\n",
        "    classes=test_classes\n",
        ")"
      ]
    },
    {
      "cell_type": "markdown",
      "metadata": {
        "id": "6RPOLAQf1g6S"
      },
      "source": []
    }
  ],
  "metadata": {
    "accelerator": "GPU",
    "colab": {
      "gpuType": "A100",
      "provenance": []
    },
    "kernelspec": {
      "display_name": "Python 3",
      "name": "python3"
    },
    "language_info": {
      "codemirror_mode": {
        "name": "ipython",
        "version": 3
      },
      "file_extension": ".py",
      "mimetype": "text/x-python",
      "name": "python",
      "nbconvert_exporter": "python",
      "pygments_lexer": "ipython3",
      "version": "3.11.11"
    }
  },
  "nbformat": 4,
  "nbformat_minor": 0
}
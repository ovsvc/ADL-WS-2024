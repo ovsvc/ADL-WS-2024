{
  "cells": [
    {
      "cell_type": "markdown",
      "metadata": {
        "id": "dYpvfW_v1g6M"
      },
      "source": [
        "##### Colab"
      ]
    },
    {
      "cell_type": "code",
      "execution_count": null,
      "metadata": {
        "colab": {
          "base_uri": "https://localhost:8080/"
        },
        "id": "tIsoWB3s1g6O",
        "outputId": "e090e195-a735-416a-8db6-7bf33ab15cf1"
      },
      "outputs": [],
      "source": [
        "# Colab\n",
        "from google.colab import drive\n",
        "drive.mount('/content/drive')"
      ]
    },
    {
      "cell_type": "code",
      "execution_count": 2,
      "metadata": {
        "id": "S4ZttW8H1g6O"
      },
      "outputs": [],
      "source": [
        "! pip install -q kaggle"
      ]
    },
    {
      "cell_type": "code",
      "execution_count": 3,
      "metadata": {
        "id": "vAGLOPYw1g6P"
      },
      "outputs": [],
      "source": [
        "from google.colab import userdata\n",
        "import os\n",
        "\n",
        "os.environ[\"kaggle_key\"] = userdata.get('kaggle_key')\n",
        "os.environ[\"kaggle_username\"] = userdata.get('kaggle_username')"
      ]
    },
    {
      "cell_type": "code",
      "execution_count": null,
      "metadata": {
        "colab": {
          "base_uri": "https://localhost:8080/"
        },
        "id": "IbZacPMO1g6P",
        "outputId": "a18bad53-da22-4512-df9d-bf2b86df84d2"
      },
      "outputs": [],
      "source": [
        "!kaggle datasets download -d ravidussilva/real-ai-art\n",
        "! unzip \"real-ai-art\""
      ]
    },
    {
      "cell_type": "markdown",
      "metadata": {
        "id": "Qs7W5jfh1g6P"
      },
      "source": [
        "##### Local & Colab"
      ]
    },
    {
      "cell_type": "code",
      "execution_count": null,
      "metadata": {
        "colab": {
          "base_uri": "https://localhost:8080/"
        },
        "id": "5h4oeW0t1g6Q",
        "outputId": "29fd9145-6f7b-47cf-9c2b-64e1ed8c8c88"
      },
      "outputs": [],
      "source": [
        "#Imports\n",
        "import sys\n",
        "sys.path.append('/Users/viktoriiaovsianik/Documents/Uni/04_WS2024/06_ADL/Code/ADL-WS-2024')\n",
        "#sys.path.append('/content/drive/MyDrive/06_TUWien/10_ADL')\n",
        "from scripts.run_cnn import train_model, test_model\n",
        "from scripts.viz import display_images\n",
        "\n",
        "from datasets.AIArtBench import AIArtbench\n",
        "from datasets.dataset import Subset\n",
        "from datasets.preprocessing import CustomDatasetPreprocessor\n",
        "from torch.utils.data import DataLoader\n",
        "from models.cnn import CNN_Net\n",
        "from models.simple_cnn import Simple_CNN\n",
        "from scripts.evaluation import analyze_test_results\n",
        "import torchvision.transforms as transforms"
      ]
    },
    {
      "cell_type": "markdown",
      "metadata": {
        "id": "tqwq_a-E1g6Q"
      },
      "source": [
        "#### Import dataset & look what's inside"
      ]
    },
    {
      "cell_type": "code",
      "execution_count": 3,
      "metadata": {
        "id": "3LVdKLqV1g6Q"
      },
      "outputs": [],
      "source": [
        "# Define your dataset path\n",
        "dataset_path = \"/Users/viktoriiaovsianik/Documents/Uni/04_WS2024/06_ADL/Code/ADL-WS-2024/data\"\n",
        "#dataset_path = \"/content/Real_AI_SD_LD_Dataset\""
      ]
    },
    {
      "cell_type": "code",
      "execution_count": 3,
      "metadata": {
        "id": "9zzapa7I1g6R"
      },
      "outputs": [],
      "source": [
        "# Process Data to print some images\n",
        "preprocessor = CustomDatasetPreprocessor(dataset_path)\n",
        "preprocessor.preprocess(fraction=0.2)\n",
        "\n",
        "# Get dataset splits\n",
        "train_data, validation_data, test_data = preprocessor.get_splits()"
      ]
    },
    {
      "cell_type": "code",
      "execution_count": null,
      "metadata": {
        "colab": {
          "base_uri": "https://localhost:8080/",
          "height": 107
        },
        "id": "SxSqSYfH1g6R",
        "outputId": "c3eeff03-4356-47ab-9f49-06c9fddeb881"
      },
      "outputs": [],
      "source": [
        "# Print images from train dataset + check how different transformations work\n",
        "\n",
        "train_transform = transforms.Compose([\n",
        "        transforms.Resize(size=(256, 256)),\n",
        "        transforms.ToTensor()\n",
        "    ])\n",
        "\n",
        "# Prepare the training dataset and DataLoader\n",
        "train_dataset = AIArtbench(dataframe=train_data, subset=Subset.TRAINING, transform=train_transform)\n",
        "# Extract images\n",
        "train_data_loader = DataLoader(train_dataset, batch_size=64, shuffle=True, )\n",
        "# Get unique class names\n",
        "classes = train_dataset.get_classes()\n",
        "# Display a few images from the training data\n",
        "display_images(data_loader=train_data_loader, classes=classes, num_images=5, save_path=\"train_images_grid.png\")"
      ]
    },
    {
      "cell_type": "markdown",
      "metadata": {
        "id": "2N03y55G1g6R"
      },
      "source": [
        "#### Train & test baseline (Simple CNN)"
      ]
    },
    {
      "cell_type": "code",
      "execution_count": 6,
      "metadata": {
        "colab": {
          "base_uri": "https://localhost:8080/",
          "height": 1000
        },
        "id": "Y5Szxxgs1g6S",
        "outputId": "53d03366-ed15-47d7-bace-b26b55f33b7b"
      },
      "outputs": [],
      "source": [
        "# Define transformations\n",
        "\n",
        "train_transform = transforms.Compose([\n",
        "        transforms.Resize(size=(32, 32)),\n",
        "        transforms.ToTensor()\n",
        "    ])\n",
        "\n",
        "val_transform = transforms.Compose([\n",
        "        transforms.Resize(size=(32, 32)),\n",
        "        transforms.ToTensor()\n",
        "    ])\n",
        "\n",
        "test_transform = transforms.Compose([\n",
        "        transforms.Resize(size=(32, 32)),\n",
        "        transforms.ToTensor()\n",
        "    ])\n",
        "\n",
        "\n",
        "# Config for training and testing\n",
        "config = {\n",
        "    'model': Simple_CNN(),\n",
        "    'dataset_path': dataset_path,\n",
        "    'model_save_dir': 'saved_models',\n",
        "    'results_save_dir': 'saved_results',\n",
        "    'train_transform': train_transform,\n",
        "    'val_transform': val_transform,\n",
        "    'test_transform': test_transform,\n",
        "    'batch_size': 64,\n",
        "    'learning_rate': 0.001,\n",
        "    'scheduler_gamma': 0.9,\n",
        "    'epochs': 10,\n",
        "    'fraction': 1,\n",
        "    'val_frequency': 2,\n",
        "    'debug_mode': True,\n",
        "    'patience': 3,\n",
        "    'model_name': \"Simple_CNN\"\n",
        "}\n",
        "\n",
        "# Train the model\n",
        "\n",
        "#trainer = train_model(config)"
      ]
    },
    {
      "cell_type": "code",
      "execution_count": null,
      "metadata": {
        "colab": {
          "base_uri": "https://localhost:8080/",
          "height": 956
        },
        "id": "QTuXwPSB1g6S",
        "outputId": "c6ebab01-4144-4e3e-ddb2-5f7a61b46310"
      },
      "outputs": [],
      "source": [
        "# Test the model (reuse the trainer)\n",
        "test_loss, test_accuracy, test_per_class_accuracy, all_labels, all_predictions, test_classes = test_model(config, trainer=None)"
      ]
    },
    {
      "cell_type": "code",
      "execution_count": null,
      "metadata": {
        "colab": {
          "base_uri": "https://localhost:8080/",
          "height": 1000
        },
        "id": "3YRFNFWr1g6S",
        "outputId": "3774e111-f97e-4935-f7e9-b79303a38f3d"
      },
      "outputs": [],
      "source": [
        "# Analyze test results\n",
        "metrics = analyze_test_results(\n",
        "    test_loss=test_loss,\n",
        "    test_accuracy=test_accuracy,\n",
        "    test_per_class_accuracy=test_per_class_accuracy,\n",
        "    all_labels=all_labels,\n",
        "    all_predictions=all_predictions,\n",
        "    classes=test_classes\n",
        ")"
      ]
    },
    {
      "cell_type": "markdown",
      "metadata": {},
      "source": [
        "#### Train & test using transfer learning (ResNet18)"
      ]
    },
    {
      "cell_type": "code",
      "execution_count": null,
      "metadata": {},
      "outputs": [],
      "source": [
        "from models.resnet18 import ResNet18FineTuned\n",
        "\n",
        "train_transform = transforms.Compose([\n",
        "        transforms.Resize(size=(32, 32)),\n",
        "        transforms.ToTensor()\n",
        "    ])\n",
        "\n",
        "val_transform = transforms.Compose([\n",
        "        transforms.Resize(size=(32, 32)),\n",
        "        transforms.ToTensor()\n",
        "    ])\n",
        "\n",
        "test_transform = transforms.Compose([\n",
        "        transforms.Resize(size=(32, 32)),\n",
        "        transforms.ToTensor()\n",
        "    ])\n",
        "#freeze_layers=True & freeze_layers = ['conv1', 'bn1', 'layer1', 'layer2'] - what layers need to be frozen\n",
        "#freeze_layers=False - do not freeze any layers\n",
        "#freeze_layers=True - freeze all layers except for the last one\n",
        "freeze_layers = ['conv1', 'bn1', 'layer1', 'layer2']\n",
        "# Config for training and testing\n",
        "config_resnet = {\n",
        "    'model': ResNet18FineTuned(freeze_layers=True, specific_layers_to_freeze=freeze_layers),\n",
        "    'dataset_path': dataset_path,\n",
        "    'model_save_dir': 'saved_models',\n",
        "    'results_save_dir': 'saved_results',\n",
        "    'train_transform': train_transform,\n",
        "    'val_transform': val_transform,\n",
        "    'test_transform': test_transform,\n",
        "    'batch_size': 64,\n",
        "    'learning_rate': 0.001,\n",
        "    'scheduler_gamma': 0.9,\n",
        "    'epochs': 10,\n",
        "    'fraction': 0.01,\n",
        "    'val_frequency': 2,\n",
        "    'debug_mode': True,\n",
        "    'patience': 3,\n",
        "    'model_name': \"ResNet18\"\n",
        "}\n",
        "\n",
        "# Train the model\n",
        "\n",
        "trainer_resnet = train_model(config_resnet)\n"
      ]
    },
    {
      "cell_type": "markdown",
      "metadata": {
        "id": "6RPOLAQf1g6S"
      },
      "source": []
    }
  ],
  "metadata": {
    "accelerator": "GPU",
    "colab": {
      "gpuType": "T4",
      "provenance": []
    },
    "kernelspec": {
      "display_name": "adl",
      "language": "python",
      "name": "python3"
    },
    "language_info": {
      "codemirror_mode": {
        "name": "ipython",
        "version": 3
      },
      "file_extension": ".py",
      "mimetype": "text/x-python",
      "name": "python",
      "nbconvert_exporter": "python",
      "pygments_lexer": "ipython3",
      "version": "3.11.11"
    }
  },
  "nbformat": 4,
  "nbformat_minor": 0
}

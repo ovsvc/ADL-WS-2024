{
 "cells": [
  {
   "cell_type": "code",
   "execution_count": null,
   "metadata": {},
   "outputs": [],
   "source": [
    "#Imports \n",
    "import sys\n",
    "sys.path.append('/Users/viktoriiaovsianik/Documents/Uni/04_WS2024/06_ADL/Code/ADL-WS-2024')\n",
    "from scripts.train_cnn import train_model\n",
    "from scripts.viz import display_images\n",
    "\n",
    "\n",
    "from datasets.AIArtBench import AIArtbench\n",
    "from datasets.dataset import Subset\n",
    "from datasets.preprocessing import CustomDatasetPreprocessor\n",
    "from torch.utils.data import DataLoader"
   ]
  },
  {
   "cell_type": "markdown",
   "metadata": {},
   "source": [
    "#### Import dataset"
   ]
  },
  {
   "cell_type": "code",
   "execution_count": 4,
   "metadata": {},
   "outputs": [],
   "source": [
    "# Define your dataset path and preprocess the data\n",
    "dataset_path = \"/Users/viktoriiaovsianik/Documents/Uni/04_WS2024/06_ADL/Code/ADL-WS-2024/data\"\n",
    "preprocessor = CustomDatasetPreprocessor(dataset_path)\n",
    "preprocessor.preprocess(fraction=0.01)\n",
    "\n",
    "# Get dataset splits\n",
    "train_data, validation_data, test_data = preprocessor.get_splits()\n",
    "\n",
    "# Prepare the training dataset and DataLoader\n",
    "train_dataset = AIArtbench(dataframe=train_data, subset=Subset.TRAINING, transform=None)"
   ]
  },
  {
   "cell_type": "code",
   "execution_count": null,
   "metadata": {},
   "outputs": [],
   "source": [
    "#Plot images\n",
    "train_dataset.plot_images(label_type='human', k=5)\n",
    "train_dataset.plot_images(label_type='AI', k=5)\n",
    "\n",
    "# Extract images\n",
    "#train_data_loader = DataLoader(train_dataset, batch_size=32, shuffle=True)\n",
    "# Get unique class names\n",
    "#classes = train_data['label'].unique()\n",
    "# Display a few images from the training data\n",
    "#display_images(data_loader=train_data_loader, classes=classes, num_images=8, save_path=\"train_images_grid.png\")"
   ]
  },
  {
   "cell_type": "markdown",
   "metadata": {},
   "source": [
    "#### Train baseline"
   ]
  },
  {
   "cell_type": "code",
   "execution_count": null,
   "metadata": {},
   "outputs": [],
   "source": [
    "config = {\n",
    "    \"dataset_path\": dataset_path,  # Modify as needed\n",
    "    \"fraction\": 0.1,\n",
    "    \"learning_rate\": 0.001,\n",
    "    \"scheduler_gamma\": 0.9,\n",
    "    \"epochs\": 5,\n",
    "    \"batch_size\": 64,\n",
    "    \"val_frequency\": 3,\n",
    "    \"model_save_dir\": \"saved_models\",\n",
    "    \"debug_mode\": \"True\"\n",
    "}\n",
    "\n",
    "train_model(config)"
   ]
  }
 ],
 "metadata": {
  "kernelspec": {
   "display_name": "adl",
   "language": "python",
   "name": "python3"
  },
  "language_info": {
   "codemirror_mode": {
    "name": "ipython",
    "version": 3
   },
   "file_extension": ".py",
   "mimetype": "text/x-python",
   "name": "python",
   "nbconvert_exporter": "python",
   "pygments_lexer": "ipython3",
   "version": "3.11.11"
  }
 },
 "nbformat": 4,
 "nbformat_minor": 2
}

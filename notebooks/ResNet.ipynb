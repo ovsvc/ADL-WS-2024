{
  "cells": [
    {
      "cell_type": "markdown",
      "metadata": {
        "id": "dYpvfW_v1g6M"
      },
      "source": [
        "##### Colab"
      ]
    },
    {
      "cell_type": "code",
      "execution_count": null,
      "metadata": {
        "colab": {
          "base_uri": "https://localhost:8080/"
        },
        "id": "tIsoWB3s1g6O",
        "outputId": "e090e195-a735-416a-8db6-7bf33ab15cf1"
      },
      "outputs": [],
      "source": [
        "# Colab\n",
        "from google.colab import drive\n",
        "drive.mount('/content/drive')"
      ]
    },
    {
      "cell_type": "code",
      "execution_count": 2,
      "metadata": {
        "id": "S4ZttW8H1g6O"
      },
      "outputs": [],
      "source": [
        "! pip install -q kaggle"
      ]
    },
    {
      "cell_type": "code",
      "execution_count": 3,
      "metadata": {
        "id": "vAGLOPYw1g6P"
      },
      "outputs": [],
      "source": [
        "from google.colab import userdata\n",
        "import os\n",
        "\n",
        "os.environ[\"kaggle_key\"] = userdata.get('kaggle_key')\n",
        "os.environ[\"kaggle_username\"] = userdata.get('kaggle_username')"
      ]
    },
    {
      "cell_type": "code",
      "execution_count": null,
      "metadata": {
        "colab": {
          "base_uri": "https://localhost:8080/"
        },
        "id": "IbZacPMO1g6P",
        "outputId": "a18bad53-da22-4512-df9d-bf2b86df84d2"
      },
      "outputs": [],
      "source": [
        "!kaggle datasets download -d ravidussilva/real-ai-art\n",
        "! unzip \"real-ai-art\""
      ]
    },
    {
      "cell_type": "markdown",
      "metadata": {
        "id": "Qs7W5jfh1g6P"
      },
      "source": [
        "##### Local & Colab"
      ]
    },
    {
      "cell_type": "code",
      "execution_count": 8,
      "metadata": {
        "colab": {
          "base_uri": "https://localhost:8080/"
        },
        "id": "5h4oeW0t1g6Q",
        "outputId": "29fd9145-6f7b-47cf-9c2b-64e1ed8c8c88"
      },
      "outputs": [],
      "source": [
        "#Imports\n",
        "import sys\n",
        "sys.path.append('/Users/viktoriiaovsianik/Documents/Uni/04_WS2024/06_ADL/Code/ADL-WS-2024')\n",
        "#sys.path.append('/content/drive/MyDrive/06_TUWien/10_ADL')\n",
        "from scripts.run_cnn import train_model, test_model\n",
        "\n",
        "from models.resnet18 import ResNet18FineTuned\n",
        "from scripts.evaluation import analyze_test_results\n",
        "import torchvision.transforms as transforms"
      ]
    },
    {
      "cell_type": "code",
      "execution_count": 3,
      "metadata": {
        "id": "3LVdKLqV1g6Q"
      },
      "outputs": [],
      "source": [
        "dataset_path = \"/Users/viktoriiaovsianik/Documents/Uni/04_WS2024/06_ADL/Code/ADL-WS-2024/data\"\n",
        "#dataset_path = \"/content/Real_AI_SD_LD_Dataset\""
      ]
    },
    {
      "cell_type": "markdown",
      "metadata": {},
      "source": [
        "#### Train & test using transfer learning (ResNet18)"
      ]
    },
    {
      "cell_type": "code",
      "execution_count": null,
      "metadata": {},
      "outputs": [],
      "source": [
        "train_transform = transforms.Compose([\n",
        "        transforms.Resize(size=(32, 32)),\n",
        "        transforms.ToTensor()\n",
        "    ])\n",
        "\n",
        "val_transform = transforms.Compose([\n",
        "        transforms.Resize(size=(32, 32)),\n",
        "        transforms.ToTensor()\n",
        "    ])\n",
        "\n",
        "test_transform = transforms.Compose([\n",
        "        transforms.Resize(size=(32, 32)),\n",
        "        transforms.ToTensor()\n",
        "    ])\n",
        "#freeze_layers=True & freeze_layers = ['conv1', 'bn1', 'layer1', 'layer2'] - what layers need to be frozen\n",
        "#freeze_layers=False - do not freeze any layers\n",
        "#freeze_layers=True - freeze all layers except for the last one\n",
        "freeze_layers = ['conv1', 'bn1', 'layer1', 'layer2']\n",
        "# Config for training and testing\n",
        "config = {\n",
        "    'model': ResNet18FineTuned(freeze_layers=True, specific_layers_to_freeze=freeze_layers),\n",
        "    'dataset_path': dataset_path,\n",
        "    'model_save_dir': 'saved_models',\n",
        "    'results_save_dir': 'saved_results',\n",
        "    'train_transform': train_transform,\n",
        "    'val_transform': val_transform,\n",
        "    'test_transform': test_transform,\n",
        "    'batch_size': 64,\n",
        "    'learning_rate': 0.001,\n",
        "    'scheduler_gamma': 0.9,\n",
        "    'epochs': 10,\n",
        "    'fraction': 0.01,\n",
        "    'val_frequency': 1,\n",
        "    'debug_mode': True,\n",
        "    'patience': 3,\n",
        "    'model_name': \"ResNet18\"\n",
        "}\n",
        "\n",
        "# Train the model\n",
        "\n",
        "trainer_resnet = train_model(config_resnet)"
      ]
    },
    {
      "cell_type": "code",
      "execution_count": null,
      "metadata": {},
      "outputs": [],
      "source": [
        "# Test the model (reuse the trainer)\n",
        "test_loss, test_accuracy, test_per_class_accuracy, all_labels, all_predictions, test_classes = test_model(config, trainer=None)"
      ]
    },
    {
      "cell_type": "code",
      "execution_count": null,
      "metadata": {},
      "outputs": [],
      "source": [
        "# Analyze test results\n",
        "metrics = analyze_test_results(\n",
        "    test_loss=test_loss,\n",
        "    test_accuracy=test_accuracy,\n",
        "    test_per_class_accuracy=test_per_class_accuracy,\n",
        "    all_labels=all_labels,\n",
        "    all_predictions=all_predictions,\n",
        "    classes=test_classes\n",
        ")"
      ]
    },
    {
      "cell_type": "markdown",
      "metadata": {
        "id": "6RPOLAQf1g6S"
      },
      "source": []
    }
  ],
  "metadata": {
    "accelerator": "GPU",
    "colab": {
      "gpuType": "T4",
      "provenance": []
    },
    "kernelspec": {
      "display_name": "adl",
      "language": "python",
      "name": "python3"
    },
    "language_info": {
      "codemirror_mode": {
        "name": "ipython",
        "version": 3
      },
      "file_extension": ".py",
      "mimetype": "text/x-python",
      "name": "python",
      "nbconvert_exporter": "python",
      "pygments_lexer": "ipython3",
      "version": "3.11.11"
    }
  },
  "nbformat": 4,
  "nbformat_minor": 0
}

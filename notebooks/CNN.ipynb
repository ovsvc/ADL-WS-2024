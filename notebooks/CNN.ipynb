{
  "cells": [
    {
      "cell_type": "markdown",
      "metadata": {
        "id": "dYpvfW_v1g6M"
      },
      "source": [
        "##### Colab"
      ]
    },
    {
      "cell_type": "code",
      "execution_count": null,
      "metadata": {
        "colab": {
          "base_uri": "https://localhost:8080/"
        },
        "id": "tIsoWB3s1g6O",
        "outputId": "e090e195-a735-416a-8db6-7bf33ab15cf1"
      },
      "outputs": [],
      "source": [
        "# Colab\n",
        "from google.colab import drive\n",
        "drive.mount('/content/drive')"
      ]
    },
    {
      "cell_type": "code",
      "execution_count": 2,
      "metadata": {
        "id": "S4ZttW8H1g6O"
      },
      "outputs": [],
      "source": [
        "! pip install -q kaggle"
      ]
    },
    {
      "cell_type": "code",
      "execution_count": 3,
      "metadata": {
        "id": "vAGLOPYw1g6P"
      },
      "outputs": [],
      "source": [
        "from google.colab import userdata\n",
        "import os\n",
        "\n",
        "os.environ[\"kaggle_key\"] = userdata.get('kaggle_key')\n",
        "os.environ[\"kaggle_username\"] = userdata.get('kaggle_username')"
      ]
    },
    {
      "cell_type": "code",
      "execution_count": null,
      "metadata": {
        "colab": {
          "base_uri": "https://localhost:8080/"
        },
        "id": "IbZacPMO1g6P",
        "outputId": "a18bad53-da22-4512-df9d-bf2b86df84d2"
      },
      "outputs": [],
      "source": [
        "!kaggle datasets download -d ravidussilva/real-ai-art\n",
        "! unzip \"real-ai-art\""
      ]
    },
    {
      "cell_type": "markdown",
      "metadata": {
        "id": "Qs7W5jfh1g6P"
      },
      "source": [
        "##### Local & Colab"
      ]
    },
    {
      "cell_type": "code",
      "execution_count": 8,
      "metadata": {
        "colab": {
          "base_uri": "https://localhost:8080/"
        },
        "id": "5h4oeW0t1g6Q",
        "outputId": "29fd9145-6f7b-47cf-9c2b-64e1ed8c8c88"
      },
      "outputs": [],
      "source": [
        "#Imports\n",
        "import sys\n",
        "sys.path.append('/Users/viktoriiaovsianik/Documents/Uni/04_WS2024/06_ADL/Code/ADL-WS-2024')\n",
        "#sys.path.append('/content/drive/MyDrive/06_TUWien/10_ADL')\n",
        "from scripts.run_cnn import train_model, test_model\n",
        "\n",
        "from models.simple_cnn import Simple_CNN\n",
        "from scripts.evaluation import analyze_test_results\n",
        "import torchvision.transforms as transforms"
      ]
    },
    {
      "cell_type": "code",
      "execution_count": 3,
      "metadata": {
        "id": "3LVdKLqV1g6Q"
      },
      "outputs": [],
      "source": [
        "dataset_path = \"/Users/viktoriiaovsianik/Documents/Uni/04_WS2024/06_ADL/Code/ADL-WS-2024/data\"\n",
        "#dataset_path = \"/content/Real_AI_SD_LD_Dataset\""
      ]
    },
    {
      "cell_type": "markdown",
      "metadata": {
        "id": "2N03y55G1g6R"
      },
      "source": [
        "#### Train & test baseline (Simple CNN)"
      ]
    },
    {
      "cell_type": "code",
      "execution_count": 6,
      "metadata": {
        "colab": {
          "base_uri": "https://localhost:8080/",
          "height": 1000
        },
        "id": "Y5Szxxgs1g6S",
        "outputId": "53d03366-ed15-47d7-bace-b26b55f33b7b"
      },
      "outputs": [],
      "source": [
        "# Define transformations\n",
        "\n",
        "train_transform = transforms.Compose([\n",
        "        transforms.Resize(size=(32, 32)),\n",
        "        transforms.ToTensor()\n",
        "    ])\n",
        "\n",
        "val_transform = transforms.Compose([\n",
        "        transforms.Resize(size=(32, 32)),\n",
        "        transforms.ToTensor()\n",
        "    ])\n",
        "\n",
        "test_transform = transforms.Compose([\n",
        "        transforms.Resize(size=(32, 32)),\n",
        "        transforms.ToTensor()\n",
        "    ])\n",
        "\n",
        "\n",
        "# Config for training and testing\n",
        "config = {\n",
        "    'model': Simple_CNN(),\n",
        "    'dataset_path': dataset_path,\n",
        "    'model_save_dir': 'saved_models',\n",
        "    'results_save_dir': 'saved_results',\n",
        "    'train_transform': train_transform,\n",
        "    'val_transform': val_transform,\n",
        "    'test_transform': test_transform,\n",
        "    'batch_size': 64,\n",
        "    'learning_rate': 0.001,\n",
        "    'scheduler_gamma': 0.9,\n",
        "    'epochs': 10,\n",
        "    'fraction': 1,\n",
        "    'val_frequency': 1,\n",
        "    'debug_mode': True,\n",
        "    'patience': 3,\n",
        "    'model_name': \"Simple_CNN\"\n",
        "}\n",
        "\n",
        "# Train the model\n",
        "\n",
        "#trainer = train_model(config)"
      ]
    },
    {
      "cell_type": "code",
      "execution_count": null,
      "metadata": {
        "colab": {
          "base_uri": "https://localhost:8080/",
          "height": 956
        },
        "id": "QTuXwPSB1g6S",
        "outputId": "c6ebab01-4144-4e3e-ddb2-5f7a61b46310"
      },
      "outputs": [
        {
          "name": "stderr",
          "output_type": "stream",
          "text": [
            "\u001b[34m\u001b[1mwandb\u001b[0m: \u001b[33mWARNING\u001b[0m Fatal error while uploading data. Some run data will not be synced, but it will still be written to disk. Use `wandb sync` at the end of the run to try uploading.\n"
          ]
        }
      ],
      "source": [
        "# Test the model (reuse the trainer)\n",
        "test_loss, test_accuracy, test_per_class_accuracy, all_labels, all_predictions, test_classes = test_model(config, trainer=None)"
      ]
    },
    {
      "cell_type": "code",
      "execution_count": null,
      "metadata": {
        "colab": {
          "base_uri": "https://localhost:8080/",
          "height": 1000
        },
        "id": "3YRFNFWr1g6S",
        "outputId": "3774e111-f97e-4935-f7e9-b79303a38f3d"
      },
      "outputs": [],
      "source": [
        "# Analyze test results\n",
        "metrics = analyze_test_results(\n",
        "    test_loss=test_loss,\n",
        "    test_accuracy=test_accuracy,\n",
        "    test_per_class_accuracy=test_per_class_accuracy,\n",
        "    all_labels=all_labels,\n",
        "    all_predictions=all_predictions,\n",
        "    classes=test_classes\n",
        ")"
      ]
    }
  ],
  "metadata": {
    "accelerator": "GPU",
    "colab": {
      "gpuType": "T4",
      "provenance": []
    },
    "kernelspec": {
      "display_name": "adl",
      "language": "python",
      "name": "python3"
    },
    "language_info": {
      "codemirror_mode": {
        "name": "ipython",
        "version": 3
      },
      "file_extension": ".py",
      "mimetype": "text/x-python",
      "name": "python",
      "nbconvert_exporter": "python",
      "pygments_lexer": "ipython3",
      "version": "3.11.11"
    }
  },
  "nbformat": 4,
  "nbformat_minor": 0
}

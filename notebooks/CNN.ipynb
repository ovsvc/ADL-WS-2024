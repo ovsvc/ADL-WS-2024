{
  "cells": [
    {
      "cell_type": "markdown",
      "metadata": {
        "id": "dYpvfW_v1g6M"
      },
      "source": [
        "##### Colab"
      ]
    },
    {
      "cell_type": "code",
      "execution_count": 1,
      "metadata": {
        "colab": {
          "base_uri": "https://localhost:8080/"
        },
        "id": "tIsoWB3s1g6O",
        "outputId": "88f41c76-a2ba-4368-d6de-40825bf0f4d6"
      },
      "outputs": [
        {
          "name": "stdout",
          "output_type": "stream",
          "text": [
            "Mounted at /content/drive\n"
          ]
        }
      ],
      "source": [
        "# Colab\n",
        "from google.colab import drive\n",
        "drive.mount('/content/drive')"
      ]
    },
    {
      "cell_type": "code",
      "execution_count": 2,
      "metadata": {
        "id": "S4ZttW8H1g6O"
      },
      "outputs": [],
      "source": [
        "! pip install -q kaggle"
      ]
    },
    {
      "cell_type": "code",
      "execution_count": 3,
      "metadata": {
        "id": "vAGLOPYw1g6P"
      },
      "outputs": [],
      "source": [
        "from google.colab import userdata\n",
        "import os\n",
        "\n",
        "os.environ[\"kaggle_key\"] = userdata.get('kaggle_key')\n",
        "os.environ[\"kaggle_username\"] = userdata.get('kaggle_username')"
      ]
    },
    {
      "cell_type": "code",
      "execution_count": null,
      "metadata": {
        "collapsed": true,
        "id": "IbZacPMO1g6P"
      },
      "outputs": [],
      "source": [
        "!kaggle datasets download -d ravidussilva/real-ai-art\n",
        "! unzip \"real-ai-art\""
      ]
    },
    {
      "cell_type": "markdown",
      "metadata": {
        "id": "Qs7W5jfh1g6P"
      },
      "source": [
        "##### Local & Colab"
      ]
    },
    {
      "cell_type": "code",
      "execution_count": 6,
      "metadata": {
        "colab": {
          "base_uri": "https://localhost:8080/"
        },
        "id": "5h4oeW0t1g6Q",
        "outputId": "0dd633bb-76fb-443d-b7f9-2a2fba2bfe27"
      },
      "outputs": [
        {
          "name": "stderr",
          "output_type": "stream",
          "text": [
            "\u001b[34m\u001b[1mwandb\u001b[0m: Using wandb-core as the SDK backend.  Please refer to https://wandb.me/wandb-core for more information.\n",
            "\u001b[34m\u001b[1mwandb\u001b[0m: W&B API key is configured. Use \u001b[1m`wandb login --relogin`\u001b[0m to force relogin\n",
            "\u001b[34m\u001b[1mwandb\u001b[0m: \u001b[33mWARNING\u001b[0m If you're specifying your api key in code, ensure this code is not shared publicly.\n",
            "\u001b[34m\u001b[1mwandb\u001b[0m: \u001b[33mWARNING\u001b[0m Consider setting the WANDB_API_KEY environment variable, or running `wandb login` from the command line.\n",
            "\u001b[34m\u001b[1mwandb\u001b[0m: Appending key for api.wandb.ai to your netrc file: /root/.netrc\n"
          ]
        }
      ],
      "source": [
        "#Imports\n",
        "import sys\n",
        "\n",
        "# Load environment variables from .env file\n",
        "from dotenv import load_dotenv\n",
        "load_dotenv()\n",
        "\n",
        "# Get the project root path from environment variables\n",
        "project_root = os.getenv('PROJECT_ROOT_PATH') #OR PROJECT_ROOT_PATH_COLAB FOR COLAB\n",
        "\n",
        "# Check if the environment variable is set correctly\n",
        "if project_root is None:\n",
        "    raise ValueError(\"PROJECT_ROOT_PATH environment variable is not set.\")\n",
        "\n",
        "# Add the project root path to the system path\n",
        "sys.path.append(project_root)\n",
        "\n",
        "\n",
        "from scripts.run_cnn import train_model, test_model\n",
        "\n",
        "from models.simple_cnn import Simple_CNN\n",
        "from scripts.evaluation import analyze_test_results\n",
        "import torchvision.transforms as transforms"
      ]
    },
    {
      "cell_type": "code",
      "execution_count": 7,
      "metadata": {
        "id": "3LVdKLqV1g6Q"
      },
      "outputs": [],
      "source": [
        "#dataset_path = \"/Users/viktoriiaovsianik/Documents/Uni/04_WS2024/06_ADL/Code/ADL-WS-2024/data\"\n",
        "dataset_path = \"/content/Real_AI_SD_LD_Dataset\""
      ]
    },
    {
      "cell_type": "markdown",
      "metadata": {
        "id": "2N03y55G1g6R"
      },
      "source": [
        "#### Train & test baseline (Simple CNN)"
      ]
    },
    {
      "cell_type": "code",
      "execution_count": 9,
      "metadata": {
        "colab": {
          "base_uri": "https://localhost:8080/",
          "height": 1000
        },
        "id": "Y5Szxxgs1g6S",
        "outputId": "feef7546-7367-4510-ad05-9ba96e4b8043"
      },
      "outputs": [
        {
          "name": "stdout",
          "output_type": "stream",
          "text": [
            "CUDA (GPU) is available.\n",
            "Preprocessing dataset...\n",
            "Train dataset length: 90000\n",
            "Validation dataset length: 10000\n",
            "Test dataset length: 30000\n",
            "Model: Simple_CNN(\n",
            "  (conv1): Conv2d(3, 32, kernel_size=(5, 5), stride=(1, 1), padding=(2, 2))\n",
            "  (pool): MaxPool2d(kernel_size=2, stride=2, padding=0, dilation=1, ceil_mode=False)\n",
            "  (conv2): Conv2d(32, 16, kernel_size=(3, 3), stride=(1, 1), padding=(1, 1))\n",
            "  (fc): Linear(in_features=1024, out_features=20, bias=True)\n",
            ")\n"
          ]
        },
        {
          "name": "stderr",
          "output_type": "stream",
          "text": [
            "\u001b[34m\u001b[1mwandb\u001b[0m: Currently logged in as: \u001b[33movsvc\u001b[0m (\u001b[33movsvc-tu-wien\u001b[0m). Use \u001b[1m`wandb login --relogin`\u001b[0m to force relogin\n"
          ]
        },
        {
          "data": {
            "text/html": [
              "Tracking run with wandb version 0.18.7"
            ],
            "text/plain": [
              "<IPython.core.display.HTML object>"
            ]
          },
          "metadata": {},
          "output_type": "display_data"
        },
        {
          "data": {
            "text/html": [
              "Run data is saved locally in <code>/content/wandb/run-20241217_190322-jxk88z2x</code>"
            ],
            "text/plain": [
              "<IPython.core.display.HTML object>"
            ]
          },
          "metadata": {},
          "output_type": "display_data"
        },
        {
          "data": {
            "text/html": [
              "Syncing run <strong><a href='https://wandb.ai/ovsvc-tu-wien/ADL/runs/jxk88z2x' target=\"_blank\">astral-night-86</a></strong> to <a href='https://wandb.ai/ovsvc-tu-wien/ADL' target=\"_blank\">Weights & Biases</a> (<a href='https://wandb.me/developer-guide' target=\"_blank\">docs</a>)<br/>"
            ],
            "text/plain": [
              "<IPython.core.display.HTML object>"
            ]
          },
          "metadata": {},
          "output_type": "display_data"
        },
        {
          "data": {
            "text/html": [
              " View project at <a href='https://wandb.ai/ovsvc-tu-wien/ADL' target=\"_blank\">https://wandb.ai/ovsvc-tu-wien/ADL</a>"
            ],
            "text/plain": [
              "<IPython.core.display.HTML object>"
            ]
          },
          "metadata": {},
          "output_type": "display_data"
        },
        {
          "data": {
            "text/html": [
              " View run at <a href='https://wandb.ai/ovsvc-tu-wien/ADL/runs/jxk88z2x' target=\"_blank\">https://wandb.ai/ovsvc-tu-wien/ADL/runs/jxk88z2x</a>"
            ],
            "text/plain": [
              "<IPython.core.display.HTML object>"
            ]
          },
          "metadata": {},
          "output_type": "display_data"
        },
        {
          "name": "stdout",
          "output_type": "stream",
          "text": [
            "Training with batch size: 64\n",
            "Epoch 0/10:\n",
            "--- Training epoch 0 ---\n"
          ]
        },
        {
          "name": "stderr",
          "output_type": "stream",
          "text": [
            "Train:   0%|          | 1/1407 [00:01<44:54,  1.92s/it]"
          ]
        },
        {
          "name": "stdout",
          "output_type": "stream",
          "text": [
            "Batch 0, Loss: 2.9982454776763916\n"
          ]
        },
        {
          "name": "stderr",
          "output_type": "stream",
          "text": [
            "Train:  36%|███▌      | 501/1407 [03:10<05:36,  2.70it/s]"
          ]
        },
        {
          "name": "stdout",
          "output_type": "stream",
          "text": [
            "Batch 500, Loss: 2.8983864784240723\n"
          ]
        },
        {
          "name": "stderr",
          "output_type": "stream",
          "text": [
            "Train:  71%|███████   | 1001/1407 [06:25<02:25,  2.80it/s]"
          ]
        },
        {
          "name": "stdout",
          "output_type": "stream",
          "text": [
            "Batch 1000, Loss: 2.658828020095825\n"
          ]
        },
        {
          "name": "stderr",
          "output_type": "stream",
          "text": [
            "Train: 100%|██████████| 1407/1407 [08:52<00:00,  2.64it/s]\n"
          ]
        },
        {
          "name": "stdout",
          "output_type": "stream",
          "text": [
            "Epoch 0 Training Loss: 2.807112818230523\n",
            "Training Metrics: Overall Accuracy: 0.1382\n",
            " Per-Class Accuracy:\n",
            "Accuracy for class human_baroque: 0.06\n",
            "Accuracy for class AI_surrealism: 0.31\n",
            "Accuracy for class human_art_nouveau: 0.27\n",
            "Accuracy for class human_expressionism: 0.21\n",
            "Accuracy for class human_ukiyo_e: 0.11\n",
            "Accuracy for class AI_renaissance: 0.01\n",
            "Accuracy for class AI_art_nouveau: 0.32\n",
            "Accuracy for class human_realism: 0.10\n",
            "Accuracy for class AI_realism: 0.12\n",
            "Accuracy for class human_post_impressionism: 0.23\n",
            "Accuracy for class human_romanticism: 0.20\n",
            "Accuracy for class AI_expressionism: 0.02\n",
            "Accuracy for class AI_baroque: 0.01\n",
            "Accuracy for class AI_impressionism: 0.04\n",
            "Accuracy for class human_surrealism: 0.01\n",
            "Accuracy for class human_renaissance: 0.01\n",
            "Accuracy for class AI_post_impressionism: 0.03\n",
            "Accuracy for class AI_ukiyo-e: 0.07\n",
            "Accuracy for class human_impressionism: 0.02\n",
            "Accuracy for class AI_romanticism: 0.63\n",
            "--- Validating epoch 0 ---\n"
          ]
        },
        {
          "name": "stderr",
          "output_type": "stream",
          "text": [
            "Evaluate:   1%|          | 1/157 [00:00<01:06,  2.35it/s]"
          ]
        },
        {
          "name": "stdout",
          "output_type": "stream",
          "text": [
            "Batch 0, Validation Loss: 2.6896748542785645\n"
          ]
        },
        {
          "name": "stderr",
          "output_type": "stream",
          "text": [
            "Evaluate: 100%|██████████| 157/157 [00:56<00:00,  2.78it/s]\n"
          ]
        },
        {
          "name": "stdout",
          "output_type": "stream",
          "text": [
            "Epoch 0 Validation Loss: 2.5639112602233887\n",
            "Validation Metrics: Overall Accuracy: 0.2191\n",
            " Per-Class Accuracy:\n",
            "Accuracy for class human_romanticism: 0.12\n",
            "Accuracy for class AI_ukiyo-e: 0.59\n",
            "Accuracy for class AI_romanticism: 0.59\n",
            "Accuracy for class AI_art_nouveau: 0.25\n",
            "Accuracy for class human_surrealism: 0.27\n",
            "Accuracy for class AI_renaissance: 0.01\n",
            "Accuracy for class AI_realism: 0.33\n",
            "Accuracy for class human_ukiyo_e: 0.17\n",
            "Accuracy for class human_art_nouveau: 0.22\n",
            "Accuracy for class AI_post_impressionism: 0.57\n",
            "Accuracy for class human_baroque: 0.14\n",
            "Accuracy for class human_impressionism: 0.03\n",
            "Accuracy for class AI_impressionism: 0.05\n",
            "Accuracy for class human_renaissance: 0.01\n",
            "Accuracy for class human_expressionism: 0.07\n",
            "Accuracy for class human_realism: 0.03\n",
            "Accuracy for class AI_baroque: 0.06\n",
            "Accuracy for class human_post_impressionism: 0.09\n",
            "Accuracy for class AI_surrealism: 0.09\n",
            "Accuracy for class AI_expressionism: 0.69\n",
            "#### Best accuracy 0.2191 at epoch 0\n",
            "#### Saving model to saved_models\n",
            "Model saved to saved_models/model_best.pth\n",
            "Epoch 1/10:\n",
            "--- Training epoch 1 ---\n"
          ]
        },
        {
          "name": "stderr",
          "output_type": "stream",
          "text": [
            "Train:   0%|          | 1/1407 [00:00<09:39,  2.43it/s]"
          ]
        },
        {
          "name": "stdout",
          "output_type": "stream",
          "text": [
            "Batch 0, Loss: 2.5167274475097656\n"
          ]
        },
        {
          "name": "stderr",
          "output_type": "stream",
          "text": [
            "Train:  36%|███▌      | 501/1407 [02:46<05:35,  2.70it/s]"
          ]
        },
        {
          "name": "stdout",
          "output_type": "stream",
          "text": [
            "Batch 500, Loss: 2.526512622833252\n"
          ]
        },
        {
          "name": "stderr",
          "output_type": "stream",
          "text": [
            "Train:  71%|███████   | 1001/1407 [05:38<02:35,  2.61it/s]"
          ]
        },
        {
          "name": "stdout",
          "output_type": "stream",
          "text": [
            "Batch 1000, Loss: 2.212651252746582\n"
          ]
        },
        {
          "name": "stderr",
          "output_type": "stream",
          "text": [
            "Train: 100%|██████████| 1407/1407 [08:09<00:00,  2.88it/s]\n"
          ]
        },
        {
          "name": "stdout",
          "output_type": "stream",
          "text": [
            "Epoch 1 Training Loss: 2.4434480694452922\n",
            "Training Metrics: Overall Accuracy: 0.2536\n",
            " Per-Class Accuracy:\n",
            "Accuracy for class human_baroque: 0.21\n",
            "Accuracy for class AI_surrealism: 0.47\n",
            "Accuracy for class human_art_nouveau: 0.51\n",
            "Accuracy for class human_expressionism: 0.31\n",
            "Accuracy for class human_ukiyo_e: 0.22\n",
            "Accuracy for class AI_renaissance: 0.07\n",
            "Accuracy for class AI_art_nouveau: 0.44\n",
            "Accuracy for class human_realism: 0.33\n",
            "Accuracy for class AI_realism: 0.31\n",
            "Accuracy for class human_post_impressionism: 0.71\n",
            "Accuracy for class human_romanticism: 0.19\n",
            "Accuracy for class AI_expressionism: 0.16\n",
            "Accuracy for class AI_baroque: 0.03\n",
            "Accuracy for class AI_impressionism: 0.08\n",
            "Accuracy for class human_surrealism: 0.05\n",
            "Accuracy for class human_renaissance: 0.05\n",
            "Accuracy for class AI_post_impressionism: 0.05\n",
            "Accuracy for class AI_ukiyo-e: 0.14\n",
            "Accuracy for class human_impressionism: 0.07\n",
            "Accuracy for class AI_romanticism: 0.68\n",
            "--- Validating epoch 1 ---\n"
          ]
        },
        {
          "name": "stderr",
          "output_type": "stream",
          "text": [
            "Evaluate:   1%|          | 1/157 [00:00<01:04,  2.43it/s]"
          ]
        },
        {
          "name": "stdout",
          "output_type": "stream",
          "text": [
            "Batch 0, Validation Loss: 2.2634177207946777\n"
          ]
        },
        {
          "name": "stderr",
          "output_type": "stream",
          "text": [
            "Evaluate: 100%|██████████| 157/157 [01:01<00:00,  2.57it/s]\n"
          ]
        },
        {
          "name": "stdout",
          "output_type": "stream",
          "text": [
            "Epoch 1 Validation Loss: 2.2956590255737304\n",
            "Validation Metrics: Overall Accuracy: 0.2948\n",
            " Per-Class Accuracy:\n",
            "Accuracy for class human_romanticism: 0.32\n",
            "Accuracy for class AI_ukiyo-e: 0.36\n",
            "Accuracy for class AI_romanticism: 0.54\n",
            "Accuracy for class AI_art_nouveau: 0.28\n",
            "Accuracy for class human_surrealism: 0.33\n",
            "Accuracy for class AI_renaissance: 0.11\n",
            "Accuracy for class AI_realism: 0.61\n",
            "Accuracy for class human_ukiyo_e: 0.31\n",
            "Accuracy for class human_art_nouveau: 0.48\n",
            "Accuracy for class AI_post_impressionism: 0.79\n",
            "Accuracy for class human_baroque: 0.21\n",
            "Accuracy for class human_impressionism: 0.34\n",
            "Accuracy for class AI_impressionism: 0.04\n",
            "Accuracy for class human_renaissance: 0.16\n",
            "Accuracy for class human_expressionism: 0.00\n",
            "Accuracy for class human_realism: 0.06\n",
            "Accuracy for class AI_baroque: 0.04\n",
            "Accuracy for class human_post_impressionism: 0.15\n",
            "Accuracy for class AI_surrealism: 0.08\n",
            "Accuracy for class AI_expressionism: 0.67\n",
            "#### Best accuracy 0.2948 at epoch 1\n",
            "#### Saving model to saved_models\n",
            "Model saved to saved_models/model_best.pth\n",
            "Epoch 2/10:\n",
            "--- Training epoch 2 ---\n"
          ]
        },
        {
          "name": "stderr",
          "output_type": "stream",
          "text": [
            "Train:   0%|          | 1/1407 [00:00<06:51,  3.42it/s]"
          ]
        },
        {
          "name": "stdout",
          "output_type": "stream",
          "text": [
            "Batch 0, Loss: 2.3899576663970947\n"
          ]
        },
        {
          "name": "stderr",
          "output_type": "stream",
          "text": [
            "Train:  36%|███▌      | 501/1407 [02:42<04:18,  3.51it/s]"
          ]
        },
        {
          "name": "stdout",
          "output_type": "stream",
          "text": [
            "Batch 500, Loss: 2.133668899536133\n"
          ]
        },
        {
          "name": "stderr",
          "output_type": "stream",
          "text": [
            "Train:  71%|███████   | 1001/1407 [05:31<02:10,  3.11it/s]"
          ]
        },
        {
          "name": "stdout",
          "output_type": "stream",
          "text": [
            "Batch 1000, Loss: 2.1045069694519043\n"
          ]
        },
        {
          "name": "stderr",
          "output_type": "stream",
          "text": [
            "Train: 100%|██████████| 1407/1407 [07:52<00:00,  2.98it/s]\n"
          ]
        },
        {
          "name": "stdout",
          "output_type": "stream",
          "text": [
            "Epoch 2 Training Loss: 2.2008328835805258\n",
            "Training Metrics: Overall Accuracy: 0.3143\n",
            " Per-Class Accuracy:\n",
            "Accuracy for class human_baroque: 0.37\n",
            "Accuracy for class AI_surrealism: 0.46\n",
            "Accuracy for class human_art_nouveau: 0.63\n",
            "Accuracy for class human_expressionism: 0.37\n",
            "Accuracy for class human_ukiyo_e: 0.29\n",
            "Accuracy for class AI_renaissance: 0.16\n",
            "Accuracy for class AI_art_nouveau: 0.48\n",
            "Accuracy for class human_realism: 0.39\n",
            "Accuracy for class AI_realism: 0.37\n",
            "Accuracy for class human_post_impressionism: 0.81\n",
            "Accuracy for class human_romanticism: 0.21\n",
            "Accuracy for class AI_expressionism: 0.42\n",
            "Accuracy for class AI_baroque: 0.04\n",
            "Accuracy for class AI_impressionism: 0.12\n",
            "Accuracy for class human_surrealism: 0.09\n",
            "Accuracy for class human_renaissance: 0.11\n",
            "Accuracy for class AI_post_impressionism: 0.07\n",
            "Accuracy for class AI_ukiyo-e: 0.15\n",
            "Accuracy for class human_impressionism: 0.08\n",
            "Accuracy for class AI_romanticism: 0.68\n",
            "--- Validating epoch 2 ---\n"
          ]
        },
        {
          "name": "stderr",
          "output_type": "stream",
          "text": [
            "Evaluate:   1%|          | 1/157 [00:00<00:39,  3.97it/s]"
          ]
        },
        {
          "name": "stdout",
          "output_type": "stream",
          "text": [
            "Batch 0, Validation Loss: 1.9216265678405762\n"
          ]
        },
        {
          "name": "stderr",
          "output_type": "stream",
          "text": [
            "Evaluate: 100%|██████████| 157/157 [00:49<00:00,  3.16it/s]\n"
          ]
        },
        {
          "name": "stdout",
          "output_type": "stream",
          "text": [
            "Epoch 2 Validation Loss: 2.1321860851287844\n",
            "Validation Metrics: Overall Accuracy: 0.3328\n",
            " Per-Class Accuracy:\n",
            "Accuracy for class human_romanticism: 0.54\n",
            "Accuracy for class AI_ukiyo-e: 0.31\n",
            "Accuracy for class AI_romanticism: 0.63\n",
            "Accuracy for class AI_art_nouveau: 0.45\n",
            "Accuracy for class human_surrealism: 0.37\n",
            "Accuracy for class AI_renaissance: 0.21\n",
            "Accuracy for class AI_realism: 0.46\n",
            "Accuracy for class human_ukiyo_e: 0.52\n",
            "Accuracy for class human_art_nouveau: 0.34\n",
            "Accuracy for class AI_post_impressionism: 0.79\n",
            "Accuracy for class human_baroque: 0.19\n",
            "Accuracy for class human_impressionism: 0.48\n",
            "Accuracy for class AI_impressionism: 0.03\n",
            "Accuracy for class human_renaissance: 0.38\n",
            "Accuracy for class human_expressionism: 0.07\n",
            "Accuracy for class human_realism: 0.10\n",
            "Accuracy for class AI_baroque: 0.03\n",
            "Accuracy for class human_post_impressionism: 0.08\n",
            "Accuracy for class AI_surrealism: 0.06\n",
            "Accuracy for class AI_expressionism: 0.63\n",
            "#### Best accuracy 0.3328 at epoch 2\n",
            "#### Saving model to saved_models\n",
            "Model saved to saved_models/model_best.pth\n",
            "Epoch 3/10:\n",
            "--- Training epoch 3 ---\n"
          ]
        },
        {
          "name": "stderr",
          "output_type": "stream",
          "text": [
            "Train:   0%|          | 1/1407 [00:00<09:59,  2.34it/s]"
          ]
        },
        {
          "name": "stdout",
          "output_type": "stream",
          "text": [
            "Batch 0, Loss: 1.9686622619628906\n"
          ]
        },
        {
          "name": "stderr",
          "output_type": "stream",
          "text": [
            "Train:  36%|███▌      | 501/1407 [02:39<05:12,  2.90it/s]"
          ]
        },
        {
          "name": "stdout",
          "output_type": "stream",
          "text": [
            "Batch 500, Loss: 2.0168118476867676\n"
          ]
        },
        {
          "name": "stderr",
          "output_type": "stream",
          "text": [
            "Train:  71%|███████   | 1001/1407 [05:22<02:23,  2.84it/s]"
          ]
        },
        {
          "name": "stdout",
          "output_type": "stream",
          "text": [
            "Batch 1000, Loss: 1.8347876071929932\n"
          ]
        },
        {
          "name": "stderr",
          "output_type": "stream",
          "text": [
            "Train: 100%|██████████| 1407/1407 [07:52<00:00,  2.98it/s]\n"
          ]
        },
        {
          "name": "stdout",
          "output_type": "stream",
          "text": [
            "Epoch 3 Training Loss: 2.09474845284356\n",
            "Training Metrics: Overall Accuracy: 0.3404\n",
            " Per-Class Accuracy:\n",
            "Accuracy for class human_baroque: 0.44\n",
            "Accuracy for class AI_surrealism: 0.47\n",
            "Accuracy for class human_art_nouveau: 0.67\n",
            "Accuracy for class human_expressionism: 0.41\n",
            "Accuracy for class human_ukiyo_e: 0.35\n",
            "Accuracy for class AI_renaissance: 0.22\n",
            "Accuracy for class AI_art_nouveau: 0.49\n",
            "Accuracy for class human_realism: 0.41\n",
            "Accuracy for class AI_realism: 0.41\n",
            "Accuracy for class human_post_impressionism: 0.82\n",
            "Accuracy for class human_romanticism: 0.22\n",
            "Accuracy for class AI_expressionism: 0.44\n",
            "Accuracy for class AI_baroque: 0.05\n",
            "Accuracy for class AI_impressionism: 0.13\n",
            "Accuracy for class human_surrealism: 0.12\n",
            "Accuracy for class human_renaissance: 0.14\n",
            "Accuracy for class AI_post_impressionism: 0.10\n",
            "Accuracy for class AI_ukiyo-e: 0.15\n",
            "Accuracy for class human_impressionism: 0.09\n",
            "Accuracy for class AI_romanticism: 0.67\n",
            "--- Validating epoch 3 ---\n"
          ]
        },
        {
          "name": "stderr",
          "output_type": "stream",
          "text": [
            "Evaluate:   1%|          | 1/157 [00:00<00:43,  3.58it/s]"
          ]
        },
        {
          "name": "stdout",
          "output_type": "stream",
          "text": [
            "Batch 0, Validation Loss: 2.040619373321533\n"
          ]
        },
        {
          "name": "stderr",
          "output_type": "stream",
          "text": [
            "Evaluate: 100%|██████████| 157/157 [00:53<00:00,  2.95it/s]\n"
          ]
        },
        {
          "name": "stdout",
          "output_type": "stream",
          "text": [
            "Epoch 3 Validation Loss: 2.2572285720825196\n",
            "Validation Metrics: Overall Accuracy: 0.2849\n",
            " Per-Class Accuracy:\n",
            "Accuracy for class human_romanticism: 0.66\n",
            "Accuracy for class AI_ukiyo-e: 0.40\n",
            "Accuracy for class AI_romanticism: 0.72\n",
            "Accuracy for class AI_art_nouveau: 0.16\n",
            "Accuracy for class human_surrealism: 0.54\n",
            "Accuracy for class AI_renaissance: 0.23\n",
            "Accuracy for class AI_realism: 0.53\n",
            "Accuracy for class human_ukiyo_e: 0.20\n",
            "Accuracy for class human_art_nouveau: 0.31\n",
            "Accuracy for class AI_post_impressionism: 0.88\n",
            "Accuracy for class human_baroque: 0.00\n",
            "Accuracy for class human_impressionism: 0.35\n",
            "Accuracy for class AI_impressionism: 0.26\n",
            "Accuracy for class human_renaissance: 0.12\n",
            "Accuracy for class human_expressionism: 0.07\n",
            "Accuracy for class human_realism: 0.07\n",
            "Accuracy for class AI_baroque: 0.03\n",
            "Accuracy for class human_post_impressionism: 0.01\n",
            "Accuracy for class AI_surrealism: 0.08\n",
            "Accuracy for class AI_expressionism: 0.08\n",
            "Early stopping counter: 1/3\n",
            "Epoch 4/10:\n",
            "--- Training epoch 4 ---\n"
          ]
        },
        {
          "name": "stderr",
          "output_type": "stream",
          "text": [
            "Train:   0%|          | 1/1407 [00:00<06:29,  3.61it/s]"
          ]
        },
        {
          "name": "stdout",
          "output_type": "stream",
          "text": [
            "Batch 0, Loss: 2.27101993560791\n"
          ]
        },
        {
          "name": "stderr",
          "output_type": "stream",
          "text": [
            "Train:  36%|███▌      | 501/1407 [02:39<04:23,  3.44it/s]"
          ]
        },
        {
          "name": "stdout",
          "output_type": "stream",
          "text": [
            "Batch 500, Loss: 2.067653179168701\n"
          ]
        },
        {
          "name": "stderr",
          "output_type": "stream",
          "text": [
            "Train:  71%|███████   | 1001/1407 [05:14<02:42,  2.50it/s]"
          ]
        },
        {
          "name": "stdout",
          "output_type": "stream",
          "text": [
            "Batch 1000, Loss: 1.9501150846481323\n"
          ]
        },
        {
          "name": "stderr",
          "output_type": "stream",
          "text": [
            "Train: 100%|██████████| 1407/1407 [07:20<00:00,  3.20it/s]\n"
          ]
        },
        {
          "name": "stdout",
          "output_type": "stream",
          "text": [
            "Epoch 4 Training Loss: 2.037081376308865\n",
            "Training Metrics: Overall Accuracy: 0.3545\n",
            " Per-Class Accuracy:\n",
            "Accuracy for class human_baroque: 0.48\n",
            "Accuracy for class AI_surrealism: 0.48\n",
            "Accuracy for class human_art_nouveau: 0.69\n",
            "Accuracy for class human_expressionism: 0.42\n",
            "Accuracy for class human_ukiyo_e: 0.37\n",
            "Accuracy for class AI_renaissance: 0.25\n",
            "Accuracy for class AI_art_nouveau: 0.49\n",
            "Accuracy for class human_realism: 0.44\n",
            "Accuracy for class AI_realism: 0.43\n",
            "Accuracy for class human_post_impressionism: 0.84\n",
            "Accuracy for class human_romanticism: 0.23\n",
            "Accuracy for class AI_expressionism: 0.44\n",
            "Accuracy for class AI_baroque: 0.05\n",
            "Accuracy for class AI_impressionism: 0.14\n",
            "Accuracy for class human_surrealism: 0.12\n",
            "Accuracy for class human_renaissance: 0.15\n",
            "Accuracy for class AI_post_impressionism: 0.12\n",
            "Accuracy for class AI_ukiyo-e: 0.15\n",
            "Accuracy for class human_impressionism: 0.10\n",
            "Accuracy for class AI_romanticism: 0.68\n",
            "--- Validating epoch 4 ---\n"
          ]
        },
        {
          "name": "stderr",
          "output_type": "stream",
          "text": [
            "Evaluate:   1%|          | 1/157 [00:00<00:38,  4.04it/s]"
          ]
        },
        {
          "name": "stdout",
          "output_type": "stream",
          "text": [
            "Batch 0, Validation Loss: 1.8507344722747803\n"
          ]
        },
        {
          "name": "stderr",
          "output_type": "stream",
          "text": [
            "Evaluate: 100%|██████████| 157/157 [00:48<00:00,  3.23it/s]\n"
          ]
        },
        {
          "name": "stdout",
          "output_type": "stream",
          "text": [
            "Epoch 4 Validation Loss: 2.0361104881286622\n",
            "Validation Metrics: Overall Accuracy: 0.3503\n",
            " Per-Class Accuracy:\n",
            "Accuracy for class human_romanticism: 0.47\n",
            "Accuracy for class AI_ukiyo-e: 0.43\n",
            "Accuracy for class AI_romanticism: 0.57\n",
            "Accuracy for class AI_art_nouveau: 0.30\n",
            "Accuracy for class human_surrealism: 0.57\n",
            "Accuracy for class AI_renaissance: 0.31\n",
            "Accuracy for class AI_realism: 0.40\n",
            "Accuracy for class human_ukiyo_e: 0.46\n",
            "Accuracy for class human_art_nouveau: 0.50\n",
            "Accuracy for class AI_post_impressionism: 0.76\n",
            "Accuracy for class human_baroque: 0.02\n",
            "Accuracy for class human_impressionism: 0.43\n",
            "Accuracy for class AI_impressionism: 0.20\n",
            "Accuracy for class human_renaissance: 0.30\n",
            "Accuracy for class human_expressionism: 0.01\n",
            "Accuracy for class human_realism: 0.11\n",
            "Accuracy for class AI_baroque: 0.10\n",
            "Accuracy for class human_post_impressionism: 0.20\n",
            "Accuracy for class AI_surrealism: 0.09\n",
            "Accuracy for class AI_expressionism: 0.76\n",
            "#### Best accuracy 0.3503 at epoch 4\n",
            "#### Saving model to saved_models\n",
            "Model saved to saved_models/model_best.pth\n",
            "Epoch 5/10:\n",
            "--- Training epoch 5 ---\n"
          ]
        },
        {
          "name": "stderr",
          "output_type": "stream",
          "text": [
            "Train:   0%|          | 1/1407 [00:00<10:55,  2.15it/s]"
          ]
        },
        {
          "name": "stdout",
          "output_type": "stream",
          "text": [
            "Batch 0, Loss: 1.8147269487380981\n"
          ]
        },
        {
          "name": "stderr",
          "output_type": "stream",
          "text": [
            "Train:  36%|███▌      | 501/1407 [02:39<05:35,  2.70it/s]"
          ]
        },
        {
          "name": "stdout",
          "output_type": "stream",
          "text": [
            "Batch 500, Loss: 2.0338003635406494\n"
          ]
        },
        {
          "name": "stderr",
          "output_type": "stream",
          "text": [
            "Train:  71%|███████   | 1001/1407 [05:12<01:49,  3.72it/s]"
          ]
        },
        {
          "name": "stdout",
          "output_type": "stream",
          "text": [
            "Batch 1000, Loss: 1.9967410564422607\n"
          ]
        },
        {
          "name": "stderr",
          "output_type": "stream",
          "text": [
            "Train: 100%|██████████| 1407/1407 [07:17<00:00,  3.22it/s]\n"
          ]
        },
        {
          "name": "stdout",
          "output_type": "stream",
          "text": [
            "Epoch 5 Training Loss: 1.9931186336093478\n",
            "Training Metrics: Overall Accuracy: 0.3688\n",
            " Per-Class Accuracy:\n",
            "Accuracy for class human_baroque: 0.50\n",
            "Accuracy for class AI_surrealism: 0.49\n",
            "Accuracy for class human_art_nouveau: 0.69\n",
            "Accuracy for class human_expressionism: 0.45\n",
            "Accuracy for class human_ukiyo_e: 0.38\n",
            "Accuracy for class AI_renaissance: 0.28\n",
            "Accuracy for class AI_art_nouveau: 0.51\n",
            "Accuracy for class human_realism: 0.45\n",
            "Accuracy for class AI_realism: 0.45\n",
            "Accuracy for class human_post_impressionism: 0.85\n",
            "Accuracy for class human_romanticism: 0.24\n",
            "Accuracy for class AI_expressionism: 0.44\n",
            "Accuracy for class AI_baroque: 0.04\n",
            "Accuracy for class AI_impressionism: 0.16\n",
            "Accuracy for class human_surrealism: 0.13\n",
            "Accuracy for class human_renaissance: 0.17\n",
            "Accuracy for class AI_post_impressionism: 0.14\n",
            "Accuracy for class AI_ukiyo-e: 0.17\n",
            "Accuracy for class human_impressionism: 0.11\n",
            "Accuracy for class AI_romanticism: 0.70\n",
            "--- Validating epoch 5 ---\n"
          ]
        },
        {
          "name": "stderr",
          "output_type": "stream",
          "text": [
            "Evaluate:   1%|          | 1/157 [00:00<00:37,  4.16it/s]"
          ]
        },
        {
          "name": "stdout",
          "output_type": "stream",
          "text": [
            "Batch 0, Validation Loss: 1.7846685647964478\n"
          ]
        },
        {
          "name": "stderr",
          "output_type": "stream",
          "text": [
            "Evaluate: 100%|██████████| 157/157 [00:45<00:00,  3.43it/s]\n"
          ]
        },
        {
          "name": "stdout",
          "output_type": "stream",
          "text": [
            "Epoch 5 Validation Loss: 1.990395749282837\n",
            "Validation Metrics: Overall Accuracy: 0.3678\n",
            " Per-Class Accuracy:\n",
            "Accuracy for class human_romanticism: 0.57\n",
            "Accuracy for class AI_ukiyo-e: 0.49\n",
            "Accuracy for class AI_romanticism: 0.67\n",
            "Accuracy for class AI_art_nouveau: 0.36\n",
            "Accuracy for class human_surrealism: 0.44\n",
            "Accuracy for class AI_renaissance: 0.22\n",
            "Accuracy for class AI_realism: 0.44\n",
            "Accuracy for class human_ukiyo_e: 0.45\n",
            "Accuracy for class human_art_nouveau: 0.51\n",
            "Accuracy for class AI_post_impressionism: 0.88\n",
            "Accuracy for class human_baroque: 0.31\n",
            "Accuracy for class human_impressionism: 0.41\n",
            "Accuracy for class AI_impressionism: 0.03\n",
            "Accuracy for class human_renaissance: 0.32\n",
            "Accuracy for class human_expressionism: 0.04\n",
            "Accuracy for class human_realism: 0.20\n",
            "Accuracy for class AI_baroque: 0.12\n",
            "Accuracy for class human_post_impressionism: 0.20\n",
            "Accuracy for class AI_surrealism: 0.07\n",
            "Accuracy for class AI_expressionism: 0.61\n",
            "#### Best accuracy 0.3678 at epoch 5\n",
            "#### Saving model to saved_models\n",
            "Model saved to saved_models/model_best.pth\n",
            "Epoch 6/10:\n",
            "--- Training epoch 6 ---\n"
          ]
        },
        {
          "name": "stderr",
          "output_type": "stream",
          "text": [
            "Train:   0%|          | 1/1407 [00:00<06:43,  3.48it/s]"
          ]
        },
        {
          "name": "stdout",
          "output_type": "stream",
          "text": [
            "Batch 0, Loss: 1.9193233251571655\n"
          ]
        },
        {
          "name": "stderr",
          "output_type": "stream",
          "text": [
            "Train:  36%|███▌      | 501/1407 [02:32<05:36,  2.69it/s]"
          ]
        },
        {
          "name": "stdout",
          "output_type": "stream",
          "text": [
            "Batch 500, Loss: 1.948392629623413\n"
          ]
        },
        {
          "name": "stderr",
          "output_type": "stream",
          "text": [
            "Train:  71%|███████   | 1001/1407 [05:13<02:28,  2.73it/s]"
          ]
        },
        {
          "name": "stdout",
          "output_type": "stream",
          "text": [
            "Batch 1000, Loss: 1.8649251461029053\n"
          ]
        },
        {
          "name": "stderr",
          "output_type": "stream",
          "text": [
            "Train: 100%|██████████| 1407/1407 [07:23<00:00,  3.17it/s]\n"
          ]
        },
        {
          "name": "stdout",
          "output_type": "stream",
          "text": [
            "Epoch 6 Training Loss: 1.9522551678127713\n",
            "Training Metrics: Overall Accuracy: 0.3802\n",
            " Per-Class Accuracy:\n",
            "Accuracy for class human_baroque: 0.53\n",
            "Accuracy for class AI_surrealism: 0.51\n",
            "Accuracy for class human_art_nouveau: 0.70\n",
            "Accuracy for class human_expressionism: 0.46\n",
            "Accuracy for class human_ukiyo_e: 0.40\n",
            "Accuracy for class AI_renaissance: 0.31\n",
            "Accuracy for class AI_art_nouveau: 0.51\n",
            "Accuracy for class human_realism: 0.47\n",
            "Accuracy for class AI_realism: 0.47\n",
            "Accuracy for class human_post_impressionism: 0.86\n",
            "Accuracy for class human_romanticism: 0.25\n",
            "Accuracy for class AI_expressionism: 0.45\n",
            "Accuracy for class AI_baroque: 0.05\n",
            "Accuracy for class AI_impressionism: 0.16\n",
            "Accuracy for class human_surrealism: 0.13\n",
            "Accuracy for class human_renaissance: 0.18\n",
            "Accuracy for class AI_post_impressionism: 0.17\n",
            "Accuracy for class AI_ukiyo-e: 0.16\n",
            "Accuracy for class human_impressionism: 0.12\n",
            "Accuracy for class AI_romanticism: 0.71\n",
            "--- Validating epoch 6 ---\n"
          ]
        },
        {
          "name": "stderr",
          "output_type": "stream",
          "text": [
            "Evaluate:   1%|          | 1/157 [00:00<00:56,  2.76it/s]"
          ]
        },
        {
          "name": "stdout",
          "output_type": "stream",
          "text": [
            "Batch 0, Validation Loss: 1.7526938915252686\n"
          ]
        },
        {
          "name": "stderr",
          "output_type": "stream",
          "text": [
            "Evaluate: 100%|██████████| 157/157 [00:49<00:00,  3.18it/s]\n"
          ]
        },
        {
          "name": "stdout",
          "output_type": "stream",
          "text": [
            "Epoch 6 Validation Loss: 1.9552499507904053\n",
            "Validation Metrics: Overall Accuracy: 0.3753\n",
            " Per-Class Accuracy:\n",
            "Accuracy for class human_romanticism: 0.53\n",
            "Accuracy for class AI_ukiyo-e: 0.29\n",
            "Accuracy for class AI_romanticism: 0.62\n",
            "Accuracy for class AI_art_nouveau: 0.43\n",
            "Accuracy for class human_surrealism: 0.46\n",
            "Accuracy for class AI_renaissance: 0.28\n",
            "Accuracy for class AI_realism: 0.70\n",
            "Accuracy for class human_ukiyo_e: 0.40\n",
            "Accuracy for class human_art_nouveau: 0.52\n",
            "Accuracy for class AI_post_impressionism: 0.79\n",
            "Accuracy for class human_baroque: 0.36\n",
            "Accuracy for class human_impressionism: 0.37\n",
            "Accuracy for class AI_impressionism: 0.04\n",
            "Accuracy for class human_renaissance: 0.26\n",
            "Accuracy for class human_expressionism: 0.07\n",
            "Accuracy for class human_realism: 0.14\n",
            "Accuracy for class AI_baroque: 0.14\n",
            "Accuracy for class human_post_impressionism: 0.28\n",
            "Accuracy for class AI_surrealism: 0.14\n",
            "Accuracy for class AI_expressionism: 0.69\n",
            "#### Best accuracy 0.3753 at epoch 6\n",
            "#### Saving model to saved_models\n",
            "Model saved to saved_models/model_best.pth\n",
            "Epoch 7/10:\n",
            "--- Training epoch 7 ---\n"
          ]
        },
        {
          "name": "stderr",
          "output_type": "stream",
          "text": [
            "Train:   0%|          | 1/1407 [00:00<06:11,  3.79it/s]"
          ]
        },
        {
          "name": "stdout",
          "output_type": "stream",
          "text": [
            "Batch 0, Loss: 1.9495407342910767\n"
          ]
        },
        {
          "name": "stderr",
          "output_type": "stream",
          "text": [
            "Train:  36%|███▌      | 501/1407 [02:40<04:14,  3.56it/s]"
          ]
        },
        {
          "name": "stdout",
          "output_type": "stream",
          "text": [
            "Batch 500, Loss: 1.802973985671997\n"
          ]
        },
        {
          "name": "stderr",
          "output_type": "stream",
          "text": [
            "Train:  71%|███████   | 1001/1407 [05:17<02:33,  2.65it/s]"
          ]
        },
        {
          "name": "stdout",
          "output_type": "stream",
          "text": [
            "Batch 1000, Loss: 2.14915132522583\n"
          ]
        },
        {
          "name": "stderr",
          "output_type": "stream",
          "text": [
            "Train: 100%|██████████| 1407/1407 [07:19<00:00,  3.20it/s]\n"
          ]
        },
        {
          "name": "stdout",
          "output_type": "stream",
          "text": [
            "Epoch 7 Training Loss: 1.9149927626291912\n",
            "Training Metrics: Overall Accuracy: 0.3888\n",
            " Per-Class Accuracy:\n",
            "Accuracy for class human_baroque: 0.55\n",
            "Accuracy for class AI_surrealism: 0.51\n",
            "Accuracy for class human_art_nouveau: 0.70\n",
            "Accuracy for class human_expressionism: 0.47\n",
            "Accuracy for class human_ukiyo_e: 0.40\n",
            "Accuracy for class AI_renaissance: 0.33\n",
            "Accuracy for class AI_art_nouveau: 0.52\n",
            "Accuracy for class human_realism: 0.49\n",
            "Accuracy for class AI_realism: 0.49\n",
            "Accuracy for class human_post_impressionism: 0.88\n",
            "Accuracy for class human_romanticism: 0.26\n",
            "Accuracy for class AI_expressionism: 0.44\n",
            "Accuracy for class AI_baroque: 0.05\n",
            "Accuracy for class AI_impressionism: 0.17\n",
            "Accuracy for class human_surrealism: 0.14\n",
            "Accuracy for class human_renaissance: 0.18\n",
            "Accuracy for class AI_post_impressionism: 0.18\n",
            "Accuracy for class AI_ukiyo-e: 0.16\n",
            "Accuracy for class human_impressionism: 0.13\n",
            "Accuracy for class AI_romanticism: 0.72\n",
            "--- Validating epoch 7 ---\n"
          ]
        },
        {
          "name": "stderr",
          "output_type": "stream",
          "text": [
            "Evaluate:   1%|          | 1/157 [00:00<00:36,  4.23it/s]"
          ]
        },
        {
          "name": "stdout",
          "output_type": "stream",
          "text": [
            "Batch 0, Validation Loss: 1.7607263326644897\n"
          ]
        },
        {
          "name": "stderr",
          "output_type": "stream",
          "text": [
            "Evaluate: 100%|██████████| 157/157 [00:45<00:00,  3.42it/s]\n"
          ]
        },
        {
          "name": "stdout",
          "output_type": "stream",
          "text": [
            "Epoch 7 Validation Loss: 1.9204068351745605\n",
            "Validation Metrics: Overall Accuracy: 0.3851\n",
            " Per-Class Accuracy:\n",
            "Accuracy for class human_romanticism: 0.58\n",
            "Accuracy for class AI_ukiyo-e: 0.44\n",
            "Accuracy for class AI_romanticism: 0.67\n",
            "Accuracy for class AI_art_nouveau: 0.49\n",
            "Accuracy for class human_surrealism: 0.33\n",
            "Accuracy for class AI_renaissance: 0.29\n",
            "Accuracy for class AI_realism: 0.55\n",
            "Accuracy for class human_ukiyo_e: 0.50\n",
            "Accuracy for class human_art_nouveau: 0.56\n",
            "Accuracy for class AI_post_impressionism: 0.87\n",
            "Accuracy for class human_baroque: 0.17\n",
            "Accuracy for class human_impressionism: 0.40\n",
            "Accuracy for class AI_impressionism: 0.06\n",
            "Accuracy for class human_renaissance: 0.19\n",
            "Accuracy for class human_expressionism: 0.19\n",
            "Accuracy for class human_realism: 0.29\n",
            "Accuracy for class AI_baroque: 0.15\n",
            "Accuracy for class human_post_impressionism: 0.10\n",
            "Accuracy for class AI_surrealism: 0.10\n",
            "Accuracy for class AI_expressionism: 0.76\n",
            "#### Best accuracy 0.3851 at epoch 7\n",
            "#### Saving model to saved_models\n",
            "Model saved to saved_models/model_best.pth\n",
            "Epoch 8/10:\n",
            "--- Training epoch 8 ---\n"
          ]
        },
        {
          "name": "stderr",
          "output_type": "stream",
          "text": [
            "Train:   0%|          | 1/1407 [00:00<07:10,  3.26it/s]"
          ]
        },
        {
          "name": "stdout",
          "output_type": "stream",
          "text": [
            "Batch 0, Loss: 1.8905911445617676\n"
          ]
        },
        {
          "name": "stderr",
          "output_type": "stream",
          "text": [
            "Train:  36%|███▌      | 501/1407 [02:28<05:43,  2.64it/s]"
          ]
        },
        {
          "name": "stdout",
          "output_type": "stream",
          "text": [
            "Batch 500, Loss: 1.9965498447418213\n"
          ]
        },
        {
          "name": "stderr",
          "output_type": "stream",
          "text": [
            "Train:  71%|███████   | 1001/1407 [04:54<02:26,  2.78it/s]"
          ]
        },
        {
          "name": "stdout",
          "output_type": "stream",
          "text": [
            "Batch 1000, Loss: 1.9909296035766602\n"
          ]
        },
        {
          "name": "stderr",
          "output_type": "stream",
          "text": [
            "Train: 100%|██████████| 1407/1407 [06:51<00:00,  3.42it/s]\n"
          ]
        },
        {
          "name": "stdout",
          "output_type": "stream",
          "text": [
            "Epoch 8 Training Loss: 1.8822671563890245\n",
            "Training Metrics: Overall Accuracy: 0.4000\n",
            " Per-Class Accuracy:\n",
            "Accuracy for class human_baroque: 0.57\n",
            "Accuracy for class AI_surrealism: 0.53\n",
            "Accuracy for class human_art_nouveau: 0.71\n",
            "Accuracy for class human_expressionism: 0.48\n",
            "Accuracy for class human_ukiyo_e: 0.42\n",
            "Accuracy for class AI_renaissance: 0.36\n",
            "Accuracy for class AI_art_nouveau: 0.52\n",
            "Accuracy for class human_realism: 0.51\n",
            "Accuracy for class AI_realism: 0.50\n",
            "Accuracy for class human_post_impressionism: 0.88\n",
            "Accuracy for class human_romanticism: 0.25\n",
            "Accuracy for class AI_expressionism: 0.45\n",
            "Accuracy for class AI_baroque: 0.06\n",
            "Accuracy for class AI_impressionism: 0.18\n",
            "Accuracy for class human_surrealism: 0.15\n",
            "Accuracy for class human_renaissance: 0.19\n",
            "Accuracy for class AI_post_impressionism: 0.20\n",
            "Accuracy for class AI_ukiyo-e: 0.17\n",
            "Accuracy for class human_impressionism: 0.15\n",
            "Accuracy for class AI_romanticism: 0.73\n",
            "--- Validating epoch 8 ---\n"
          ]
        },
        {
          "name": "stderr",
          "output_type": "stream",
          "text": [
            "Evaluate:   1%|          | 1/157 [00:00<00:37,  4.17it/s]"
          ]
        },
        {
          "name": "stdout",
          "output_type": "stream",
          "text": [
            "Batch 0, Validation Loss: 1.7147188186645508\n"
          ]
        },
        {
          "name": "stderr",
          "output_type": "stream",
          "text": [
            "Evaluate: 100%|██████████| 157/157 [00:45<00:00,  3.45it/s]\n"
          ]
        },
        {
          "name": "stdout",
          "output_type": "stream",
          "text": [
            "Epoch 8 Validation Loss: 1.9105516147613526\n",
            "Validation Metrics: Overall Accuracy: 0.3869\n",
            " Per-Class Accuracy:\n",
            "Accuracy for class human_romanticism: 0.49\n",
            "Accuracy for class AI_ukiyo-e: 0.39\n",
            "Accuracy for class AI_romanticism: 0.73\n",
            "Accuracy for class AI_art_nouveau: 0.51\n",
            "Accuracy for class human_surrealism: 0.43\n",
            "Accuracy for class AI_renaissance: 0.28\n",
            "Accuracy for class AI_realism: 0.64\n",
            "Accuracy for class human_ukiyo_e: 0.56\n",
            "Accuracy for class human_art_nouveau: 0.37\n",
            "Accuracy for class AI_post_impressionism: 0.82\n",
            "Accuracy for class human_baroque: 0.23\n",
            "Accuracy for class human_impressionism: 0.42\n",
            "Accuracy for class AI_impressionism: 0.14\n",
            "Accuracy for class human_renaissance: 0.23\n",
            "Accuracy for class human_expressionism: 0.09\n",
            "Accuracy for class human_realism: 0.08\n",
            "Accuracy for class AI_baroque: 0.18\n",
            "Accuracy for class human_post_impressionism: 0.26\n",
            "Accuracy for class AI_surrealism: 0.24\n",
            "Accuracy for class AI_expressionism: 0.64\n",
            "#### Best accuracy 0.3869 at epoch 8\n",
            "#### Saving model to saved_models\n",
            "Model saved to saved_models/model_best.pth\n",
            "Epoch 9/10:\n",
            "--- Training epoch 9 ---\n"
          ]
        },
        {
          "name": "stderr",
          "output_type": "stream",
          "text": [
            "Train:   0%|          | 1/1407 [00:00<06:48,  3.44it/s]"
          ]
        },
        {
          "name": "stdout",
          "output_type": "stream",
          "text": [
            "Batch 0, Loss: 1.8718172311782837\n"
          ]
        },
        {
          "name": "stderr",
          "output_type": "stream",
          "text": [
            "Train:  36%|███▌      | 501/1407 [02:28<03:39,  4.12it/s]"
          ]
        },
        {
          "name": "stdout",
          "output_type": "stream",
          "text": [
            "Batch 500, Loss: 2.0497827529907227\n"
          ]
        },
        {
          "name": "stderr",
          "output_type": "stream",
          "text": [
            "Train:  71%|███████   | 1001/1407 [04:55<01:49,  3.72it/s]"
          ]
        },
        {
          "name": "stdout",
          "output_type": "stream",
          "text": [
            "Batch 1000, Loss: 1.7534234523773193\n"
          ]
        },
        {
          "name": "stderr",
          "output_type": "stream",
          "text": [
            "Train: 100%|██████████| 1407/1407 [06:51<00:00,  3.42it/s]\n"
          ]
        },
        {
          "name": "stdout",
          "output_type": "stream",
          "text": [
            "Epoch 9 Training Loss: 1.8534605388005574\n",
            "Training Metrics: Overall Accuracy: 0.4071\n",
            " Per-Class Accuracy:\n",
            "Accuracy for class human_baroque: 0.59\n",
            "Accuracy for class AI_surrealism: 0.54\n",
            "Accuracy for class human_art_nouveau: 0.70\n",
            "Accuracy for class human_expressionism: 0.49\n",
            "Accuracy for class human_ukiyo_e: 0.43\n",
            "Accuracy for class AI_renaissance: 0.38\n",
            "Accuracy for class AI_art_nouveau: 0.53\n",
            "Accuracy for class human_realism: 0.52\n",
            "Accuracy for class AI_realism: 0.51\n",
            "Accuracy for class human_post_impressionism: 0.88\n",
            "Accuracy for class human_romanticism: 0.26\n",
            "Accuracy for class AI_expressionism: 0.45\n",
            "Accuracy for class AI_baroque: 0.07\n",
            "Accuracy for class AI_impressionism: 0.18\n",
            "Accuracy for class human_surrealism: 0.16\n",
            "Accuracy for class human_renaissance: 0.19\n",
            "Accuracy for class AI_post_impressionism: 0.22\n",
            "Accuracy for class AI_ukiyo-e: 0.17\n",
            "Accuracy for class human_impressionism: 0.15\n",
            "Accuracy for class AI_romanticism: 0.74\n",
            "--- Validating epoch 9 ---\n"
          ]
        },
        {
          "name": "stderr",
          "output_type": "stream",
          "text": [
            "Evaluate:   1%|          | 1/157 [00:00<00:36,  4.31it/s]"
          ]
        },
        {
          "name": "stdout",
          "output_type": "stream",
          "text": [
            "Batch 0, Validation Loss: 1.68948233127594\n"
          ]
        },
        {
          "name": "stderr",
          "output_type": "stream",
          "text": [
            "Evaluate: 100%|██████████| 157/157 [00:44<00:00,  3.50it/s]\n"
          ]
        },
        {
          "name": "stdout",
          "output_type": "stream",
          "text": [
            "Epoch 9 Validation Loss: 1.8719747245788574\n",
            "Validation Metrics: Overall Accuracy: 0.3970\n",
            " Per-Class Accuracy:\n",
            "Accuracy for class human_romanticism: 0.57\n",
            "Accuracy for class AI_ukiyo-e: 0.54\n",
            "Accuracy for class AI_romanticism: 0.71\n",
            "Accuracy for class AI_art_nouveau: 0.36\n",
            "Accuracy for class human_surrealism: 0.50\n",
            "Accuracy for class AI_renaissance: 0.38\n",
            "Accuracy for class AI_realism: 0.64\n",
            "Accuracy for class human_ukiyo_e: 0.44\n",
            "Accuracy for class human_art_nouveau: 0.42\n",
            "Accuracy for class AI_post_impressionism: 0.87\n",
            "Accuracy for class human_baroque: 0.21\n",
            "Accuracy for class human_impressionism: 0.43\n",
            "Accuracy for class AI_impressionism: 0.09\n",
            "Accuracy for class human_renaissance: 0.34\n",
            "Accuracy for class human_expressionism: 0.09\n",
            "Accuracy for class human_realism: 0.20\n",
            "Accuracy for class AI_baroque: 0.17\n",
            "Accuracy for class human_post_impressionism: 0.08\n",
            "Accuracy for class AI_surrealism: 0.16\n",
            "Accuracy for class AI_expressionism: 0.73\n",
            "#### Best accuracy 0.397 at epoch 9\n",
            "#### Saving model to saved_models\n",
            "Model saved to saved_models/model_best.pth\n",
            "Model saved to saved_models/model_last.pth\n"
          ]
        },
        {
          "data": {
            "text/html": [
              "\n",
              "    <style>\n",
              "        .wandb-row {\n",
              "            display: flex;\n",
              "            flex-direction: row;\n",
              "            flex-wrap: wrap;\n",
              "            justify-content: flex-start;\n",
              "            width: 100%;\n",
              "        }\n",
              "        .wandb-col {\n",
              "            display: flex;\n",
              "            flex-direction: column;\n",
              "            flex-basis: 100%;\n",
              "            flex: 1;\n",
              "            padding: 10px;\n",
              "        }\n",
              "    </style>\n",
              "<div class=\"wandb-row\"><div class=\"wandb-col\"><h3>Run history:</h3><br/><table class=\"wandb\"><tr><td>epoch</td><td>▁▂▃▃▄▅▆▆▇█</td></tr><tr><td>train/acc</td><td>▁▄▆▆▇▇▇███</td></tr><tr><td>train/loss</td><td>█▅▄▃▂▂▂▁▁▁</td></tr><tr><td>val/acc</td><td>▁▄▅▄▆▇▇███</td></tr><tr><td>val/loss</td><td>█▅▄▅▃▂▂▁▁▁</td></tr></table><br/></div><div class=\"wandb-col\"><h3>Run summary:</h3><br/><table class=\"wandb\"><tr><td>epoch</td><td>9</td></tr><tr><td>train/acc</td><td>0.4071</td></tr><tr><td>train/loss</td><td>1.85346</td></tr><tr><td>val/acc</td><td>0.397</td></tr><tr><td>val/loss</td><td>1.87197</td></tr></table><br/></div></div>"
            ],
            "text/plain": [
              "<IPython.core.display.HTML object>"
            ]
          },
          "metadata": {},
          "output_type": "display_data"
        },
        {
          "data": {
            "text/html": [
              " View run <strong style=\"color:#cdcd00\">astral-night-86</strong> at: <a href='https://wandb.ai/ovsvc-tu-wien/ADL/runs/jxk88z2x' target=\"_blank\">https://wandb.ai/ovsvc-tu-wien/ADL/runs/jxk88z2x</a><br/> View project at: <a href='https://wandb.ai/ovsvc-tu-wien/ADL' target=\"_blank\">https://wandb.ai/ovsvc-tu-wien/ADL</a><br/>Synced 5 W&B file(s), 0 media file(s), 0 artifact file(s) and 0 other file(s)"
            ],
            "text/plain": [
              "<IPython.core.display.HTML object>"
            ]
          },
          "metadata": {},
          "output_type": "display_data"
        },
        {
          "data": {
            "text/html": [
              "Find logs at: <code>./wandb/run-20241217_190322-jxk88z2x/logs</code>"
            ],
            "text/plain": [
              "<IPython.core.display.HTML object>"
            ]
          },
          "metadata": {},
          "output_type": "display_data"
        }
      ],
      "source": [
        "# Define transformations\n",
        "\n",
        "train_transform = transforms.Compose([\n",
        "        transforms.Resize(size=(32, 32)),\n",
        "        transforms.ToTensor()\n",
        "    ])\n",
        "\n",
        "val_transform = transforms.Compose([\n",
        "        transforms.Resize(size=(32, 32)),\n",
        "        transforms.ToTensor()\n",
        "    ])\n",
        "\n",
        "test_transform = transforms.Compose([\n",
        "        transforms.Resize(size=(32, 32)),\n",
        "        transforms.ToTensor()\n",
        "    ])\n",
        "\n",
        "\n",
        "# Config for training and testing\n",
        "config = {\n",
        "    'model': Simple_CNN(),\n",
        "    'dataset_path': dataset_path,\n",
        "    'model_save_dir': 'saved_models',\n",
        "    'results_save_dir': 'saved_results',\n",
        "    'train_transform': train_transform,\n",
        "    'val_transform': val_transform,\n",
        "    'test_transform': test_transform,\n",
        "    'batch_size': 64,\n",
        "    'learning_rate': 0.001,\n",
        "    'scheduler_gamma': 0.9,\n",
        "    'epochs': 10,\n",
        "    'fraction': 1,\n",
        "    'val_frequency': 1,\n",
        "    'debug_mode': True,\n",
        "    'patience': 3,\n",
        "    'model_name': \"Simple_CNN\"\n",
        "}\n",
        "\n",
        "# Train the model\n",
        "\n",
        "trainer = train_model(config)"
      ]
    },
    {
      "cell_type": "code",
      "execution_count": 10,
      "metadata": {
        "colab": {
          "base_uri": "https://localhost:8080/",
          "height": 956
        },
        "id": "QTuXwPSB1g6S",
        "outputId": "a4ec31e4-ab30-418c-a5cc-40f3cb14991c"
      },
      "outputs": [
        {
          "name": "stdout",
          "output_type": "stream",
          "text": [
            "CUDA (GPU) is available.\n",
            "Preprocessing dataset...\n",
            "Train dataset length: 90000\n",
            "Validation dataset length: 10000\n",
            "Test dataset length: 30000\n",
            "Model: Simple_CNN(\n",
            "  (conv1): Conv2d(3, 32, kernel_size=(5, 5), stride=(1, 1), padding=(2, 2))\n",
            "  (pool): MaxPool2d(kernel_size=2, stride=2, padding=0, dilation=1, ceil_mode=False)\n",
            "  (conv2): Conv2d(32, 16, kernel_size=(3, 3), stride=(1, 1), padding=(1, 1))\n",
            "  (fc): Linear(in_features=1024, out_features=20, bias=True)\n",
            ")\n"
          ]
        },
        {
          "data": {
            "text/html": [
              "Tracking run with wandb version 0.18.7"
            ],
            "text/plain": [
              "<IPython.core.display.HTML object>"
            ]
          },
          "metadata": {},
          "output_type": "display_data"
        },
        {
          "data": {
            "text/html": [
              "Run data is saved locally in <code>/content/wandb/run-20241217_203353-qsx6sxn3</code>"
            ],
            "text/plain": [
              "<IPython.core.display.HTML object>"
            ]
          },
          "metadata": {},
          "output_type": "display_data"
        },
        {
          "data": {
            "text/html": [
              "Syncing run <strong><a href='https://wandb.ai/ovsvc-tu-wien/ADL/runs/qsx6sxn3' target=\"_blank\">dry-elevator-91</a></strong> to <a href='https://wandb.ai/ovsvc-tu-wien/ADL' target=\"_blank\">Weights & Biases</a> (<a href='https://wandb.me/developer-guide' target=\"_blank\">docs</a>)<br/>"
            ],
            "text/plain": [
              "<IPython.core.display.HTML object>"
            ]
          },
          "metadata": {},
          "output_type": "display_data"
        },
        {
          "data": {
            "text/html": [
              " View project at <a href='https://wandb.ai/ovsvc-tu-wien/ADL' target=\"_blank\">https://wandb.ai/ovsvc-tu-wien/ADL</a>"
            ],
            "text/plain": [
              "<IPython.core.display.HTML object>"
            ]
          },
          "metadata": {},
          "output_type": "display_data"
        },
        {
          "data": {
            "text/html": [
              " View run at <a href='https://wandb.ai/ovsvc-tu-wien/ADL/runs/qsx6sxn3' target=\"_blank\">https://wandb.ai/ovsvc-tu-wien/ADL/runs/qsx6sxn3</a>"
            ],
            "text/plain": [
              "<IPython.core.display.HTML object>"
            ]
          },
          "metadata": {},
          "output_type": "display_data"
        },
        {
          "name": "stderr",
          "output_type": "stream",
          "text": [
            "/content/drive/MyDrive/06_TUWien/10_ADL/scripts/run_cnn.py:173: FutureWarning: You are using `torch.load` with `weights_only=False` (the current default value), which uses the default pickle module implicitly. It is possible to construct malicious pickle data which will execute arbitrary code during unpickling (See https://github.com/pytorch/pytorch/blob/main/SECURITY.md#untrusted-models for more details). In a future release, the default value for `weights_only` will be flipped to `True`. This limits the functions that could be executed during unpickling. Arbitrary objects will no longer be allowed to be loaded via this mode unless they are explicitly allowlisted by the user via `torch.serialization.add_safe_globals`. We recommend you start setting `weights_only=True` for any use case where you don't have full control of the loaded file. Please open an issue on GitHub for any issues related to this experimental feature.\n",
            "  trainer.model.load_state_dict(torch.load(Path(config['model_save_dir']) / f\"{config['model_name']}.pth\", map_location=device))\n"
          ]
        },
        {
          "name": "stdout",
          "output_type": "stream",
          "text": [
            "Testing the model...\n"
          ]
        },
        {
          "data": {
            "text/html": [
              "Finishing last run (ID:qsx6sxn3) before initializing another..."
            ],
            "text/plain": [
              "<IPython.core.display.HTML object>"
            ]
          },
          "metadata": {},
          "output_type": "display_data"
        },
        {
          "data": {
            "text/html": [
              " View run <strong style=\"color:#cdcd00\">dry-elevator-91</strong> at: <a href='https://wandb.ai/ovsvc-tu-wien/ADL/runs/qsx6sxn3' target=\"_blank\">https://wandb.ai/ovsvc-tu-wien/ADL/runs/qsx6sxn3</a><br/> View project at: <a href='https://wandb.ai/ovsvc-tu-wien/ADL' target=\"_blank\">https://wandb.ai/ovsvc-tu-wien/ADL</a><br/>Synced 5 W&B file(s), 0 media file(s), 0 artifact file(s) and 0 other file(s)"
            ],
            "text/plain": [
              "<IPython.core.display.HTML object>"
            ]
          },
          "metadata": {},
          "output_type": "display_data"
        },
        {
          "data": {
            "text/html": [
              "Find logs at: <code>./wandb/run-20241217_203353-qsx6sxn3/logs</code>"
            ],
            "text/plain": [
              "<IPython.core.display.HTML object>"
            ]
          },
          "metadata": {},
          "output_type": "display_data"
        },
        {
          "data": {
            "text/html": [
              "Successfully finished last run (ID:qsx6sxn3). Initializing new run:<br/>"
            ],
            "text/plain": [
              "<IPython.core.display.HTML object>"
            ]
          },
          "metadata": {},
          "output_type": "display_data"
        },
        {
          "data": {
            "text/html": [
              "Tracking run with wandb version 0.18.7"
            ],
            "text/plain": [
              "<IPython.core.display.HTML object>"
            ]
          },
          "metadata": {},
          "output_type": "display_data"
        },
        {
          "data": {
            "text/html": [
              "Run data is saved locally in <code>/content/wandb/run-20241217_203359-6k1yzv8s</code>"
            ],
            "text/plain": [
              "<IPython.core.display.HTML object>"
            ]
          },
          "metadata": {},
          "output_type": "display_data"
        },
        {
          "data": {
            "text/html": [
              "Syncing run <strong><a href='https://wandb.ai/ovsvc-tu-wien/ADL/runs/6k1yzv8s' target=\"_blank\">wild-salad-92</a></strong> to <a href='https://wandb.ai/ovsvc-tu-wien/ADL' target=\"_blank\">Weights & Biases</a> (<a href='https://wandb.me/developer-guide' target=\"_blank\">docs</a>)<br/>"
            ],
            "text/plain": [
              "<IPython.core.display.HTML object>"
            ]
          },
          "metadata": {},
          "output_type": "display_data"
        },
        {
          "data": {
            "text/html": [
              " View project at <a href='https://wandb.ai/ovsvc-tu-wien/ADL' target=\"_blank\">https://wandb.ai/ovsvc-tu-wien/ADL</a>"
            ],
            "text/plain": [
              "<IPython.core.display.HTML object>"
            ]
          },
          "metadata": {},
          "output_type": "display_data"
        },
        {
          "data": {
            "text/html": [
              " View run at <a href='https://wandb.ai/ovsvc-tu-wien/ADL/runs/6k1yzv8s' target=\"_blank\">https://wandb.ai/ovsvc-tu-wien/ADL/runs/6k1yzv8s</a>"
            ],
            "text/plain": [
              "<IPython.core.display.HTML object>"
            ]
          },
          "metadata": {},
          "output_type": "display_data"
        },
        {
          "name": "stderr",
          "output_type": "stream",
          "text": [
            "Test: 100%|██████████| 469/469 [03:10<00:00,  2.46it/s]"
          ]
        },
        {
          "name": "stdout",
          "output_type": "stream",
          "text": [
            "Test Metrics: Overall Accuracy: 0.4512\n",
            " Per-Class Accuracy:\n",
            "Accuracy for class human_romanticism: 0.54\n",
            "Accuracy for class AI_expressionism: 0.59\n",
            "Accuracy for class AI_baroque: 0.73\n",
            "Accuracy for class AI_ukiyo-e: 0.36\n",
            "Accuracy for class human_renaissance: 0.53\n",
            "Accuracy for class human_post_impressionism: 0.40\n",
            "Accuracy for class human_realism: 0.60\n",
            "Accuracy for class AI_art_nouveau: 0.44\n",
            "Accuracy for class AI_romanticism: 0.45\n",
            "Accuracy for class AI_renaissance: 0.88\n",
            "Accuracy for class human_expressionism: 0.19\n",
            "Accuracy for class AI_impressionism: 0.45\n",
            "Accuracy for class AI_post_impressionism: 0.10\n",
            "Accuracy for class human_baroque: 0.29\n",
            "Accuracy for class AI_surrealism: 0.11\n",
            "Accuracy for class human_impressionism: 0.19\n",
            "Accuracy for class AI_realism: 0.18\n",
            "Accuracy for class human_surrealism: 0.09\n",
            "Accuracy for class human_art_nouveau: 0.15\n",
            "Accuracy for class human_ukiyo_e: 0.70\n"
          ]
        },
        {
          "name": "stderr",
          "output_type": "stream",
          "text": [
            "\n"
          ]
        }
      ],
      "source": [
        "# Test the model (reuse the trainer)\n",
        "test_loss, test_accuracy, test_per_class_accuracy, all_labels, all_predictions, test_classes = test_model(config, trainer=None)"
      ]
    },
    {
      "cell_type": "code",
      "execution_count": 11,
      "metadata": {
        "colab": {
          "base_uri": "https://localhost:8080/",
          "height": 1000
        },
        "id": "3YRFNFWr1g6S",
        "outputId": "61c140a2-207c-4149-b507-f9b992c57dae"
      },
      "outputs": [
        {
          "data": {
            "image/png": "[encoded data removed]",
            "text/plain": [
              "<Figure size 1200x1200 with 2 Axes>"
            ]
          },
          "metadata": {},
          "output_type": "display_data"
        },
        {
          "name": "stdout",
          "output_type": "stream",
          "text": [
            "\n",
            "Classification Report:\n",
            "                          precision    recall  f1-score   support\n",
            "\n",
            "       human_romanticism       0.58      0.54      0.56      2000\n",
            "        AI_expressionism       0.43      0.59      0.50      2000\n",
            "              AI_baroque       0.65      0.73      0.69      2000\n",
            "              AI_ukiyo-e       0.60      0.36      0.45      2000\n",
            "       human_renaissance       0.44      0.53      0.48      2000\n",
            "human_post_impressionism       0.40      0.40      0.40      2000\n",
            "           human_realism       0.47      0.59      0.52      2000\n",
            "          AI_art_nouveau       0.57      0.44      0.50      2000\n",
            "          AI_romanticism       0.58      0.45      0.51      2000\n",
            "          AI_renaissance       0.81      0.88      0.84      2000\n",
            "     human_expressionism       0.26      0.20      0.22      1000\n",
            "        AI_impressionism       0.30      0.45      0.36      1000\n",
            "   AI_post_impressionism       0.13      0.10      0.11      1000\n",
            "           human_baroque       0.19      0.29      0.23      1000\n",
            "           AI_surrealism       0.20      0.11      0.14      1000\n",
            "     human_impressionism       0.23      0.19      0.21      1000\n",
            "              AI_realism       0.21      0.18      0.19      1000\n",
            "        human_surrealism       0.29      0.09      0.14      1000\n",
            "       human_art_nouveau       0.18      0.15      0.16      1000\n",
            "           human_ukiyo_e       0.42      0.70      0.52      1000\n",
            "\n",
            "                accuracy                           0.45     30000\n",
            "               macro avg       0.40      0.40      0.39     30000\n",
            "            weighted avg       0.45      0.45      0.44     30000\n",
            "\n",
            "Test Loss: 1.7142\n",
            "Test Accuracy: 0.4512\n",
            "Overall Precision: 0.4483\n",
            "Overall Recall: 0.4512\n",
            "Overall F1-Score: 0.4403\n",
            "Overall Accuracy: 0.4512\n"
          ]
        }
      ],
      "source": [
        "# Analyze test results\n",
        "metrics = analyze_test_results(\n",
        "    test_loss=test_loss,\n",
        "    test_accuracy=test_accuracy,\n",
        "    test_per_class_accuracy=test_per_class_accuracy,\n",
        "    all_labels=all_labels,\n",
        "    all_predictions=all_predictions,\n",
        "    classes=test_classes\n",
        ")"
      ]
    }
  ],
  "metadata": {
    "accelerator": "GPU",
    "colab": {
      "gpuType": "T4",
      "provenance": []
    },
    "kernelspec": {
      "display_name": "adl",
      "language": "python",
      "name": "python3"
    },
    "language_info": {
      "codemirror_mode": {
        "name": "ipython",
        "version": 3
      },
      "file_extension": ".py",
      "mimetype": "text/x-python",
      "name": "python",
      "nbconvert_exporter": "python",
      "pygments_lexer": "ipython3",
      "version": "3.11.11"
    }
  },
  "nbformat": 4,
  "nbformat_minor": 0
}
